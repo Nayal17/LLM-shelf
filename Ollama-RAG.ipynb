{
 "cells": [
  {
   "cell_type": "code",
   "execution_count": 1,
   "id": "7c351b92",
   "metadata": {
    "execution": {
     "iopub.execute_input": "2024-02-25T05:07:10.186672Z",
     "iopub.status.busy": "2024-02-25T05:07:10.185893Z",
     "iopub.status.idle": "2024-02-25T05:08:04.486369Z",
     "shell.execute_reply": "2024-02-25T05:08:04.485449Z"
    },
    "id": "o7_xnhQ2o5du",
    "papermill": {
     "duration": 54.310991,
     "end_time": "2024-02-25T05:08:04.488849",
     "exception": false,
     "start_time": "2024-02-25T05:07:10.177858",
     "status": "completed"
    },
    "tags": []
   },
   "outputs": [
    {
     "name": "stdout",
     "output_type": "stream",
     "text": [
      "\u001b[31mERROR: pip's dependency resolver does not currently take into account all the packages that are installed. This behaviour is the source of the following dependency conflicts.\r\n",
      "cudf 23.8.0 requires cubinlinker, which is not installed.\r\n",
      "cudf 23.8.0 requires cupy-cuda11x>=12.0.0, which is not installed.\r\n",
      "cudf 23.8.0 requires ptxcompiler, which is not installed.\r\n",
      "cuml 23.8.0 requires cupy-cuda11x>=12.0.0, which is not installed.\r\n",
      "dask-cudf 23.8.0 requires cupy-cuda11x>=12.0.0, which is not installed.\r\n",
      "apache-beam 2.46.0 requires dill<0.3.2,>=0.3.1.1, but you have dill 0.3.7 which is incompatible.\r\n",
      "apache-beam 2.46.0 requires pyarrow<10.0.0,>=3.0.0, but you have pyarrow 11.0.0 which is incompatible.\r\n",
      "cudf 23.8.0 requires cuda-python<12.0a0,>=11.7.1, but you have cuda-python 12.3.0 which is incompatible.\r\n",
      "cudf 23.8.0 requires pandas<1.6.0dev0,>=1.3, but you have pandas 2.1.4 which is incompatible.\r\n",
      "cudf 23.8.0 requires protobuf<5,>=4.21, but you have protobuf 3.20.3 which is incompatible.\r\n",
      "cuml 23.8.0 requires dask==2023.7.1, but you have dask 2024.1.0 which is incompatible.\r\n",
      "cuml 23.8.0 requires distributed==2023.7.1, but you have distributed 2024.1.0 which is incompatible.\r\n",
      "dask-cuda 23.8.0 requires dask==2023.7.1, but you have dask 2024.1.0 which is incompatible.\r\n",
      "dask-cuda 23.8.0 requires distributed==2023.7.1, but you have distributed 2024.1.0 which is incompatible.\r\n",
      "dask-cuda 23.8.0 requires pandas<1.6.0dev0,>=1.3, but you have pandas 2.1.4 which is incompatible.\r\n",
      "dask-cudf 23.8.0 requires dask==2023.7.1, but you have dask 2024.1.0 which is incompatible.\r\n",
      "dask-cudf 23.8.0 requires distributed==2023.7.1, but you have distributed 2024.1.0 which is incompatible.\r\n",
      "dask-cudf 23.8.0 requires pandas<1.6.0dev0,>=1.3, but you have pandas 2.1.4 which is incompatible.\r\n",
      "google-cloud-bigquery 2.34.4 requires packaging<22.0dev,>=14.3, but you have packaging 23.2 which is incompatible.\r\n",
      "jupyterlab 4.0.11 requires jupyter-lsp>=2.0.0, but you have jupyter-lsp 1.5.1 which is incompatible.\r\n",
      "jupyterlab-lsp 5.0.2 requires jupyter-lsp>=2.0.0, but you have jupyter-lsp 1.5.1 which is incompatible.\r\n",
      "kfp 2.5.0 requires google-cloud-storage<3,>=2.2.1, but you have google-cloud-storage 1.44.0 which is incompatible.\r\n",
      "kfp 2.5.0 requires kubernetes<27,>=8.0.0, but you have kubernetes 29.0.0 which is incompatible.\r\n",
      "libpysal 4.9.2 requires shapely>=2.0.1, but you have shapely 1.8.5.post1 which is incompatible.\r\n",
      "momepy 0.7.0 requires shapely>=2, but you have shapely 1.8.5.post1 which is incompatible.\r\n",
      "osmnx 1.8.1 requires shapely>=2.0, but you have shapely 1.8.5.post1 which is incompatible.\r\n",
      "raft-dask 23.8.0 requires dask==2023.7.1, but you have dask 2024.1.0 which is incompatible.\r\n",
      "raft-dask 23.8.0 requires distributed==2023.7.1, but you have distributed 2024.1.0 which is incompatible.\r\n",
      "spopt 0.6.0 requires shapely>=2.0.1, but you have shapely 1.8.5.post1 which is incompatible.\u001b[0m\u001b[31m\r\n",
      "\u001b[0m"
     ]
    }
   ],
   "source": [
    "! pip install --quiet langchain langchain_community tiktoken langchain-openai unstructured chromadb  gpt4all"
   ]
  },
  {
   "cell_type": "code",
   "execution_count": 2,
   "id": "00101100",
   "metadata": {
    "execution": {
     "iopub.execute_input": "2024-02-25T05:08:04.503134Z",
     "iopub.status.busy": "2024-02-25T05:08:04.502839Z",
     "iopub.status.idle": "2024-02-25T05:08:17.939876Z",
     "shell.execute_reply": "2024-02-25T05:08:17.938719Z"
    },
    "id": "m884DP2VxR3J",
    "papermill": {
     "duration": 13.446804,
     "end_time": "2024-02-25T05:08:17.942302",
     "exception": false,
     "start_time": "2024-02-25T05:08:04.495498",
     "status": "completed"
    },
    "tags": []
   },
   "outputs": [],
   "source": [
    "!pip install sentence-transformers -q"
   ]
  },
  {
   "cell_type": "code",
   "execution_count": 3,
   "id": "e7b3f4c0",
   "metadata": {
    "execution": {
     "iopub.execute_input": "2024-02-25T05:08:17.956543Z",
     "iopub.status.busy": "2024-02-25T05:08:17.956204Z",
     "iopub.status.idle": "2024-02-25T05:08:30.956963Z",
     "shell.execute_reply": "2024-02-25T05:08:30.955813Z"
    },
    "id": "3MgJl2IJxR3L",
    "papermill": {
     "duration": 13.010497,
     "end_time": "2024-02-25T05:08:30.959380",
     "exception": false,
     "start_time": "2024-02-25T05:08:17.948883",
     "status": "completed"
    },
    "tags": []
   },
   "outputs": [],
   "source": [
    "%%capture\n",
    "!curl https://ollama.ai/install.sh | sed 's#https://ollama.ai/download#https://github.com/jmorganca/ollama/releases/download/v0.1.20#' | sh\n",
    "!sudo apt install -y neofetch"
   ]
  },
  {
   "cell_type": "code",
   "execution_count": 4,
   "id": "02b837c8",
   "metadata": {
    "execution": {
     "iopub.execute_input": "2024-02-25T05:08:30.975699Z",
     "iopub.status.busy": "2024-02-25T05:08:30.975366Z",
     "iopub.status.idle": "2024-02-25T05:08:32.231561Z",
     "shell.execute_reply": "2024-02-25T05:08:32.230562Z"
    },
    "id": "U0kYeYa0xR3M",
    "outputId": "0c9f7dc9-79e3-4dd4-ab42-c024f58a2d90",
    "papermill": {
     "duration": 1.265833,
     "end_time": "2024-02-25T05:08:32.233545",
     "exception": false,
     "start_time": "2024-02-25T05:08:30.967712",
     "status": "completed"
    },
    "tags": []
   },
   "outputs": [
    {
     "name": "stdout",
     "output_type": "stream",
     "text": [
      "\u001b[?25l\u001b[?7l\u001b[0m\u001b[31m\u001b[1m            .-/+oossssoo+/-.\r\n",
      "        `:+ssssssssssssssssss+:`\r\n",
      "      -+ssssssssssssssssssyyssss+-\r\n",
      "    .ossssssssssssssssss\u001b[37m\u001b[0m\u001b[1mdMMMNy\u001b[0m\u001b[31m\u001b[1msssso.\r\n",
      "   /sssssssssss\u001b[37m\u001b[0m\u001b[1mhdmmNNmmyNMMMMh\u001b[0m\u001b[31m\u001b[1mssssss/\r\n",
      "  +sssssssss\u001b[37m\u001b[0m\u001b[1mhm\u001b[0m\u001b[31m\u001b[1myd\u001b[37m\u001b[0m\u001b[1mMMMMMMMNddddy\u001b[0m\u001b[31m\u001b[1mssssssss+\r\n",
      " /ssssssss\u001b[37m\u001b[0m\u001b[1mhNMMM\u001b[0m\u001b[31m\u001b[1myh\u001b[37m\u001b[0m\u001b[1mhyyyyhmNMMMNh\u001b[0m\u001b[31m\u001b[1mssssssss/\r\n",
      ".ssssssss\u001b[37m\u001b[0m\u001b[1mdMMMNh\u001b[0m\u001b[31m\u001b[1mssssssssss\u001b[37m\u001b[0m\u001b[1mhNMMMd\u001b[0m\u001b[31m\u001b[1mssssssss.\r\n",
      "+ssss\u001b[37m\u001b[0m\u001b[1mhhhyNMMNy\u001b[0m\u001b[31m\u001b[1mssssssssssss\u001b[37m\u001b[0m\u001b[1myNMMMy\u001b[0m\u001b[31m\u001b[1msssssss+\r\n",
      "oss\u001b[37m\u001b[0m\u001b[1myNMMMNyMMh\u001b[0m\u001b[31m\u001b[1mssssssssssssss\u001b[37m\u001b[0m\u001b[1mhmmmh\u001b[0m\u001b[31m\u001b[1mssssssso\r\n",
      "oss\u001b[37m\u001b[0m\u001b[1myNMMMNyMMh\u001b[0m\u001b[31m\u001b[1msssssssssssssshmmmh\u001b[0m\u001b[31m\u001b[1mssssssso\r\n",
      "+ssss\u001b[37m\u001b[0m\u001b[1mhhhyNMMNy\u001b[0m\u001b[31m\u001b[1mssssssssssss\u001b[37m\u001b[0m\u001b[1myNMMMy\u001b[0m\u001b[31m\u001b[1msssssss+\r\n",
      ".ssssssss\u001b[37m\u001b[0m\u001b[1mdMMMNh\u001b[0m\u001b[31m\u001b[1mssssssssss\u001b[37m\u001b[0m\u001b[1mhNMMMd\u001b[0m\u001b[31m\u001b[1mssssssss.\r\n",
      " /ssssssss\u001b[37m\u001b[0m\u001b[1mhNMMM\u001b[0m\u001b[31m\u001b[1myh\u001b[37m\u001b[0m\u001b[1mhyyyyhdNMMMNh\u001b[0m\u001b[31m\u001b[1mssssssss/\r\n",
      "  +sssssssss\u001b[37m\u001b[0m\u001b[1mdm\u001b[0m\u001b[31m\u001b[1myd\u001b[37m\u001b[0m\u001b[1mMMMMMMMMddddy\u001b[0m\u001b[31m\u001b[1mssssssss+\r\n",
      "   /sssssssssss\u001b[37m\u001b[0m\u001b[1mhdmNNNNmyNMMMMh\u001b[0m\u001b[31m\u001b[1mssssss/\r\n",
      "    .ossssssssssssssssss\u001b[37m\u001b[0m\u001b[1mdMMMNy\u001b[0m\u001b[31m\u001b[1msssso.\r\n",
      "      -+sssssssssssssssss\u001b[37m\u001b[0m\u001b[1myyy\u001b[0m\u001b[31m\u001b[1mssss+-\r\n",
      "        `:+ssssssssssssssssss+:`\r\n",
      "            .-/+oossssoo+/-.\u001b[0m\r\n",
      "\u001b[20A\u001b[9999999D\u001b[43C\u001b[0m\u001b[1m\u001b[31m\u001b[1mroot\u001b[0m@\u001b[31m\u001b[1mc8123dac010f\u001b[0m \r\n",
      "\u001b[43C\u001b[0m-----------------\u001b[0m \r\n",
      "\u001b[43C\u001b[0m\u001b[31m\u001b[1mOS\u001b[0m\u001b[0m:\u001b[0m Ubuntu 20.04.6 LTS x86_64\u001b[0m \r\n",
      "\u001b[43C\u001b[0m\u001b[31m\u001b[1mHost\u001b[0m\u001b[0m:\u001b[0m Google Compute Engine\u001b[0m \r\n",
      "\u001b[43C\u001b[0m\u001b[31m\u001b[1mKernel\u001b[0m\u001b[0m:\u001b[0m 5.15.133+\u001b[0m \r\n",
      "\u001b[43C\u001b[0m\u001b[31m\u001b[1mUptime\u001b[0m\u001b[0m:\u001b[0m 7 mins\u001b[0m \r\n",
      "\u001b[43C\u001b[0m\u001b[31m\u001b[1mPackages\u001b[0m\u001b[0m:\u001b[0m 725 (dpkg)\u001b[0m \r\n",
      "\u001b[43C\u001b[0m\u001b[31m\u001b[1mShell\u001b[0m\u001b[0m:\u001b[0m bash 5.0.17\u001b[0m \r\n",
      "\u001b[43C\u001b[0m\u001b[31m\u001b[1mCPU\u001b[0m\u001b[0m:\u001b[0m Intel Xeon (4) @ 2.000GHz\u001b[0m \r\n",
      "\u001b[43C\u001b[0m\u001b[31m\u001b[1mGPU\u001b[0m\u001b[0m:\u001b[0m NVIDIA Tesla T4\u001b[0m \r\n",
      "\u001b[43C\u001b[0m\u001b[31m\u001b[1mGPU\u001b[0m\u001b[0m:\u001b[0m NVIDIA Tesla T4\u001b[0m \r\n",
      "\u001b[43C\u001b[0m\u001b[31m\u001b[1mMemory\u001b[0m\u001b[0m:\u001b[0m 663MiB / 32110MiB\u001b[0m \r\n",
      "\r\n",
      "\u001b[43C\u001b[30m\u001b[40m   \u001b[31m\u001b[41m   \u001b[32m\u001b[42m   \u001b[33m\u001b[43m   \u001b[34m\u001b[44m   \u001b[35m\u001b[45m   \u001b[36m\u001b[46m   \u001b[37m\u001b[47m   \u001b[m\r\n",
      "\u001b[43C\u001b[38;5;8m\u001b[48;5;8m   \u001b[38;5;9m\u001b[48;5;9m   \u001b[38;5;10m\u001b[48;5;10m   \u001b[38;5;11m\u001b[48;5;11m   \u001b[38;5;12m\u001b[48;5;12m   \u001b[38;5;13m\u001b[48;5;13m   \u001b[38;5;14m\u001b[48;5;14m   \u001b[38;5;15m\u001b[48;5;15m   \u001b[m\r\n",
      "\r\n",
      "\r\n",
      "\r\n",
      "\r\n",
      "\r\n",
      "\r\n",
      "\u001b[?25h\u001b[?7h"
     ]
    }
   ],
   "source": [
    "!neofetch"
   ]
  },
  {
   "cell_type": "code",
   "execution_count": 5,
   "id": "cc9ff357",
   "metadata": {
    "execution": {
     "iopub.execute_input": "2024-02-25T05:08:32.248520Z",
     "iopub.status.busy": "2024-02-25T05:08:32.248182Z",
     "iopub.status.idle": "2024-02-25T05:08:37.260230Z",
     "shell.execute_reply": "2024-02-25T05:08:37.259417Z"
    },
    "id": "K-k6VN_HxR3N",
    "outputId": "871c3a44-bbf4-4f11-a990-a105b4aafa83",
    "papermill": {
     "duration": 5.021967,
     "end_time": "2024-02-25T05:08:37.262366",
     "exception": false,
     "start_time": "2024-02-25T05:08:32.240399",
     "status": "completed"
    },
    "tags": []
   },
   "outputs": [
    {
     "name": "stdout",
     "output_type": "stream",
     "text": [
      "Process ID: 278\n"
     ]
    }
   ],
   "source": [
    "import subprocess\n",
    "import time\n",
    "\n",
    "# Start ollama as a backrgound process\n",
    "command = \"nohup ollama serve&\"\n",
    "\n",
    "# Use subprocess.Popen to start the process in the background\n",
    "process = subprocess.Popen(command,\n",
    "                            shell=True,\n",
    "                           stdout=subprocess.PIPE,\n",
    "                           stderr=subprocess.PIPE)\n",
    "print(\"Process ID:\", process.pid)\n",
    "\n",
    "time.sleep(5)  # Makes Python wait for 5 seconds"
   ]
  },
  {
   "cell_type": "code",
   "execution_count": 6,
   "id": "1d8eb11b",
   "metadata": {
    "execution": {
     "iopub.execute_input": "2024-02-25T05:08:37.277795Z",
     "iopub.status.busy": "2024-02-25T05:08:37.277531Z",
     "iopub.status.idle": "2024-02-25T05:09:16.180213Z",
     "shell.execute_reply": "2024-02-25T05:09:16.179007Z"
    },
    "id": "kIdUz9llxR3O",
    "papermill": {
     "duration": 38.913439,
     "end_time": "2024-02-25T05:09:16.182925",
     "exception": false,
     "start_time": "2024-02-25T05:08:37.269486",
     "status": "completed"
    },
    "tags": []
   },
   "outputs": [],
   "source": [
    "%%capture\n",
    "!ollama pull mistral:instruct"
   ]
  },
  {
   "cell_type": "code",
   "execution_count": 7,
   "id": "b1af9f6d",
   "metadata": {
    "execution": {
     "iopub.execute_input": "2024-02-25T05:09:16.199071Z",
     "iopub.status.busy": "2024-02-25T05:09:16.198784Z",
     "iopub.status.idle": "2024-02-25T05:09:29.139470Z",
     "shell.execute_reply": "2024-02-25T05:09:29.138488Z"
    },
    "id": "JOUIgt6otgt2",
    "papermill": {
     "duration": 12.951635,
     "end_time": "2024-02-25T05:09:29.141952",
     "exception": false,
     "start_time": "2024-02-25T05:09:16.190317",
     "status": "completed"
    },
    "tags": []
   },
   "outputs": [],
   "source": [
    "import pandas as pd\n",
    "import torch\n",
    "\n",
    "from sklearn.feature_extraction.text import TfidfVectorizer\n",
    "from sklearn.metrics.pairwise import cosine_similarity\n",
    "\n",
    "from langchain.prompts import PromptTemplate\n",
    "from langchain.text_splitter import  RecursiveCharacterTextSplitter\n",
    "from langchain_community.document_loaders import UnstructuredExcelLoader\n",
    "\n",
    "from langchain.chains import RetrievalQA\n",
    "from langchain.vectorstores import Chroma\n",
    "from langchain.chains.qa_with_sources.retrieval import RetrievalQAWithSourcesChain\n",
    "\n",
    "from langchain_community.chat_models import ChatOllama\n",
    "from langchain.embeddings import GPT4AllEmbeddings, HuggingFaceEmbeddings"
   ]
  },
  {
   "cell_type": "code",
   "execution_count": 8,
   "id": "733741ef",
   "metadata": {
    "execution": {
     "iopub.execute_input": "2024-02-25T05:09:29.158717Z",
     "iopub.status.busy": "2024-02-25T05:09:29.158240Z",
     "iopub.status.idle": "2024-02-25T05:09:29.162221Z",
     "shell.execute_reply": "2024-02-25T05:09:29.161389Z"
    },
    "id": "uamYaACxxnuK",
    "outputId": "459c26d1-335f-4454-b77e-1a0a7767e969",
    "papermill": {
     "duration": 0.015238,
     "end_time": "2024-02-25T05:09:29.164279",
     "exception": false,
     "start_time": "2024-02-25T05:09:29.149041",
     "status": "completed"
    },
    "tags": []
   },
   "outputs": [],
   "source": [
    "# !unzip /content/MW_TGBookletsExcel.zip"
   ]
  },
  {
   "cell_type": "code",
   "execution_count": 9,
   "id": "a024bfbb",
   "metadata": {
    "execution": {
     "iopub.execute_input": "2024-02-25T05:09:29.178895Z",
     "iopub.status.busy": "2024-02-25T05:09:29.178616Z",
     "iopub.status.idle": "2024-02-25T05:09:29.193856Z",
     "shell.execute_reply": "2024-02-25T05:09:29.193018Z"
    },
    "id": "fyT-XBXyxR3P",
    "papermill": {
     "duration": 0.024934,
     "end_time": "2024-02-25T05:09:29.195820",
     "exception": false,
     "start_time": "2024-02-25T05:09:29.170886",
     "status": "completed"
    },
    "tags": []
   },
   "outputs": [],
   "source": [
    "import re\n",
    "import glob\n",
    "\n",
    "books_path = \"/kaggle/input/malawi-data/MW_TGBookletsExcel/MWTGBookletsExcel/*.xlsx\"\n",
    "booklets = glob.glob(books_path)\n",
    "\n",
    "def remove_unwanted(text):\n",
    "    pattern = re.compile(r'\\\\ufdd0|[\\U0001F600-\\U0001F64F\\U0001F300-\\U0001F5FF\\U0001F680-\\U0001F6FF\\U0001F700-\\U0001F77F\\U0001F780-\\U0001F7FF\\U0001F800-\\U0001F8FF\\U0001F900-\\U0001F9FF\\U0001FA00-\\U0001FA6F\\U0001FA70-\\U0001FAFF\\U00002702-\\U000027B0\\U000024C2-\\U0001F251]+', flags=re.UNICODE)\n",
    "    clean_text = pattern.sub('', text)\n",
    "\n",
    "    return clean_text\n",
    "\n",
    "def add_metadata(row, booklet):\n",
    "    booklet = booklet.split(\"/\")[-1][:12]\n",
    "    row['text'] = f\"[{booklet}, Row Number: {str(row['row'])}] {row['text']}\"    \n",
    "    return row\n"
   ]
  },
  {
   "cell_type": "code",
   "execution_count": 10,
   "id": "343f4c94",
   "metadata": {
    "execution": {
     "iopub.execute_input": "2024-02-25T05:09:29.210253Z",
     "iopub.status.busy": "2024-02-25T05:09:29.210011Z",
     "iopub.status.idle": "2024-02-25T05:09:31.556140Z",
     "shell.execute_reply": "2024-02-25T05:09:31.555119Z"
    },
    "id": "dRHY7at3xR3Q",
    "papermill": {
     "duration": 2.356021,
     "end_time": "2024-02-25T05:09:31.558554",
     "exception": false,
     "start_time": "2024-02-25T05:09:29.202533",
     "status": "completed"
    },
    "tags": []
   },
   "outputs": [],
   "source": [
    "import os\n",
    "# os.makedirs(f\"/content/cleaned_booklets/\", exist_ok=True)\n",
    "for booklet in booklets:\n",
    "    df= pd.read_excel(booklet, names=['row', 'text'])\n",
    "    df['text'] = df['text'].fillna(\" \")\n",
    "    kwargs_to_pass = {\"booklet\": booklet}\n",
    "    df = df.apply(add_metadata ,**kwargs_to_pass, axis=1)\n",
    "    df['text'] = df['text'].apply(lambda x: remove_unwanted(str(x)))\n",
    "    booklet = booklet.split(\"/\")[-1]\n",
    "    df.to_excel(f\"./{booklet}\", index=False)"
   ]
  },
  {
   "cell_type": "code",
   "execution_count": 11,
   "id": "9df804f3",
   "metadata": {
    "execution": {
     "iopub.execute_input": "2024-02-25T05:09:31.574122Z",
     "iopub.status.busy": "2024-02-25T05:09:31.573688Z",
     "iopub.status.idle": "2024-02-25T05:09:38.976623Z",
     "shell.execute_reply": "2024-02-25T05:09:38.975849Z"
    },
    "id": "QF22CfhOt2TF",
    "papermill": {
     "duration": 7.413177,
     "end_time": "2024-02-25T05:09:38.978900",
     "exception": false,
     "start_time": "2024-02-25T05:09:31.565723",
     "status": "completed"
    },
    "tags": []
   },
   "outputs": [],
   "source": [
    "cleaned_booklets = glob.glob(\"./*.xlsx\")\n",
    "loaders = [UnstructuredExcelLoader(f\"{booklet}\") for booklet in cleaned_booklets]\n",
    "docs = []\n",
    "for loader in loaders:\n",
    "    docs.extend(loader.load())"
   ]
  },
  {
   "cell_type": "code",
   "execution_count": 12,
   "id": "ff38b4cc",
   "metadata": {
    "execution": {
     "iopub.execute_input": "2024-02-25T05:09:38.995152Z",
     "iopub.status.busy": "2024-02-25T05:09:38.994860Z",
     "iopub.status.idle": "2024-02-25T05:10:24.702555Z",
     "shell.execute_reply": "2024-02-25T05:10:24.701725Z"
    },
    "id": "_9BWHL-jtxfC",
    "papermill": {
     "duration": 45.718888,
     "end_time": "2024-02-25T05:10:24.704861",
     "exception": false,
     "start_time": "2024-02-25T05:09:38.985973",
     "status": "completed"
    },
    "tags": []
   },
   "outputs": [
    {
     "data": {
      "application/vnd.jupyter.widget-view+json": {
       "model_id": "6c8934e8b81b4829bdafbb4604f4949b",
       "version_major": 2,
       "version_minor": 0
      },
      "text/plain": [
       "modules.json:   0%|          | 0.00/349 [00:00<?, ?B/s]"
      ]
     },
     "metadata": {},
     "output_type": "display_data"
    },
    {
     "data": {
      "application/vnd.jupyter.widget-view+json": {
       "model_id": "4246e4ed534c46b48d8400075332cc09",
       "version_major": 2,
       "version_minor": 0
      },
      "text/plain": [
       "config_sentence_transformers.json:   0%|          | 0.00/116 [00:00<?, ?B/s]"
      ]
     },
     "metadata": {},
     "output_type": "display_data"
    },
    {
     "data": {
      "application/vnd.jupyter.widget-view+json": {
       "model_id": "fc6beda7d1564dd9b157a61ccb16a6ec",
       "version_major": 2,
       "version_minor": 0
      },
      "text/plain": [
       "README.md:   0%|          | 0.00/10.6k [00:00<?, ?B/s]"
      ]
     },
     "metadata": {},
     "output_type": "display_data"
    },
    {
     "data": {
      "application/vnd.jupyter.widget-view+json": {
       "model_id": "19e995ea7ab64da49a7cb9f0f5c7523f",
       "version_major": 2,
       "version_minor": 0
      },
      "text/plain": [
       "sentence_bert_config.json:   0%|          | 0.00/53.0 [00:00<?, ?B/s]"
      ]
     },
     "metadata": {},
     "output_type": "display_data"
    },
    {
     "data": {
      "application/vnd.jupyter.widget-view+json": {
       "model_id": "11c1893b4b4c4a729c5789c7df6757d6",
       "version_major": 2,
       "version_minor": 0
      },
      "text/plain": [
       "config.json:   0%|          | 0.00/571 [00:00<?, ?B/s]"
      ]
     },
     "metadata": {},
     "output_type": "display_data"
    },
    {
     "data": {
      "application/vnd.jupyter.widget-view+json": {
       "model_id": "2bd168c0c7f74dd2a28e2f66e0029554",
       "version_major": 2,
       "version_minor": 0
      },
      "text/plain": [
       "pytorch_model.bin:   0%|          | 0.00/438M [00:00<?, ?B/s]"
      ]
     },
     "metadata": {},
     "output_type": "display_data"
    },
    {
     "name": "stderr",
     "output_type": "stream",
     "text": [
      "/opt/conda/lib/python3.10/site-packages/torch/_utils.py:831: UserWarning: TypedStorage is deprecated. It will be removed in the future and UntypedStorage will be the only storage class. This should only matter to you if you are using storages directly.  To access UntypedStorage directly, use tensor.untyped_storage() instead of tensor.storage()\n",
      "  return self.fget.__get__(instance, owner)()\n"
     ]
    },
    {
     "data": {
      "application/vnd.jupyter.widget-view+json": {
       "model_id": "730cfb1dd9cb430cb14aac5defba6364",
       "version_major": 2,
       "version_minor": 0
      },
      "text/plain": [
       "tokenizer_config.json:   0%|          | 0.00/363 [00:00<?, ?B/s]"
      ]
     },
     "metadata": {},
     "output_type": "display_data"
    },
    {
     "data": {
      "application/vnd.jupyter.widget-view+json": {
       "model_id": "66e1f63ff2584b528ab64345b669d4f4",
       "version_major": 2,
       "version_minor": 0
      },
      "text/plain": [
       "vocab.txt:   0%|          | 0.00/232k [00:00<?, ?B/s]"
      ]
     },
     "metadata": {},
     "output_type": "display_data"
    },
    {
     "data": {
      "application/vnd.jupyter.widget-view+json": {
       "model_id": "38b1ff9fe7a3494da066895b04ee95fa",
       "version_major": 2,
       "version_minor": 0
      },
      "text/plain": [
       "tokenizer.json:   0%|          | 0.00/466k [00:00<?, ?B/s]"
      ]
     },
     "metadata": {},
     "output_type": "display_data"
    },
    {
     "data": {
      "application/vnd.jupyter.widget-view+json": {
       "model_id": "e57248eda11241da9aabdeb379d40498",
       "version_major": 2,
       "version_minor": 0
      },
      "text/plain": [
       "special_tokens_map.json:   0%|          | 0.00/239 [00:00<?, ?B/s]"
      ]
     },
     "metadata": {},
     "output_type": "display_data"
    },
    {
     "data": {
      "application/vnd.jupyter.widget-view+json": {
       "model_id": "9f3338f705584d868324a819914e4f4d",
       "version_major": 2,
       "version_minor": 0
      },
      "text/plain": [
       "1_Pooling/config.json:   0%|          | 0.00/190 [00:00<?, ?B/s]"
      ]
     },
     "metadata": {},
     "output_type": "display_data"
    }
   ],
   "source": [
    "text_splitter = RecursiveCharacterTextSplitter(chunk_size=1000,\n",
    "                                     chunk_overlap=20)\n",
    "chunked_documents = text_splitter.split_documents(docs)\n",
    "\n",
    "# embeddings = GPT4AllEmbeddings()\n",
    "\n",
    "device = torch.device(\"cuda\") if torch.cuda.is_available() else \"cpu\"\n",
    "model_name = \"sentence-transformers/all-mpnet-base-v2\"\n",
    "model_kwargs = {\"device\": device}\n",
    "\n",
    "embeddings = HuggingFaceEmbeddings(model_name=model_name, model_kwargs=model_kwargs)\n",
    "vectordb = Chroma.from_documents(documents=chunked_documents, embedding=embeddings, persist_directory=\"chroma_db\")\n"
   ]
  },
  {
   "cell_type": "code",
   "execution_count": 13,
   "id": "53e12c35",
   "metadata": {
    "execution": {
     "iopub.execute_input": "2024-02-25T05:10:24.724215Z",
     "iopub.status.busy": "2024-02-25T05:10:24.723617Z",
     "iopub.status.idle": "2024-02-25T05:10:24.729522Z",
     "shell.execute_reply": "2024-02-25T05:10:24.728755Z"
    },
    "id": "ul803C_LxR3T",
    "papermill": {
     "duration": 0.017475,
     "end_time": "2024-02-25T05:10:24.731377",
     "exception": false,
     "start_time": "2024-02-25T05:10:24.713902",
     "status": "completed"
    },
    "tags": []
   },
   "outputs": [],
   "source": [
    "llm = ChatOllama(model=\"mistral:instruct\", temperature=0)\n",
    "retriever = vectordb.as_retriever(k=5)"
   ]
  },
  {
   "cell_type": "code",
   "execution_count": 14,
   "id": "78a1d271",
   "metadata": {
    "execution": {
     "iopub.execute_input": "2024-02-25T05:10:24.750504Z",
     "iopub.status.busy": "2024-02-25T05:10:24.749866Z",
     "iopub.status.idle": "2024-02-25T05:10:24.756320Z",
     "shell.execute_reply": "2024-02-25T05:10:24.755563Z"
    },
    "id": "zqhZWnFTxR3U",
    "papermill": {
     "duration": 0.017684,
     "end_time": "2024-02-25T05:10:24.758153",
     "exception": false,
     "start_time": "2024-02-25T05:10:24.740469",
     "status": "completed"
    },
    "tags": []
   },
   "outputs": [],
   "source": [
    "template = \"\"\"###Retrieve and present comprehensive and informative answers to the question, using various reasoning strategies and evidence sources. Output should include:\n",
    "            \n",
    "            \"Answer\": The concise response to the question (Try to limit answer in range of 5-90 words and stick as close as possible to retrieved data).\\n\\n\n",
    "            \"Keywords\": A brief, keyword-rich text from retrieved data.\\n\\n\n",
    "            \n",
    "            ### You will output in this format, without any other text:\n",
    "            \n",
    "                \"Answers\": <>,\n",
    "                \"Keywords\": <>\n",
    "            \n",
    "            ### Use words carefully, try to give more information in less words.\n",
    "            ###\n",
    "            Here is the retrieved data: {context}\\n\\n\n",
    "            Question: {question}\n",
    "            \n",
    "            ### Always return answer and keywords both with respect to question.\n",
    "            \"\"\"\n",
    "\n",
    "\n",
    "chain = RetrievalQA.from_chain_type(\n",
    "    llm=llm,\n",
    "    chain_type=\"stuff\",\n",
    "    retriever=retriever,\n",
    "    chain_type_kwargs={\n",
    "        \"prompt\": PromptTemplate(\n",
    "            template=template,\n",
    "            input_variables=[\"context\", \"question\"],\n",
    "        ),\n",
    "    },\n",
    ")"
   ]
  },
  {
   "cell_type": "code",
   "execution_count": 15,
   "id": "491a993c",
   "metadata": {
    "execution": {
     "iopub.execute_input": "2024-02-25T05:10:24.776276Z",
     "iopub.status.busy": "2024-02-25T05:10:24.776039Z",
     "iopub.status.idle": "2024-02-25T05:10:24.786004Z",
     "shell.execute_reply": "2024-02-25T05:10:24.785267Z"
    },
    "papermill": {
     "duration": 0.021268,
     "end_time": "2024-02-25T05:10:24.787893",
     "exception": false,
     "start_time": "2024-02-25T05:10:24.766625",
     "status": "completed"
    },
    "tags": []
   },
   "outputs": [],
   "source": [
    "def find_matching_paragraphs(filename, text_to_check, threshold=0.9):\n",
    "    # Load the DataFrame\n",
    "    df = pd.read_excel(f\"/kaggle/working/{filename}\",names=[\"paragraph\", \"text\"]) # load cleaned xlsx files \n",
    "    df.fillna('', inplace=True)\n",
    "    # Concatenate all text from the 'text' column in the DataFrame\n",
    "    all_text = ' '.join(df['text'].astype(str).values.tolist())\n",
    "\n",
    "    # Combine the provided text and all text from the DataFrame\n",
    "    combined_text = [text_to_check, all_text]\n",
    "\n",
    "    # Initialize TfidfVectorizer\n",
    "    tfidf_vectorizer = TfidfVectorizer()\n",
    "\n",
    "    # Fit and transform the text in the DataFrame\n",
    "    tfidf_matrix = tfidf_vectorizer.fit_transform(df['text'])\n",
    "\n",
    "    # Transform the provided text\n",
    "    provided_text_tfidf = tfidf_vectorizer.transform([text_to_check])\n",
    "\n",
    "    # Calculate cosine similarity between the provided text and each paragraph in the DataFrame\n",
    "    cosine_similarities = cosine_similarity(provided_text_tfidf, tfidf_matrix).flatten()\n",
    "\n",
    "    # Find paragraphs that meet or exceed the threshold\n",
    "    matching_paragraph_indices = [i for i, score in enumerate(cosine_similarities) if score >= threshold]\n",
    "\n",
    "    if matching_paragraph_indices:\n",
    "        # Get the corresponding paragraph numbers\n",
    "        matching_paragraph_numbers = df.iloc[matching_paragraph_indices]['paragraph'].tolist()\n",
    "        matching_paragraph_numbers = [str(int(i)) for i in matching_paragraph_numbers]\n",
    "        return ', '.join(matching_paragraph_numbers)\n",
    "\n",
    "    else:\n",
    "        # If no paragraphs meet the threshold, fallback to selecting the paragraph with the highest similarity\n",
    "        closest_paragraph_index = cosine_similarities.argmax()\n",
    "        closest_paragraph_number = df.iloc[closest_paragraph_index]['paragraph']\n",
    "        return ', '.join([str(closest_paragraph_number)])  # Return as a list\n",
    "\n",
    "    \n",
    "def get_answer_keywords(text):\n",
    "    text = text.replace(\"\\n\",\"\").replace(\"Answer: \",\"\")\n",
    "    split_pattern = r\"(?i)Keywords:\"\n",
    "    lst = re.split(split_pattern, text)\n",
    "    answer, keywords = lst[0], lst[1]\n",
    "    \n",
    "    return answer.strip(), keywords.strip()"
   ]
  },
  {
   "cell_type": "code",
   "execution_count": 16,
   "id": "063cc375",
   "metadata": {
    "execution": {
     "iopub.execute_input": "2024-02-25T05:10:24.806082Z",
     "iopub.status.busy": "2024-02-25T05:10:24.805587Z",
     "iopub.status.idle": "2024-02-25T05:44:09.637607Z",
     "shell.execute_reply": "2024-02-25T05:44:09.636614Z"
    },
    "id": "XW_4DivzL1sN",
    "papermill": {
     "duration": 2024.845014,
     "end_time": "2024-02-25T05:44:09.641492",
     "exception": false,
     "start_time": "2024-02-25T05:10:24.796478",
     "status": "completed"
    },
    "tags": []
   },
   "outputs": [
    {
     "name": "stderr",
     "output_type": "stream",
     "text": [
      "  0%|          | 0/499 [00:00<?, ?it/s]"
     ]
    },
    {
     "name": "stdout",
     "output_type": "stream",
     "text": [
      "What is the definition of \"unusual event\"\n"
     ]
    },
    {
     "name": "stderr",
     "output_type": "stream",
     "text": [
      "  0%|          | 1/499 [00:08<1:14:19,  8.96s/it]"
     ]
    },
    {
     "name": "stdout",
     "output_type": "stream",
     "text": [
      " Answers: An unusual event can be a single incident or a cluster of events that are unusual for a specific community or during a certain time period. Examples include clusters of deaths from an unknown cause, sudden illness in people with travel history out of the country, and unexpected large numbers of absences from school or sales of medicines for the same kind of illness.\n",
      "\n",
      "Keywords: unusual event, cluster of events, community, specific time period, examples, deaths, travel history, large numbers, absences, sales, medicines, information collection, sectors.\n",
      "What is Community Based Surveillance (CBS)?\n"
     ]
    },
    {
     "name": "stderr",
     "output_type": "stream",
     "text": [
      "  0%|          | 2/499 [00:12<48:49,  5.89s/it]  "
     ]
    },
    {
     "name": "stdout",
     "output_type": "stream",
     "text": [
      " Answers: Community Based Surveillance (CBS) is a system for detecting and reporting events of public health significance within communities by community members. It involves the systematic identification and reporting of such events to designated focal points, using both indicator-based and event-based surveillance methods.\n",
      "\n",
      "Keywords: Community Based Surveillance, system, detecting, reporting, events, public health significance, community members, designated focal points, indicator-based, event-based, surveillance methods.\n",
      "What kind of training should members of VHC receive?\n"
     ]
    },
    {
     "name": "stderr",
     "output_type": "stream",
     "text": [
      "  1%|          | 3/499 [00:16<39:04,  4.73s/it]"
     ]
    },
    {
     "name": "stdout",
     "output_type": "stream",
     "text": [
      " Answers: Members of VHC should receive training on recognizing certain diseases or health conditions, surveillance and response skills, improved interpersonal skills, and using cell-phone based opportunities for learning.\n",
      "\n",
      "Keywords: training, VHC members, recognize diseases, surveillance, response skills, improved interpersonal skills, cell-phone based opportunities.\n",
      "What is indicator based surveillance (IBS)?\n"
     ]
    },
    {
     "name": "stderr",
     "output_type": "stream",
     "text": [
      "  1%|          | 4/499 [00:19<34:43,  4.21s/it]"
     ]
    },
    {
     "name": "stdout",
     "output_type": "stream",
     "text": [
      " Answers: Indicator-based surveillance (IBS) is a systematic identification, collection, monitoring, analysis, and interpretation of structured data from well-identified sources, such as health facilities. It involves reports of specific diseases from healthcare providers to public health officials.\n",
      "\n",
      "Keywords: indicator-based, surveillance, structured data, health facilities, reports, healthcare providers, public health officials.\n",
      "What is Case based surveillance?\n"
     ]
    },
    {
     "name": "stderr",
     "output_type": "stream",
     "text": [
      "  1%|          | 5/499 [00:22<31:44,  3.85s/it]"
     ]
    },
    {
     "name": "stdout",
     "output_type": "stream",
     "text": [
      " Answers: Case-based surveillance is a method used for identifying and reporting individual cases of diseases targeted for elimination or during outbreaks. It involves immediate reporting of each identified case using a case-based form to the next level.\n",
      "Keywords: case-based surveillance, identify cases, report individually, disease elimination, outbreaks, case-based form, next level.\n",
      "What diseases are best monitored using syndromic surveillance?\n"
     ]
    },
    {
     "name": "stderr",
     "output_type": "stream",
     "text": [
      "  1%|          | 6/499 [00:28<37:43,  4.59s/it]"
     ]
    },
    {
     "name": "stdout",
     "output_type": "stream",
     "text": [
      " Answers: Diseases that can be monitored using syndromic surveillance are those for which clinical features are the primary means of detection, such as Acute Flaccid Paralysis (AFP), acute watery diarrhea, rash illnesses, Severe Acute Respiratory Infection (SARI), Influenza-Like Illness (ILI), Acute Haemorrhagic Fever (AHF), and Severe Acute Respiratory Syndrome (SARS).\n",
      "\n",
      "            Keywords: syndromic surveillance, clinical features, Acute Flaccid Paralysis, acute watery diarrhea, rash illnesses, Severe Acute Respiratory Infection, Influenza-Like Illness, Acute Haemorrhagic Fever, Severe Acute Respiratory Syndrome.\n",
      "What is Community Based Surveillance (CBS)?\n"
     ]
    },
    {
     "name": "stderr",
     "output_type": "stream",
     "text": [
      "  1%|▏         | 7/499 [00:32<35:28,  4.33s/it]"
     ]
    },
    {
     "name": "stdout",
     "output_type": "stream",
     "text": [
      " Answers: Community Based Surveillance (CBS) is a system for detecting and reporting events of public health significance within communities by community members. It involves the systematic identification and reporting of such events to designated focal points, using both indicator-based and event-based surveillance methods.\n",
      "\n",
      "Keywords: Community Based Surveillance, system, detecting, reporting, events, public health significance, community members, designated focal points, indicator-based, event-based, surveillance methods.\n",
      "What do Village Health Commitees (VHCs) do when they identify a patient through any of the strategies?\n"
     ]
    },
    {
     "name": "stderr",
     "output_type": "stream",
     "text": [
      "  2%|▏         | 8/499 [00:35<30:48,  3.76s/it]"
     ]
    },
    {
     "name": "stdout",
     "output_type": "stream",
     "text": [
      " Answers: VHCs link identified patients to nearby health facilities for further assessment and help identify contacts.\n",
      "\n",
      "Keywords: Village Health Committees, identify patient, link to health facility, help identify contacts.\n",
      "In Community Based Surveillance what kind of unusual events or alerts are of interest?\n"
     ]
    },
    {
     "name": "stderr",
     "output_type": "stream",
     "text": [
      "  2%|▏         | 9/499 [00:38<29:38,  3.63s/it]"
     ]
    },
    {
     "name": "stdout",
     "output_type": "stream",
     "text": [
      " Answers: Unusual events or alerts of interest in Community Based Surveillance include clusters of deaths from an unknown cause, events that are unusual for a specific community or during a certain time of year.\n",
      "\n",
      "Keywords: unusual events, community-based surveillance, reporting, indicators, community volunteers, health risks, early warning signs, public health events.\n",
      "Give examples of members of Village Health Commitees (VHAs).\n"
     ]
    },
    {
     "name": "stderr",
     "output_type": "stream",
     "text": [
      "  2%|▏         | 10/499 [00:43<32:14,  3.96s/it]"
     ]
    },
    {
     "name": "stdout",
     "output_type": "stream",
     "text": [
      " Answers: Community health volunteers, community health workers, traditional healers, village leaders (religious, traditional or political), school teachers, veterinarians, health extension workers, chemical sellers.\n",
      "\n",
      "Keywords: Community health volunteers, community health workers, traditional healers, village leaders, school teachers, veterinarians, health extension workers, chemical sellers - examples of members in Village Health Committees (VHAs).\n",
      "How are community health workers identified?\n"
     ]
    },
    {
     "name": "stderr",
     "output_type": "stream",
     "text": [
      "  2%|▏         | 11/499 [00:46<30:23,  3.74s/it]"
     ]
    },
    {
     "name": "stdout",
     "output_type": "stream",
     "text": [
      " Answers: Community health workers are identified and selected by the communities they live in, increasing empowerment and ownership of Community-Based Surveillance (CBS). Representation could be from various village-level services such as community health volunteers, birth attendants, or similar care providers.\n",
      "\n",
      "Keywords: community health workers, identified, selected, communities, representation, empowerment, ownership, CBS.\n",
      "Why do CHWs play a crucial role in Community Based Surveillance?\n"
     ]
    },
    {
     "name": "stderr",
     "output_type": "stream",
     "text": [
      "  2%|▏         | 12/499 [00:49<28:16,  3.48s/it]"
     ]
    },
    {
     "name": "stdout",
     "output_type": "stream",
     "text": [
      " Answers: CHWs play a crucial role in Community Based Surveillance by identifying and reporting public health events at the community level.\n",
      "\n",
      "Keywords: CHWs, Community Based Surveillance, identify, report, public health events, community level.\n",
      "What is the procedure of reporting cases for VHCs?\n"
     ]
    },
    {
     "name": "stderr",
     "output_type": "stream",
     "text": [
      "  3%|▎         | 13/499 [00:53<30:56,  3.82s/it]"
     ]
    },
    {
     "name": "stdout",
     "output_type": "stream",
     "text": [
      " Answers: VHCs are responsible for recognizing and reporting suspect cases to health facilities. They should receive training on how to do this and communicate regularly with the health facility IDSR focal person through simple alert forms or other mechanisms for non-literate VHCs. Monthly meetings and telephone calls can be used to ensure tracking of VHCs, and refresher trainings should occur to keep them updated on reporting procedures.\n",
      "\n",
      "Keywords: VHCs, report cases, health facilities, communicate, alert forms, monthly meetings, telephone calls, refresher trainings, training, recognize suspect cases.\n",
      "Mention a role of the community volunteers and  Health Surveillance Assistants (HSAs).\n",
      " Answers: The roles of community volunteers and Health Surveillance Assistants (HSAs) include supporting the identification of at-risk individuals in the community, engaging with lower-level public, managing rumors, and participating in emergency preparedness and response activities such as reporting cases or events, conducting surveillance and response training, monitoring and maintaining supplies, and communicating with the community.\n",
      "\n",
      "Keywords: community volunteers, Health Surveillance Assistants, identify at-risk individuals, engaging lower-level public, managing rumors, emergency preparedness, response activities, reporting cases, training, supplies, communication.\n"
     ]
    },
    {
     "name": "stderr",
     "output_type": "stream",
     "text": [
      "  3%|▎         | 14/499 [00:58<33:43,  4.17s/it]"
     ]
    },
    {
     "name": "stdout",
     "output_type": "stream",
     "text": [
      "What defined a probable case?\n"
     ]
    },
    {
     "name": "stderr",
     "output_type": "stream",
     "text": [
      "  3%|▎         | 15/499 [01:02<32:06,  3.98s/it]"
     ]
    },
    {
     "name": "stdout",
     "output_type": "stream",
     "text": [
      " Answers: A probable case is a person who meets the clinical picture of a disease or is epidemiologically linked to a confirmed case, but a laboratory sample cannot be obtained or the results are inconclusive.\n",
      "\n",
      "Keywords: Probable case, clinical picture, epidemiological link, laboratory sample, inconclusive results.\n",
      "What defined a confirmed case?\n"
     ]
    },
    {
     "name": "stderr",
     "output_type": "stream",
     "text": [
      "  3%|▎         | 16/499 [01:03<25:09,  3.12s/it]"
     ]
    },
    {
     "name": "stdout",
     "output_type": "stream",
     "text": [
      " Answers: A confirmed case is a suspected or probable case that has been verified by laboratory analysis.\n",
      "\n",
      "Keywords: verified, laboratory analysis, suspected case, probable case.\n",
      "What is the guidelines with regards to the sensitivity of case definitions in outbreak scenarios?\n"
     ]
    },
    {
     "name": "stderr",
     "output_type": "stream",
     "text": [
      "  3%|▎         | 17/499 [01:08<29:26,  3.67s/it]"
     ]
    },
    {
     "name": "stdout",
     "output_type": "stream",
     "text": [
      " Answers: The guidelines suggest reporting any unusual situation related to received samples or test results for suspected cases or clusters of deaths or illnesses. For routine outbreaks, validated cases may trigger responses such as improving immunization coverage, strengthening case management, and community education campaigns. For epidemic-prone diseases, eradication or elimination targets, or public health events of international concern, a confirmed case should prompt immediate response measures.\n",
      "\n",
      "Keywords: guidelines, outbreaks, suspected cases, clusters, deaths, illnesses, reporting, validation, responses, immunization coverage, case management, community education, international concerns.\n",
      "What does One Health approach consist of?\n"
     ]
    },
    {
     "name": "stderr",
     "output_type": "stream",
     "text": [
      "  4%|▎         | 18/499 [01:12<31:11,  3.89s/it]"
     ]
    },
    {
     "name": "stdout",
     "output_type": "stream",
     "text": [
      " Answers: The One Health approach involves building relationships between health facilities, animal and environmental sectors, and communities for communication and coordination to establish a comprehensive disease surveillance and response system. It includes community participation in training and simulation exercises, implementation of response activities, prevention and response-based activities, following IPC measures, social research, community health education, verification of community response, and feedback.\n",
      "\n",
      "Keywords: One Health approach, communication and coordination, community participation, disease surveillance, response activities, prevention and response-based activities, IPC measures, social research, community health education, verification of community response, feedback.\n",
      "Give an example of One Health surveillance?\n"
     ]
    },
    {
     "name": "stderr",
     "output_type": "stream",
     "text": [
      "  4%|▍         | 19/499 [01:16<30:37,  3.83s/it]"
     ]
    },
    {
     "name": "stdout",
     "output_type": "stream",
     "text": [
      " Answers: An example of One Health surveillance is the detection of zoonotic diseases that affect both humans and animals, such as avian influenza or Salmonella infections. This involves collaboration between human health, animal health, and environmental sectors to monitor and respond to outbreaks.\n",
      "\n",
      "Keywords: One Health, zoonotic diseases, human health, animal health, collaboration, detection, monitoring, response.\n",
      "How are case definitions disseminated for use in Malawi?\n"
     ]
    },
    {
     "name": "stderr",
     "output_type": "stream",
     "text": [
      "  4%|▍         | 20/499 [01:19<28:33,  3.58s/it]"
     ]
    },
    {
     "name": "stdout",
     "output_type": "stream",
     "text": [
      " Answers: Case definitions for diseases under surveillance in Malawi are disseminated using posters, small-sized booklets, and IDSR technical guidelines.\n",
      "\n",
      "Keywords: case definitions, dissemination, Malawi, posters, small-sized booklets, IDSR technical guidelines.\n",
      "How often are the district procedures for surveillance and response updated?\n"
     ]
    },
    {
     "name": "stderr",
     "output_type": "stream",
     "text": [
      "  4%|▍         | 21/499 [01:23<28:31,  3.58s/it]"
     ]
    },
    {
     "name": "stdout",
     "output_type": "stream",
     "text": [
      " Answers: The data suggests that graphs, tables, charts, etc., used in surveillance should be periodically updated and compared with previous data. Supervisory visits to health facilities are conducted at least 4 times a year, and supervisors are asked to make a schedule for the next year.\n",
      "\n",
      "Keywords: periodic updates, supervisory visits, graphs, tables, charts, comparison, health facilities, surveillance activities.\n",
      "What is the recommended frequency for updating information about the catchment area, including health facilities, Points of Entry, and laboratories?\n"
     ]
    },
    {
     "name": "stderr",
     "output_type": "stream",
     "text": [
      "  4%|▍         | 22/499 [01:26<28:20,  3.57s/it]"
     ]
    },
    {
     "name": "stdout",
     "output_type": "stream",
     "text": [
      " Answers: The data suggests that updates about the catchment area, including health facilities, Points of Entry, and laboratories, should be conducted regularly during supervisory visits and quarterly district meetings. (18 words)\n",
      "\n",
      "Keywords: updates, catchment area, health facilities, supervisory visits, quarterly district meetings, regularly.\n",
      "What types of public health hazards should risk mapping cover?\n"
     ]
    },
    {
     "name": "stderr",
     "output_type": "stream",
     "text": [
      "  5%|▍         | 23/499 [01:29<27:43,  3.49s/it]"
     ]
    },
    {
     "name": "stdout",
     "output_type": "stream",
     "text": [
      " Answers: Risk mapping should cover all public health hazards as specified by IHR (2005), including chemical, zoonotic, radiological and nuclear hazards.\n",
      "\n",
      "Keywords: risk mapping, public health hazards, IHR (2005), chemical, zoonotic, radiological, nuclear.\n",
      "What is the purpose of weekly data analysis at facility or district level during an outbreak?\n"
     ]
    },
    {
     "name": "stderr",
     "output_type": "stream",
     "text": [
      "  5%|▍         | 24/499 [01:33<28:31,  3.60s/it]"
     ]
    },
    {
     "name": "stdout",
     "output_type": "stream",
     "text": [
      " Answers: The purpose of weekly data analysis at facility or district level during an outbreak is to inform disease surveillance and outbreak response decisions, provide feedback to stakeholders, and review summaries, bulletins, and presentations in relevant meetings.\n",
      "\n",
      "Keywords: weekly data analysis, facility or district level, inform disease surveillance, outbreak response decisions, feedback, stakeholders, summaries, bulletins, presentations, relevant meetings.\n",
      "Who is responsible for data verification at the district level in eIDSR?\n"
     ]
    },
    {
     "name": "stderr",
     "output_type": "stream",
     "text": [
      "  5%|▌         | 25/499 [01:37<28:03,  3.55s/it]"
     ]
    },
    {
     "name": "stdout",
     "output_type": "stream",
     "text": [
      " Answers: The district level staff are responsible for verifying and approving onward transmission of reported events from lower health facilities in eIDSR.\n",
      "\n",
      "Keywords: district level, data verification, eIDSR, approve, onward transmission.\n",
      "Why is weekly reporting important for monitoring disease trends?\n"
     ]
    },
    {
     "name": "stderr",
     "output_type": "stream",
     "text": [
      "  5%|▌         | 26/499 [01:40<27:22,  3.47s/it]"
     ]
    },
    {
     "name": "stdout",
     "output_type": "stream",
     "text": [
      " Answers: Weekly reporting is important for monitoring disease trends as it provides early detection of outbreaks by collecting and reporting summary information of notifiable diseases, conditions or events.\n",
      "\n",
      "Keywords: weekly reporting, monitoring trends, early detection, outbreaks, summary information, notifiable diseases, conditions, events.\n",
      "Where do the numbers for the weekly aggregates come from?\n"
     ]
    },
    {
     "name": "stderr",
     "output_type": "stream",
     "text": [
      "  5%|▌         | 27/499 [01:44<28:46,  3.66s/it]"
     ]
    },
    {
     "name": "stdout",
     "output_type": "stream",
     "text": [
      " Answers: The weekly aggregates come from reporting and summarizing cases or deaths of notifiable diseases, conditions, or events on a weekly basis as part of surveillance activities.\n",
      "\n",
      "Keywords: weekly aggregates, reporting, notifiable diseases, conditions, events, surveillance, summarize.\n",
      "What routine summary information should be reported monthly and quarterly for other diseases of public health importance?\n"
     ]
    },
    {
     "name": "stderr",
     "output_type": "stream",
     "text": [
      "  6%|▌         | 28/499 [01:48<29:27,  3.75s/it]"
     ]
    },
    {
     "name": "stdout",
     "output_type": "stream",
     "text": [
      " Answers: Routine summary information for other diseases of public health importance should be reported monthly and quarterly, including the total number of cases and deaths for each disease. This information is valuable for monitoring progress towards disease control targets, identifying hidden outbreaks or problems, and supporting disease-specific programs.\n",
      "\n",
      "Keywords: routine summary reporting, other diseases of public health importance, total number of cases and deaths, monthly and quarterly reports, disease control targets, hidden outbreaks, problem identification.\n",
      "How can additional diseases or events be categorized for reporting frequency (immediate, weekly, monthly, or quarterly)?\n"
     ]
    },
    {
     "name": "stderr",
     "output_type": "stream",
     "text": [
      "  6%|▌         | 29/499 [01:53<31:38,  4.04s/it]"
     ]
    },
    {
     "name": "stdout",
     "output_type": "stream",
     "text": [
      " Answers: Additional diseases or events can be categorized for reporting frequency based on their public health significance and the need for timely response. Immediately reportable diseases require case-based reporting as soon as they are identified, while weekly reporting is used for monitoring trends of diseases or conditions to early detect outbreaks. Monthly or quarterly aggregated reporting provides data for monitoring the health status of the population and impact of disease specific programs.\n",
      "\n",
      "Keywords: immediately reportable diseases, case-based reporting, weekly reporting, monthly reporting, quarterly reporting, public health significance, timely response, disease trends, outbreak detection.\n",
      "How should laboratory data be organized and utilized in disease surveillance?\n"
     ]
    },
    {
     "name": "stderr",
     "output_type": "stream",
     "text": [
      "  6%|▌         | 30/499 [01:59<36:53,  4.72s/it]"
     ]
    },
    {
     "name": "stdout",
     "output_type": "stream",
     "text": [
      " Answers: Laboratories play a crucial role in disease surveillance by serving as early warning alerts for detecting pathogens and hazards, confirming diagnoses, and verifying causes of outbreaks. To effectively organize and utilize laboratory data in disease surveillance, collaboration between human and veterinary laboratories is essential, along with maintaining updated lists of capable laboratories and providing transportation information. Diseases or conditions with similar symptoms require careful diagnosis, and accurate confirmation through laboratory testing is vital for individual patient diagnoses and outbreak verification. Surveillance activities for various diseases share similar functions, and principles remain consistent despite potential differences in elimination or eradication targets.\n",
      "\n",
      "Keywords: disease surveillance, laboratories, collaboration, early warning alerts, confirm diagnoses, verify causes, transportation information, updated lists, similar symptoms, accurate confirmation, individual patient diagnoses, outbreak verification, elimination, eradication, principles of surveillance, scarce resources, single focal point.\n",
      "Give example of what kind of aggregated data a nurse is responsible to create?\n"
     ]
    },
    {
     "name": "stderr",
     "output_type": "stream",
     "text": [
      "  6%|▌         | 31/499 [02:02<33:31,  4.30s/it]"
     ]
    },
    {
     "name": "stdout",
     "output_type": "stream",
     "text": [
      " Answers: A nurse is responsible for aggregating data on the number of cases and deaths seen in an outpatient service.\n",
      "\n",
      "Keywords: nurse, aggregating data, outpatient service, number of cases, number of deaths.\n",
      "How are summaries for diseases calculated and recorded in health facilities equipped with computers?\n"
     ]
    },
    {
     "name": "stderr",
     "output_type": "stream",
     "text": [
      "  6%|▋         | 32/499 [02:06<31:23,  4.03s/it]"
     ]
    },
    {
     "name": "stdout",
     "output_type": "stream",
     "text": [
      " Answers: In health facilities equipped with computers, individual patient records are entered, from which the IDSR priority diseases or conditions subset is extracted and analyzed to get the required weekly, monthly, or quarterly compilations.\n",
      "\n",
      "Keywords: computer, individual patient records, IDSR priority diseases, weekly, monthly, quarterly compilations, extract, analyze\n",
      "What register is used in isolation units during outbreaks, and why is it important for IDSR summaries?\n",
      " Answers: In outbreak scenarios, separate registers are used in isolation units to record diseases or events. This information is important as it needs to be captured in the overall IDSR weekly, monthly, or quarterly summaries.\n",
      "\n",
      "Keywords: isolation units, separate registers, recording diseases or events, IDSR summaries\n"
     ]
    },
    {
     "name": "stderr",
     "output_type": "stream",
     "text": [
      "  7%|▋         | 33/499 [02:09<30:24,  3.92s/it]"
     ]
    },
    {
     "name": "stdout",
     "output_type": "stream",
     "text": [
      "What is emphasized regarding supervisory visits to reporting sites?\n"
     ]
    },
    {
     "name": "stderr",
     "output_type": "stream",
     "text": [
      "  7%|▋         | 34/499 [02:13<29:36,  3.82s/it]"
     ]
    },
    {
     "name": "stdout",
     "output_type": "stream",
     "text": [
      " Answers: Supervisory visits to reporting sites should be conducted regularly, with a schedule made in advance. Transportation should be available for these visits. Other reporting sites, such as private health centers and community reporting sites, should also be included in supervision activities. Use of a supervisory checklist is recommended.\n",
      "\n",
      "Keywords: regular supervisory visits, scheduling, transportation, other reporting sites, supervision activities, supervisory checklist.\n",
      "What should clinicians ensure during supervisory visits regarding patient registers and case-based surveillance reporting forms?\n"
     ]
    },
    {
     "name": "stderr",
     "output_type": "stream",
     "text": [
      "  7%|▋         | 35/499 [02:16<26:54,  3.48s/it]"
     ]
    },
    {
     "name": "stdout",
     "output_type": "stream",
     "text": [
      " Answers: Clinicians should ensure that patient registers and case-based surveillance reporting forms are accurately recorded during supervisory visits.\n",
      "\n",
      "Keywords: patient registers, case-based surveillance reporting forms, accurately recorded, supervisory visits.\n",
      "What steps should be taken to ensure that health workers know or have access to standard case definitions?\n"
     ]
    },
    {
     "name": "stderr",
     "output_type": "stream",
     "text": [
      "  7%|▋         | 36/499 [02:19<26:22,  3.42s/it]"
     ]
    },
    {
     "name": "stdout",
     "output_type": "stream",
     "text": [
      " Answers: Health workers should be made aware of standard case definitions and given access to them. Procedures may need to be established or modified for this purpose. (594, 595)\n",
      "\n",
      "Keywords: health workers, standard case definitions, procedures, awareness, detecting, reporting, priority diseases, conditions, outbreaks, events.\n",
      "What role does case-based data play in public health events, and how should health staff be prepared?\n"
     ]
    },
    {
     "name": "stderr",
     "output_type": "stream",
     "text": [
      "  7%|▋         | 37/499 [02:23<26:33,  3.45s/it]"
     ]
    },
    {
     "name": "stdout",
     "output_type": "stream",
     "text": [
      " Answers: Case-based data plays a crucial role in determining risk factors and means of disease transmission or exposure during public health events. Health staff should be sensitized on diseases requiring immediate reporting, review standardized forms for reporting case-information, and communicate effectively with the public.\n",
      "\n",
      "Keywords: case-based data, determining risk factors, disease transmission, health staff preparation, sensitize, review, standardized form, effective communication.\n",
      "What communication means should the surveillance unit have access to, and how should districts notify the national level?\n"
     ]
    },
    {
     "name": "stderr",
     "output_type": "stream",
     "text": [
      "  8%|▊         | 38/499 [02:27<28:27,  3.70s/it]"
     ]
    },
    {
     "name": "stdout",
     "output_type": "stream",
     "text": [
      " Answers: The communication channels for the surveillance unit include telephone and email contacts of community focal points, health facilities, Points of Entry (PoE), and other reporting sites such as private health centers, schools, uniformed forces, and medical centers. Districts should notify the national level through formal reporting mechanisms, possibly using a supervisory checklist for regular evaluation.\n",
      "\n",
      "Keywords: communication channels, telephone, email, community focal points, health facilities, Points of Entry (PoE), private health centers, schools, uniformed forces, medical centers, formal reporting, supervisory checklist, district surveillance activities, national level.\n",
      "What should be stressed during supervision regarding data quality and surveillance?\n"
     ]
    },
    {
     "name": "stderr",
     "output_type": "stream",
     "text": [
      "  8%|▊         | 39/499 [02:30<26:31,  3.46s/it]"
     ]
    },
    {
     "name": "stdout",
     "output_type": "stream",
     "text": [
      " Answers: Stress the importance of data quality and regular audits, standardized recording and reporting methods, and communication means for effective surveillance.\n",
      "\n",
      "Keywords: data quality, surveillance, supervision, audits, standard approach, communication means.\n",
      "What are some factors affecting data quality in summaries that should be periodically checked?\n"
     ]
    },
    {
     "name": "stderr",
     "output_type": "stream",
     "text": [
      "  8%|▊         | 40/499 [02:33<25:59,  3.40s/it]"
     ]
    },
    {
     "name": "stdout",
     "output_type": "stream",
     "text": [
      " Answers: Factors affecting data quality in summaries include, but are not limited to, communication methods, standard approaches to recording and reporting, and various factors impacting data accuracy such as abbreviations and descriptions.\n",
      "\n",
      "Keywords: communication methods, standard approaches, data accuracy, abbreviations, descriptions.\n",
      "Why is it recommended to conduct regular data quality audits at reporting sites?\n"
     ]
    },
    {
     "name": "stderr",
     "output_type": "stream",
     "text": [
      "  8%|▊         | 41/499 [02:36<26:06,  3.42s/it]"
     ]
    },
    {
     "name": "stdout",
     "output_type": "stream",
     "text": [
      " Answers: Regular data quality audits are recommended at reporting sites to ensure correct data is being collected and reported, leading to accurate analysis, interpretation, action, and evaluation.\n",
      "\n",
      "Keywords: regular data quality audits, collecting correct data, accurate analysis, interpretation, action, evaluation, reporting sites.\n",
      "Who can be selected as CBS focal persons, and what is required after their selection?\n"
     ]
    },
    {
     "name": "stderr",
     "output_type": "stream",
     "text": [
      "  8%|▊         | 42/499 [02:39<25:05,  3.29s/it]"
     ]
    },
    {
     "name": "stdout",
     "output_type": "stream",
     "text": [
      " Answers: Any community member acceptable by the community can be a ComBaS focal person. Selection should be followed by training and carrying out supportive supervision on disease recognition for reporting.\n",
      "\n",
      "Keywords: community member, selection, training, supportive supervision, disease recognition, reporting.\n",
      "What are examples of community sources that district staff may identify for CBS?\n"
     ]
    },
    {
     "name": "stderr",
     "output_type": "stream",
     "text": [
      "  9%|▊         | 43/499 [02:44<26:57,  3.55s/it]"
     ]
    },
    {
     "name": "stdout",
     "output_type": "stream",
     "text": [
      " Answers: Community-based sources for CBS include community leaders, elders, influencers, health workers (VHCs, traditional birth attendants, school teachers, pharmacists), community and traditional leaders, civil society, media, and volunteers.\n",
      "\n",
      "Keywords: community sources, CBS, community leaders, elders, influencers, health workers, VHCs, traditional birth attendants, school teachers, pharmacists, community and traditional leaders, civil society, media, volunteers.\n",
      "How can the linkages between epidemiological and laboratory data be strengthened?\n"
     ]
    },
    {
     "name": "stderr",
     "output_type": "stream",
     "text": [
      "  9%|▉         | 44/499 [02:48<28:05,  3.70s/it]"
     ]
    },
    {
     "name": "stdout",
     "output_type": "stream",
     "text": [
      " Answers: Strengthening the linkages between epidemiological and laboratory data can be achieved through several measures. These include enhancing capacity for case confirmation by improving referral systems, networking and partnerships, establishing internal and external quality control mechanisms, and maintaining capacity for routine data analysis and interpretation.\n",
      "\n",
      "Keywords: enhance referral systems, networking and partnerships, quality control mechanisms, data analysis and interpretation, epidemiological data, laboratory data.\n",
      "What is the importance of submitting weekly summaries of processed samples during an outbreak?\n"
     ]
    },
    {
     "name": "stderr",
     "output_type": "stream",
     "text": [
      "  9%|▉         | 45/499 [02:51<28:11,  3.73s/it]"
     ]
    },
    {
     "name": "stdout",
     "output_type": "stream",
     "text": [
      " Answers: Submitting weekly summaries of processed samples during an outbreak is important for accurate and timely disease surveillance and outbreak response. It facilitates comparison within and between facilities and districts, ensures automated analyses for real-time decision making, and provides feedback to inform stakeholders.\n",
      "\n",
      " Keywords: weekly summaries, processed samples, disease surveillance, outbreak response, automated analyses, comparison, feedback, stakeholders.\n",
      "During supervision at reporting sites, what should be ensured in collaboration with the Laboratory Focal Person?\n"
     ]
    },
    {
     "name": "stderr",
     "output_type": "stream",
     "text": [
      "  9%|▉         | 46/499 [02:55<27:35,  3.65s/it]"
     ]
    },
    {
     "name": "stdout",
     "output_type": "stream",
     "text": [
      " Answers: Ensure collaboration with the Laboratory Focal Person during supervision at reporting sites to check adequate supply of laboratory reagents and supplies, proper use of laboratory equipment, timely submission of laboratory reports, and investigation of any reported public health events requiring laboratory confirmation.\n",
      "\n",
      "Keywords: collaboration, Laboratory Focal Person, reporting sites, supervision, laboratory reagents, supplies, equipment, timely submission, investigation, public health events.\n",
      "What should be emphasized in the implementation of the One Health approach?\n"
     ]
    },
    {
     "name": "stderr",
     "output_type": "stream",
     "text": [
      "  9%|▉         | 47/499 [03:00<31:02,  4.12s/it]"
     ]
    },
    {
     "name": "stdout",
     "output_type": "stream",
     "text": [
      " Answers: The One Health approach emphasizes collaboration across sectors and levels to detect events and conduct risk assessments at the human-animal-environment interface. It requires strengthening partnerships, improving communication, and engaging communities in response activities. Key principles include prevention and control of emerging infectious diseases, ensuring safe food handling practices, reducing exposures to hazards, and improving access to clean water and sanitation.\n",
      "\n",
      "Keywords: collaboration, sectors, levels, detect events, risk assessment, human-animal-environment interface, partnerships, communication, engage communities, prevention, control, emerging infectious diseases, food handling practices, exposures, hazards, clean water, sanitation.\n",
      "Who are the key actors to foster collaboration in reporting and assessment of public health risks?\n"
     ]
    },
    {
     "name": "stderr",
     "output_type": "stream",
     "text": [
      " 10%|▉         | 48/499 [03:04<31:12,  4.15s/it]"
     ]
    },
    {
     "name": "stdout",
     "output_type": "stream",
     "text": [
      " Answers: The key actors to foster collaboration in reporting and assessment of public health risks include the private sector, civil society, faith-based organizations, defence and security forces, prisons, Internally Displaced Persons (IDP) and refugees’ camps, technical and financial partners, and academic institutions and research institutions.\n",
      "\n",
      "Keywords: private sector, civil society, faith-based organizations, defence and security forces, prisons, IDP and refugees’ camps, technical and financial partners, academic institutions and research institutions, collaboration, reporting, assessment, public health risks.\n",
      "How is patient confidentiality and privacy maintained during public health reporting?\n"
     ]
    },
    {
     "name": "stderr",
     "output_type": "stream",
     "text": [
      " 10%|▉         | 49/499 [03:07<28:45,  3.83s/it]"
     ]
    },
    {
     "name": "stdout",
     "output_type": "stream",
     "text": [
      " Answers: The public health community recognizes the importance of protecting patients' confidentiality in public health reporting. Risks to individuals and communities may arise from name-based reporting of private health-related information. Strategies to maintain patient privacy include data protection and security measures.\n",
      "\n",
      "Keywords: patient confidentiality, privacy, data protection, security, name-based reporting, individuals, communities.\n",
      "When might the use of names be required during an outbreak of infectious diseases?\n",
      " Answers: The use of names may be required during an outbreak of infectious diseases when reporting suspected cases or events to higher levels and conducting investigations, especially for dangerous diseases with potential for rapid transmission or high case fatality rates.\n",
      "\n",
      "Keywords: reporting, suspected cases, investigation, dangerous diseases, rapid transmission, high case fatality rates.\n"
     ]
    },
    {
     "name": "stderr",
     "output_type": "stream",
     "text": [
      " 10%|█         | 50/499 [03:11<28:07,  3.76s/it]"
     ]
    },
    {
     "name": "stdout",
     "output_type": "stream",
     "text": [
      "How does the public health laboratory system complement syndromic disease surveillance?\n"
     ]
    },
    {
     "name": "stderr",
     "output_type": "stream",
     "text": [
      " 10%|█         | 51/499 [03:16<31:09,  4.17s/it]"
     ]
    },
    {
     "name": "stdout",
     "output_type": "stream",
     "text": [
      " Answers: The public health laboratory system serves as an early warning alert in complementing syndromic disease surveillance by detecting pathogens and other hazards, such as the emergence of resistant strains, which have the potential to spread in the community or hospital setting. Laboratory confirmation of diagnoses is essential for accurately confirming individual patient diagnoses and verifying the cause of suspected outbreaks.\n",
      "\n",
      "Keywords: public health laboratory system, early warning alert, detect pathogens, hazards, emergency of resistant strains, community, hospital, accurate diagnosis, individual patient, verify cause, suspected outbreak, syndromic disease surveillance, lack of specificity, reports, investigation, higher levels.\n",
      "How can linkages between epidemiological and laboratory data be strengthened?\n"
     ]
    },
    {
     "name": "stderr",
     "output_type": "stream",
     "text": [
      " 10%|█         | 52/499 [03:20<31:10,  4.18s/it]"
     ]
    },
    {
     "name": "stdout",
     "output_type": "stream",
     "text": [
      " Answers: Strengthening linkages between epidemiological and laboratory data can be achieved through several measures. These include enhancing capacity for case confirmation by improving referral systems, networking and partnerships, establishing internal and external quality control mechanisms, and maintaining capacity for routine data analysis and interpretation for both epidemiological and laboratory data.\n",
      "\n",
      "Keywords: enhance referral systems, networking and partnerships, quality control mechanisms, routine data analysis, epidemiological data, laboratory data.\n",
      "Which steps are important during an outbreak to assist in completing variables in the line list register?\n"
     ]
    },
    {
     "name": "stderr",
     "output_type": "stream",
     "text": [
      " 11%|█         | 53/499 [03:27<36:14,  4.88s/it]"
     ]
    },
    {
     "name": "stdout",
     "output_type": "stream",
     "text": [
      " Answers: During an outbreak, it is important to establish frequent contacts with reporting sites to clarify missing information or errors, ensure consistency and harmonization of data, update laboratory results by linking to the respective case record unique identifier, review entered data carefully, collect data using a line list during an outbreak, search for additional affected persons and refer them to health facilities or treatment centers, ensure timely provision of laboratory information, make data analysis by time, person, and place, monitor the effectiveness of the logistics system and delivery of essential supplies, carry out logistical planning to optimize transport usage, and monitor communication reliability between teams.\n",
      "\n",
      "Keywords: frequent contacts, clarify issues, missing information, errors, consistency, harmonization, data update, laboratory results, line list, search for affected persons, health facilities, treatment centers, timely provision, logistics system, essential supplies, logistical planning, transport usage, communication reliability.\n",
      "During supervision at reporting sites, how can collaboration with the Laboratory Focal Person be ensured?\n"
     ]
    },
    {
     "name": "stderr",
     "output_type": "stream",
     "text": [
      " 11%|█         | 54/499 [03:30<32:40,  4.41s/it]"
     ]
    },
    {
     "name": "stdout",
     "output_type": "stream",
     "text": [
      " Answers: Ensure effective communication and coordination between health facility supervisors and laboratory focal persons during supervision visits. This may include discussing laboratory issues, availability of supplies, and addressing any challenges that may impact surveillance activities.\n",
      "\n",
      "Keywords: collaboration, laboratory focal person, supervision visits, effective communication, coordination, discussion, laboratory issues, supplies, challenges.\n",
      "How should the Community Alert Reporting Form be used?\n"
     ]
    },
    {
     "name": "stderr",
     "output_type": "stream",
     "text": [
      " 11%|█         | 55/499 [03:33<28:51,  3.90s/it]"
     ]
    },
    {
     "name": "stdout",
     "output_type": "stream",
     "text": [
      " Answers: The Community Alert Reporting Form is used to immediately report alerts or suspected disease outbreaks to supervisors or nearby health facilities.\n",
      "\n",
      "Keywords: Community Alert Reporting Form, immediate reporting, supervisor, nearby health facilities.\n",
      "How can case definitions be made available when filling in the Community Alert Reporting form?\n"
     ]
    },
    {
     "name": "stderr",
     "output_type": "stream",
     "text": [
      " 11%|█         | 56/499 [03:38<31:50,  4.31s/it]"
     ]
    },
    {
     "name": "stdout",
     "output_type": "stream",
     "text": [
      " Answers: Case definitions should be readily accessible to community health workers or ComBaS key informants when completing the Community Alert Reporting form. They can refer to simplified versions of case definitions at the community level, which use key signs and symptoms for priority diseases and events (Row 159, 436). These definitions help in rapid detection and reporting of cases to the nearest health facility IDSR focal person (Rows 160, 677, 683-687).\n",
      "\n",
      "Keywords: community case definitions, key signs and symptoms, priority diseases, events, simplified versions, rapid detection, reporting, community health workers, ComBaS key informants, nearest health facility IDSR focal person.\n",
      "How should the form be used to capture and report diseases and events at the community level?\n"
     ]
    },
    {
     "name": "stderr",
     "output_type": "stream",
     "text": [
      " 11%|█▏        | 57/499 [03:42<30:38,  4.16s/it]"
     ]
    },
    {
     "name": "stdout",
     "output_type": "stream",
     "text": [
      " Answers: The community form should be used to capture and report priority diseases and events at the local level for surveillance. This can be in the form of a notebook, with a copy sent to the nearest health facility and kept at the community with the CHW or key informant.\n",
      "\n",
      "Keywords: community form, capture, report, priority diseases, event-based surveillance, indicator-based surveillance, CHW, key informant, nearest health facility.\n",
      "What information is captured in Annex 2G, the IDSR Case-Based Laboratory Reporting Form?\n"
     ]
    },
    {
     "name": "stderr",
     "output_type": "stream",
     "text": [
      " 12%|█▏        | 58/499 [03:46<30:03,  4.09s/it]"
     ]
    },
    {
     "name": "stdout",
     "output_type": "stream",
     "text": [
      " Answers: The IDSR Case-Based Laboratory Reporting Form (Annex 2G) captures laboratory results and relevant information for individual suspected disease cases reported under the Integrated Disease Surveillance and Response (IDSR) system.\n",
      "\n",
      " Keywords: IDSR, Annex 2G, Case-Based Laboratory Reporting Form, Individual suspected diseases, Laboratory results, Relevant information.\n",
      "What is the reporting structure for a TRUE EVENT in community alert and verification?\n"
     ]
    },
    {
     "name": "stderr",
     "output_type": "stream",
     "text": [
      " 12%|█▏        | 59/499 [03:49<28:42,  3.91s/it]"
     ]
    },
    {
     "name": "stdout",
     "output_type": "stream",
     "text": [
      " Answers: The district RRT notifies the district RRT and informs the community that an investigation is required within 24 hours if an alert is a true event.\n",
      "\n",
      "Keywords: district RRT, true event, investigation, community, notify, within 24 hours\n",
      "What are the options for report descriptions in the IDSR Reports and Data Sharing Logbook?\n"
     ]
    },
    {
     "name": "stderr",
     "output_type": "stream",
     "text": [
      " 12%|█▏        | 60/499 [03:52<26:11,  3.58s/it]"
     ]
    },
    {
     "name": "stdout",
     "output_type": "stream",
     "text": [
      " Answers: The IDSR Reports and Data Sharing Logbook involves recording details of IDSR reports and data sets received, including the date, sender, and description of the report.\n",
      "\n",
      "Keywords: IDSR reports, data sets, logbook, recording details, date, sender, description.\n",
      "What aspects does the District Level IDSR Data Quality Audit Checklist cover under \"DATA COLLECTION TO IDENTIFY SUSPECTED CASES WITHIN HEALTH FACILITY\"?\n"
     ]
    },
    {
     "name": "stderr",
     "output_type": "stream",
     "text": [
      " 12%|█▏        | 61/499 [03:56<26:53,  3.68s/it]"
     ]
    },
    {
     "name": "stdout",
     "output_type": "stream",
     "text": [
      " Answers: The District Level IDSR Data Quality Audit Checklist covers aspects such as the existence of an information flow for reporting to the district level, frequency of data collection, availability of country notifiable diseases and priority reportable diseases/conditions/events lists, and case definitions for suspect and confirmed cases.\n",
      "\n",
      "Keywords: information flow, reporting frequency, country notifiable diseases, priority reportable diseases, case definitions, suspect cases, confirmed cases.\n",
      "What are some of the key questions in the \"RECORDING OF CASES\" section of the District Level IDSR Data Quality Audit Checklist?\n"
     ]
    },
    {
     "name": "stderr",
     "output_type": "stream",
     "text": [
      " 12%|█▏        | 62/499 [03:59<26:01,  3.57s/it]"
     ]
    },
    {
     "name": "stdout",
     "output_type": "stream",
     "text": [
      " Answers: The \"RECORDING OF CASES\" section of the District Level IDSR Data Quality Audit Checklist includes questions related to data collection for suspect cases, priority reportable diseases with case definitions, and timeliness and completeness of reporting.\n",
      "\n",
      "Keywords: data collection, suspect cases, priority reportable diseases, case definitions, timeliness, completeness, reporting.\n",
      "What aspects does the District Level IDSR Data Quality Audit Checklist cover under the category of \"REPORTING\"?\n"
     ]
    },
    {
     "name": "stderr",
     "output_type": "stream",
     "text": [
      " 13%|█▎        | 63/499 [04:03<26:16,  3.62s/it]"
     ]
    },
    {
     "name": "stdout",
     "output_type": "stream",
     "text": [
      " Answers: The District Level IDSR Data Quality Audit Checklist covers timeliness and completeness of monthly reporting, identification of problems and taking action, and reporting timeliness and completeness to other levels under the category of \"REPORTING\".\n",
      "\n",
      "Keywords: timeliness, completeness, monthly reporting, identifying problems, taking action, reporting.\n",
      "What types of information are included in the Maternal Death Reporting Form?\n"
     ]
    },
    {
     "name": "stderr",
     "output_type": "stream",
     "text": [
      " 13%|█▎        | 64/499 [04:07<27:10,  3.75s/it]"
     ]
    },
    {
     "name": "stdout",
     "output_type": "stream",
     "text": [
      " Answers: The Maternal Death Reporting Form includes questions about the baby's survival status, whether the deceased was referred to a health facility or hospital, how long it took to get there if so, if medical care or interventions were received, their cause and location, and space for analysis and remarks.\n",
      "\n",
      "Keywords: Maternal Death Reporting Form, questions, baby's survival status, referred to health facility, time to get there, medical care, obstetrical/surgical interventions, primary cause, secondary cause, analysis, remarks.\n",
      "What is the focus of Module 3 in the Technical Guidelines for Integrated Disease Surveillance and Response for Malawi?\n",
      " Answers: The focus of Module 3 in the Technical Guidelines for Integrated Disease Surveillance and Response for Malawi is on investigating suspected outbreaks and other public health events, preparing to respond to such incidents, responding to them, and engaging in risk communication and community engagement.\n",
      "\n",
      "Keywords: Module 3, investigate, suspecteds outbreaks, public health events, respond, risk communication, community engagement.\n"
     ]
    },
    {
     "name": "stderr",
     "output_type": "stream",
     "text": [
      " 13%|█▎        | 65/499 [04:13<30:53,  4.27s/it]"
     ]
    },
    {
     "name": "stdout",
     "output_type": "stream",
     "text": [
      "What is recommended for each site that collects or receives data, according to the guidelines?\n"
     ]
    },
    {
     "name": "stderr",
     "output_type": "stream",
     "text": [
      " 13%|█▎        | 66/499 [04:17<30:08,  4.18s/it]"
     ]
    },
    {
     "name": "stdout",
     "output_type": "stream",
     "text": [
      " Answers: Each reporting site should define data management requirements, perform periodic checks on data quality, analyze data, provide interpretation to the next higher level, submit data to the next level, file and secure back-up copies of the data, and ensure availability of necessary data sources.\n",
      "\n",
      "Keywords: data management, data quality checks, data analysis, data submission, data backup, data sources.\n",
      "What are the key functions of analyzing data according to the Technical Guidelines for Integrated Disease Surveillance and Response for Malawi?\n",
      " Answers: The key functions of analyzing data according to the Malawi IDSR Technical Guidelines are: investigating suspected outbreaks, preparing responses, responding to outbreaks, and risk communication.\n",
      "\n",
      "Keywords: investigate, outbreaks, respond, data analysis, Malawi IDSR Technical Guidelines, risk communication.\n"
     ]
    },
    {
     "name": "stderr",
     "output_type": "stream",
     "text": [
      " 13%|█▎        | 67/499 [04:21<30:17,  4.21s/it]"
     ]
    },
    {
     "name": "stdout",
     "output_type": "stream",
     "text": [
      "How does surveillance data flow from reporting sites to the central level?\n"
     ]
    },
    {
     "name": "stderr",
     "output_type": "stream",
     "text": [
      " 14%|█▎        | 68/499 [04:25<30:03,  4.19s/it]"
     ]
    },
    {
     "name": "stdout",
     "output_type": "stream",
     "text": [
      " Answers: Surveillance data flows from reporting sites to the central level through a routine process. Reporting sites, which include health facilities, laboratories, Points of Entry (PoE), and community surveillance, submit event reports. Completeness of these reporting sites is essential for effective analysis.\n",
      "\n",
      "Keywords: reporting sites, health facilities, laboratories, Points of Entry (PoE), community surveillance, completeness, submission, trend analysis, investigation, solutions, district surveillance team, silent areas, assistance, transmission, data representation.\n",
      "What practices should be followed when recording and aggregating data manually or electronically?\n"
     ]
    },
    {
     "name": "stderr",
     "output_type": "stream",
     "text": [
      " 14%|█▍        | 69/499 [04:31<33:06,  4.62s/it]"
     ]
    },
    {
     "name": "stdout",
     "output_type": "stream",
     "text": [
      " Answers: Following practices should be adhered to when recording and aggregating data manually or electronically: define data management requirements, keep records and procedures for managing reporting forms, periodically check data quality, analyze data, provide interpretation to the next higher level, submit data to the next level, file and secure back-up copies of data, log and record received data sets or reports, verify timeliness and completeness of data, and review data quality.\n",
      "\n",
      "Keywords: data management, recording, aggregating, manually, electronically, define procedures, keep records, check data quality, analyze data, provide interpretation, submit data, file back-up copies, log received data, verify timeliness, completeness.\n",
      "How is the routine flow of surveillance data typically organized?\n"
     ]
    },
    {
     "name": "stderr",
     "output_type": "stream",
     "text": [
      " 14%|█▍        | 70/499 [04:34<30:01,  4.20s/it]"
     ]
    },
    {
     "name": "stdout",
     "output_type": "stream",
     "text": [
      " Answers: The routine flow of surveillance data is typically from reporting sites to the next level up to the central level. A reporting site can be a health facility, laboratory, Point of Entry (PoE), or community surveillance and response.\n",
      "\n",
      "Keywords: reporting sites, flow of surveillance data, health facilities, laboratories, PoE, community surveillance and response.\n",
      "How is data collected in areas with an eIDSR system, and how is it accessed at the district level?\n"
     ]
    },
    {
     "name": "stderr",
     "output_type": "stream",
     "text": [
      " 14%|█▍        | 71/499 [04:37<28:13,  3.96s/it]"
     ]
    },
    {
     "name": "stdout",
     "output_type": "stream",
     "text": [
      " Answers: In areas with an eIDSR system, data is collected electronically using a mobile phone or computer. At the district level, compiled information can be accessed using a computer.\n",
      "\n",
      "Keywords: electronic reporting systems, data collection, district health management team, compiled information, computer access.\n",
      "What measures are advised for ensuring data protection and security?\n"
     ]
    },
    {
     "name": "stderr",
     "output_type": "stream",
     "text": [
      " 14%|█▍        | 72/499 [04:43<31:41,  4.45s/it]"
     ]
    },
    {
     "name": "stdout",
     "output_type": "stream",
     "text": [
      " Answers: Measures advised include clear guidelines on accessing data, scheduled backups (local and remote), securing physical data storage devices, IT system maintenance considering software upgrades, hardware upkeep or replacement, and server maintenance if in-house, adequate data protection and security with careful record keeping, acknowledgement of receipt of data, and ensuring documents containing personal health information related to notifiable conditions are stored in locked cabinets in secure locations. Password-protection is recommended for data stored on computers and network hardware as well as backups.\n",
      "\n",
      "Keywords: clear guidelines, scheduled backups, physical security, IT system maintenance, careful record keeping, acknowledgement of receipt, password-protected, secured location, locked cabinets, personal health information, notifiable conditions.\n",
      "Why is it important to review data carefully after entry?\n"
     ]
    },
    {
     "name": "stderr",
     "output_type": "stream",
     "text": [
      " 15%|█▍        | 73/499 [04:46<28:47,  4.05s/it]"
     ]
    },
    {
     "name": "stdout",
     "output_type": "stream",
     "text": [
      " Answers: Reviewing data carefully after entry ensures accurate analysis, interpretation, and effective communication of information that can lead to appropriate actions and evaluations.\n",
      "\n",
      "Keywords: data quality, analysis, interpretation, communication, action, evaluation.\n",
      "What types of analysis should be conducted on disease data?\n"
     ]
    },
    {
     "name": "stderr",
     "output_type": "stream",
     "text": [
      " 15%|█▍        | 74/499 [04:50<28:28,  4.02s/it]"
     ]
    },
    {
     "name": "stdout",
     "output_type": "stream",
     "text": [
      " Answers: Disease data should be analyzed by time, place, and person.\n",
      "Keywords: analyze data, time, place, person, Table 3.1, types of analysis, objectives, data display tools, methods, population, distribution, age group, sex, priority diseases, hypothesis, analytic study, case control studies, cohort studies, experimental studies.\n",
      "What should be included in a histogram showing data from case based forms or line lists?\n"
     ]
    },
    {
     "name": "stderr",
     "output_type": "stream",
     "text": [
      " 15%|█▌        | 75/499 [04:55<30:52,  4.37s/it]"
     ]
    },
    {
     "name": "stdout",
     "output_type": "stream",
     "text": [
      " Answers: A histogram showing data from case-based forms or line lists should include significant events marked on the graph, such as the onset of the first case, health facility notification, first case seen at the health facility, district investigation initiation, lab confirmation, response initiation, and district notification to higher levels. The number or rate of cases or deaths is placed on the vertical axis, while the time period being evaluated is placed along the horizontal axis.\n",
      "\n",
      "Keywords: histogram, case-based forms, line lists, significant events, onset of first case, health facility notification, first case seen, district investigation initiation, lab confirmation, response initiation, district notification, vertical axis, horizontal axis.\n",
      "In what way can histograms be used to draw epidemic curves?\n"
     ]
    },
    {
     "name": "stderr",
     "output_type": "stream",
     "text": [
      " 15%|█▌        | 76/499 [04:59<29:55,  4.24s/it]"
     ]
    },
    {
     "name": "stdout",
     "output_type": "stream",
     "text": [
      " Answers: Histograms can be used to draw epidemic curves by plotting cases according to the date of onset and demonstrating the progression of an outbreak over time.\n",
      "\n",
      "Keywords: histogram, epidemic curve, plot cases, date of onset, progression of outbreak.\n",
      "Is it possible to determine the incubation period from analysing outbreak data coming from case based forms of line lists?\n",
      " Answers: Yes, the shape of the epidemic curve derived from analyzing outbreak data can provide insights into the possible incubation period of an illness.\n",
      "\n",
      "Keywords: epidemic curve, incubation period, outbreak data, case based forms, line lists.\n"
     ]
    },
    {
     "name": "stderr",
     "output_type": "stream",
     "text": [
      " 15%|█▌        | 77/499 [05:02<27:28,  3.91s/it]"
     ]
    },
    {
     "name": "stdout",
     "output_type": "stream",
     "text": [
      "What information should be used to plot and describe clusters of cases on a map?\n"
     ]
    },
    {
     "name": "stderr",
     "output_type": "stream",
     "text": [
      " 16%|█▌        | 78/499 [05:06<26:26,  3.77s/it]"
     ]
    },
    {
     "name": "stdout",
     "output_type": "stream",
     "text": [
      " Answers: The place of residence or location of cases should be used to plot and describe clusters of cases on a map.\n",
      "\n",
      "Keywords: place analysis, case clustering, mapping, geographic information system (GIS), spot map.\n",
      "What sources of infection can be identified by analyzing data by place?\n"
     ]
    },
    {
     "name": "stderr",
     "output_type": "stream",
     "text": [
      " 16%|█▌        | 79/499 [05:09<24:51,  3.55s/it]"
     ]
    },
    {
     "name": "stdout",
     "output_type": "stream",
     "text": [
      " Answers: Analyzing data by place can identify common sources of infection for cases based on their geographic location.\n",
      "\n",
      "Keywords: geographic analysis, identifying sources of infection, place-based data analysis.\n",
      "What factors should be marked on a map during routine analysis of disease surveillance data?\n"
     ]
    },
    {
     "name": "stderr",
     "output_type": "stream",
     "text": [
      " 16%|█▌        | 80/499 [05:12<23:32,  3.37s/it]"
     ]
    },
    {
     "name": "stdout",
     "output_type": "stream",
     "text": [
      " Answers: Factors that should be marked on a map during routine analysis of disease surveillance data include the location of cases or outbreaks.\n",
      "\n",
      "Keywords: location, mark on map, routine analysis, disease surveillance data, cases, outbreaks.\n",
      "Looking at the guidelines for the analysis of an outbreak, comment on why recording location correctly is important?\n",
      " Answers: Recording the location correctly during an outbreak investigation is essential for defining the geographical boundaries and target population for conducting the investigation effectively. It helps in identifying the most affected place and ensures that critical information about risks associated with the outbreak can be shared with the community and key partners through communication procedures.\n",
      "\n",
      "Keywords: recording location, defining geographical boundaries, target population, most affected place, communication procedure, sharing critical information, outbreak investigation.\n"
     ]
    },
    {
     "name": "stderr",
     "output_type": "stream",
     "text": [
      " 16%|█▌        | 81/499 [05:16<24:36,  3.53s/it]"
     ]
    },
    {
     "name": "stdout",
     "output_type": "stream",
     "text": [
      "What variables should be compared in the analysis of cases by person?\n"
     ]
    },
    {
     "name": "stderr",
     "output_type": "stream",
     "text": [
      " 16%|█▋        | 82/499 [05:19<23:34,  3.39s/it]"
     ]
    },
    {
     "name": "stdout",
     "output_type": "stream",
     "text": [
      " Answers: The analysis of cases by person involves comparing the distribution of suspected and confirmed cases among different person variables, such as age group and sex.\n",
      "\n",
      "Keywords: compare distribution, person variables, age group, sex.\n",
      "Why is identifying numerators and denominators important in analyzing person data?\n"
     ]
    },
    {
     "name": "stderr",
     "output_type": "stream",
     "text": [
      " 17%|█▋        | 83/499 [05:23<25:10,  3.63s/it]"
     ]
    },
    {
     "name": "stdout",
     "output_type": "stream",
     "text": [
      " Answers: Identifying numerators and denominators is crucial in analyzing person data as they are required to calculate percentages and rates, providing valuable insights into the impact of a disease or health issue on a community or population.\n",
      "\n",
      "Keywords: identifying numerators and denominators, calculating percentages and rates, insight into impact of disease or health issue, community or population.\n",
      "How can simple percentages be used in disease surveillance analysis?\n"
     ]
    },
    {
     "name": "stderr",
     "output_type": "stream",
     "text": [
      " 17%|█▋        | 84/499 [05:26<24:59,  3.61s/it]"
     ]
    },
    {
     "name": "stdout",
     "output_type": "stream",
     "text": [
      " Answers: Simple percentages are used in disease surveillance analysis to compare information from populations of different sizes. They help clarify the situation by providing a proportion of specific events (such as number of cases or deaths) to the total population at risk.\n",
      "\n",
      "Keywords: simple percentages, comparing information, populations, size, specific events, population at risk, clarify situation.\n",
      "Can one assess health-seeking behavior by analyzing case fatality rate?\n"
     ]
    },
    {
     "name": "stderr",
     "output_type": "stream",
     "text": [
      " 17%|█▋        | 85/499 [05:30<24:18,  3.52s/it]"
     ]
    },
    {
     "name": "stdout",
     "output_type": "stream",
     "text": [
      " Answers: No, case fatality rate (CFR) is not an indicator of health-seeking behavior as it only reflects the proportion of cases that die from a specific disease, not how or when they sought treatment.\n",
      "\n",
      "Keywords: case fatality rate, health-seeking behavior, assessment, no relation.\n",
      "How can comparison of incidence numbers across facilities be used?\n"
     ]
    },
    {
     "name": "stderr",
     "output_type": "stream",
     "text": [
      " 17%|█▋        | 86/499 [05:33<24:18,  3.53s/it]"
     ]
    },
    {
     "name": "stdout",
     "output_type": "stream",
     "text": [
      " Answers: Comparing the incidence numbers of diseases across health facilities helps in understanding the impact of an illness on each facility. This information can be used by IDSR focal persons to identify areas with higher disease burden and allocate resources accordingly.\n",
      "\n",
      "Keywords: comparison, incidence numbers, health facilities, disease burden, IDSR focal person, resource allocation.\n",
      "How is the attack rate calculated?\n"
     ]
    },
    {
     "name": "stderr",
     "output_type": "stream",
     "text": [
      " 17%|█▋        | 87/499 [05:37<24:16,  3.54s/it]"
     ]
    },
    {
     "name": "stdout",
     "output_type": "stream",
     "text": [
      " Answers: The attack rate is calculated as the number of new cases in a population during a specified period, expressed per population at risk.\n",
      "\n",
      "Keywords: attack rate, frequency, morbidity, population at risk, specified period.\n",
      "How is the epidemic threshold for malaria determined in some countries?\n"
     ]
    },
    {
     "name": "stderr",
     "output_type": "stream",
     "text": [
      " 18%|█▊        | 88/499 [05:41<25:15,  3.69s/it]"
     ]
    },
    {
     "name": "stdout",
     "output_type": "stream",
     "text": [
      " Answers: The epidemic threshold for malaria in some countries is determined by using the 3rd quartile of confirmed malaria cases for the past 5 years as a reference, while the alert threshold is set at the 2nd quartile or median of confirmed malaria cases.\n",
      "\n",
      "Keywords: epidemic threshold, malaria, 3rd quartile, confirmed malaria cases, past 5 years.\n",
      "How does the periodic assessment of surveillance thresholds impact their use?\n"
     ]
    },
    {
     "name": "stderr",
     "output_type": "stream",
     "text": [
      " 18%|█▊        | 89/499 [05:44<23:12,  3.40s/it]"
     ]
    },
    {
     "name": "stdout",
     "output_type": "stream",
     "text": [
      " Answers: The periodic assessment of surveillance thresholds helps ensure their accuracy and effectiveness by identifying any changes in trends or the crossing of thresholds.\n",
      "\n",
      "Keywords: periodic assessment, surveillance thresholds, accuracy, effectiveness, trends, threshold crossing.\n",
      "Where can one find information on suggested thresholds for taking action in specific diseases or conditions?\n"
     ]
    },
    {
     "name": "stderr",
     "output_type": "stream",
     "text": [
      " 18%|█▊        | 90/499 [05:47<23:50,  3.50s/it]"
     ]
    },
    {
     "name": "stdout",
     "output_type": "stream",
     "text": [
      " Answers: The suggested thresholds for taking action in specific diseases or conditions can be found in Section 11.0 of the Malawi IDSR Technical Guidelines.\n",
      "\n",
      "Keywords: Section 11.0, Malawi IDSR Technical Guidelines, suggested thresholds, taking action, specific diseases or conditions.\n",
      "How are the suggested thresholds in the Malawi IDSR Technical Guidelines determined?\n"
     ]
    },
    {
     "name": "stderr",
     "output_type": "stream",
     "text": [
      " 18%|█▊        | 91/499 [05:51<24:53,  3.66s/it]"
     ]
    },
    {
     "name": "stdout",
     "output_type": "stream",
     "text": [
      " Answers: The Malawi IDSR Technical Guidelines suggest thresholds for action for priority diseases, conditions, public health events, and responding to alerts. These thresholds are determined by the guidelines themselves and are intended to be lifesaving.\n",
      "\n",
      "Keywords: Malawi IDSR Technical Guidelines, thresholds, action, priority diseases, conditions, public health events, responding to alerts, lifesaving.\n",
      "Who is the target audience for the suggested thresholds outlined in Section 11.0?\n"
     ]
    },
    {
     "name": "stderr",
     "output_type": "stream",
     "text": [
      " 18%|█▊        | 92/499 [05:54<23:41,  3.49s/it]"
     ]
    },
    {
     "name": "stdout",
     "output_type": "stream",
     "text": [
      " Answers: The target audience for the suggested thresholds outlined in Section 11.0 are trained health care personnel.\n",
      "\n",
      "Keywords: Section 11, trained health care personnel, thresholds, alert threshold, epidemic threshold.\n",
      "What should be done if a district's analysis plan has been prepared?\n"
     ]
    },
    {
     "name": "stderr",
     "output_type": "stream",
     "text": [
      " 19%|█▊        | 93/499 [05:58<24:31,  3.62s/it]"
     ]
    },
    {
     "name": "stdout",
     "output_type": "stream",
     "text": [
      " Answers: If a district's analysis plan has been prepared, systematically review the findings following the plan (Annex 3A). Correlate the analysis with other data sources, like from animals or the environment, for accurate interpretation of results.\n",
      "\n",
      "Keywords: analysis plan, review findings, data sources, animals, environment, interpretation.\n",
      "Why is it important to correlate analysis findings with other data sources?\n"
     ]
    },
    {
     "name": "stderr",
     "output_type": "stream",
     "text": [
      " 19%|█▉        | 94/499 [06:01<22:56,  3.40s/it]"
     ]
    },
    {
     "name": "stdout",
     "output_type": "stream",
     "text": [
      " Answers: Correlating analysis findings with other data sources is important for accurate interpretation of findings in public health surveillance.\n",
      "\n",
      "Keywords: accurate interpretation, analysis findings, other data sources, public health surveillance.\n",
      "What factors should be considered when interpreting results?\n"
     ]
    },
    {
     "name": "stderr",
     "output_type": "stream",
     "text": [
      " 19%|█▉        | 95/499 [06:05<23:23,  3.47s/it]"
     ]
    },
    {
     "name": "stdout",
     "output_type": "stream",
     "text": [
      " Answers: Factors to consider when interpreting results include correlating analysis with other data sources, reviewing findings following a district's analysis plan, and considering the quality of the data.\n",
      "\n",
      "Keywords: data sources, correlation, analysis plan, quality of data, interpret results.\n",
      "What factors should be considered when assessing changes in disease trends?\n"
     ]
    },
    {
     "name": "stderr",
     "output_type": "stream",
     "text": [
      " 19%|█▉        | 96/499 [06:09<24:44,  3.68s/it]"
     ]
    },
    {
     "name": "stdout",
     "output_type": "stream",
     "text": [
      " Answers: Factors to consider when assessing changes in disease trends include data validation, descriptive analysis by time, person, and place, morbidity indicators such as incidence and case fatality ratio, characterization of personal variables, and monitoring and evaluation of public health interventions.\n",
      "\n",
      "Keywords: data validation, descriptive analysis, morbidity indicators, incidence, case fatality ratio, personal variables, public health interventions.\n",
      "Why might there be a backlog of cases being reported?\n"
     ]
    },
    {
     "name": "stderr",
     "output_type": "stream",
     "text": [
      " 19%|█▉        | 97/499 [06:12<23:51,  3.56s/it]"
     ]
    },
    {
     "name": "stdout",
     "output_type": "stream",
     "text": [
      " Answers: A backlog of cases being reported can occur due to various reasons such as lack of timeliness or completeness of reports, confusion over reporting processes, or perceived negative consequences associated with reporting.\n",
      "Keywords: backlog, timeliness, completeness, reporting processes, negative consequences.\n",
      "Why is it important to correlate analysis findings with other data sources?\n"
     ]
    },
    {
     "name": "stderr",
     "output_type": "stream",
     "text": [
      " 20%|█▉        | 98/499 [06:15<22:25,  3.36s/it]"
     ]
    },
    {
     "name": "stdout",
     "output_type": "stream",
     "text": [
      " Answers: Correlating analysis findings with other data sources is important for accurate interpretation of findings in public health surveillance.\n",
      "\n",
      "Keywords: accurate interpretation, analysis findings, other data sources, public health surveillance.\n",
      "How can the quality of data be assessed during interpretation?\n"
     ]
    },
    {
     "name": "stderr",
     "output_type": "stream",
     "text": [
      " 20%|█▉        | 99/499 [06:19<23:36,  3.54s/it]"
     ]
    },
    {
     "name": "stdout",
     "output_type": "stream",
     "text": [
      " Answers: To ensure data quality during interpretation, regular data quality audits should be conducted at reporting sites using a standard approach. Factors affecting data quality need to be periodically checked, such as correct recording and reporting methods, and communication means for timely data transfer between levels.\n",
      "\n",
      "Keywords: data quality, periodic checks, data audits, standard approach, communication means, reporting sites, factors affecting data quality, correct recording, correct reporting.\n",
      "What factors affect the quality of the data?\n"
     ]
    },
    {
     "name": "stderr",
     "output_type": "stream",
     "text": [
      " 20%|██        | 100/499 [06:23<23:45,  3.57s/it]"
     ]
    },
    {
     "name": "stdout",
     "output_type": "stream",
     "text": [
      " Answers: Factors affecting data quality include missing data values, inconsistencies between linked data elements, arithmetic errors, obvious fluctuations, and the need for data input validation, maximum and minimum values, and validation rules.\n",
      "\n",
      "Keywords: data quality, missing data values, inconsistencies, arithmetic errors, validation, data input validation, maximum and minimum values, validation rules.\n",
      "How can the quality of data be ensured during data collection?\n"
     ]
    },
    {
     "name": "stderr",
     "output_type": "stream",
     "text": [
      " 20%|██        | 101/499 [06:26<23:03,  3.48s/it]"
     ]
    },
    {
     "name": "stdout",
     "output_type": "stream",
     "text": [
      " Answers: Ensuring fast communication means for the surveillance unit (facsimile, internet connection, telephone, text message, electronic mail, telegrams, personal messages), using a standard approach to recording and reporting at every level, conducting periodic checks on data quality, enhancing linkages to strengthen community-based surveillance, and establishing data validation teams to review reports periodically.\n",
      "\n",
      "Keywords: communication means, standard approach, periodic checks, data quality, linkages, data validation team, review reports.\n",
      "How can one ensure correct interpretation of outbreak data?\n",
      " Answers: To ensure correct interpretation of outbreak data, follow these steps during an investigation: summarize the outbreak, draw an epi curve, plot cases on a spot map, analyze and interpret data, and respond appropriately based on the severity of the outbreak.\n",
      "\n",
      "Keywords: summarize, epi curve, spot map, analyze, interpret, respond, outbreak investigation.\n"
     ]
    },
    {
     "name": "stderr",
     "output_type": "stream",
     "text": [
      " 20%|██        | 102/499 [06:30<23:19,  3.53s/it]"
     ]
    },
    {
     "name": "stdout",
     "output_type": "stream",
     "text": [
      "What sources of chance can occur that are relevant to outbreak analysis?\n",
      " Answers: Sources of chance in outbreak analysis include single suspected cases of dangerous diseases, reaching a defined threshold of cases in a community or area, appearance of a communicable disease not previously recognized in a population, and unusual clusters of illnesses or deaths.\n",
      "\n",
      "Keywords: single suspected case, dangerous diseases, defined threshold, population, communicable disease, unusual clusters, illnesses, deaths.\n"
     ]
    },
    {
     "name": "stderr",
     "output_type": "stream",
     "text": [
      " 21%|██        | 103/499 [06:34<23:54,  3.62s/it]"
     ]
    },
    {
     "name": "stdout",
     "output_type": "stream",
     "text": [
      "How should surveillance findings be summarized and shared?\n"
     ]
    },
    {
     "name": "stderr",
     "output_type": "stream",
     "text": [
      " 21%|██        | 104/499 [06:37<24:08,  3.67s/it]"
     ]
    },
    {
     "name": "stdout",
     "output_type": "stream",
     "text": [
      " Answers: Surveillance findings should be summarized in concise, action-oriented reports that can be shared with all stakeholders, including affected communities. Reports should include simple tables, graphs, and maps with clear descriptions, interpretations, comments, and recommendations.\n",
      "\n",
      "Keywords: surveillance findings, concise reports, share with stakeholders, simple tables, graphs, maps, clear descriptions, interpretations, comments, recommendations.\n",
      "Why is information sharing important in surveillance?\n"
     ]
    },
    {
     "name": "stderr",
     "output_type": "stream",
     "text": [
      " 21%|██        | 105/499 [06:42<25:04,  3.82s/it]"
     ]
    },
    {
     "name": "stdout",
     "output_type": "stream",
     "text": [
      " Answers: Information sharing is important in surveillance as it motivates staff, builds partnership, and facilitates coordination. It allows for the dissemination of analysis results and feedback on time, as outlined in Sections 7 and 8 of the Malawi IDSR TG (925).\n",
      "\n",
      "Keywords: information sharing, motivation, staff, partnership, transparency, analysis results, feedback, surveillance function, coordination, Malawi IDSR TG.\n",
      "Where can I find examples of information sharing during surveillance?\n"
     ]
    },
    {
     "name": "stderr",
     "output_type": "stream",
     "text": [
      " 21%|██        | 106/499 [06:45<23:31,  3.59s/it]"
     ]
    },
    {
     "name": "stdout",
     "output_type": "stream",
     "text": [
      " Answers: The Malawi IDSR TG provides examples of communication and feedback sharing in Sections 7 and 8. Annex 3A also includes a plan for routine analysis of surveillance information.\n",
      "\n",
      "Keywords: Malawi IDSR TG, communication, feedback sharing, Section 7 and 8, Annex 3A, routine analysis, surveillance information.\n",
      "What information should be included in a routine analysis plan for surveillance information?\n"
     ]
    },
    {
     "name": "stderr",
     "output_type": "stream",
     "text": [
      " 21%|██▏       | 107/499 [06:49<25:46,  3.95s/it]"
     ]
    },
    {
     "name": "stdout",
     "output_type": "stream",
     "text": [
      " Answers: A minimum routine analysis plan for surveillance information should include calculating completeness and timeliness of reporting, monitoring site reports, receiving, handling and storing data, identifying community representatives, preparing and analyzing weekly reports, maintaining a list of reporting sites, establishing a database of trained health care workers, ensuring an adequate supply of reporting tools, and using standard case definitions.\n",
      "\n",
      "Keywords: minimum plan, routine analysis, surveillance information, completeness, timeliness, monitoring, site reports, data handling, community representatives, weekly reports, list of reporting sites, database, trained health care workers, reporting tools, standard case definitions.\n",
      "How can completeness and timeliness of reporting be calculated and why is it important?\n"
     ]
    },
    {
     "name": "stderr",
     "output_type": "stream",
     "text": [
      " 22%|██▏       | 108/499 [06:54<27:54,  4.28s/it]"
     ]
    },
    {
     "name": "stdout",
     "output_type": "stream",
     "text": [
      " Answers: Completeness and timeliness of reporting can be calculated by measuring the proportion of reports submitted against the expected number of reports at each level, and identifying which reporting units have reported. Completeness refers to the proportion of reporting sites that submitted reports irrespective of the time when they were submitted. Timeliness is measured against standards developed by each country and includes immediate notification within 24 hours, weekly reporting, and monthly reporting.\n",
      "\n",
      "Keywords: completeness, reporting sites, expected number, timeliness, reporting units, identification, proportion, immediate notification, weekly reporting, monthly reporting, standards, WHO AFRO.\n",
      "Why is data validation and quality analysis essential in routine surveillance analysis?\n"
     ]
    },
    {
     "name": "stderr",
     "output_type": "stream",
     "text": [
      " 22%|██▏       | 109/499 [06:57<24:31,  3.77s/it]"
     ]
    },
    {
     "name": "stdout",
     "output_type": "stream",
     "text": [
      " Answers: Data validation and quality analysis are essential in routine surveillance analysis to ensure the accuracy, consistency, and reliability of data received from reporting sites.\n",
      "\n",
      "Keywords: data validation, quality analysis, accuracy, consistency, reliability, reporting sites.\n",
      "Where can an example of a product from an analysis plan for routine surveillance information be found?\n"
     ]
    },
    {
     "name": "stderr",
     "output_type": "stream",
     "text": [
      " 22%|██▏       | 110/499 [07:00<22:22,  3.45s/it]"
     ]
    },
    {
     "name": "stdout",
     "output_type": "stream",
     "text": [
      " Answers: The analysis plan for routine surveillance information, including examples, can be found in Annex 3A of the given booklet.\n",
      "\n",
      "Keywords: analysis plan, Annex 3A, routine surveillance information.\n",
      "What factors should be considered when making a line graph manually?\n"
     ]
    },
    {
     "name": "stderr",
     "output_type": "stream",
     "text": [
      " 22%|██▏       | 111/499 [07:04<24:03,  3.72s/it]"
     ]
    },
    {
     "name": "stdout",
     "output_type": "stream",
     "text": [
      " Answers: Decide what information you want to show on the graph, write a title, decide on vertical axis range and label it, label horizontal axis and mark time units, make bars of same width, mark number of cases on graph, connect points to show trend.\n",
      "\n",
      "Keywords: Information, Title, Vertical axis range, Label, Horizontal axis, Time units, Same width, Mark number of cases, Connect points, Trend.\n",
      "Why is it important to correlate analysis findings with other data sources?\n"
     ]
    },
    {
     "name": "stderr",
     "output_type": "stream",
     "text": [
      " 22%|██▏       | 112/499 [07:07<22:20,  3.46s/it]"
     ]
    },
    {
     "name": "stdout",
     "output_type": "stream",
     "text": [
      " Answers: Correlating analysis findings with other data sources is important for accurate interpretation of findings in public health surveillance.\n",
      "\n",
      "Keywords: accurate interpretation, analysis findings, other data sources, public health surveillance.\n",
      "How to draw a chart manually?\n"
     ]
    },
    {
     "name": "stderr",
     "output_type": "stream",
     "text": [
      " 23%|██▎       | 113/499 [07:12<24:47,  3.85s/it]"
     ]
    },
    {
     "name": "stdout",
     "output_type": "stream",
     "text": [
      " Answers: To create a line graph manually, decide on the information to display, write a descriptive title, determine the vertical axis range and label it, mark equal time units on the horizontal axis, make each bar or point the same width, mark cases or deaths on the graph, and connect points with lines to show trends.\n",
      "\n",
      "Keywords: line graph, create, decide information, title, vertical axis, horizontal axis, mark time units, make bars same width, mark cases/deaths, connect points with lines.\n",
      "Can you provide an overview of the content within Section 4 of the technical guidelines?\n"
     ]
    },
    {
     "name": "stderr",
     "output_type": "stream",
     "text": [
      " 23%|██▎       | 114/499 [07:15<23:02,  3.59s/it]"
     ]
    },
    {
     "name": "stdout",
     "output_type": "stream",
     "text": [
      " Answers: Section 4 of the technical guidelines focuses on data management, protection, and sustainability.\n",
      "\n",
      "Keywords: data management, protection, sustainability, guidelines, Section 4.\n",
      "What steps are involved in preparing for a response to outbreaks and public health events, according to Section 5?\n",
      " Answers: The preparation for responding to outbreaks and public health events involves designing coordination structures, building capacity for response staff, enhancing surveillance, strengthening case management and infection prevention and control measures, and participation from various stakeholders including the community, healthcare facilities, district personnel, private organizations, business entity association groups, traditional healers, food vendor associations, and others.\n",
      "\n",
      "Keywords: coordination structures, capacity building, response staff, surveillance, case management, infection prevention and control, participation, community, healthcare facilities, district personnel, private organizations, business entities, traditional healers, food vendor associations.\n"
     ]
    },
    {
     "name": "stderr",
     "output_type": "stream",
     "text": [
      " 23%|██▎       | 115/499 [07:20<25:50,  4.04s/it]"
     ]
    },
    {
     "name": "stdout",
     "output_type": "stream",
     "text": [
      "What annexes are included in Section 4, and what specific information do they provide?\n"
     ]
    },
    {
     "name": "stderr",
     "output_type": "stream",
     "text": [
      " 23%|██▎       | 116/499 [07:29<35:46,  5.60s/it]"
     ]
    },
    {
     "name": "stdout",
     "output_type": "stream",
     "text": [
      " Answers: Section 11 of the document includes various annexes for different disease investigations. The mentioned annexes are Annex 11A (Adverse event following immunization investigation form), Annex 11B (Acute Flaccid Paralysis case investigation form), Annex 11C (Cholera case-based investigation form), Annex 11D (Maternal and Perinatal death reporting forms), Annex 11E (Measles case investigation form), Annex 11F (Bacterial Meningitis case investigation form and Decisional tree for Meningitis Vaccine Choice in a Reactive Vaccination Campaign), Annex 11G (Neonatal Tetanus case investigation form), Annex 11H (Respiratory diseases, including Influenza, case investigation form), Annex 11I (Tuberculosis, MDR and XDR TB, case-based reporting form), and Annex 11J (Viral haemorrhagic fever case reporting form).\n",
      "\n",
      "Keywords: Section 11, annexes, Acute Flaccid Paralysis, Adverse event following immunization, Cholera, Maternal and Perinatal death, Measles, Bacterial Meningitis, Neonatal Tetanus, Respiratory diseases, Influenza, Tuberculosis, MDR and XDR TB, Viral haemorrhagic fever, investigation forms.\n",
      "How is the Third Edition of the IDSR technical guidelines intended to be utilized?\n",
      " Answers: The Third Edition of the IDSR technical guidelines is intended for utilization at the national level for implementing and improving Integrated Disease Surveillance and Response (IDSR) systems.\n",
      "\n",
      "Keywords: IDSR guidelines, national level, implement, improve, Integrated Disease Surveillance and Response.\n",
      "\n",
      "Detailed Keywords: The Third Edition of the IDSR technical guidelines provides functions such as monitoring performance indicators, updating graphs and tables, providing feedback to reporting sites, tracking progress of improvements, identifying problems, ensuring accountability, and conducting evaluations to ensure the effectiveness of the IDSR strategy.\n"
     ]
    },
    {
     "name": "stderr",
     "output_type": "stream",
     "text": [
      " 23%|██▎       | 117/499 [07:34<34:47,  5.46s/it]"
     ]
    },
    {
     "name": "stdout",
     "output_type": "stream",
     "text": [
      "What is an outbreak, as defined in Section 4.0?\n",
      " Answers: An outbreak is an increase in the number of cases of a disease or event above what is normally expected in a given population and area over a specific period of time.\n",
      "\n",
      "Keywords: increase, cases, disease, population, area, period, unexpected.\n"
     ]
    },
    {
     "name": "stderr",
     "output_type": "stream",
     "text": [
      " 24%|██▎       | 118/499 [07:37<29:07,  4.59s/it]"
     ]
    },
    {
     "name": "stdout",
     "output_type": "stream",
     "text": [
      "What is the purpose of an outbreak investigation, according to Section 4?\n",
      " Answers: The purpose of an outbreak investigation, according to Section 4, is to verify the outbreak or public health event and risk, identify and treat additional cases, collect information and laboratory specimens for confirming the diagnosis, identify the source of infection or cause of the outbreak, describe the epidemiological situation in time, place and person, and control the outbreak to reduce morbidity and mortality.\n",
      "\n",
      "Keywords: verify outbreak, public health event, risk assessment, identify cases, collect information, laboratory specimens, source of infection, control measures, morbidity, mortality.\n"
     ]
    },
    {
     "name": "stderr",
     "output_type": "stream",
     "text": [
      " 24%|██▍       | 119/499 [07:41<28:43,  4.54s/it]"
     ]
    },
    {
     "name": "stdout",
     "output_type": "stream",
     "text": [
      "How is an outbreak defined in Section 4.0?\n",
      " Answers: An outbreak is defined as an increase in the number of cases of a disease or an event above what is normally expected in a given population or area over a particular period of time.\n",
      "\n",
      "Keywords: increase, cases, disease, population, area, period, unexpected.\n"
     ]
    },
    {
     "name": "stderr",
     "output_type": "stream",
     "text": [
      " 24%|██▍       | 120/499 [07:43<24:31,  3.88s/it]"
     ]
    },
    {
     "name": "stdout",
     "output_type": "stream",
     "text": [
      "What are the purposes of an outbreak investigation, according to Section 4.0?\n",
      " Answers: The purposes of an outbreak investigation include verifying the outbreak or public health event and risk, identifying and treating additional cases, collecting information and laboratory specimens for confirming the diagnosis, identifying the source of infection or cause of the outbreak, describing the epidemiological situation, and controlling the outbreak to reduce morbidity and mortality.\n",
      "\n",
      "Keywords: verify outbreak, identify exposed people, collect information, confirm diagnosis, identify source, control outbreak, reduce morbidity, mortality.\n"
     ]
    },
    {
     "name": "stderr",
     "output_type": "stream",
     "text": [
      " 24%|██▍       | 121/499 [07:47<24:35,  3.90s/it]"
     ]
    },
    {
     "name": "stdout",
     "output_type": "stream",
     "text": [
      "What should be done after verification of suspected outbreaks or events?\n"
     ]
    },
    {
     "name": "stderr",
     "output_type": "stream",
     "text": [
      " 24%|██▍       | 122/499 [07:50<22:47,  3.63s/it]"
     ]
    },
    {
     "name": "stdout",
     "output_type": "stream",
     "text": [
      " Answers: After verification of suspected outbreaks or events, investigate and confirm the cases, gather evidence about potential causes from non-human sources and use it to select appropriate control and prevention strategies. Socio-demographic factors should also be collected and used to tailor locally appropriate responses and risk communication.\n",
      "\n",
      "Keywords: verify, investigate, confirm cases, gather evidence, control and prevention strategies, socio-demographic factors, risk communication.\n",
      "What is the significance of the District Public Health Emergency Rapid Response Team (PHERRT)?\n",
      " Answers: The District Public Health Emergency Rapid Response Team (PHERRT) is a multi-disciplinary team readily available for quick mobilization and deployment to investigate and respond to public health emergencies at the district level.\n",
      "\n",
      "Keywords: District Public Health Emergency Rapid Response Team, investigation, response, public health emergencies, multi-disciplinary team, quick mobilization, deployment.\n"
     ]
    },
    {
     "name": "stderr",
     "output_type": "stream",
     "text": [
      " 25%|██▍       | 123/499 [07:54<23:18,  3.72s/it]"
     ]
    },
    {
     "name": "stdout",
     "output_type": "stream",
     "text": [
      "How does Section 4.1.1 recommend preparing for an outbreak investigation?\n",
      " Answers: Prepare a communication procedure for sharing critical information about risks associated with an outbreak or event, and define geographical boundaries and target population based on existing knowledge of the suspected outbreak or public health event.\n",
      "\n",
      "Keywords: communication procedure, critical information, geographical boundaries, target population, outbreak investigation, existing knowledge\n"
     ]
    },
    {
     "name": "stderr",
     "output_type": "stream",
     "text": [
      " 25%|██▍       | 124/499 [07:58<22:28,  3.60s/it]"
     ]
    },
    {
     "name": "stdout",
     "output_type": "stream",
     "text": [
      "What functions does the District Public Health Emergency Rapid Response Team (PHERRT) serve?\n",
      " Answers: The District Public Health Emergency Rapid Response Team (PHERRT) is a technical, multi-disciplinary team available for quick mobilization and deployment to support the field response to suspected or confirmed outbreaks or events. They investigate rumors and reported outbreaks, verify diagnoses, and perform laboratory testing.\n",
      "\n",
      "Keywords: District Public Health Emergency Rapid Response Team (PHERRT), technical team, multi-disciplinary, quick mobilization, deployment, investigate rumors, reported outbreaks, verify diagnoses, laboratory testing.\n"
     ]
    },
    {
     "name": "stderr",
     "output_type": "stream",
     "text": [
      " 25%|██▌       | 125/499 [08:02<24:10,  3.88s/it]"
     ]
    },
    {
     "name": "stdout",
     "output_type": "stream",
     "text": [
      "What are the key elements to include in terms of reference for the PHERRT?\n",
      " Answers: The key elements to include in feedback for a Public Health Emergency Response Readiness Test (PHERRT) are providing a report, specifying objectives, mentioning achievements, identifying reasons for differences between planned and actual outcomes, assuring recipient understanding, basing feedback on reports or field observations, and giving feedback as soon as feasible.\n",
      "\n",
      "Keywords: report, feedback, PHERRT, objectives, achievements, differences, recipient, understanding, observations, field visit, feasible.\n"
     ]
    },
    {
     "name": "stderr",
     "output_type": "stream",
     "text": [
      " 25%|██▌       | 126/499 [08:06<24:08,  3.88s/it]"
     ]
    },
    {
     "name": "stdout",
     "output_type": "stream",
     "text": [
      "Why does Section 4.1.1 suggest having a database of trained public health workers?\n"
     ]
    },
    {
     "name": "stderr",
     "output_type": "stream",
     "text": [
      " 25%|██▌       | 127/499 [08:10<24:04,  3.88s/it]"
     ]
    },
    {
     "name": "stdout",
     "output_type": "stream",
     "text": [
      " Answers: Section 4.1.1 suggests having a database of trained public health workers to coordinate training opportunities between disease programs, taking advantage of overlapping skills. This helps in deciding whether it's an initial or refresher training, ensuring effective use of resources and skills.\n",
      "\n",
      "Keywords: database, trained public health workers, coordination, skills, training opportunities, decision making, resource utilization.\n",
      "What is the significance of developing terms of reference for the PHERRT?\n",
      " Answers: Developing terms of reference for the Public Health Emergency Risk Communication and Community Engagement (PHERRT) is important for ensuring effective and appropriate communication during public health events. This includes acknowledging uncertainty, linking to self-efficacy, disseminating messages through multiple channels, involving trusted community members in decision-making, making timely announcements and ensuring transparency, establishing a mechanism for continuous collation of facts and figures, relevance in communication, pre-testing messages, and quickly responding to rumors.\n",
      "\n",
      "Keywords: acknowledging uncertainty, self-efficacy, disseminating messages, community involvement, timely announcements, transparency, fact collation, relevant communication, pre-testing messages, rumor response.\n"
     ]
    },
    {
     "name": "stderr",
     "output_type": "stream",
     "text": [
      " 26%|██▌       | 128/499 [08:15<25:47,  4.17s/it]"
     ]
    },
    {
     "name": "stdout",
     "output_type": "stream",
     "text": [
      "What role does the national level play in supporting district-level outbreak investigations?\n",
      " Answers: The national level provides technical support and policy guidance to districts during outbreak investigations.\n",
      "\n",
      "Keywords: national level, technical support, policy guidance, outbreak investigations.\n"
     ]
    },
    {
     "name": "stderr",
     "output_type": "stream",
     "text": [
      " 26%|██▌       | 129/499 [08:18<23:17,  3.78s/it]"
     ]
    },
    {
     "name": "stdout",
     "output_type": "stream",
     "text": [
      "How does Section 4.1.7 advise on arranging transportation and other logistics for an outbreak investigation?\n",
      " Answers: Section 4.1.7 advises making travel arrangements for reaching and leaving the investigation site, as well as arranging transportation for moving specimens to laboratories in advance. Other logistics like medical supplies, vaccines, and PPEs should also be available.\n",
      "\n",
      "Keywords: travel arrangements, transportation, specimen transportation, medical supplies, vaccines, PPEs\n"
     ]
    },
    {
     "name": "stderr",
     "output_type": "stream",
     "text": [
      " 26%|██▌       | 130/499 [08:22<23:21,  3.80s/it]"
     ]
    },
    {
     "name": "stdout",
     "output_type": "stream",
     "text": [
      "What does Section 4.1.8 recommend regarding gathering supplies for collecting laboratory specimens?\n",
      " Answers: Section 4.1.8 recommends gathering necessary supplies for collecting laboratory specimens, such as sterile needles, syringes, Vacutainers, test tubes, antiseptic skin disinfectant, tourniquets, transport tubes, transport media, blood films, swabs, viral transport medium, cerebrospinal fluid collection materials, local anaesthetic, and safety equipment.\n",
      "\n",
      "Keywords: supplies, laboratory specimens, sterile needles, syringes, Vacutainers, test tubes, antiseptic skin disinfectant, tourniquets, transport tubes, transport media, blood films, swabs, viral transport medium, cerebrospinal fluid, local anaesthetic, safety equipment.\n"
     ]
    },
    {
     "name": "stderr",
     "output_type": "stream",
     "text": [
      " 26%|██▋       | 131/499 [08:28<27:44,  4.52s/it]"
     ]
    },
    {
     "name": "stdout",
     "output_type": "stream",
     "text": [
      "What are the triggers for conducting an investigation?\n",
      " Answers: The triggers for conducting a public health investigation include verification of an outbreak or event, identification and treatment of additional cases, collection of information and laboratory specimens, identifying the source of infection or cause, describing the epidemiological situation, and having a communication procedure in place.\n",
      "\n",
      "Keywords: verification, outbreak, event, identification, treatment, collection, source, epidemiological situation, communication procedure.\n"
     ]
    },
    {
     "name": "stderr",
     "output_type": "stream",
     "text": [
      " 26%|██▋       | 132/499 [08:31<26:05,  4.26s/it]"
     ]
    },
    {
     "name": "stdout",
     "output_type": "stream",
     "text": [
      "Why should reported outbreaks, public health events, and alerts be recorded?\n"
     ]
    },
    {
     "name": "stderr",
     "output_type": "stream",
     "text": [
      " 27%|██▋       | 133/499 [08:35<24:53,  4.08s/it]"
     ]
    },
    {
     "name": "stdout",
     "output_type": "stream",
     "text": [
      " Answers: Reported outbreaks, public health events, and alerts should be recorded to enable timely detection and response to potential health threats, build trust and transparency in the exchange of information, and promote outbreak control and mitigate disruption to society.\n",
      "\n",
      "Keywords: record, detect, response, potential health threats, trust, transparency, exchange information, outbreak communication, promote outbreak control, mitigate disruption, society.\n",
      "What does paragraph 253 recommend regarding communication lines during an investigation?\n",
      " Answers: Paragraph 253 recommends making a communication plan for an investigation team, preparing a diagram showing reporting lines and methods, defining roles of staff and non-health workers, and stating methods and frequency of communication during an outbreak.\n",
      "\n",
      "Keywords: communication plan, reporting lines, methods, frequencies, investigation team, roles, staff, non-health workers.\n"
     ]
    },
    {
     "name": "stderr",
     "output_type": "stream",
     "text": [
      " 27%|██▋       | 134/499 [08:39<24:13,  3.98s/it]"
     ]
    },
    {
     "name": "stdout",
     "output_type": "stream",
     "text": [
      "Why is it important to observe appropriate authorizations during an investigation?\n",
      " Answers: It is essential to have clear communication procedures during an investigation, including defining supervision and communication lines, to ensure the sharing of critical information about identifying and responding to risks associated with the outbreak or event.\n",
      "\n",
      "Keywords: communication procedures, sharing critical information, defining supervision and communication lines, outbreak risks.\n"
     ]
    },
    {
     "name": "stderr",
     "output_type": "stream",
     "text": [
      " 27%|██▋       | 135/499 [08:42<22:22,  3.69s/it]"
     ]
    },
    {
     "name": "stdout",
     "output_type": "stream",
     "text": [
      "How can an outbreak or event be verified and confirmed?\n"
     ]
    },
    {
     "name": "stderr",
     "output_type": "stream",
     "text": [
      " 27%|██▋       | 136/499 [08:46<22:58,  3.80s/it]"
     ]
    },
    {
     "name": "stdout",
     "output_type": "stream",
     "text": [
      " Answers: To verify and confirm an outbreak or event, investigate the reported information by considering its accuracy and suggesting conditions of a true outbreak or event. Steps include investigating and confirming suspected cases through epidemiological investigation and laboratory confirmation. Gather evidence from various sources such as animals, environment, and social factors to select appropriate control and prevention strategies.\n",
      "\n",
      "Keywords: verify, reported information, investigate, accuracy, conditions, outbreak, event, epidemiological investigation, laboratory confirmation, evidence, sources, control, prevention, strategies.\n",
      "What information should be examined to confirm the signs and symptoms of cases in an outbreak?\n",
      " Answers: To confirm the signs and symptoms of cases in an outbreak, review and examine relevant information such as case reports, laboratory test results, and epidemiological data.\n",
      "\n",
      "Keywords: case reports, laboratory test results, epidemiological data, confirm signs and symptoms, outbreak investigation.\n"
     ]
    },
    {
     "name": "stderr",
     "output_type": "stream",
     "text": [
      " 27%|██▋       | 137/499 [08:49<21:27,  3.56s/it]"
     ]
    },
    {
     "name": "stdout",
     "output_type": "stream",
     "text": [
      "What questions should be asked to gather information about a patient's background and contacts during an outbreak investigation?\n",
      " Answers: To gather information about a patient's background and contacts during an outbreak investigation, the following questions should be asked: Where do you live? When did symptoms begin? Who else is sick in your home, school, workplace, village, or neighborhood? Have you travelled to any recent locations? Where have you been living recently prior to the onset of symptoms? Were you visited by anyone recently? Who took care of you when you started feeling sick? Have you been in contact with sick or dead persons or animals (both domestic and wildlife)? For suspected food-borne or water-borne outbreaks, what food did you take recently and how many others consumed it? What was the source of your water?\n",
      "\n",
      "Keywords: patient background, contacts investigation, symptoms onset, sick persons, dead persons, food borne, water borne, travel history, residence at time of infection, visited by anyone, took care of patient.\n"
     ]
    },
    {
     "name": "stderr",
     "output_type": "stream",
     "text": [
      " 28%|██▊       | 138/499 [08:55<26:53,  4.47s/it]"
     ]
    },
    {
     "name": "stdout",
     "output_type": "stream",
     "text": [
      "What precautions are recommended during the verification and confirmation process?\n"
     ]
    },
    {
     "name": "stderr",
     "output_type": "stream",
     "text": [
      " 28%|██▊       | 139/499 [09:00<27:45,  4.63s/it]"
     ]
    },
    {
     "name": "stdout",
     "output_type": "stream",
     "text": [
      " Answers: During a supervisory visit, a district surveillance officer should verify that health facility registers have correct case diagnoses and filled-out columns, compare laboratory records for priority diseases with reported cases, and ensure proper record keeping for laboratory results. Communication with national and international laboratories, support for infrastructure and supplies, and quality assurance programs are also important.\n",
      "\n",
      "Keywords: verify, health facility registers, case diagnoses, filled-out columns, compare, laboratory records, priority diseases, proper record keeping, communication, national laboratories, support, infrastructure, supplies, quality assurance programs.\n",
      "How can the verification and confirmation of an outbreak or event be initiated?\n",
      " Answers: When a suspected outbreak or event is reported, initiate verification by considering the accuracy and conditions suggesting a true outbreak or event. Factors to consider include the number of cases, unusual patterns or clusters, and reported causes that are not explained or are unusual.\n",
      "\n",
      "Keywords: suspect outbreak, report verification, accuracy, conditions, resources, factors, number of cases, unusual patterns, clusters, reported causes.\n"
     ]
    },
    {
     "name": "stderr",
     "output_type": "stream",
     "text": [
      " 28%|██▊       | 140/499 [09:04<25:56,  4.34s/it]"
     ]
    },
    {
     "name": "stdout",
     "output_type": "stream",
     "text": [
      "In cases of suspected AEFIs, what information should be gathered regarding vaccines?\n"
     ]
    },
    {
     "name": "stderr",
     "output_type": "stream",
     "text": [
      " 28%|██▊       | 141/499 [09:07<23:50,  3.99s/it]"
     ]
    },
    {
     "name": "stdout",
     "output_type": "stream",
     "text": [
      " Answers: Gather information about the vaccine and other drugs potentially received in relation to suspected adverse events following immunization (AEFIs).\n",
      "\n",
      "Keywords: vaccine, drugs, AEFIs, investigation, gather information.\n",
      "Why is it important to ask about recent food consumption during a foodborne outbreak investigation?\n"
     ]
    },
    {
     "name": "stderr",
     "output_type": "stream",
     "text": [
      " 28%|██▊       | 142/499 [09:10<22:00,  3.70s/it]"
     ]
    },
    {
     "name": "stdout",
     "output_type": "stream",
     "text": [
      " Answers: Asking about recent food consumption during a foodborne outbreak investigation helps identify common sources of contaminated food, enabling prompt identification and response to prevent further cases.\n",
      "\n",
      " Keywords: foodborne outbreak investigation, identify common sources, contaminated food, prompt identification, prevent further cases.\n",
      "What is the recommended approach to personal protective equipment (PPE) during the verification and confirmation process?\n",
      " Answers: The recommended approach to PPE during the verification and confirmation process involves putting on a coverall with thumb hole or loop, face mask, face protection (either face shield or goggles), head covering (surgical bonnet or hood), disposable waterproof apron, outer gloves, and performing a self-check in a mirror. One should also check their buddy and write their name, occupation, and time of entry. PPE should be removed under the guidance and supervision of a trained observer. Used water should be collected in a basin and discarded in a latrine if a drain is not available.\n",
      "\n",
      "Keywords: coverall, face mask, face protection, head covering, disposable waterproof apron, outer gloves, self-check, buddy check, PPE removal, used water disposal.\n"
     ]
    },
    {
     "name": "stderr",
     "output_type": "stream",
     "text": [
      " 29%|██▊       | 143/499 [09:17<27:21,  4.61s/it]"
     ]
    },
    {
     "name": "stdout",
     "output_type": "stream",
     "text": [
      "What is the significance of defining a case during an outbreak investigation?\n",
      " Answers: Defining a case during an outbreak investigation is significant because it helps in identifying, treating, and controlling the spread of the disease. It provides relevant information for taking immediate action and improving longer-term disease prevention activities.\n",
      "\n",
      "Keywords: identify cases, investigate outbreak, control spread, take action, disease prevention.\n"
     ]
    },
    {
     "name": "stderr",
     "output_type": "stream",
     "text": [
      " 29%|██▉       | 144/499 [09:21<25:19,  4.28s/it]"
     ]
    },
    {
     "name": "stdout",
     "output_type": "stream",
     "text": [
      "Where can standard case definitions for most IDSR priority diseases be found?\n"
     ]
    },
    {
     "name": "stderr",
     "output_type": "stream",
     "text": [
      " 29%|██▉       | 145/499 [09:24<23:17,  3.95s/it]"
     ]
    },
    {
     "name": "stdout",
     "output_type": "stream",
     "text": [
      " Answers: The standard case definitions for IDSR priority diseases can be found in Section 11 of the TG Booklet 6.\n",
      "\n",
      "Keywords: IDSR, priority diseases, standard case definitions, Section 11, TG Booklet 6.\n",
      "When encountering a new disease, what should be done to establish a case definition?\n"
     ]
    },
    {
     "name": "stderr",
     "output_type": "stream",
     "text": [
      " 29%|██▉       | 146/499 [09:28<23:15,  3.95s/it]"
     ]
    },
    {
     "name": "stdout",
     "output_type": "stream",
     "text": [
      " Answers: To establish a case definition for a new disease, agreed-upon criteria should be decided upon, specifying clinical features, laboratory diagnosis, time, place, and person. This helps ensure consistent diagnosis, facilitate rapid detection, and enable reporting and investigation.\n",
      "\n",
      " Keywords: agree-upon criteria, clinical features, laboratory diagnosis, time, place, person, consistent diagnosis, rapid detection, reporting, investigation.\n",
      "What are the common elements of a case definition that need to be included?\n"
     ]
    },
    {
     "name": "stderr",
     "output_type": "stream",
     "text": [
      " 29%|██▉       | 147/499 [09:30<20:32,  3.50s/it]"
     ]
    },
    {
     "name": "stdout",
     "output_type": "stream",
     "text": [
      " Answers: A standard case definition includes agreed-upon criteria for deciding if a person has a suspected disease or condition, specifying clinical symptoms, laboratory diagnosis, time, place, and person. It helps ensure consistent diagnosis and facilitates rapid detection and reporting.\n",
      "\n",
      "Keywords: agreed-upon criteria, clinical symptoms, laboratory diagnosis, time, place, person, consistent diagnosis, rapid detection, reporting.\n",
      "What is the importance of searching for additional cases after the initial ones have been confirmed and treatment initiated?\n",
      " Answers: Searching for additional cases after the initial ones have been confirmed and treatment initiated is important to prevent the spread of diseases or conditions being investigated. This can be done by reviewing health facility records, looking for other patients with similar signs and symptoms, and following up on reported unusual events or occurrences.\n",
      "\n",
      "Keywords: search for additional cases, health facility records, similar signs and symptoms, prevent spread of diseases, review health facility records, follow up on reported events.\n"
     ]
    },
    {
     "name": "stderr",
     "output_type": "stream",
     "text": [
      " 30%|██▉       | 148/499 [09:34<21:03,  3.60s/it]"
     ]
    },
    {
     "name": "stdout",
     "output_type": "stream",
     "text": [
      "Which guidelines should be followed to manage cases in isolation during an outbreak?\n"
     ]
    },
    {
     "name": "stderr",
     "output_type": "stream",
     "text": [
      " 30%|██▉       | 149/499 [09:39<24:00,  4.11s/it]"
     ]
    },
    {
     "name": "stdout",
     "output_type": "stream",
     "text": [
      " Answers: Isolate and treat cases as necessary using standard case management and infection prevention and control guidelines. Search for additional cases and conduct community education about infection control. Ensure access to facilities like water and sanitary facilities for isolated cases. Mobilize the community for early detection and care of cases. Conduct case contact follow-up and active searches for additional cases. Provide psychosocial support for family, community, and staff. Establish isolation ward to handle additional cases. Quarantine high-risk contacts during incubation period.\n",
      "\n",
      "Keywords: Isolate, treat, cases, standard guidelines, search, community education, facilities, mobilize, quarantine, psychosocial support, isolation ward, high-risk contacts.\n",
      "Where should the search for contact persons and suspected deaths in the community be conducted?\n",
      " Answers: Conduct the search for contact persons and suspected deaths in the most affected place within the defined geographical boundaries of the outbreak or event.\n",
      "\n",
      "Keywords: most affected place, geographical boundaries, conducting investigation, search for contact persons, search for suspected deaths.\n"
     ]
    },
    {
     "name": "stderr",
     "output_type": "stream",
     "text": [
      " 30%|███       | 150/499 [09:42<22:12,  3.82s/it]"
     ]
    },
    {
     "name": "stdout",
     "output_type": "stream",
     "text": [
      "Compare the methods for communicating during an outbreak with the community and key partners.\n",
      " Answers: Communication methods during an outbreak include press releases, press conferences, television and radio messages, meetings, educational and communication materials, multi-media presentations, site visits, fax, social media, SMS, telephone, hand-carried message, community drama groups, and WHO resources.\n",
      "\n",
      "Keywords: press releases, press conferences, television and radio messages, meetings, educational and communication materials, multi-media presentations, social media, SMS, telephone, hand-carried message, community drama groups, WHO resources.\n",
      "\n",
      "During an outbreak, effective communication with the community and key partners is essential to ensure a functional link between health and community partners. Communication methods range from traditional options like press releases and meetings to modern technologies such as social media and SMS. Establishing routine communication structures and processes helps maintain trust and promote outbreak control while minimizing disruption to society. Proactive communication plays a crucial role in supporting rapid response, increasing surveillance of potential cases, adopting protective behaviors, and ultimately saving lives.\n"
     ]
    },
    {
     "name": "stderr",
     "output_type": "stream",
     "text": [
      " 30%|███       | 151/499 [09:49<27:09,  4.68s/it]"
     ]
    },
    {
     "name": "stdout",
     "output_type": "stream",
     "text": [
      "Why is it important to record information on a line list register for each new case during an outbreak investigation?\n",
      " Answers: Recording information on a line list register for each new case during an outbreak investigation is important to keep track of pertinent basic data for cases and potential cases as they are identified. It helps maintain consistency and harmonization of data, ensure update of information on laboratory results, and minimize further transmission by facilitating epidemiological field investigations.\n",
      "\n",
      "Keywords: line list register, tracking data, outbreak investigation, consistency, harmonization, laboratory results, epidemiological field investigation.\n"
     ]
    },
    {
     "name": "stderr",
     "output_type": "stream",
     "text": [
      " 30%|███       | 152/499 [09:53<26:04,  4.51s/it]"
     ]
    },
    {
     "name": "stdout",
     "output_type": "stream",
     "text": [
      "What information should be recorded on a \"case based surveillance reporting form\" for each new case during an outbreak investigation?\n",
      " Answers: Information that should be recorded on a \"case based surveillance reporting form\" for each new case during an outbreak investigation includes relevant risk factor information such as immunization status and occupation, the name and designation of the person reporting the information, and completion of the case based surveillance form and recording the details on the line list.\n",
      "\n",
      "Keywords: case based surveillance reporting form, new cases, outbreak investigation, relevant risk factor information, immunization status, occupation, name and designation, complete case based surveillance form, record details on line list.\n"
     ]
    },
    {
     "name": "stderr",
     "output_type": "stream",
     "text": [
      " 31%|███       | 153/499 [09:57<25:29,  4.42s/it]"
     ]
    },
    {
     "name": "stdout",
     "output_type": "stream",
     "text": [
      "Where can you find detailed forms for investigating specific diseases during an outbreak?\n",
      " Answers: You can find detailed forms for investigating specific diseases during an outbreak in the outbreak investigation reports and laboratory reports mentioned in the data.\n",
      "\n",
      "Keywords: outbreak investigation reports, laboratory reports, detailed forms, investigating diseases.\n"
     ]
    },
    {
     "name": "stderr",
     "output_type": "stream",
     "text": [
      " 31%|███       | 154/499 [10:01<23:09,  4.03s/it]"
     ]
    },
    {
     "name": "stdout",
     "output_type": "stream",
     "text": [
      "Contrast the information recorded in the line list register and the sample line list register (Annex 4E) during an outbreak investigation.\n"
     ]
    },
    {
     "name": "stderr",
     "output_type": "stream",
     "text": [
      " 31%|███       | 155/499 [10:06<24:51,  4.34s/it]"
     ]
    },
    {
     "name": "stdout",
     "output_type": "stream",
     "text": [
      " Answers: The line list register is a primary data collection tool used during an outbreak investigation to capture relevant information from each reported case for analysis and response activities. It should be updated regularly and maintained where there is a suspected outbreak or isolation unit. The sample line list, also found in Annex 4E, serves as a sample of the information required for each case in the line list register.\n",
      "\n",
      "Keywords: line list register, data collection tool, primary data, capture relevant information, analysis, response activities, regularly updated, suspected outbreak, isolation unit, sample line list, Annex 4E, information required.\n",
      "What is the purpose of calculating case fatality rates during an outbreak situation?\n"
     ]
    },
    {
     "name": "stderr",
     "output_type": "stream",
     "text": [
      " 31%|███▏      | 156/499 [10:10<24:52,  4.35s/it]"
     ]
    },
    {
     "name": "stdout",
     "output_type": "stream",
     "text": [
      " Answers: Calculating case fatality rates during an outbreak situation helps measure the effectiveness of public health programs in ensuring prompt detection and good quality case management, reducing the case fatality rate as a target for measuring outbreak response success.\n",
      "\n",
      "Keywords: calculate, case fatality rate, outbreak situation, public health programs, prompt detection, good quality case management, reduce, case fatality rate, target, measuring, effectiveness.\n",
      "How can the shape of an epidemic curve offer insights into the outbreak?\n",
      " Answers: The shape of an epidemic curve can provide valuable insights into the nature and spread of an outbreak by revealing information about exposure to the causal agent, the source of infection, and the incubation period.\n",
      "\n",
      "Keywords: epidemic curve, shape, exposure, source of infection, incubation period.\n"
     ]
    },
    {
     "name": "stderr",
     "output_type": "stream",
     "text": [
      " 31%|███▏      | 157/499 [10:14<24:04,  4.22s/it]"
     ]
    },
    {
     "name": "stdout",
     "output_type": "stream",
     "text": [
      "When conducting analytic studies, what are some possible study designs to test hypotheses about the outbreak causes?\n",
      " Answers: Some possible study designs for testing hypotheses about outbreak causes in analytic studies include case-control studies, cohort studies, or experimental studies.\n",
      "\n",
      "Keywords: case-control studies, cohort studies, experimental studies, hypothesis testing, analytic studies, outbreak investigation.\n"
     ]
    },
    {
     "name": "stderr",
     "output_type": "stream",
     "text": [
      " 32%|███▏      | 158/499 [10:18<23:17,  4.10s/it]"
     ]
    },
    {
     "name": "stdout",
     "output_type": "stream",
     "text": [
      "Compare and contrast the shapes of epidemic curves and their possible interpretations.\n",
      " Answers: Epidemic curves are graphs used to represent the number of cases of an illness over time. The shape of the curve can provide insights into the manner of spread and the possible interpretation includes: a series of progressively taller peaks separated by periods of incubation indicates person-to-person transmission, a sudden increase followed by a rapid descent suggests exposure to the causal agent was probably over a brief period of time with a common source of infection, and a plateau shape implies exposure is more likely to be over a long period of time.\n",
      "\n",
      "Keywords: epidemic curves, shapes, person-to-person transmission, sudden increase, common source of infection, long period of time.\n"
     ]
    },
    {
     "name": "stderr",
     "output_type": "stream",
     "text": [
      " 32%|███▏      | 159/499 [10:24<26:07,  4.61s/it]"
     ]
    },
    {
     "name": "stdout",
     "output_type": "stream",
     "text": [
      "Contrast the purposes of time, place, and person analyses during an outbreak investigation.\n"
     ]
    },
    {
     "name": "stderr",
     "output_type": "stream",
     "text": [
      " 32%|███▏      | 160/499 [10:27<24:31,  4.34s/it]"
     ]
    },
    {
     "name": "stdout",
     "output_type": "stream",
     "text": [
      " Answers: During an outbreak investigation, time analysis helps detect abrupt or long-term changes in disease occurrence and identify seasonality, while place analysis identifies where cases are occurring to find high-risk areas or populations at risk. Person analysis focuses on the persons affected by the outbreak.\n",
      "\n",
      "Keywords: time analysis, detect changes, seasonality, place analysis, identify locations, person analysis, populations at risk.\n",
      "Why is it important to compare age groups in outbreak investigations, and how can this information be used for interventions?\n",
      " Answers: In outbreak investigations, comparing age groups is essential as it helps identify high-risk groups for disease transmission. This information is crucial for planning interventions, such as targeted immunization responses or public health campaigns.\n",
      "\n",
      "Keywords: age groups, high-risk groups, disease transmission, interventions, immunization response, public health campaigns.\n"
     ]
    },
    {
     "name": "stderr",
     "output_type": "stream",
     "text": [
      " 32%|███▏      | 161/499 [10:31<24:05,  4.28s/it]"
     ]
    },
    {
     "name": "stdout",
     "output_type": "stream",
     "text": [
      "In outbreak investigations, which study designs, such as case-control studies or cohort studies, are suitable for testing hypotheses, and why?\n"
     ]
    },
    {
     "name": "stderr",
     "output_type": "stream",
     "text": [
      " 32%|███▏      | 162/499 [10:36<25:15,  4.50s/it]"
     ]
    },
    {
     "name": "stdout",
     "output_type": "stream",
     "text": [
      " Answers: In outbreak investigations, both case-control studies and cohort studies can be used to test hypotheses. Case-control studies are retrospective in design and are useful for identifying risk factors associated with a particular disease or condition. Cohort studies, on the other hand, are prospective in design and allow for the observation of a group over time to determine the incidence or prevalence of a disease or condition.\n",
      "\n",
      "Keywords: case-control studies, cohort studies, hypothesis testing, outbreak investigations, retrospective design, prospective design.\n",
      "Why is refining hypotheses based on analytic study results important in outbreak investigations?\n",
      " Answers: Refining hypotheses based on analytic study results is important in outbreak investigations as it helps in identifying the cause of the outbreak and determining risk factors.\n",
      "\n",
      "Keywords: refine hypotheses, analytic study results, identify cause, determine risk factors, outbreak investigations\n"
     ]
    },
    {
     "name": "stderr",
     "output_type": "stream",
     "text": [
      " 33%|███▎      | 163/499 [10:40<23:53,  4.27s/it]"
     ]
    },
    {
     "name": "stdout",
     "output_type": "stream",
     "text": [
      "Why is it important to disseminate all reports, including preliminary and interim, even if no conclusive risk factors have been identified for a given outbreak?\n"
     ]
    },
    {
     "name": "stderr",
     "output_type": "stream",
     "text": [
      " 33%|███▎      | 164/499 [10:43<21:50,  3.91s/it]"
     ]
    },
    {
     "name": "stdout",
     "output_type": "stream",
     "text": [
      " Answers: Disseminating all reports, including preliminary and interim ones, is important to keep relevant stakeholders informed about the ongoing investigation of an outbreak, even if no conclusive risk factors have been identified yet.\n",
      "\n",
      "Keywords: disseminate reports, relevant stakeholders, ongoing investigation, no conclusive risk factors.\n",
      "Contrast the objectives of a situation report (SitRep) with those of a detailed outbreak investigation report. How do they differ in their focus and audience? \n",
      " Answers: A situation report (SitRep) provides regular updates on an ongoing outbreak or public health event, while a detailed outbreak investigation report aims to determine the cause of an outbreak and recommend control measures. The audience for a SitRep is typically wider, including relevant stakeholders and the public, whereas the audience for a detailed investigation report is more focused on health authorities and international organizations.\n",
      "\n",
      "Keywords: situation report, regular updates, ongoing outbreak, public health event, determine cause, control measures, audience, relevant stakeholders, health authorities, international organizations.\n"
     ]
    },
    {
     "name": "stderr",
     "output_type": "stream",
     "text": [
      " 33%|███▎      | 165/499 [10:48<22:49,  4.10s/it]"
     ]
    },
    {
     "name": "stdout",
     "output_type": "stream",
     "text": [
      "Compare the use of a transmission tree and a spot map in outbreak investigations. How do they contribute to understanding disease spread, and what distinct information do they provide?\n",
      " Answers: A transmission tree and a spot map are essential tools used in outbreak investigations to understand disease spread. The transmission tree is a diagram that illustrates the sequence of transmission of an infection from the index case to secondary cases, helping identify the routes of transmission and regulate infection control measures. In contrast, a spot map displays the geographic distribution of cases, allowing identification of high-risk areas and clusters or patterns of transmission or exposure.\n",
      "\n",
      "Keywords: transmission tree, disease spread, index case, routes of transmission, infection control measures, spot map, geographic distribution, high-risk areas, clusters, patterns of transmission or exposure.\n"
     ]
    },
    {
     "name": "stderr",
     "output_type": "stream",
     "text": [
      " 33%|███▎      | 166/499 [10:53<24:45,  4.46s/it]"
     ]
    },
    {
     "name": "stdout",
     "output_type": "stream",
     "text": [
      "Which channels of communication are recommended in Section 7 for reporting outbreak findings, and why are these channels important?\n"
     ]
    },
    {
     "name": "stderr",
     "output_type": "stream",
     "text": [
      " 33%|███▎      | 167/499 [10:57<24:13,  4.38s/it]"
     ]
    },
    {
     "name": "stdout",
     "output_type": "stream",
     "text": [
      " Answers: The recommended channels of communication for reporting outbreak findings in Section 7 include establishing risk communication systems and structures at the national and district levels, reviewing existing structures and mechanisms, and following directions and key messages developed at the national level during an outbreak response. These channels are important because they ensure consistent communication, speaking with one voice, and building, maintaining, or restoring trust with the public in managing a health risk.\n",
      "\n",
      "Keywords: risk communication, channels, national level, district level, consistency, speaking with one voice, trust, public health, outbreak response.\n",
      "Where can stakeholders access a suggested outline for writing an investigation report, and why is having a structured outline important in the reporting process?\n",
      " Answers: Stakeholders can refer to Annex 7B and Annex 7D in the provided document for a suggested outline of writing an investigation report. Having a structured outline is important in the reporting process as it ensures that crucial information is documented, including how the problem was identified, investigated, responded to, and recommendations made. It also facilitates effective communication and learning from past events to strengthen responses to future emergencies.\n",
      "\n",
      "Keywords: investigation report, suggested outline, document crucial information, effective communication, learn from past events, strengthen responses.\n"
     ]
    },
    {
     "name": "stderr",
     "output_type": "stream",
     "text": [
      " 34%|███▎      | 168/499 [11:02<24:22,  4.42s/it]"
     ]
    },
    {
     "name": "stdout",
     "output_type": "stream",
     "text": [
      "Why should control measures be implemented concurrently with other investigation steps in an outbreak?\n",
      " Answers: Control measures should be implemented simultaneously with other investigation steps in an outbreak to effectively address the public health issue and prevent further spread of the disease.\n",
      "\n",
      "Keywords: control measures, investigation steps, outbreak, prevent further spread, effective address, public health issue.\n"
     ]
    },
    {
     "name": "stderr",
     "output_type": "stream",
     "text": [
      " 34%|███▍      | 169/499 [11:05<21:47,  3.96s/it]"
     ]
    },
    {
     "name": "stdout",
     "output_type": "stream",
     "text": [
      "What is the significance of implementing control measures at the first available point in the investigation process?\n",
      " Answers: Implementing control measures at the first available point in an investigation process is significant because it helps to quickly contain and mitigate the spread of an infectious disease or address an unusual health event. This early intervention can prevent further cases, reduce the risk to the affected population, and minimize negative health consequences.\n",
      "\n",
      "Keywords: investigate, public health event, control measures, contain spread, negative health consequences, population protection.\n"
     ]
    },
    {
     "name": "stderr",
     "output_type": "stream",
     "text": [
      " 34%|███▍      | 170/499 [11:08<21:06,  3.85s/it]"
     ]
    },
    {
     "name": "stdout",
     "output_type": "stream",
     "text": [
      "How do non-specific control measures differ from specific control measures in outbreak settings?\n",
      " Answers: Non-specific control measures can be implemented at the onset of an investigation, concurrently with other steps, and are not dependent on the type of disease or source. Specific control measures target specific agents, sources, or reservoirs of infection.\n",
      "\n",
      "Keywords: non-specific control measures, specific control measures, implementation, investigation, disease, source, agents, reservoirs.\n"
     ]
    },
    {
     "name": "stderr",
     "output_type": "stream",
     "text": [
      " 34%|███▍      | 171/499 [11:12<21:01,  3.85s/it]"
     ]
    },
    {
     "name": "stdout",
     "output_type": "stream",
     "text": [
      "What questions should the designated investigation team address during the risk assessment to determine if the event is a potential Public Health Emergency of International Concern (PHEIC)?\n",
      " Answers: The designated investigation team should address the following questions during the risk assessment to determine if the event is a potential PHEIC:\n",
      "1. Is the public health impact of the event serious?\n",
      "2. Is the event unusual or unexpected?\n",
      "3. Is there a significant risk of international spread?\n",
      "4. Is there a risk of restrictions on international travel or trade?\n",
      "\n",
      "Keywords: public health impact, serious, unusual or unexpected, international spread, risk assessment, PHEIC, notification, WHO regulations, decision instrument.\n"
     ]
    },
    {
     "name": "stderr",
     "output_type": "stream",
     "text": [
      " 34%|███▍      | 172/499 [11:17<22:15,  4.08s/it]"
     ]
    },
    {
     "name": "stdout",
     "output_type": "stream",
     "text": [
      "How should the national level maintain contact with the district for daily updates during an epidemic, and why is this important?\n"
     ]
    },
    {
     "name": "stderr",
     "output_type": "stream",
     "text": [
      " 35%|███▍      | 173/499 [11:20<21:08,  3.89s/it]"
     ]
    },
    {
     "name": "stdout",
     "output_type": "stream",
     "text": [
      " Answers: The national level should establish risk communication systems and structures to maintain daily contact with districts during an epidemic. This is important to ensure effective outbreak response, facilitate information sharing, and coordinate joint surveillance and response activities.\n",
      "\n",
      "Keywords: daily updates, risk communication systems, effective outbreak response, information sharing, joint surveillance, coordination.\n",
      "What factors should be evaluated in the risk assessment conducted after an outbreak is confirmed, and why is regular risk assessment crucial?\n",
      " Answers: Factors evaluated in risk assessment after an outbreak include population susceptibility and potential for spread, risk of further transmission, morbidity, and mortality. Regular risk assessment is crucial as it aids in focusing interventions, identifying improvements, and preventing the outbreak from spreading to neighboring areas.\n",
      "\n",
      "Keywords: risk assessment, factors, population susceptibility, potential for spread, risk of further transmission, morbidity, mortality, regular evaluation, interventions, improvements, neighboring areas.\n"
     ]
    },
    {
     "name": "stderr",
     "output_type": "stream",
     "text": [
      " 35%|███▍      | 174/499 [11:24<21:10,  3.91s/it]"
     ]
    },
    {
     "name": "stdout",
     "output_type": "stream",
     "text": [
      "What responsibilities typically lie at the national level compared to the district or facility levels during an outbreak, and why is coordination essential?\n",
      " Answers: The national level provides technical support and policy guidance, while districts have the overall responsibility for investigating outbreaks and implementing response activities. Coordination is essential to ensure effective communication, information flow, and collaboration between different levels and stakeholders.\n",
      "\n",
      "Keywords: national level, technical support, policy guidance, district level, investigation, response activities, coordination, communication, information flow, collaboration, crisis affected populations, multi-sectoral outbreak control teams, IDSR framework, WHO, health cluster partners.\n"
     ]
    },
    {
     "name": "stderr",
     "output_type": "stream",
     "text": [
      " 35%|███▌      | 175/499 [11:28<21:51,  4.05s/it]"
     ]
    },
    {
     "name": "stdout",
     "output_type": "stream",
     "text": [
      "How does parallel reporting impact the management of an outbreak, and why is it crucial to avoid?\n",
      " Answers: Parallel reporting refers to the simultaneous reporting of suspected outbreaks or events to multiple authorities or channels. It can create confusion and potential delays in response, as resources may be duplicated or conflicting instructions given. The importance of avoiding parallel reporting lies in ensuring effective and efficient use of resources, clear communication, and coordinated action to manage an outbreak.\n",
      "\n",
      "Keywords: simultaneous reporting, confusion, resource utilization, clear communication, coordinated action, potential delays, effective response.\n"
     ]
    },
    {
     "name": "stderr",
     "output_type": "stream",
     "text": [
      " 35%|███▌      | 176/499 [11:32<21:03,  3.91s/it]"
     ]
    },
    {
     "name": "stdout",
     "output_type": "stream",
     "text": [
      "Where should control measures be implemented during an outbreak, and why is it emphasized to engage multiple sectors in the response?\n",
      " Answers: Control measures should be implemented at the earliest stage of an outbreak and concurrently with other investigation steps. Multiple sectors should be engaged throughout the response for effective containment and management of the outbreak.\n",
      "\n",
      "Keywords: control measures, implementation, outbreak, engagement, multiple sectors, response, containment, investigation.\n"
     ]
    },
    {
     "name": "stderr",
     "output_type": "stream",
     "text": [
      " 35%|███▌      | 177/499 [11:36<20:19,  3.79s/it]"
     ]
    },
    {
     "name": "stdout",
     "output_type": "stream",
     "text": [
      "What are the potential impacts of biomedical research during an outbreak, and why is it essential to conduct research in a scientifically and ethically sound manner?\n",
      " Answers: Biomedical research during an outbreak can lead to the discovery of new countermeasures such as vaccines and therapeutics. It is important for research to be conducted in a scientifically and ethically sound manner to reach definitive conclusions about efficacy and safety expeditiously.\n",
      "\n",
      "Keywords: biomedical research, countermeasures, vaccines, therapeutics, scientifically sound, ethically, definitive conclusions, efficacy, safety.\n"
     ]
    },
    {
     "name": "stderr",
     "output_type": "stream",
     "text": [
      " 36%|███▌      | 178/499 [11:40<21:25,  4.00s/it]"
     ]
    },
    {
     "name": "stdout",
     "output_type": "stream",
     "text": [
      "Compare and contrast the impacts of parallel reporting and coordinated reporting on outbreak management.\n"
     ]
    },
    {
     "name": "stderr",
     "output_type": "stream",
     "text": [
      " 36%|███▌      | 179/499 [11:48<27:16,  5.11s/it]"
     ]
    },
    {
     "name": "stdout",
     "output_type": "stream",
     "text": [
      " Answers: Parallel reporting and coordinated reporting are two approaches used in outbreak management, each having distinct impacts.\n",
      "\n",
      "Parallel reporting refers to individual facilities or districts reporting disease cases independently without a centralized system. This approach may save time as each facility can report cases in real-time using electronic platforms (TG Booklet 5, Row Number: 210). However, it may lead to inconsistent reporting formats and potential under-reporting or over-reporting of cases due to lack of coordination (Retrieved Data).\n",
      "\n",
      "Coordinated reporting, on the other hand, involves a centralized system where facilities report disease cases to a higher authority for aggregation and analysis. This approach ensures consistent reporting formats and timely availability of analyzed data for informed decision-making at all levels (TG Booklet 5, Row Number: 211-213). During outbreaks, coordinated reporting enables effective communication with the public through advice and guidance to build trust and mitigate disruption to society (TG Booklet 3, Row Number: 1792).\n",
      "\n",
      "Keywords: Parallel reporting, Coordinated reporting, Real-time data, Inconsistent reporting formats, Under-reporting, Over-reporting, Centralized system, Effective communication, Trust, Disruption.\n",
      "What information should be recorded in the District log of suspected outbreaks and alerts?\n",
      " Answers: All reported suspected outbreaks, public health events, and alerts, including their investigation reports and line lists or case-based forms, should be recorded in the District log of suspected outbreaks and alerts.\n",
      "\n",
      "Keywords: reported outbreaks, public health events, alerts, investigation reports, line lists, case-based forms, District log.\n"
     ]
    },
    {
     "name": "stderr",
     "output_type": "stream",
     "text": [
      " 36%|███▌      | 180/499 [11:51<24:28,  4.60s/it]"
     ]
    },
    {
     "name": "stdout",
     "output_type": "stream",
     "text": [
      "Why is the District log of suspected outbreaks and alerts important during an outbreak investigation?\n",
      " Answers: The district log of suspected outbreaks and alerts is important during an outbreak investigation as it helps ensure that each reported case or event is followed by some action and resolution, allowing for the evaluation of the timeliness and completeness of the investigation process.\n",
      "\n",
      "Keywords: district log, suspected outbreaks, alerts, investigation, action, resolution, evaluation.\n"
     ]
    },
    {
     "name": "stderr",
     "output_type": "stream",
     "text": [
      " 36%|███▋      | 181/499 [11:55<22:28,  4.24s/it]"
     ]
    },
    {
     "name": "stdout",
     "output_type": "stream",
     "text": [
      "What types of specimens are mentioned in the laboratory supplies checklist, and why are these specimens important for outbreak investigation?\n",
      " Answers: The laboratory supplies checklist mentions various types of specimens including blood, pieces of bar soap, bleach, PPEs, equipment (Biosafety cabinet), swabs, cerebrospinal fluid (CSF), and respiratory specimens. These specimens are important for outbreak investigation as they help in diagnosing suspected diseases and provide reliable results to guide public health responses.\n",
      "\n",
      "Keywords: laboratory supplies checklist, blood, pieces of bar soap, bleach, PPEs, equipment (Biosafety cabinet), swabs, cerebrospinal fluid (CSF), respiratory specimens, diagnose diseases, outbreak investigation, reliable results, public health responses.\n"
     ]
    },
    {
     "name": "stderr",
     "output_type": "stream",
     "text": [
      " 36%|███▋      | 182/499 [12:00<24:23,  4.62s/it]"
     ]
    },
    {
     "name": "stdout",
     "output_type": "stream",
     "text": [
      "How does the laboratory supplies checklist contribute to the safety of healthcare workers involved in an outbreak investigation?\n",
      " Answers: The laboratory supplies checklist ensures the availability of necessary equipment and materials for handling specimens during an outbreak investigation, contributing to the safety of healthcare workers by reducing exposure to potential hazards.\n",
      "\n",
      "Keywords: laboratory supplies checklist, handling specimens, outbreak investigation, healthcare workers, safety, equipment, materials, potential hazards.\n"
     ]
    },
    {
     "name": "stderr",
     "output_type": "stream",
     "text": [
      " 37%|███▋      | 183/499 [12:03<21:50,  4.15s/it]"
     ]
    },
    {
     "name": "stdout",
     "output_type": "stream",
     "text": [
      "What considerations are mentioned for packaging and transporting samples in the laboratory supplies checklist (Annex 4B), and why are these important?\n"
     ]
    },
    {
     "name": "stderr",
     "output_type": "stream",
     "text": [
      " 37%|███▋      | 184/499 [12:10<25:37,  4.88s/it]"
     ]
    },
    {
     "name": "stdout",
     "output_type": "stream",
     "text": [
      " Answers: The laboratory supplies checklist (Annex 4B) mentions various items for packaging and transporting samples, including triple package and refrigerant, transport tubes with screw-on tops, transport media like Cary-Blair, Trans-Isolate, VTM, blood films, swabs, viral transport medium, cerebrospinal fluid collection supplies, and safety boxes for collecting and disposing of contaminated supplies. These considerations are important because inappropriate packaging and transportation can affect the reliability of laboratory test results. Factors such as delay in transportation, use of wrong transport or storage media, contamination, and specimen collection before giving antibiotics can impact the viability and accuracy of the suspected organism (Keywords: laboratory supplies, packaging, transporting samples, reliability, test results, transport media, Cary-Blair, Trans-Isolate, VTM).\n",
      "How does the laboratory supplies checklist support the effective collection and handling of various types of specimens during an outbreak?\n",
      " Answers: The laboratory supplies checklist ensures effective collection and handling of various types of specimens during an outbreak by providing necessary items such as PPEs, decontamination agents, transport media, and equipment for safe specimen collection and handling. It also emphasizes the importance of proper packaging, labeling, and shipping of specimens to ensure reliable results in the laboratory.\n",
      "\n",
      "Keywords: PPEs, decontamination, transport media, equipment, packaging, labeling, shipping, reliable results.\n"
     ]
    },
    {
     "name": "stderr",
     "output_type": "stream",
     "text": [
      " 37%|███▋      | 185/499 [12:14<25:11,  4.81s/it]"
     ]
    },
    {
     "name": "stdout",
     "output_type": "stream",
     "text": [
      "Which factors should be considered when packaging and transporting samples according to the laboratory supplies checklist?\n"
     ]
    },
    {
     "name": "stderr",
     "output_type": "stream",
     "text": [
      " 37%|███▋      | 186/499 [12:20<25:47,  4.94s/it]"
     ]
    },
    {
     "name": "stdout",
     "output_type": "stream",
     "text": [
      " Answers: The type of specimen, its packaging (storage media), and the suspected disease should be considered when packaging and transporting samples. All specimens must be triple packaged, labelled correctly, and accompanied with the correct laboratory forms. Minimize delays between collection and processing in the laboratory, and use sample tracking forms to enable tracking of samples from the sender to the receiver and back within the National Laboratory Information Management System (LIMS).\n",
      "\n",
      "Keywords: specimen packaging, storage media, suspected disease, triple packaging, labelling, correct laboratory forms, delays, sample tracking forms, National Laboratory Information Management System (LIMS)\n",
      "Why is the District log of suspected outbreaks and alerts designed to include information about response activities and steps taken during an outbreak?\n",
      " Answers: The district log of suspected outbreaks and alerts is designed to include information about response activities and steps taken during an outbreak to ensure that each reported outbreak or event is followed by some action and resolution, gather information for evaluating the timeliness and completeness of the investigation and response process, and facilitate communication between different levels of public health authorities.\n",
      "\n",
      "Keywords: district log, suspected outbreaks, alerts, response activities, evaluation, investigation, communication, public health authorities.\n"
     ]
    },
    {
     "name": "stderr",
     "output_type": "stream",
     "text": [
      " 37%|███▋      | 187/499 [12:24<25:01,  4.81s/it]"
     ]
    },
    {
     "name": "stdout",
     "output_type": "stream",
     "text": [
      "How does the laboratory supplies checklist contribute to the safety of healthcare workers involved in an outbreak investigation?\n",
      " Answers: The laboratory supplies checklist ensures the availability of necessary equipment and materials for handling specimens during an outbreak investigation, contributing to the safety of healthcare workers by reducing exposure to potential hazards.\n",
      "\n",
      "Keywords: laboratory supplies checklist, handling specimens, outbreak investigation, healthcare workers, safety, equipment, materials, potential hazards.\n"
     ]
    },
    {
     "name": "stderr",
     "output_type": "stream",
     "text": [
      " 38%|███▊      | 188/499 [12:28<23:07,  4.46s/it]"
     ]
    },
    {
     "name": "stdout",
     "output_type": "stream",
     "text": [
      "Where does the District log of suspected outbreaks and alerts recommend recording information about the suspected outbreak or unexplained event?\n",
      " Answers: The District Log of suspected outbreaks and alerts recommends recording information about the suspected outbreak or unexplained event in a tracking form, which should be included in the District Analysis workbook if one is being used. (214-215)\n",
      "\n",
      "Keywords: District Log, recording information, suspected outbreaks, alerts, tracking form, analysis workbook.\n"
     ]
    },
    {
     "name": "stderr",
     "output_type": "stream",
     "text": [
      " 38%|███▊      | 189/499 [12:31<21:31,  4.17s/it]"
     ]
    },
    {
     "name": "stdout",
     "output_type": "stream",
     "text": [
      "What information should the health facility registers ideally include for investigating suspected cases during a register review?\n",
      " Answers: The health facility registers should ideally include the patient's name and location, signs and symptoms, date of onset of symptoms and outcome for investigating suspected cases during a register review.\n",
      "\n",
      "Keywords: patient information, signs and symptoms, date of onset, outcome, investigating suspected cases, register review.\n"
     ]
    },
    {
     "name": "stderr",
     "output_type": "stream",
     "text": [
      " 38%|███▊      | 190/499 [12:35<20:44,  4.03s/it]"
     ]
    },
    {
     "name": "stdout",
     "output_type": "stream",
     "text": [
      "Compare the roles of the health facility supervisor in the register review and the health facility staff in the District log of suspected outbreaks and alerts.\n"
     ]
    },
    {
     "name": "stderr",
     "output_type": "stream",
     "text": [
      " 38%|███▊      | 191/499 [12:41<23:22,  4.55s/it]"
     ]
    },
    {
     "name": "stdout",
     "output_type": "stream",
     "text": [
      " Answers: The health facility supervisor plays a role in conducting intra and after-action reviews, arranging for district evaluations during outbreaks, and ensuring the timely reporting of summary data. They also provide feedback to health facilities and communities on surveillance activities and priority events. Health facility staff, on the other hand, are responsible for detecting, laboratory confirming, and recording priority diseases or conditions, collecting and transporting specimens for laboratory confirmation, and reporting case-based information for immediately reportable diseases. They also participate in outbreak investigations and responses.\n",
      "\n",
      "Keywords: health facility supervisor, intra and after-action reviews, district evaluations, timely reporting, summary data, feedback, health facility staff, disease detection, laboratory confirmation, specimen collection, outbreak investigations, reporting.\n",
      "Why is it emphasized during a register review that the activity is an information-gathering exercise and not a review of health worker performance?\n",
      " Answers: The emphasis on a register review being an information-gathering exercise and not a review of health worker performance is to ensure that the activity remains focused on collecting data to determine the cause of an outbreak or increase in cases, rather than evaluating the performance of individual health workers.\n",
      "\n",
      "Keywords: information-gathering exercise, not a review of health worker performance, determine cause of outbreak or increase in cases.\n"
     ]
    },
    {
     "name": "stderr",
     "output_type": "stream",
     "text": [
      " 38%|███▊      | 192/499 [12:45<22:08,  4.33s/it]"
     ]
    },
    {
     "name": "stdout",
     "output_type": "stream",
     "text": [
      "What kind of responsibilities lie at the national level compared to district or facility levels during an outbreak?\n",
      " Answers: The national level provides technical support and policy guidance, while districts have the overall responsibility for investigating outbreaks and implementing response activities.\n",
      "\n",
      "Keywords: national level, technical support, policy guidance, districts, investigation, response activities.\n"
     ]
    },
    {
     "name": "stderr",
     "output_type": "stream",
     "text": [
      " 39%|███▊      | 193/499 [12:48<20:04,  3.94s/it]"
     ]
    },
    {
     "name": "stdout",
     "output_type": "stream",
     "text": [
      "What is the purpose of triple packaging of samples during an outbreak?\n"
     ]
    },
    {
     "name": "stderr",
     "output_type": "stream",
     "text": [
      " 39%|███▉      | 194/499 [12:51<19:31,  3.84s/it]"
     ]
    },
    {
     "name": "stdout",
     "output_type": "stream",
     "text": [
      " Answers: The purpose of triple packaging of samples during an outbreak is to ensure that specimens arrive at the laboratory in good condition, providing reliable results. This includes correct labelling, use of sample tracking forms, and minimizing delays between collection and processing.\n",
      "\n",
      "Keywords: triple packaging, specimens, laboratory, reliable results, correct labelling, sample tracking forms, minimize delays.\n",
      "What are the key components of the contact tracing form?\n"
     ]
    },
    {
     "name": "stderr",
     "output_type": "stream",
     "text": [
      " 39%|███▉      | 195/499 [12:55<19:26,  3.84s/it]"
     ]
    },
    {
     "name": "stdout",
     "output_type": "stream",
     "text": [
      " Answers: The key components of a contact tracing form include recording information of all cases on a case-based surveillance reporting form, listing any contacts on the contact listing form, and ensuring they are monitored daily for the required time for signs and symptoms of the disease.\n",
      "\n",
      "Keywords: case-based surveillance reporting form, contact listing form, monitoring contacts, signs and symptoms of disease.\n",
      "What should be recorded in the sample line list?\n"
     ]
    },
    {
     "name": "stderr",
     "output_type": "stream",
     "text": [
      " 39%|███▉      | 196/499 [12:58<17:43,  3.51s/it]"
     ]
    },
    {
     "name": "stdout",
     "output_type": "stream",
     "text": [
      " Answers: The log book should record the date, sender, and subject of any received data sets or reports.\n",
      "\n",
      "Keywords: log book, data sets, reports, receiver, date, sender, subject.\n",
      "What is the purpose of the sample line list?\n"
     ]
    },
    {
     "name": "stderr",
     "output_type": "stream",
     "text": [
      " 39%|███▉      | 197/499 [13:01<16:35,  3.30s/it]"
     ]
    },
    {
     "name": "stdout",
     "output_type": "stream",
     "text": [
      " Answers: The sample line list is used to maintain a record of suspected cases or events during an investigation, keeping it updated and linked with appropriate sectors.\n",
      "\n",
      "Keywords: suspected cases, investigation, update, line list, sectors, maintain records.\n",
      "What are the types of contacts defined in the contact tracing form?\n",
      " Answers: The contact tracing form includes a recording sheet for contacts (Annex 4F).\n",
      "\n",
      "Keywords: contact tracing form, recording sheet, contacts.\n"
     ]
    },
    {
     "name": "stderr",
     "output_type": "stream",
     "text": [
      " 40%|███▉      | 198/499 [13:04<17:04,  3.40s/it]"
     ]
    },
    {
     "name": "stdout",
     "output_type": "stream",
     "text": [
      "What are the steps involved in conducting a register review?\n"
     ]
    },
    {
     "name": "stderr",
     "output_type": "stream",
     "text": [
      " 40%|███▉      | 199/499 [13:08<17:30,  3.50s/it]"
     ]
    },
    {
     "name": "stdout",
     "output_type": "stream",
     "text": [
      " Answers: The steps involved in conducting a register review include defining objectives, deciding on the frequency of monitoring, making a schedule for supervision, ensuring transport is available, and compiling and organizing monitoring data.\n",
      "\n",
      "Keywords: define objectives, frequency of monitoring, make schedule, ensure transport, compile monitoring data.\n",
      "What are the criteria for defining contacts in the contact tracing form?\n"
     ]
    },
    {
     "name": "stderr",
     "output_type": "stream",
     "text": [
      " 40%|████      | 200/499 [13:12<18:36,  3.73s/it]"
     ]
    },
    {
     "name": "stdout",
     "output_type": "stream",
     "text": [
      " Answers: Contacts of a suspected case are recorded on the contact listing form and monitored daily for signs and symptoms of the disease. The specific criteria for defining contacts may vary depending on the disease in question, but generally include individuals who have been in close proximity to a confirmed or suspected case, or who have had direct contact with infectious materials or secretions.\n",
      "\n",
      "Keywords: contacts, recording, monitoring, surveillance form, close proximity, infectious materials, secretions.\n",
      "What is the purpose of the sample line list?\n"
     ]
    },
    {
     "name": "stderr",
     "output_type": "stream",
     "text": [
      " 40%|████      | 201/499 [13:15<17:07,  3.45s/it]"
     ]
    },
    {
     "name": "stdout",
     "output_type": "stream",
     "text": [
      " Answers: The sample line list is used to maintain a record of suspected cases or events during an investigation, keeping it updated and linked with appropriate sectors.\n",
      "\n",
      "Keywords: suspected cases, investigation, update, line list, sectors, maintain records.\n",
      "Why is a register review conducted in health facilities?\n",
      " Answers: A register review is conducted in health facilities to collect information on cases admitted during a specific period, determining the causes of outbreaks or increases in case numbers.\n",
      "\n",
      "Keywords: collect information, cases admitted, determine causes, health facility, outbreaks, register review.\n"
     ]
    },
    {
     "name": "stderr",
     "output_type": "stream",
     "text": [
      " 40%|████      | 202/499 [13:18<16:38,  3.36s/it]"
     ]
    },
    {
     "name": "stdout",
     "output_type": "stream",
     "text": [
      "Where should contacts be recorded in the contact tracing form?\n",
      " Answers: Contacts should be recorded on the contact listing form.\n",
      "Keywords: contact tracing, contact listing form.\n"
     ]
    },
    {
     "name": "stderr",
     "output_type": "stream",
     "text": [
      " 41%|████      | 203/499 [13:20<14:55,  3.02s/it]"
     ]
    },
    {
     "name": "stdout",
     "output_type": "stream",
     "text": [
      "Compare the purpose of a register review in different types of health facilities.\n",
      " Answers: A register review is used in various types of health facilities to collect information on cases admitted during a specific period, determining the cause of outbreaks or increase in case numbers. This includes large reference or teaching hospitals with pediatric wards, small hospitals serving remote areas and high-risk populations, and facilities with more than 10 hospital beds.\n",
      "\n",
      "Keywords: register review, information collection, outbreak investigation, health facilities, large reference hospitals, teaching hospitals, pediatric wards, small hospitals, remote areas, high-risk populations.\n"
     ]
    },
    {
     "name": "stderr",
     "output_type": "stream",
     "text": [
      " 41%|████      | 204/499 [13:25<17:10,  3.49s/it]"
     ]
    },
    {
     "name": "stdout",
     "output_type": "stream",
     "text": [
      "Contrast the information recorded in the sample line list with other outbreak response documents.\n"
     ]
    },
    {
     "name": "stderr",
     "output_type": "stream",
     "text": [
      " 41%|████      | 205/499 [13:32<22:28,  4.59s/it]"
     ]
    },
    {
     "name": "stdout",
     "output_type": "stream",
     "text": [
      " Answers: The sample line list (Annex 4E) is a document used during an outbreak investigation to record detailed information about each specimen collected, including the type of sample, collection date, and unique identifier. This information is contrasted with other outbreak response documents such as the case-based surveillance reporting forms (Annex 4B, 4C, 4F, and 4G), which focus on recording details about individual cases, contacts, and investigations. The specimen tracking forms/logbooks (Annex 4H) are used within laboratories to manage the processing of samples, while the diagnostic and lab-specimen-based surveillance reporting forms (Annex 46) provide information on laboratory results.\n",
      "\n",
      "Keywords: sample line list, case-based surveillance reporting forms, specimen tracking forms/logbooks, diagnostic, lab-specimen-based surveillance reporting forms, unique identifier, type of sample, collection date.\n",
      "Explain the significance of recording the vaccination status in the sample line list.\n"
     ]
    },
    {
     "name": "stderr",
     "output_type": "stream",
     "text": [
      " 41%|████▏     | 206/499 [13:37<22:53,  4.69s/it]"
     ]
    },
    {
     "name": "stdout",
     "output_type": "stream",
     "text": [
      " Answers: Recording the vaccination status in a sample line list is significant because it helps ensure consistent and harmonized data during disease surveillance and outbreak investigations. This information is crucial for making informed decisions about disease control and prevention actions, as well as for conducting refresher training for vaccinators on recommended immunization practices.\n",
      "\n",
      "Keywords: recording, vaccination status, disease surveillance, outbreak investigations, consistent, harmonized, data, informed decisions, disease control, prevention actions, refresher training, vaccinators.\n",
      "Explain the role of an analytical study in outbreak investigations.\n",
      " Answers: An analytical study plays a crucial role in outbreak investigations by summarizing and analyzing data to identify trends, clues about the source and spread of the outbreak, and risk factors. This information is used to define the investigation's scope and target population, as well as guide response efforts.\n",
      "\n",
      "Keywords: summarize, analyze, outbreak data, identify trends, source, spread, risk factors, investigation scope, target population, response efforts.\n"
     ]
    },
    {
     "name": "stderr",
     "output_type": "stream",
     "text": [
      " 41%|████▏     | 207/499 [13:41<22:09,  4.55s/it]"
     ]
    },
    {
     "name": "stdout",
     "output_type": "stream",
     "text": [
      "Can you provide an example of a case that could trigger an outbreak of respiratory illness?\n"
     ]
    },
    {
     "name": "stderr",
     "output_type": "stream",
     "text": [
      " 42%|████▏     | 208/499 [13:45<20:25,  4.21s/it]"
     ]
    },
    {
     "name": "stdout",
     "output_type": "stream",
     "text": [
      " Answers: A cluster of people in a community or workplace developing similar symptoms of fever, cough, and other respiratory signs within a 14-day period.\n",
      "\n",
      "Keywords: cluster, respiratory illness, symptoms, community, workplace.\n",
      "How might a 25-year-old university student with symptoms like coughing, fever, and shortness of breath contribute to the onset of a respiratory illness outbreak?\n"
     ]
    },
    {
     "name": "stderr",
     "output_type": "stream",
     "text": [
      " 42%|████▏     | 209/499 [13:49<20:23,  4.22s/it]"
     ]
    },
    {
     "name": "stdout",
     "output_type": "stream",
     "text": [
      " Answers: A 25-year-old university student with symptoms of coughing, fever, and shortness of breath could potentially contribute to the onset of a respiratory illness outbreak by transmitting the infection to others in their living or learning environment.\n",
      "\n",
      "Keywords: university student, coughing, fever, shortness of breath, potential contribution, respiratory illness outbreak, transmission, living environment, learning environment.\n",
      "Reflecting on the information provided, explain how the interactions between the first case and healthcare workers might influence the development and spread of a respiratory illness.\n",
      " Answers: The first case, a 40-year-old female nurse in ICU at Neno District Hospital, interacted closely with healthcare workers before her death due to pneumonia caused by an acute respiratory infection. Her illness began on 2 April 2012 and she was later transferred to Queen Elizabeth Central Hospital where she died on 19 April. During her illness, she was in close contact with household members, including a brother who fell ill 10 days post exposure. The healthcare workers' interactions with the first case might influence the development and spread of the respiratory illness in several ways:\n",
      "\n",
      "Keywords: acute respiratory infection, female nurse, ICU, pneumonia, close contact, healthcare workers, interaction, spread, influenza.\n",
      "\n",
      "1. Direct transmission: Healthcare workers could have contracted the infection directly from the first case through close contact during her hospitalization. This could lead to further spread of the illness within the healthcare facility and potentially to the wider community if the infected healthcare workers interact with others outside of the facility.\n",
      "2. Indirect transmission: Healthcare workers might also become infected indirectly by touching contaminated surfaces or objects in the hospital environment, such as bedrails, door handles, or medical equipment. This could lead to a larger outbreak if the infected healthcare workers continue to work and interact with patients and other staff members.\n",
      "3. Cross-infection: Healthcare workers caring for the first case might also be caring for other patients with different infections, potentially leading to cross-infection between patients. This could complicate the diagnosis and treatment of both the respiratory illness and any other infections present in the healthcare facility.\n",
      "4. Delayed recognition and response: If healthcare workers were not aware of the potential for a respiratory illness outbreak or did not take appropriate precautions, they might continue to interact with patients and each other without taking necessary infection control measures. This could lead to further spread of the illness within the healthcare facility and potentially to the wider community.\n",
      "5. Role of case-based data: The information collected from the first case and subsequent cases can help identify risk factors and means of transmission, allowing for targeted interventions to prevent further spread of the respiratory illness. Healthcare workers should be sensitized on diseases requiring immediate reporting and have access to standardized forms for reporting case-based information.\n"
     ]
    },
    {
     "name": "stderr",
     "output_type": "stream",
     "text": [
      " 42%|████▏     | 210/499 [14:02<32:55,  6.84s/it]"
     ]
    },
    {
     "name": "stdout",
     "output_type": "stream",
     "text": [
      "How does the experience of the 65-year-old male doctor (case 4) during the outbreak provide insights into the potential range of severity and recovery strategies for respiratory illnesses?\n",
      " Answers: The case of a 25-year-old university student (case 1) and a 40-year-old female nurse (case 3) provide insights into the potential range of severity for respiratory illnesses, including pneumonia and pericarditis, which were later confirmed as novel coronavirus infections. The student's condition worsened rapidly, leading to his death, while the nurse survived but required intensive care.\n",
      "\n",
      "Keywords: respiratory illnesses, pneumonia, pericarditis, novel coronavirus, severity, recovery strategies.\n",
      "\n",
      "The experience of these cases highlights the importance of prompt laboratory investigation and appropriate case management for severe respiratory infections. The 65-year-old male doctor (case 4), whose experience is not explicitly stated in the provided data, could potentially have benefited from similar care if infected with the same virus. Understanding the circulating viruses, identifying high-risk groups, and monitoring antiviral sensitivity are crucial components of effective outbreak response strategies.\n"
     ]
    },
    {
     "name": "stderr",
     "output_type": "stream",
     "text": [
      " 42%|████▏     | 211/499 [14:09<33:05,  6.89s/it]"
     ]
    },
    {
     "name": "stdout",
     "output_type": "stream",
     "text": [
      "Considering cases 5 through 13 in the second phase of the outbreak, can you identify any common characteristics or factors that contribute to the spread of respiratory illness during this period?\n",
      " Answers: The second phase of the outbreak (cases 5-13) saw illness onset between 11th and 26th April, 2012. All except case 13 had direct contact with lab-confirmed cases. No healthcare workers traveled or had contact with animals.\n",
      "\n",
      "Keywords: second phase, cases 5-13, illness onset, direct contact, lab-confirmed cases, healthcare workers, travel, contact with animals.\n"
     ]
    },
    {
     "name": "stderr",
     "output_type": "stream",
     "text": [
      " 42%|████▏     | 212/499 [14:13<29:02,  6.07s/it]"
     ]
    },
    {
     "name": "stdout",
     "output_type": "stream",
     "text": [
      "Does the TG contain case definitions for Acute haemorrhagic fever syndrome?\n"
     ]
    },
    {
     "name": "stderr",
     "output_type": "stream",
     "text": [
      " 43%|████▎     | 213/499 [14:16<25:06,  5.27s/it]"
     ]
    },
    {
     "name": "stdout",
     "output_type": "stream",
     "text": [
      " Answers: Yes, the TG provides case definitions for Acute haemorrhagic fever syndrome.\n",
      "Keywords: Acute haemorrhagic fever syndrome, case definitions, suspected case, probable case, confirmed case, laboratory confirmation, diagnostic test, ELISA, RT-PCR, immunohisto-chemistry, specimen, rapid diagnostic tests (RDTs), WHO guidance.\n",
      "Does the TG contain case definitions for Adverse Events Following Immunization (AEFI)?\n"
     ]
    },
    {
     "name": "stderr",
     "output_type": "stream",
     "text": [
      " 43%|████▎     | 214/499 [14:19<21:29,  4.52s/it]"
     ]
    },
    {
     "name": "stdout",
     "output_type": "stream",
     "text": [
      " Answers: Yes, the TG contains case definitions for Adverse Events Following Immunization (AEFI) in Annex 11Q.\n",
      "\n",
      "Keywords: AEFI, case definitions, Annex 11Q.\n",
      "Does the TG contain case definitions for Anthrax (human)?\n"
     ]
    },
    {
     "name": "stderr",
     "output_type": "stream",
     "text": [
      " 43%|████▎     | 215/499 [14:22<18:44,  3.96s/it]"
     ]
    },
    {
     "name": "stdout",
     "output_type": "stream",
     "text": [
      " Answers: Yes, the TG contains case definitions for Anthrax (human).\n",
      "Keywords: case definitions, Anthrax (human), suspected case, cutaneous form, gastro-intestinal, pulmonary, meningeal.\n",
      "Does the TG contain case definitions for Buruli ulcer (BU) (Mycobacterium ulcerans disease)?\n"
     ]
    },
    {
     "name": "stderr",
     "output_type": "stream",
     "text": [
      " 43%|████▎     | 216/499 [14:25<17:14,  3.66s/it]"
     ]
    },
    {
     "name": "stdout",
     "output_type": "stream",
     "text": [
      " Answers: Yes, the TG contains information on case definitions for Buruli ulcer (BU) (Mycobacterium ulcerans disease).\n",
      "\n",
      "Keywords: Buruli ulcer, Mycobacterium ulcerans disease, case definitions, skin infection, clinical symptoms, laboratory confirmation, diagnostic tests.\n",
      "Does the TG contain case definitions for Chikungunya?\n"
     ]
    },
    {
     "name": "stderr",
     "output_type": "stream",
     "text": [
      " 43%|████▎     | 217/499 [14:29<17:32,  3.73s/it]"
     ]
    },
    {
     "name": "stdout",
     "output_type": "stream",
     "text": [
      " Answers: Yes, the TG contains a case definition for Chikungunya in ANNEX 11F (Row Number: 711).\n",
      "\n",
      "Keywords: Chikungunya, case definition, ANNEX 11F, row number 711.\n",
      "Does the TG contain case definitions for Cholera?\n"
     ]
    },
    {
     "name": "stderr",
     "output_type": "stream",
     "text": [
      " 44%|████▎     | 218/499 [14:32<17:25,  3.72s/it]"
     ]
    },
    {
     "name": "stdout",
     "output_type": "stream",
     "text": [
      " Answers: Yes, the TG contains case definitions for Cholera.\n",
      "Keywords: Cholera, case definition, suspected case, probable case, confirmed case, reporting threshold.\n",
      "Does the TG contain case definitions for Dengue Fever?\n"
     ]
    },
    {
     "name": "stderr",
     "output_type": "stream",
     "text": [
      " 44%|████▍     | 219/499 [14:36<17:24,  3.73s/it]"
     ]
    },
    {
     "name": "stdout",
     "output_type": "stream",
     "text": [
      " Answers: Yes, the TG contains case definitions for Dengue Fever.\n",
      "Keywords: Dengue Fever, case definitions, suspected case, confirmed case, laboratory confirmation, IgM antibody, four-fold or greater rise in IgG antibody titres, positive PCR or viral isolation, haemorrhagic manifestations, leucopenia.\n",
      "Does the TG contain case definitions for Diarrhoea with blood (Shigella)?\n"
     ]
    },
    {
     "name": "stderr",
     "output_type": "stream",
     "text": [
      " 44%|████▍     | 220/499 [14:39<16:13,  3.49s/it]"
     ]
    },
    {
     "name": "stdout",
     "output_type": "stream",
     "text": [
      " Answers: Yes, the TG provides case definitions for Diarrhoea with blood (Shigella).\n",
      "\n",
      "Keywords: Shigella, diarrhea, bloody stool, suspected case, confirmed case, stool culture, Shigella dysenteriae type1.\n",
      "Does the TG contain case definitions for Diarrhoea with dehydration in children less than 5 years of age?\n"
     ]
    },
    {
     "name": "stderr",
     "output_type": "stream",
     "text": [
      " 44%|████▍     | 221/499 [14:42<15:36,  3.37s/it]"
     ]
    },
    {
     "name": "stdout",
     "output_type": "stream",
     "text": [
      " Answers: Yes, the TG provides case definitions and management guidelines for Diarrhoea with dehydration in children under 5 years old.\n",
      "\n",
      "Keywords: Diarrhoea, dehydration, children under 5, case definitions, management guidelines.\n",
      "Does the TG contain case definitions for Ebola or Marburg virus diseases?\n"
     ]
    },
    {
     "name": "stderr",
     "output_type": "stream",
     "text": [
      " 44%|████▍     | 222/499 [14:46<15:49,  3.43s/it]"
     ]
    },
    {
     "name": "stdout",
     "output_type": "stream",
     "text": [
      " Answers: Yes, the TG contains case definitions for Ebola and Marburg virus diseases.\n",
      "\n",
      "Keywords: Ebola, Marburg, case definitions, suspected case, probable case, confirmed case, community-based surveillance, alert cases, laboratory confirmation, non-case.\n",
      "Does the TG contain case definitions for Epilepsy?\n"
     ]
    },
    {
     "name": "stderr",
     "output_type": "stream",
     "text": [
      " 45%|████▍     | 223/499 [14:49<15:15,  3.32s/it]"
     ]
    },
    {
     "name": "stdout",
     "output_type": "stream",
     "text": [
      " Answers: Yes, the TG contains case definitions for Epilepsy.\n",
      "Keywords: Epilepsy, case definition, suspected case, confirmed case, diagnostic test, blood glucose, electrolytes, exclude other conditions, laboratory confirmation, specimen, prepare, store, transport, results, WHO guidelines.\n",
      "Does the TG contain case definitions for Hypertension?\n"
     ]
    },
    {
     "name": "stderr",
     "output_type": "stream",
     "text": [
      " 45%|████▍     | 224/499 [14:52<15:24,  3.36s/it]"
     ]
    },
    {
     "name": "stdout",
     "output_type": "stream",
     "text": [
      " Answers: The TG booklet does not specifically mention case definitions for Hypertension in the provided rows.\n",
      "\n",
      "Keywords: TG, booklet, case definitions, Hypertension, not mentioned.\n",
      "Does the TG contain case definitions for Injuries (Road traffic accidents)?\n"
     ]
    },
    {
     "name": "stderr",
     "output_type": "stream",
     "text": [
      " 45%|████▌     | 225/499 [14:55<14:02,  3.08s/it]"
     ]
    },
    {
     "name": "stdout",
     "output_type": "stream",
     "text": [
      " Answers: Yes, the TG provides a standard case definition for Road Traffic Injuries.\n",
      "Keywords: Road Traffic Injury, Case Definition, Standard, Person, Injury, Road Traffic Crash.\n",
      "Does the TG contain case definitions for Lassa and Crimean-Congo Haemorrhagic Fevers?\n"
     ]
    },
    {
     "name": "stderr",
     "output_type": "stream",
     "text": [
      " 45%|████▌     | 226/499 [14:58<14:44,  3.24s/it]"
     ]
    },
    {
     "name": "stdout",
     "output_type": "stream",
     "text": [
      " Answers: Yes, the TG provides case definitions for Lassa and Crimean-Congo Haemorrhagic Fevers.\n",
      "\n",
      "Keywords: Lassa Fever, Crimean-Congo Haemorrhagic Fever, case definitions, suspected case, confirmed case, infection control, response threshold, symptomatic patients, supportive therapy, ribavirin, early detection, surveillance goal.\n",
      "Does the TG contain case definitions for Malaria?\n"
     ]
    },
    {
     "name": "stderr",
     "output_type": "stream",
     "text": [
      " 45%|████▌     | 227/499 [15:02<15:12,  3.35s/it]"
     ]
    },
    {
     "name": "stdout",
     "output_type": "stream",
     "text": [
      " Answers: Yes, the TG contains case definitions for Malaria through the use of disease-specific case-based reporting forms as indicated in rows 531-532 and Annex 11F (row 239).\n",
      "\n",
      "Keywords: Malaria, case definitions, disease-specific reporting forms, Annex 11F.\n",
      "Does the TG contain case definitions for MonkeyPox?\n"
     ]
    },
    {
     "name": "stderr",
     "output_type": "stream",
     "text": [
      " 46%|████▌     | 228/499 [15:06<16:25,  3.64s/it]"
     ]
    },
    {
     "name": "stdout",
     "output_type": "stream",
     "text": [
      " Answers: Yes, the TG provides case definitions for Monkeypox, including specimen collection, laboratory confirmation through Polymerase chain reaction (PCR) assay, and reporting procedures.\n",
      "\n",
      "Keywords: Monkeypox, case definitions, specimen collection, laboratory confirmation, PCR assay, public health emergency, report cases, isolation, airborne infection control, supportive care, symptom-specific management, risk communication, contact tracing, active surveillance, WHO.\n",
      "Does the TG contain case definitions for Bubonic Plague?\n"
     ]
    },
    {
     "name": "stderr",
     "output_type": "stream",
     "text": [
      " 46%|████▌     | 229/499 [15:09<15:52,  3.53s/it]"
     ]
    },
    {
     "name": "stdout",
     "output_type": "stream",
     "text": [
      " Answers: Yes, the TG provides case definitions for bubonic plague.\n",
      "\n",
      "Keywords: bubonic plague, case definition, suspected case, confirmed case, fever, lymph nodes, epidemiological features, Yersinia pestis, isolation, seroconversion, rapid diagnostic test, buboes, plague outbreak, reporting, authorities.\n",
      "Does the TG contain case definitions for Pneumonic Plague?\n"
     ]
    },
    {
     "name": "stderr",
     "output_type": "stream",
     "text": [
      " 46%|████▌     | 230/499 [15:13<15:44,  3.51s/it]"
     ]
    },
    {
     "name": "stdout",
     "output_type": "stream",
     "text": [
      " Answers: Yes, the TG contains case definitions for Pneumonic Plague.\n",
      "\n",
      "Keywords: Pneumonic Plague, case definitions, suspected case, confirmed case, isolation, community mobilization, data analysis, disease surveillance.\n",
      "Does the TG contain case definitions for Poliomyelitis (Acute flaccid paralysis)?\n"
     ]
    },
    {
     "name": "stderr",
     "output_type": "stream",
     "text": [
      " 46%|████▋     | 231/499 [15:17<15:57,  3.57s/it]"
     ]
    },
    {
     "name": "stdout",
     "output_type": "stream",
     "text": [
      " Answers: Yes, the TG contains case definitions for Poliomyelitis (Acute flaccid paralysis).\n",
      "\n",
      "Keywords: poliomyelitis, acute flaccid paralysis, case definitions, suspected case, diagnostic test, stool specimen, isolation of polio virus.\n",
      "Does the TG contain case definitions for Rabies (Human)?\n"
     ]
    },
    {
     "name": "stderr",
     "output_type": "stream",
     "text": [
      " 46%|████▋     | 232/499 [15:20<15:32,  3.49s/it]"
     ]
    },
    {
     "name": "stdout",
     "output_type": "stream",
     "text": [
      " Answers: Yes, the TG contains case definitions for Rabies (Human).\n",
      "Keywords: Rabies, Human, case definitions, suspected case, confirmed case, post exposure prophylaxis, isolate patient, immunize contacts, vaccinate animals, public awareness, target immunization campaign, active surveillance.\n",
      "Does the TG contain case definitions for Severe Acute Respiratory Infections (SARIs)?\n"
     ]
    },
    {
     "name": "stderr",
     "output_type": "stream",
     "text": [
      " 47%|████▋     | 233/499 [15:23<14:40,  3.31s/it]"
     ]
    },
    {
     "name": "stdout",
     "output_type": "stream",
     "text": [
      " Answers: Yes, the TG provides case definitions for Severe Acute Respiratory Infections (SARIs).\n",
      "\n",
      "Keywords: Severe Acute Respiratory Infections (SARIs), case definitions, fever, cough, hospitalization, surveillance goals, early detection, investigation.\n",
      "Does the TG contain case definitions for Severe Acute Respiratory Syndrome (SARS)?\n"
     ]
    },
    {
     "name": "stderr",
     "output_type": "stream",
     "text": [
      " 47%|████▋     | 234/499 [15:26<14:25,  3.27s/it]"
     ]
    },
    {
     "name": "stdout",
     "output_type": "stream",
     "text": [
      " Answers: Yes, the TG contains case definitions for Severe Acute Respiratory Syndrome (SARS).\n",
      "Keywords: SARS, case definition, fever, cough, hospitalization, surveillance goals, suspected case, clinical evidence, epidemiological risk factor.\n",
      "Does the TG contain case definitions for Severe Pneumonia in Children under 5 years of age?\n"
     ]
    },
    {
     "name": "stderr",
     "output_type": "stream",
     "text": [
      " 47%|████▋     | 235/499 [15:29<13:58,  3.18s/it]"
     ]
    },
    {
     "name": "stdout",
     "output_type": "stream",
     "text": [
      " Answers: Yes, the TG provides a clinical case definition for severe pneumonia in children under 5 years of age.\n",
      "\n",
      "Keywords: Severe pneumonia, clinical case definition, IMCI strategy, early identification, antimicrobial resistance, WHO, UNICEF.\n",
      "Does the TG contain case definitions for Sexually transmitted infections?\n"
     ]
    },
    {
     "name": "stderr",
     "output_type": "stream",
     "text": [
      " 47%|████▋     | 236/499 [15:33<14:43,  3.36s/it]"
     ]
    },
    {
     "name": "stdout",
     "output_type": "stream",
     "text": [
      " Answers: Yes, the TG provides case definitions for sexually transmitted infections (STIs).\n",
      "Keywords: sexually transmitted infections, case definitions, ulcer, labia, vagina, rectum, confirmed case, suspected case, urethral discharge syndrome, public health action, active case finding, primary prevention, safer sexual behaviours, condoms, algorithms, detection and treatment, maternal and child health, family planning, vulnerable populations, early STI health seeking behaviour, analysis, interpretation, data, time, place, person, laboratory confirmation, routine confirmation, surveillance.\n",
      "Is there an Acute Flaccid Paralysis case investigation form available in the TG?\n"
     ]
    },
    {
     "name": "stderr",
     "output_type": "stream",
     "text": [
      " 47%|████▋     | 237/499 [15:36<14:22,  3.29s/it]"
     ]
    },
    {
     "name": "stdout",
     "output_type": "stream",
     "text": [
      " Answers: Yes, Annex 11B in the TG contains the Acute Flaccid Paralysis case investigation form.\n",
      "\n",
      "Keywords: Acute Flaccid Paralysis, case investigation form, Annex 11B.\n",
      "Are there Maternal and Perinatal death reporting forms available in the TG?\n"
     ]
    },
    {
     "name": "stderr",
     "output_type": "stream",
     "text": [
      " 48%|████▊     | 238/499 [15:39<14:10,  3.26s/it]"
     ]
    },
    {
     "name": "stdout",
     "output_type": "stream",
     "text": [
      " Answers: Yes, there are two maternal death reporting forms (Annex 2K and Annex 11D) and a perinatal death reporting form available in the TG.\n",
      "\n",
      "Keywords: Maternal death reporting forms, Perinatal death reporting form, Annex 2K, Annex 11D, available, TG.\n",
      "Is there a Measles case investigation form available in the TG?\n"
     ]
    },
    {
     "name": "stderr",
     "output_type": "stream",
     "text": [
      " 48%|████▊     | 239/499 [15:43<14:35,  3.37s/it]"
     ]
    },
    {
     "name": "stdout",
     "output_type": "stream",
     "text": [
      " Answers: Yes, ANNEX 11E in the TG Booklet 6 is the Measles case investigation form.\n",
      "\n",
      "Keywords: Measles, case investigation form, ANNEX 11E, TG Booklet 6.\n",
      "Is there a Respiratory diseases (including Influenza) case investigation form available in the TG?\n"
     ]
    },
    {
     "name": "stderr",
     "output_type": "stream",
     "text": [
      " 48%|████▊     | 240/499 [15:46<14:48,  3.43s/it]"
     ]
    },
    {
     "name": "stdout",
     "output_type": "stream",
     "text": [
      " Answers: Yes, there are several forms related to investigating respiratory diseases, including influenza, in the TG (Technical Guidance).\n",
      "\n",
      "Keywords: Respiratory diseases investigation, Influenza investigation, Technical Guidance, Forms.\n",
      "Is there an IDSR Outbreak line list available in the TG?\n"
     ]
    },
    {
     "name": "stderr",
     "output_type": "stream",
     "text": [
      " 48%|████▊     | 241/499 [15:50<14:45,  3.43s/it]"
     ]
    },
    {
     "name": "stdout",
     "output_type": "stream",
     "text": [
      " Answers: Yes, there is a reference to an IDSR Outbreak line list in the retrieved data.\n",
      "Keywords: IDSR, Outbreak, line list, data collection, analysis, response.\n",
      "Are there Contact listing forms available in the TG?\n"
     ]
    },
    {
     "name": "stderr",
     "output_type": "stream",
     "text": [
      " 48%|████▊     | 242/499 [15:52<13:18,  3.11s/it]"
     ]
    },
    {
     "name": "stdout",
     "output_type": "stream",
     "text": [
      " Answers: Yes, contact listing forms are mentioned in the TG (Annex 4F).\n",
      "Keywords: contact listing forms, Annex 4F.\n",
      "Is CDC an abbreviation mentioned in the TG, and what does it stand for?\n"
     ]
    },
    {
     "name": "stderr",
     "output_type": "stream",
     "text": [
      " 49%|████▊     | 243/499 [15:55<13:38,  3.20s/it]"
     ]
    },
    {
     "name": "stdout",
     "output_type": "stream",
     "text": [
      " Answers: No, CDC is not explicitly mentioned as an abbreviation in the provided data.\n",
      "\n",
      "Keywords: CDC (Centers for Disease Control and Prevention) is not directly mentioned in the given text.\n",
      "Is there information about CBS in the TG, and what does it stand for?\n"
     ]
    },
    {
     "name": "stderr",
     "output_type": "stream",
     "text": [
      " 49%|████▉     | 244/499 [16:00<14:48,  3.48s/it]"
     ]
    },
    {
     "name": "stdout",
     "output_type": "stream",
     "text": [
      " Answers: Yes, CBS stands for Community Based Surveillance.\n",
      "\n",
      "Keywords: Community Based Surveillance, buy-in, national and subnational level authorities, designated health facility manager or surveillance officer, availability and knowledge of standard community case definitions, VHCs (Volunteer Health Workers), CBS Focal Supervisor, sources of information, formalized framework, participants, training needs, picture based/simplified training material, non-literate/semi-literate populations, surveillance and response skills, improved Interpersonal skills, cell-phone based opportunities.\n",
      "Does the TG mention CBIS as an abbreviation, and what does it stand for?\n",
      " Answers: No, CBIS is not mentioned in the provided data as an abbreviation.\n",
      "Keywords: TG, no, CBIS, abbreviation.\n"
     ]
    },
    {
     "name": "stderr",
     "output_type": "stream",
     "text": [
      " 49%|████▉     | 245/499 [16:02<13:13,  3.12s/it]"
     ]
    },
    {
     "name": "stdout",
     "output_type": "stream",
     "text": [
      "Is CFR an abbreviation in the TG, and what does it stand for?\n",
      " Answers: Yes, CFR is an abbreviation in the TG. It stands for Communicable Disease Reporting.\n",
      "\n",
      "Keywords: CFR, Communicable Disease Reporting, abbreviation, TG.\n"
     ]
    },
    {
     "name": "stderr",
     "output_type": "stream",
     "text": [
      " 49%|████▉     | 246/499 [16:04<11:24,  2.70s/it]"
     ]
    },
    {
     "name": "stdout",
     "output_type": "stream",
     "text": [
      "What does CHA stand for, and is it explained in the TG?\n"
     ]
    },
    {
     "name": "stderr",
     "output_type": "stream",
     "text": [
      " 49%|████▉     | 247/499 [16:07<11:57,  2.85s/it]"
     ]
    },
    {
     "name": "stdout",
     "output_type": "stream",
     "text": [
      " Answers: CHA stands for Community Health Workers or Community Hygiene Actions, depending on the context. It is explained in the TG (Technical Guidance) documents that community health workers are identified and trained in SBCC (Social and Behavior Change Communication) and risk communication.\n",
      "\n",
      "Keywords: CHA, Community Health Workers, SBCC, risk communication, training.\n",
      "Is there an abbreviation CHT in the TG, and what does it stand for?\n"
     ]
    },
    {
     "name": "stderr",
     "output_type": "stream",
     "text": [
      " 50%|████▉     | 248/499 [16:09<10:52,  2.60s/it]"
     ]
    },
    {
     "name": "stdout",
     "output_type": "stream",
     "text": [
      " Answers: No, \"CHT\" is not an abbreviation found in the provided data.\n",
      "Keywords: No, CHT, abbreviations.\n",
      "What does DDO stand for, and is it explained in the TG?\n",
      " Answers: DDO stands for Department of Disaster Management Affairs, which is mentioned in TG Booklet 3, Row Number: 533.\n",
      "\n",
      "Keywords: Department of Disaster Management Affairs (DoDMA), TG Booklet 3.\n"
     ]
    },
    {
     "name": "stderr",
     "output_type": "stream",
     "text": [
      " 50%|████▉     | 249/499 [16:11<10:02,  2.41s/it]"
     ]
    },
    {
     "name": "stdout",
     "output_type": "stream",
     "text": [
      "What does DHO stand for, and where can I find its meaning in the TG?\n"
     ]
    },
    {
     "name": "stderr",
     "output_type": "stream",
     "text": [
      " 50%|█████     | 250/499 [16:14<11:33,  2.78s/it]"
     ]
    },
    {
     "name": "stdout",
     "output_type": "stream",
     "text": [
      " Answers: DHO stands for District Health Office.\n",
      " Keywords: DHO, District Health Office, TG.\n",
      "Does the TG mention DPC as an abbreviation, and what does it stand for?\n"
     ]
    },
    {
     "name": "stderr",
     "output_type": "stream",
     "text": [
      " 50%|█████     | 251/499 [16:18<12:14,  2.96s/it]"
     ]
    },
    {
     "name": "stdout",
     "output_type": "stream",
     "text": [
      " Answers: No, the abbreviation \"DPC\" is not mentioned in the retrieved data.\n",
      "\n",
      "Keywords: TG, Abbreviations, IDSR, reports, data sharing, quality checks, ComBaS, Laboratory, Surveillance, One Health Approach, data protection, security, confidentiality.\n",
      "Is EPR an abbreviation mentioned in the TG, and what does it stand for?\n",
      " Answers: Yes, EPR is an abbreviation mentioned in the TG. It stands for Emergency Preparedness and Response.\n",
      "\n",
      "Keywords: EPR, Emergency Preparedness and Response, TG, abbreviation.\n"
     ]
    },
    {
     "name": "stderr",
     "output_type": "stream",
     "text": [
      " 51%|█████     | 252/499 [16:21<12:12,  2.96s/it]"
     ]
    },
    {
     "name": "stdout",
     "output_type": "stream",
     "text": [
      "Is HCF an abbreviation mentioned in the TG, and what does it stand for?\n"
     ]
    },
    {
     "name": "stderr",
     "output_type": "stream",
     "text": [
      " 51%|█████     | 253/499 [16:24<12:35,  3.07s/it]"
     ]
    },
    {
     "name": "stdout",
     "output_type": "stream",
     "text": [
      " Answers: No, HCF is not an abbreviation mentioned in the provided data.\n",
      "\n",
      "Keywords: HCF, not mentioned, retrieved data.\n",
      "What does HMER stand for, and where can I find its meaning in the TG?\n",
      " Answers: HMER stands for \"Human Monitoring and Early Response\". Its definition can be found in the Glossary section of the Technical Guidance (TG), specifically row number 91.\n",
      "\n",
      "Keywords: HMER, Human Monitoring and Early Response, Glossary, TG.\n"
     ]
    },
    {
     "name": "stderr",
     "output_type": "stream",
     "text": [
      " 51%|█████     | 254/499 [16:27<12:03,  2.95s/it]"
     ]
    },
    {
     "name": "stdout",
     "output_type": "stream",
     "text": [
      "Does the TG include IBS as an abbreviation, and what does it stand for?\n"
     ]
    },
    {
     "name": "stderr",
     "output_type": "stream",
     "text": [
      " 51%|█████     | 255/499 [16:30<12:44,  3.13s/it]"
     ]
    },
    {
     "name": "stdout",
     "output_type": "stream",
     "text": [
      " Answers: Yes, IBS is included as an abbreviation in the TG (TG Booklet 1 and 2). It stands for Integrated Disease Surveillance and Response.\n",
      "\n",
      "Keywords: IBS, Integrated Disease Surveillance and Response, health system, community, health facility, district, national levels, standard case definitions, priority diseases, events, alert detection, triaging, verification, rumour book, routine IDSR activities, existing resources, infrastructure.\n",
      "Is IEC an abbreviation mentioned in the TG, and what does it stand for?\n",
      " Answers: Yes, IEC is an abbreviation mentioned in the TG. It stands for Information, Education, and Communication.\n",
      "\n",
      "Keywords: IEC, Information, Education, Communication, TG.\n"
     ]
    },
    {
     "name": "stderr",
     "output_type": "stream",
     "text": [
      " 51%|█████▏    | 256/499 [16:33<12:18,  3.04s/it]"
     ]
    },
    {
     "name": "stdout",
     "output_type": "stream",
     "text": [
      "What does IMC stand for, and is it defined in the TG?\n"
     ]
    },
    {
     "name": "stderr",
     "output_type": "stream",
     "text": [
      " 52%|█████▏    | 257/499 [16:37<12:48,  3.17s/it]"
     ]
    },
    {
     "name": "stdout",
     "output_type": "stream",
     "text": [
      " Answers: IMC is not explicitly defined in the provided TG data. It may refer to various things such as \"International Medical Corps\" or \"Incident Management Team,\" but without additional context, its meaning cannot be determined from the given data.\n",
      "\n",
      "Keywords: IMC, undefined, International Medical Corps, Incident Management Team, context required.\n",
      "What does IPC stand for, and where can I find its meaning in the TG?\n"
     ]
    },
    {
     "name": "stderr",
     "output_type": "stream",
     "text": [
      " 52%|█████▏    | 258/499 [16:41<14:32,  3.62s/it]"
     ]
    },
    {
     "name": "stdout",
     "output_type": "stream",
     "text": [
      " Answers: IPC stands for Integrated Disease Surveillance and Response.\n",
      "Keywords: IPC, Integrated Disease Surveillance and Response.\n",
      "\n",
      "Answer (for IDSR reports and data sharing): Annex 2I discusses IDSR reports and data sharing logbook.\n",
      "Keywords: IDSR reports, data sharing, logbook.\n",
      "\n",
      "Relevant rows from the TG: 696, 27, 1.4.2, 1.5, 1.6, 1.7, 1.8, 1.9, 1.9.2, 1.10, 1.11, 35, 36, 411.\n",
      "Is IHR (2005) an abbreviation mentioned in the TG, and what does it stand for?\n"
     ]
    },
    {
     "name": "stderr",
     "output_type": "stream",
     "text": [
      " 52%|█████▏    | 259/499 [16:45<14:01,  3.50s/it]"
     ]
    },
    {
     "name": "stdout",
     "output_type": "stream",
     "text": [
      " Answers: Yes, IHR (2005) is an abbreviation mentioned in the TG. It stands for International Health Regulations (2005).\n",
      "\n",
      "Keywords: IHR (2005), International Health Regulations, abbreviation\n",
      "What is JEE an abbreviation for, and where can I find its meaning in the TG?\n"
     ]
    },
    {
     "name": "stderr",
     "output_type": "stream",
     "text": [
      " 52%|█████▏    | 260/499 [16:47<13:10,  3.31s/it]"
     ]
    },
    {
     "name": "stdout",
     "output_type": "stream",
     "text": [
      " Answers: JEE is an abbreviation for \"Joint Evaluation Exercise\". It is mentioned multiple times in the TG booklets, specifically in the list of abbreviations sections on rows 167, 88, 89, and 76.\n",
      "\n",
      "Keywords: JEE, Joint Evaluation Exercise, list of abbreviations, TG booklets.\n",
      "What is MDR an abbreviation for, and where can I find its meaning in the TG?\n"
     ]
    },
    {
     "name": "stderr",
     "output_type": "stream",
     "text": [
      " 52%|█████▏    | 261/499 [16:51<12:51,  3.24s/it]"
     ]
    },
    {
     "name": "stdout",
     "output_type": "stream",
     "text": [
      " Answers: MDR stands for Multi-Drug Resistant. The meaning of this abbreviation is not explicitly stated in the provided data, but it can be inferred from its context as it relates to diseases or conditions (10.5.1 List of diseases/conditions/events).\n",
      "\n",
      "Keywords: MDR, Multi-Drug Resistant, List of diseases/conditions/events\n",
      "What does MOA stand for, and is it explained in the TG?\n",
      " Answers: MOA stands for Memorandum of Agreement. It is mentioned in TG booklet 3, row number 531, where it talks about mapping resources available, which includes experts and agreements like MOAs.\n",
      "\n",
      "Keywords: MOA, Memorandum of Agreement, mapping resources, experts, agreements.\n"
     ]
    },
    {
     "name": "stderr",
     "output_type": "stream",
     "text": [
      " 53%|█████▎    | 262/499 [16:53<11:37,  2.94s/it]"
     ]
    },
    {
     "name": "stdout",
     "output_type": "stream",
     "text": [
      "Is MTI an abbreviation mentioned in the TG, and what does it stand for?\n",
      " Answers: Yes, MTI is an abbreviation mentioned in the TG.\n",
      "Keywords: MTI, abbreviation, TG.\n"
     ]
    },
    {
     "name": "stderr",
     "output_type": "stream",
     "text": [
      " 53%|█████▎    | 263/499 [16:55<10:34,  2.69s/it]"
     ]
    },
    {
     "name": "stdout",
     "output_type": "stream",
     "text": [
      "What does NGO stand for, and is it defined in the TG?\n"
     ]
    },
    {
     "name": "stderr",
     "output_type": "stream",
     "text": [
      " 53%|█████▎    | 264/499 [16:58<10:44,  2.74s/it]"
     ]
    },
    {
     "name": "stdout",
     "output_type": "stream",
     "text": [
      " Answers: NGO stands for Non-Governmental Organization. It is not explicitly defined in the provided data, but its role in supporting capacity building during public health emergencies is mentioned.\n",
      "\n",
      "Keywords: NGO, Non-Governmental Organization, support, capacity building, public health emergencies.\n",
      "Is NNT an abbreviation mentioned in the TG, and what does it stand for?\n",
      " Answers: Yes, NNT is an abbreviation mentioned in the TG. It stands for \"Notifiable conditions\".\n",
      "\n",
      "Keywords: Notifiable conditions, abbreviation, TG.\n"
     ]
    },
    {
     "name": "stderr",
     "output_type": "stream",
     "text": [
      " 53%|█████▎    | 265/499 [16:59<09:18,  2.39s/it]"
     ]
    },
    {
     "name": "stdout",
     "output_type": "stream",
     "text": [
      "Is PoE an abbreviation mentioned in the TG, and what does it stand for?\n",
      " Answers: Yes, PoE is an abbreviation mentioned in the TG. It stands for Points of Entry.\n",
      "\n",
      "Keywords: PoE, Points of Entry, abbreviation, TG.\n"
     ]
    },
    {
     "name": "stderr",
     "output_type": "stream",
     "text": [
      " 53%|█████▎    | 266/499 [17:02<09:22,  2.41s/it]"
     ]
    },
    {
     "name": "stdout",
     "output_type": "stream",
     "text": [
      "What is PHEIC an abbreviation for, and where can I find its meaning in the TG?\n",
      " Answers: The PHEOC is an acronym for Public Health Emergency Operations Center.\n",
      "Keywords: Public Health Emergency Operations Center, acronym.\n",
      "\n",
      "Answers: The meaning of PHEOC can be found in the TG Booklet 3 at row numbers 167 and following.\n",
      "Keywords: TG Booklet 3, row numbers 167 and following, meaning, Public Health Emergency Operations Center.\n"
     ]
    },
    {
     "name": "stderr",
     "output_type": "stream",
     "text": [
      " 54%|█████▎    | 267/499 [17:05<10:49,  2.80s/it]"
     ]
    },
    {
     "name": "stdout",
     "output_type": "stream",
     "text": [
      "Is PHEMC an abbreviation mentioned in the TG, and what does it stand for?\n",
      " Answers: Yes, PHEMC is an abbreviation mentioned in the TG. It stands for Public Health Emergency Management Committee.\n",
      "\n",
      "Keywords: Public Health Emergency Management Committee, PHEMC, abbreviation, TG.\n"
     ]
    },
    {
     "name": "stderr",
     "output_type": "stream",
     "text": [
      " 54%|█████▎    | 268/499 [17:09<11:25,  2.97s/it]"
     ]
    },
    {
     "name": "stdout",
     "output_type": "stream",
     "text": [
      "What does SFP stand for, and is it explained in the TG?\n"
     ]
    },
    {
     "name": "stderr",
     "output_type": "stream",
     "text": [
      " 54%|█████▍    | 269/499 [17:11<10:02,  2.62s/it]"
     ]
    },
    {
     "name": "stdout",
     "output_type": "stream",
     "text": [
      " Answers: SFP stands for \"Specific Feedback and Performance\" in the context of the TG (Technical Guidance) document.\n",
      "\n",
      "Keywords: SFP, Specific Feedback and Performance, Technical Guidance.\n",
      "What does STI stand for, and where can I find its meaning in the TG?\n"
     ]
    },
    {
     "name": "stderr",
     "output_type": "stream",
     "text": [
      " 54%|█████▍    | 270/499 [17:14<10:53,  2.85s/it]"
     ]
    },
    {
     "name": "stdout",
     "output_type": "stream",
     "text": [
      " Answers: STI stands for Sexually Transmitted Infections. The meaning is not explicitly stated in the provided data, but it can be inferred from the context of the given rows (15-23) which discuss the identification and recording of priority diseases and conditions, including sexually transmitted diseases.\n",
      "\n",
      "Keywords: STI, Sexually Transmitted Infections, priority diseases, identification, recording.\n",
      "What is XDR an abbreviation for, and where can I find its meaning in the TG?\n"
     ]
    },
    {
     "name": "stderr",
     "output_type": "stream",
     "text": [
      " 54%|█████▍    | 271/499 [17:16<10:20,  2.72s/it]"
     ]
    },
    {
     "name": "stdout",
     "output_type": "stream",
     "text": [
      " Answers: XDR stands for Extensively Drug-Resistant. Its definition can be found in the Glossary (Row Number: 91) of the Technical Guidance document.\n",
      "\n",
      "Keywords: XDR, Extensively Drug-Resistant, Glossary\n",
      "What are the diseases associated with acute haemorrhagic fever syndrome?\n"
     ]
    },
    {
     "name": "stderr",
     "output_type": "stream",
     "text": [
      " 55%|█████▍    | 272/499 [17:22<13:30,  3.57s/it]"
     ]
    },
    {
     "name": "stdout",
     "output_type": "stream",
     "text": [
      " Answers: Acute hemorrhagic fever syndrome can be caused by various viral, bacterial, or rickettsial diseases including Ebola and Marburg viral diseases (Filoviridae), Lassa fever (arenaviridae), Rift Valley fever (RVF) and Crimean-Congo haemorrhagic fever (CCHF) (Bunyaviridae), dengue (dengue hemorrhagic fever), and yellow fever (Flaviviridae).\n",
      "\n",
      "Keywords: acute haemorrhagic fever syndrome, Ebola, Marburg, Lassa fever, Rift Valley fever, Crimean-Congo haemorrhagic fever, dengue hemorrhagic fever, yellow fever, Filoviridae, arenaviridae, Bunyaviridae.\n",
      "What is the goal of surveillance for acute haemorrhagic fever syndrome?\n"
     ]
    },
    {
     "name": "stderr",
     "output_type": "stream",
     "text": [
      " 55%|█████▍    | 273/499 [17:25<12:39,  3.36s/it]"
     ]
    },
    {
     "name": "stdout",
     "output_type": "stream",
     "text": [
      " Answers: The goal of surveillance for acute haemorrhagic fever syndrome is early detection of cases and outbreaks, rapid investigation, and laboratory verification of the cause.\n",
      "\n",
      "Keywords: early detection, acute haemorrhagic fever syndrome, surveillance goal, rapid investigation, laboratory verification, cases, outbreaks.\n",
      "What specimens are used for diagnostic tests in acute haemorrhagic fever syndrome?\n"
     ]
    },
    {
     "name": "stderr",
     "output_type": "stream",
     "text": [
      " 55%|█████▍    | 274/499 [17:28<12:44,  3.40s/it]"
     ]
    },
    {
     "name": "stdout",
     "output_type": "stream",
     "text": [
      " Answers: Specimens for diagnostic tests in acute haemorrhagic fever syndrome include whole blood, serum or plasma for ELISA and RT-PCR, skin or tissue specimens from fatal cases for immunohisto-chemistry.\n",
      "\n",
      "Keywords: ELISA, RT-PCR, whole blood, serum or plasma, skin or tissue specimens, diagnostic tests, acute haemorrhagic fever syndrome.\n",
      "What precautions should be taken when using Rapid Diagnostic Tests (RDTs) for VHDs?\n"
     ]
    },
    {
     "name": "stderr",
     "output_type": "stream",
     "text": [
      " 55%|█████▌    | 275/499 [17:33<13:54,  3.73s/it]"
     ]
    },
    {
     "name": "stdout",
     "output_type": "stream",
     "text": [
      " Answers: RDTs for VHDs require confirmation with nucleic-acid based tests like PCR. Use with caution due to potential false positives and negatives. Collect specimens from all suspected cases.\n",
      "\n",
      " Keywords: Rapid Diagnostic Tests (RDTs), VHDs, false positives, false negatives, nucleic-acid based tests (PCR), confirmatory testing, specimen collection, all suspected cases.\n",
      "What actions should be taken once a case is confirmed during an outbreak?\n"
     ]
    },
    {
     "name": "stderr",
     "output_type": "stream",
     "text": [
      " 55%|█████▌    | 276/499 [17:36<13:39,  3.68s/it]"
     ]
    },
    {
     "name": "stdout",
     "output_type": "stream",
     "text": [
      " Answers: Once a case is confirmed during an outbreak, immediate actions include maintaining strict infection control measures, mobilizing the community for early detection and care, conducting community education, requesting additional help, establishing isolation wards, implementing contact tracing and management, conducting active surveillance, notifying WHO, and analyzing and interpreting data.\n",
      "\n",
      "Keywords: confirmation of case, infection control, community mobilization, community education, help request, isolation ward, contact tracing, active surveillance, WHO notification, data analysis.\n",
      "Where should suspected cases be isolated during an outbreak?\n",
      " Answers: The location for isolating suspected cases during an outbreak is not explicitly stated in the provided data. However, it is mentioned that communication procedures are essential for sharing critical information about risks associated with the outbreak or event. Additionally, the investigation should begin in the most affected place.\n",
      "\n",
      "Keywords: communication procedure, critical information, investigation, most affected place, outbreak, public health event.\n"
     ]
    },
    {
     "name": "stderr",
     "output_type": "stream",
     "text": [
      " 56%|█████▌    | 277/499 [17:40<13:25,  3.63s/it]"
     ]
    },
    {
     "name": "stdout",
     "output_type": "stream",
     "text": [
      "Which diagnostic tests are used to confirm laboratory cases of acute haemorrhagic fever syndrome?\n"
     ]
    },
    {
     "name": "stderr",
     "output_type": "stream",
     "text": [
      " 56%|█████▌    | 278/499 [17:46<16:30,  4.48s/it]"
     ]
    },
    {
     "name": "stdout",
     "output_type": "stream",
     "text": [
      " Answers: Laboratory confirmation of acute hemorrhagic fever syndrome involves testing positive for the virus antigen using RT-PCR or detecting IgM antibodies against Ebola, Marburg, CCHF, Lassa, or West Nile Fever. Tests include ELISA (whole blood, serum or plasma), RT-PCR (whole blood or blood clot, serum/plasma or tissue), and immunohisto-chemistry (skin or tissue specimens from fatal cases). Rapid diagnostic tests may be used but require confirmation with a nucleic-acid based assay.\n",
      "\n",
      "Keywords: acute haemorrhagic fever syndrome, laboratory confirmation, diagnostic tests, RT-PCR, ELISA, immunohisto-chemistry, virus antigen, IgM antibodies, Ebola, Marburg, CCHF, Lassa, West Nile Fever, whole blood, serum or plasma, tissue, rapid diagnostic tests, nucleic-acid based assay.\n",
      "Why is it important to analyze age and sex distribution during an outbreak of acute haemorrhagic fever?\n",
      " Answers: Analyzing age and sex distribution during an outbreak of acute hemorrhagic fever is essential for planning interventions and response strategies. This information helps identify high-risk groups and plan targeted responses, such as immunization campaigns or contact tracing.\n",
      "\n",
      "Keywords: acute haemorrhagic fever, age distribution, sex distribution, intervention planning, outbreak response, high-risk groups.\n"
     ]
    },
    {
     "name": "stderr",
     "output_type": "stream",
     "text": [
      " 56%|█████▌    | 279/499 [17:51<16:37,  4.53s/it]"
     ]
    },
    {
     "name": "stdout",
     "output_type": "stream",
     "text": [
      "Which references provide guidelines for infection control and surveillance of viral haemorrhagic fevers?\n"
     ]
    },
    {
     "name": "stderr",
     "output_type": "stream",
     "text": [
      " 56%|█████▌    | 280/499 [17:57<18:19,  5.02s/it]"
     ]
    },
    {
     "name": "stdout",
     "output_type": "stream",
     "text": [
      " Answers: The references \"WHO Recommended Guidelines for Epidemic Preparedness and Response: Ebola Haemorrhagic Fever (EHF). WO/EMC/DIS/97.7.\", \"Infection control for Viral Haemorrhagic Fevers in the African Health Care Setting WHO/EMC/ESR/98.2\", and \"Infection control for VHF in the African health care setting, WHO, 1998\" provide guidelines for infection control and surveillance of viral haemorrhagic fevers.\n",
      "\n",
      "Keywords: Ebola Haemorrhagic Fever, Guidelines, Infection control, Viral Haemorrhagic Fevers, African health care setting.\n",
      "Why are estimates of carrier numbers significant for hepatitis B and C?\n"
     ]
    },
    {
     "name": "stderr",
     "output_type": "stream",
     "text": [
      " 56%|█████▋    | 281/499 [18:02<17:42,  4.88s/it]"
     ]
    },
    {
     "name": "stdout",
     "output_type": "stream",
     "text": [
      " Answers: Estimates of carrier numbers for hepatitis B and C are significant because they help identify the prevalence of chronic infections in a population, which is crucial for disease surveillance, planning healthcare resources, and implementing prevention and control measures.\n",
      "\n",
      "Keywords: carrier numbers, hepatitis B, hepatitis C, disease surveillance, healthcare resources, prevention and control measures, population prevalence, chronic infection.\n",
      "What is the goal of surveillance for acute viral hepatitis?\n"
     ]
    },
    {
     "name": "stderr",
     "output_type": "stream",
     "text": [
      " 57%|█████▋    | 282/499 [18:04<15:10,  4.19s/it]"
     ]
    },
    {
     "name": "stdout",
     "output_type": "stream",
     "text": [
      " Answers: The goal of surveillance for acute viral hepatitis includes detecting hepatitis outbreaks, identifying high-risk areas or populations, estimating disease burden, and measuring the impact of control measures.\n",
      "\n",
      "Keywords: acute viral hepatitis, detect outbreaks, identify high-risk areas, estimate burden, surveillance goals.\n",
      "How is chronic viral hepatitis C actively confirmed after a positive screening test?\n"
     ]
    },
    {
     "name": "stderr",
     "output_type": "stream",
     "text": [
      " 57%|█████▋    | 283/499 [18:08<14:51,  4.13s/it]"
     ]
    },
    {
     "name": "stdout",
     "output_type": "stream",
     "text": [
      " Answers: Chronic Hepatitis C is actively confirmed after a positive screening test by conducting RNA testing if HCV Ab is detected, as detectable HCV RNA confirms active infection.\n",
      "\n",
      "Keywords: HCV Ab, RNA testing, active infection, confirm, chronic hepatitis C.\n",
      "What additional investigations are conducted for chronic viral hepatitis C patients?\n"
     ]
    },
    {
     "name": "stderr",
     "output_type": "stream",
     "text": [
      " 57%|█████▋    | 284/499 [18:16<18:20,  5.12s/it]"
     ]
    },
    {
     "name": "stdout",
     "output_type": "stream",
     "text": [
      " Answers: For chronic viral hepatitis C patients, additional investigations include liver function tests (LFT), abdominal ultrasound, viral genotyping, full blood count (FBC), blood urea and electrolytes (BUE) and creatinine, as well as screening for co-infections such as HIV and HBV. The assessment of degree of inflammation and fibrosis is conducted using the Aspartate aminotransferase-to-platelet ratio index (APRI) score and Fibrosis-4 (FIB4) score.\n",
      "\n",
      "Keywords: chronic viral hepatitis C, additional investigations, liver function tests, abdominal ultrasound, viral genotyping, full blood count, blood urea and electrolytes, creatinine, co-infections, HIV, HBV, Aspartate aminotransferase-to-platelet ratio index, Fibrosis-4 score.\n",
      "Where can one find references for prevention and control of viral hepatitis?\n"
     ]
    },
    {
     "name": "stderr",
     "output_type": "stream",
     "text": [
      " 57%|█████▋    | 285/499 [18:18<15:02,  4.22s/it]"
     ]
    },
    {
     "name": "stdout",
     "output_type": "stream",
     "text": [
      " Answers: The TG Booklet 6, specifically rows 124, 126, and 130, provide references for the prevention and control of viral hepatitis.\n",
      "\n",
      "Keywords: TG Booklet 6, rows 124-130, prevention, control, viral hepatitis.\n",
      "Why is it necessary to assess inflammatory activity and fibrosis in chronic viral hepatitis patients?\n"
     ]
    },
    {
     "name": "stderr",
     "output_type": "stream",
     "text": [
      " 57%|█████▋    | 286/499 [18:20<12:50,  3.62s/it]"
     ]
    },
    {
     "name": "stdout",
     "output_type": "stream",
     "text": [
      " Answers: Assessing inflammatory activity and fibrosis in chronic viral hepatitis patients is necessary for monitoring disease progression, guiding treatment decisions, and evaluating response to therapy.\n",
      "\n",
      "Keywords: monitoring disease progression, guiding treatment decisions, evaluating response to therapy, inflammatory activity, fibrosis, chronic viral hepatitis.\n",
      "Where can one find guidelines for the prevention, care, and treatment of chronic viral hepatitis?\n"
     ]
    },
    {
     "name": "stderr",
     "output_type": "stream",
     "text": [
      " 58%|█████▊    | 287/499 [18:22<10:51,  3.07s/it]"
     ]
    },
    {
     "name": "stdout",
     "output_type": "stream",
     "text": [
      " Answers: Guidelines for the prevention, care, and treatment of chronic viral hepatitis can be found in resources dedicated to acute and chronic viral hepatitis.\n",
      "\n",
      "Keywords: guidelines, prevention, care, treatment, acute and chronic viral hepatitis.\n",
      "What are the five possible causes of Adverse Events Following Immunization (AEFI)?\n"
     ]
    },
    {
     "name": "stderr",
     "output_type": "stream",
     "text": [
      " 58%|█████▊    | 288/499 [18:25<10:41,  3.04s/it]"
     ]
    },
    {
     "name": "stdout",
     "output_type": "stream",
     "text": [
      " Answers: The text does not provide specific information about the five possible causes of Adverse Events Following Immunization (AEFI).\n",
      "Keywords: adverse events following immunization, investigation, report, vaccine pharmacovigilance, signs and symptoms, reporting forms.\n",
      "How should minor AEFIs be responded to?\n"
     ]
    },
    {
     "name": "stderr",
     "output_type": "stream",
     "text": [
      " 58%|█████▊    | 289/499 [18:28<11:16,  3.22s/it]"
     ]
    },
    {
     "name": "stdout",
     "output_type": "stream",
     "text": [
      " Answers: Minor AEFIs should be communicated to parents and the community that AEFIs can occur with any vaccine. Respond to rumors or public enquiries. Complete case reporting form if required.\n",
      "\n",
      "Keywords: communicate, parents, community, minor AEFIs, reporting form, rumors, public enquiries\n",
      "Compare minor and serious Adverse Events Following Immunization (AEFI) responses.\n"
     ]
    },
    {
     "name": "stderr",
     "output_type": "stream",
     "text": [
      " 58%|█████▊    | 290/499 [18:32<11:12,  3.22s/it]"
     ]
    },
    {
     "name": "stdout",
     "output_type": "stream",
     "text": [
      " Answers: Minor AEFIs are usually treated at the site of injection or with medication, while serious AEFIs require thorough investigation to determine their cause.\n",
      "\n",
      "Keywords: minor AEFIs, serious AEFIs, treatment, investigation, determination, causal relationship.\n",
      "Which document provides the global manual on surveillance of Adverse Events Following Immunization (AEFI)?\n"
     ]
    },
    {
     "name": "stderr",
     "output_type": "stream",
     "text": [
      " 58%|█████▊    | 291/499 [18:36<11:56,  3.45s/it]"
     ]
    },
    {
     "name": "stdout",
     "output_type": "stream",
     "text": [
      " Answers: The WHO Global Manual on Surveillance of Adverse Events Following Immunization is available at <http://www.who.int/vaccine_safety/publications/Global_Manual_revised_12102015.pdf>.\n",
      "\n",
      "Keywords: WHO, Global Manual, Surveillance, Adverse Events Following Immunization (AEFI), available online.\n",
      "Compare the goals of AEFI surveillance and the standard case definition for AEFI.\n"
     ]
    },
    {
     "name": "stderr",
     "output_type": "stream",
     "text": [
      " 59%|█████▊    | 292/499 [18:40<12:27,  3.61s/it]"
     ]
    },
    {
     "name": "stdout",
     "output_type": "stream",
     "text": [
      " Answers: The goals of AEFI surveillance are to determine if the vaccine or immunization process is responsible for a reported event or find another cause and correct it, while the standard case definition for AEFI is a set of criteria used to identify and classify adverse events following immunization.\n",
      "\n",
      "Keywords: AEFI surveillance, goals, determination, responsibility, reporting system, investigation, correction, public reassurance, standard case definition, identification, classification, criteria.\n",
      "What is Anthrax and what causes it?\n",
      " Answers: Anthrax is a zoonotic disease caused by the spore-forming bacterium Bacillus anthracis. It affects humans through direct or indirect contact with infected animals or their products.\n",
      "\n",
      "Keywords: Anthrax, zoonotic disease, Bacillus anthracis, spore-forming bacterium, transmission from animals or products.\n"
     ]
    },
    {
     "name": "stderr",
     "output_type": "stream",
     "text": [
      " 59%|█████▊    | 293/499 [18:43<12:16,  3.57s/it]"
     ]
    },
    {
     "name": "stdout",
     "output_type": "stream",
     "text": [
      "What is the incubation period for Anthrax, and what are the possible forms of human infection?\n"
     ]
    },
    {
     "name": "stderr",
     "output_type": "stream",
     "text": [
      " 59%|█████▉    | 294/499 [18:48<13:59,  4.10s/it]"
     ]
    },
    {
     "name": "stdout",
     "output_type": "stream",
     "text": [
      " Answers: The incubation period for anthrax ranges from 1 to 7 days, but can be longer for cutaneous anthrax (up to two to three weeks) and inhalation anthrax (up to 42 days). The possible forms of human infection are cutaneous, gastrointestinal, pulmonary (inhalation), and meningeal.\n",
      "\n",
      "Keywords: incubation period, anthrax, cutaneous form, gastrointestinal, pulmonary, meningeal, transmission, domestic livestock, wild game animals, epidemiological link, Bacillus anthracis, Gram positive, encapsulated, spore forming, none motile bacteria.\n",
      "What actions should be taken if a single case of Anthrax is suspected?\n"
     ]
    },
    {
     "name": "stderr",
     "output_type": "stream",
     "text": [
      " 59%|█████▉    | 295/499 [18:55<15:54,  4.68s/it]"
     ]
    },
    {
     "name": "stdout",
     "output_type": "stream",
     "text": [
      " Answers: If a single case of Anthrax is suspected, report case-based information immediately to the appropriate levels in the public health and animal health sectors. Use standard barrier precautions, including protective equipment and clothing, respiratory protection if necessary, and perform environmental cleaning with hypochlorite. Treat and manage the patient with supportive care and antibiotics such as Penicillin V or Penicillin G. Collect specimens safely to confirm the case, and conduct a joint investigation of cases/deaths. In humans, consider selective preventive vaccination in occupational settings.\n",
      "\n",
      "Keywords: Anthrax, single case, report, precautions, protective equipment, respiratory protection, disinfection, treatment, antibiotics, specimen collection, investigation, vaccination.\n",
      "Where can one find additional information and resources on Anthrax?\n",
      " Answers: The World Health Organization (WHO) is a good source of additional information on Anthrax.\n",
      "\n",
      "Keywords: World Health Organization, WHO, Anthrax, information, resources.\n"
     ]
    },
    {
     "name": "stderr",
     "output_type": "stream",
     "text": [
      " 59%|█████▉    | 296/499 [18:57<13:28,  3.98s/it]"
     ]
    },
    {
     "name": "stdout",
     "output_type": "stream",
     "text": [
      "Which forms of Anthrax pose a higher risk for explosive outbreaks, and why?\n",
      " Answers: The pulmonary (inhalation) form of anthrax poses a higher risk for explosive outbreaks due to its ability to spread easily through the air and cause person-to-person transmission.\n",
      "\n",
      "Keywords: Anthrax, Pulmonary form, Inhalation, Person-to-person transmission, Explosive outbreaks.\n"
     ]
    },
    {
     "name": "stderr",
     "output_type": "stream",
     "text": [
      " 60%|█████▉    | 297/499 [19:01<13:34,  4.03s/it]"
     ]
    },
    {
     "name": "stdout",
     "output_type": "stream",
     "text": [
      "Where should suspected Anthrax cases be reported, and why is immediate reporting important?\n"
     ]
    },
    {
     "name": "stderr",
     "output_type": "stream",
     "text": [
      " 60%|█████▉    | 298/499 [19:04<12:55,  3.86s/it]"
     ]
    },
    {
     "name": "stdout",
     "output_type": "stream",
     "text": [
      " Answers: Suspected Anthrax cases should be reported immediately to the appropriate levels in the public health sector and animal health sector.\n",
      "\n",
      "Keywords: report, suspected Anthrax cases, public health sector, animal health sector, immediate reporting.\n",
      "Contrast the impact of the MenAfriVac vaccine on Nm A epidemics with the occurrence of epidemics from other serogroups.\n"
     ]
    },
    {
     "name": "stderr",
     "output_type": "stream",
     "text": [
      " 60%|█████▉    | 299/499 [19:09<13:34,  4.07s/it]"
     ]
    },
    {
     "name": "stdout",
     "output_type": "stream",
     "text": [
      " Answers: The MenAfriVac vaccine, introduced in meningitis belt countries since 2010, has dramatically reduced Nm A epidemics and eliminated Nm A circulation. However, epidemics from other serogroups like C, W, X continue to occur.\n",
      "\n",
      "Keywords: MenAfriVac vaccine, Neisseria meningitidis, serogroup A, elimination, epidemics, other serogroups.\n",
      "Compare the laboratory confirmation methods for bacterial meningitis pathogens.\n"
     ]
    },
    {
     "name": "stderr",
     "output_type": "stream",
     "text": [
      " 60%|██████    | 300/499 [19:18<18:35,  5.61s/it]"
     ]
    },
    {
     "name": "stdout",
     "output_type": "stream",
     "text": [
      " Answers: Laboratory confirmation of bacterial meningitis involves microscopic examination of cerebrospinal fluid (CSF) for Gram negative diplococci, culture and isolation of Neisseria meningitidis, Streptococcus pneumoniae, and Haemophilus influenzae b from CSF or blood, and RT-PCR at national reference laboratories.\n",
      "\n",
      "Keywords: Gram negative diplococci, Neisseria meningitidis, Streptococcus pneumoniae, Haemophilus influenzae b, cerebrospinal fluid (CSF), microscopic examination, culture and isolation, RT-PCR, national reference laboratory.\n",
      "\n",
      "Microscopic examination is used to identify the presence of Gram negative diplococci in CSF, while culture and isolation involve growing the bacteria in a lab setting for confirmation. RT-PCR is a more advanced molecular method used at national reference laboratories for detecting bacterial DNA in CSF samples. Neisseria meningitidis is a fastidious organism that requires excellent techniques for specimen collection and handling, expensive media, and antisera. Initial isolates of N. meningitis or Neisseria meningitidis should be serogrouped and an antibiogram performed to ensure appropriate treatment. Trans isolate medium (TI) is stable and can be kept for up to two years after preparation when properly stored at 4ºC.\n",
      "Why are polysaccharide vaccines not recommended for very young children, and what is the limitation of their protection duration?\n"
     ]
    },
    {
     "name": "stderr",
     "output_type": "stream",
     "text": [
      " 60%|██████    | 301/499 [19:22<17:05,  5.18s/it]"
     ]
    },
    {
     "name": "stdout",
     "output_type": "stream",
     "text": [
      " Answers: Polysaccharide vaccines are not recommended for very young children due to their limited ability to elicit an adequate immune response in this age group. The protection duration of polysaccharide vaccines is also a limitation, as they do not provide immunity against repeated infections.\n",
      "\n",
      "Keywords: polysaccharide vaccines, young children, immune response, protection duration, adequate response.\n",
      "Contrast the impact of the MenAfriVac vaccine on Nm A epidemics with the impact on other serogroups in recent years.\n"
     ]
    },
    {
     "name": "stderr",
     "output_type": "stream",
     "text": [
      " 61%|██████    | 302/499 [19:27<16:17,  4.96s/it]"
     ]
    },
    {
     "name": "stdout",
     "output_type": "stream",
     "text": [
      " Answers: The MenAfriVac vaccine, introduced in meningitis belt countries since 2010, has dramatically reduced Nm A epidemics and eliminated Nm A circulation. However, epidemics from other serogroups like C, W, X continue to occur.\n",
      "\n",
      "Keywords: MenAfriVac vaccine, Nm A, epidemics, reduction, elimination, other serogroups, continued occurrence.\n",
      "Where should CSF specimens be collected for diagnosing bacterial meningitis, and why is CSF preferred over other specimens?\n"
     ]
    },
    {
     "name": "stderr",
     "output_type": "stream",
     "text": [
      " 61%|██████    | 303/499 [19:31<15:15,  4.67s/it]"
     ]
    },
    {
     "name": "stdout",
     "output_type": "stream",
     "text": [
      " Answers: CSF specimens should be collected from the cerebrospinal fluid for diagnosing bacterial meningitis. CSF is preferred over other specimens because it is the specimen of choice for culture and microscopic exam in diagnosing bacterial meningitis. If CSF is not available, blood can be collected instead.\n",
      "\n",
      "Keywords: CSF specimens, cerebrospinal fluid, bacterial meningitis, culture, microscopic exam, preferred over other specimens.\n",
      "What is the extent of the long-term sequelae suffered by bacterial meningitis survivors, and which complications are commonly observed?\n"
     ]
    },
    {
     "name": "stderr",
     "output_type": "stream",
     "text": [
      " 61%|██████    | 304/499 [19:36<15:25,  4.74s/it]"
     ]
    },
    {
     "name": "stdout",
     "output_type": "stream",
     "text": [
      " Answers: The data does not provide specific information on the extent or prevalence of long-term sequelae in bacterial meningitis survivors. However, it mentions that confirmed cases are those that are laboratory-confirmed by culturing or identifying a bacterial pathogen in CSF or blood.\n",
      "\n",
      "Keywords: bacterial meningitis, confirmed case, laboratory confirmation, Neisseria meningitidis, Streptococcus pneumoniae, Haemophilus influenzae b, cerebrospinal fluid, CSF specimen, long-term sequelae.\n",
      "Compare the management strategies for Buruli ulcer (BU) in categories I, II, and III patients.\n"
     ]
    },
    {
     "name": "stderr",
     "output_type": "stream",
     "text": [
      " 61%|██████    | 305/499 [19:40<15:18,  4.73s/it]"
     ]
    },
    {
     "name": "stdout",
     "output_type": "stream",
     "text": [
      " Answers: The management strategies for Buruli ulcer (BU) vary depending on the patient category. Category I patients receive wound dressing and combined antibiotic treatment with Rifampicin and Clarithromycin for 8 weeks. Suspected cases should be reported to the appropriate health facility, a specimen taken for laboratory confirmation, and case report forms filled out. Category II and III patients may require referral to a reference hospital or center.\n",
      "\n",
      "Keywords: Buruli ulcer, patient categories, management strategies, Rifampicin, Clarithromycin, wound dressing, antibiotic treatment, specimen, laboratory confirmation, case report form, health facility, referral, reference hospital.\n",
      "Why is mycolactone detection considered a new diagnostic test for Buruli ulcer (BU), and what is its significance?\n"
     ]
    },
    {
     "name": "stderr",
     "output_type": "stream",
     "text": [
      " 61%|██████▏   | 306/499 [19:44<13:50,  4.31s/it]"
     ]
    },
    {
     "name": "stdout",
     "output_type": "stream",
     "text": [
      " Answers: Mycolactone detection is a new diagnostic test for Buruli ulcer (BU) because it was recently identified as a specific marker for M. ulcerans, the bacterium that causes BU. This test's significance lies in its ability to confirm the presence of the disease even when traditional methods like Ziehl-Neelsen stain or culture fail to detect it.\n",
      "\n",
      "Keywords: Buruli ulcer, Mycolactone detection, diagnostic test, M. ulcerans, confirmation, specific marker\n",
      "Where should specimens be collected for Buruli ulcer (BU) confirmation, and when is it recommended to collect them?\n"
     ]
    },
    {
     "name": "stderr",
     "output_type": "stream",
     "text": [
      " 62%|██████▏   | 307/499 [19:48<13:22,  4.18s/it]"
     ]
    },
    {
     "name": "stdout",
     "output_type": "stream",
     "text": [
      " Answers: Specimens for Buruli ulcer (BU) confirmation should be collected from suspected patients before any antibiotic is given, using materials such as dry swabs and recipients. They can be in the form of smears, fine needle aspirations, or biopsy specimens. The recommended specimens include those from nodules, plaques, ulcers, and osteomyelitis. Keywords: Buruli ulcer, specimen collection, clinical symptoms, before antibiotics, smears, fine needle aspirations, biopsy specimens.\n",
      "What is the extent of BU cases in the WHO African Region in 2017, and how does it compare to the global burden?\n"
     ]
    },
    {
     "name": "stderr",
     "output_type": "stream",
     "text": [
      " 62%|██████▏   | 308/499 [19:52<12:57,  4.07s/it]"
     ]
    },
    {
     "name": "stdout",
     "output_type": "stream",
     "text": [
      " Answers: The data provided does not contain specific information about BU (buruli ulcer) cases in the WHO African Region for the year 2017 or a comparison of the regional burden to the global one.\n",
      "\n",
      "Keywords: BU, WHO African Region, 2017, global burden, communicable diseases, priority diseases, surveillance, response.\n",
      "What actions are recommended in response to the alert threshold for BU, and why are these actions important?\n"
     ]
    },
    {
     "name": "stderr",
     "output_type": "stream",
     "text": [
      " 62%|██████▏   | 309/499 [19:57<13:46,  4.35s/it]"
     ]
    },
    {
     "name": "stdout",
     "output_type": "stream",
     "text": [
      " Answers: The recommended actions in response to an alert threshold for BU (Biosecurity Unit) include alert detection, triaging of EBS (Event Based Surveillance) alerts, and verification of the alerts. These actions are important because they help ensure timely identification and response to potential public health threats, minimize risks to the population, and maintain effective communication and coordination with relevant stakeholders.\n",
      "\n",
      "Keywords: alert detection, triaging, verification, EBS alerts, public health threats, risk assessment, mitigation and control measures, communication/coordination, national/international stakeholders.\n",
      "What is the standard case definition for Chikungunya?\n"
     ]
    },
    {
     "name": "stderr",
     "output_type": "stream",
     "text": [
      " 62%|██████▏   | 310/499 [20:04<16:41,  5.30s/it]"
     ]
    },
    {
     "name": "stdout",
     "output_type": "stream",
     "text": [
      " Answers: The standard case definition for Chikungunya includes an acute clinical case and an atypical case. For the acute clinical case, it involves a fever above 38.5°C (101.3°F) and joint pain, which is usually incapacitating. Additionally, the person must have been in areas with local Chikungunya transmission within the last 15 days or have a confirmed laboratory test result. For the atypical case, it refers to a clinical case of laboratory-confirmed Chikungunya accompanied by other manifestations such as neurological, cardiological, dermatological, ophthalmological, hepatic, renal, respiratory, or haematological symptoms.\n",
      "\n",
      "Keywords: standard case definition, acute clinical case, fever, joint pain, incapacitating, local transmission, laboratory test, atypical case, neurological, cardiological, dermatological, ophthalmological, hepatic, renal, respiratory, haematological.\n",
      "What information is crucial to report when responding to the Chikungunya alert threshold?\n"
     ]
    },
    {
     "name": "stderr",
     "output_type": "stream",
     "text": [
      " 62%|██████▏   | 311/499 [20:08<15:17,  4.88s/it]"
     ]
    },
    {
     "name": "stdout",
     "output_type": "stream",
     "text": [
      " Answers: When responding to the Chikungunya alert threshold, it is crucial to report the following information: number of cases, location (community, ward/sub-district, district), date and time of detection, and any actions taken.\n",
      "\n",
      "Keywords: Chikungunya alert threshold, report information, number of cases, location, date and time, actions taken.\n",
      "Compare the standard case definitions for Chikungunya and Buruli Ulcer.\n"
     ]
    },
    {
     "name": "stderr",
     "output_type": "stream",
     "text": [
      " 63%|██████▎   | 312/499 [20:12<14:48,  4.75s/it]"
     ]
    },
    {
     "name": "stdout",
     "output_type": "stream",
     "text": [
      " Answers: The standard case definition for Chikungunya includes acute clinical cases, defined by fever above 38.5°C (101.3°F) and joint pain, with either epidemiological or laboratory criteria. Buruli Ulcer, on the other hand, is characterized by long-lasting skin ulcers caused by Mycobacterium ulcerans.\n",
      "\n",
      "Keywords: Chikungunya, acute clinical case, fever, joint pain, epidemiological criterion, laboratory criterion, Buruli Ulcer, Mycobacterium ulcerans, long-lasting skin ulcers.\n",
      "Which antibiotics are recommended for the treatment of Bacterial Meningitis, and how do they differ from those recommended for Buruli Ulcer?\n",
      " Answers: For bacterial meningitis, Ceftriaxone is the first-line treatment for all ages during epidemics, with different durations depending on age. Outside epidemics, treatment should last 7–10 days for all ages. Household contacts in non-epidemic periods can receive Ciprofloxacin or ceftriaxone as prophylactic agents.\n",
      "\n",
      "Keywords: Ceftriaxone, antibiotics, bacterial meningitis, treatment, epidemics, household contacts, Ciprofloxacin, prophylaxis, non-epidemic periods.\n",
      "\n",
      "For Buruli ulcer, specific antibiotics are not mentioned in the provided data, but references suggest provisional guidance on their role.\n",
      "\n",
      "Answers (Buruli Ulcer): No specific antibiotics are recommended for Buruli ulcer treatment from the provided data.\n",
      "\n",
      "Keywords (Buruli Ulcer): Buruli ulcer, no specific antibiotics mentioned.\n"
     ]
    },
    {
     "name": "stderr",
     "output_type": "stream",
     "text": [
      " 63%|██████▎   | 313/499 [20:19<16:44,  5.40s/it]"
     ]
    },
    {
     "name": "stdout",
     "output_type": "stream",
     "text": [
      "Compare the laboratory confirmation methods for Chikungunya and Bacterial Meningitis.\n"
     ]
    },
    {
     "name": "stderr",
     "output_type": "stream",
     "text": [
      " 63%|██████▎   | 314/499 [20:25<16:34,  5.37s/it]"
     ]
    },
    {
     "name": "stdout",
     "output_type": "stream",
     "text": [
      " Answers: The laboratory confirmation methods for Chikungunya and Bacterial Meningitis involve different techniques. For Chikungunya, samples are taken from patients and confirmed through PCR, serology or viral culture. For Bacterial Meningitis, diagnosis is made by isolating the causative bacteria from cerebrospinal fluid (CSF) using cultures, or detecting bacterial antigens or DNA in CSF using rapid diagnostic tests.\n",
      "\n",
      "Keywords: Chikungunya, laboratory confirmation, PCR, serology, viral culture, Bacterial Meningitis, cerebrospinal fluid, cultures, bacterial antigens, rapid diagnostic tests.\n",
      "In which regions are Chikungunya and Buruli Ulcer most prevalent, and what factors contribute to their geographical distribution?\n"
     ]
    },
    {
     "name": "stderr",
     "output_type": "stream",
     "text": [
      " 63%|██████▎   | 315/499 [20:30<16:05,  5.25s/it]"
     ]
    },
    {
     "name": "stdout",
     "output_type": "stream",
     "text": [
      " Answers: Chikungunya is most prevalent in tropical regions of Africa, Asia, and the Americas. Buruli Ulcer is primarily found in sub-Saharan Africa, particularly in West and Central Africa.\n",
      "\n",
      "Keywords: Chikungunya - tropical regions, Africa, Asia, Americas; Buruli Ulcer - sub-Saharan Africa, West, Central Africa.\n",
      "\n",
      "Factors contributing to the geographical distribution of Chikungunya include its transmission by mosquitoes and the presence of large populations in endemic areas. For Buruli Ulcer, factors include contact with contaminated water sources and poor hygiene practices.\n",
      "How many categories are there for classifying Buruli Ulcer patients, and what are the criteria for each category?\n"
     ]
    },
    {
     "name": "stderr",
     "output_type": "stream",
     "text": [
      " 63%|██████▎   | 316/499 [20:33<14:31,  4.76s/it]"
     ]
    },
    {
     "name": "stdout",
     "output_type": "stream",
     "text": [
      " Answers: There are two categories for Buruli Ulcer (BU) patients: I and II.\n",
      "Keywords: Buruli ulcer, categories, patient classification, criteria, Cat I, Cat II.\n",
      "\n",
      "Answer: Two categories exist for Buruli Ulcer patients: Category I (clinically diagnosed) and Category II (diagnosed by finding acid-fast bacilli or using PCR).\n",
      "Keywords: Buruli ulcer, categories, patient classification, criteria, clinically diagnosed, acid-fast bacilli, PCR.\n",
      "Compare the response strategies to the alert threshold for Bacterial Meningitis and Chikungunya.\n"
     ]
    },
    {
     "name": "stderr",
     "output_type": "stream",
     "text": [
      " 64%|██████▎   | 317/499 [20:39<15:04,  4.97s/it]"
     ]
    },
    {
     "name": "stdout",
     "output_type": "stream",
     "text": [
      " Answers: The response strategies for reaching the epidemic threshold of Bacterial Meningitis involve mass vaccination within 4 weeks, community mobilization for early case detection and treatment, data collection and transmission, and maintaining regular surveillance. For Chikungunya, the data provided does not explicitly state response strategies for reaching the alert threshold.\n",
      "\n",
      "Keywords: Bacterial Meningitis epidemic threshold, mass vaccination, community mobilization, data collection, Chikungunya alert threshold, no explicit response strategies provided.\n",
      "What are the key similarities and differences in the surveillance goals for Bacterial Meningitis and Buruli Ulcer?\n"
     ]
    },
    {
     "name": "stderr",
     "output_type": "stream",
     "text": [
      " 64%|██████▎   | 318/499 [20:48<18:46,  6.23s/it]"
     ]
    },
    {
     "name": "stdout",
     "output_type": "stream",
     "text": [
      " Answers: The surveillance goals for Bacterial Meningitis and Buruli Ulcer share some similarities, such as reporting suspected cases to the appropriate health facility level, taking specimens for laboratory confirmation, and filling in case report forms. However, there are significant differences in their response thresholds and data analysis requirements.\n",
      "\n",
      "Keywords: Bacterial Meningitis, Buruli Ulcer, Reporting, Laboratory confirmation, Case report form, Response threshold, Data analysis, Surveillance goals.\n",
      "\n",
      "For Bacterial Meningitis, the response threshold is not applicable, and the focus is on analyzing and interpreting data through graphs of cases by year of diagnosis and cumulative number of cases, as well as plotting cases by location. For Buruli Ulcer, if a single case is suspected, the response includes reporting the case, taking a specimen for laboratory confirmation, beginning wound dressing and combined antibiotic treatment, referring category III patients to a reference hospital/centre, filling in a case report form with origin village GPS data, and searching for other cases in the origin village. The data collection for both diseases involves strict adherence to case definitions, assigning one main diagnosis per patient, and coding new and follow-up visits separately.\n",
      "What are the similarities and differences in the laboratory confirmation methods for Bacterial Meningitis and Buruli Ulcer?\n"
     ]
    },
    {
     "name": "stderr",
     "output_type": "stream",
     "text": [
      " 64%|██████▍   | 319/499 [20:53<17:55,  5.98s/it]"
     ]
    },
    {
     "name": "stdout",
     "output_type": "stream",
     "text": [
      " Answers: The laboratory confirmation for Bacterial Meningitis involves microscopic examination of CSF or blood, culture, and RT-PCR at national reference laboratories. For Buruli Ulcer, diagnosis is made through culturing the organism in a reference laboratory using the same media as for Mycobacterium tuberculosis, but growth is slower and diagnostic services are not routinely available.\n",
      "\n",
      "Keywords: Bacterial Meningitis, Laboratory confirmation, CSF, Microscopic examination, Culture, RT-PCR, National reference laboratories, Buruli Ulcer, Diagnosis, Culturing, Slow growth, Reference laboratory, Mycobacterium marinum.\n",
      "Compare the risk factors for cholera with those of Bacterial Meningitis and Buruli Ulcer.\n"
     ]
    },
    {
     "name": "stderr",
     "output_type": "stream",
     "text": [
      " 64%|██████▍   | 320/499 [20:59<17:23,  5.83s/it]"
     ]
    },
    {
     "name": "stdout",
     "output_type": "stream",
     "text": [
      " Answers: Cholera is primarily transmitted through contaminated food or water, while Bacterial Meningitis is spread person-to-person through respiratory droplets or direct contact with cerebrospinal fluid, and Buruli Ulcer is caused by contact with contaminated water or soil.\n",
      "\n",
      "Keywords: Cholera - faecal-oral route, food or water contamination; Bacterial Meningitis - respiratory droplets, person-to-person spread, cerebrospinal fluid; Buruli Ulcer - contact with contaminated water or soil.\n",
      "Which pathogens cause Cholera, and how do they differ from those causing Bacterial Meningitis and Buruli Ulcer?\n"
     ]
    },
    {
     "name": "stderr",
     "output_type": "stream",
     "text": [
      " 64%|██████▍   | 321/499 [21:05<17:25,  5.87s/it]"
     ]
    },
    {
     "name": "stdout",
     "output_type": "stream",
     "text": [
      " Answers: Cholera is caused by Vibrio cholerae serogroups O1 or O139. Differently, Bacterial Meningitis is caused by various bacteria such as Neisseria meningitidis and Streptococcus pneumoniae, while Buruli Ulcer is caused by Mycobacterium ulcerans.\n",
      "\n",
      "Keywords: Cholera caused by Vibrio cholerae O1 or O139, Bacterial Meningitis caused by Neisseria meningitidis and Streptococcus pneumoniae, Buruli Ulcer caused by Mycobacterium ulcerans.\n",
      "What are the key similarities and differences in the surveillance goals for Cholera and Bacterial Meningitis?\n"
     ]
    },
    {
     "name": "stderr",
     "output_type": "stream",
     "text": [
      " 65%|██████▍   | 322/499 [21:15<21:07,  7.16s/it]"
     ]
    },
    {
     "name": "stdout",
     "output_type": "stream",
     "text": [
      " Answers: The surveillance goals for cholera and bacterial meningitis involve early detection and response, laboratory confirmation of cases, and implementation of prevention measures. However, the specific actions and resources required differ between the two diseases.\n",
      "\n",
      "Keywords: cholera, bacterial meningitis, surveillance, early detection, response, laboratory confirmation, prevention measures.\n",
      "\n",
      "For cholera, key actions include assessing patients for dehydration, giving fluids according to treatment plans, obtaining stool specimens from suspected cases, and establishing treatment centers in outbreak areas. Prevention measures include procurement of laboratory samples and identification of competent laboratories, implementation of relevant prevention measures based on risk assessment, and accelerating preparedness and response efforts.\n",
      "\n",
      "For bacterial meningitis, key actions include identifying potential sites for isolation and adequate treatment of patients, implementing relevant prevention measures based on risk assessment, and alerting and activating rapid response teams at Points of Entry. Prevention measures include vaccination, indoor-residual spraying of dwellings, and distribution of long-lasting insecticide-treated nets to prevent outbreaks.\n",
      "\n",
      "Both diseases require surveillance for detection day, place, patient identification number, surname or last name, first name, age, sex, number of people in the same household, residential address, village/town, neighborhood, district, country, date of onset, clinical signs and symptoms, exposure to known risk factors, and laboratory-related information such as Vibrio cholerae identification and drugs to which the vibrio strain is sensitive.\n",
      "What actions should be taken during the alert threshold for Cholera, and how do they compare with the actions for Buruli Ulcer?\n"
     ]
    },
    {
     "name": "stderr",
     "output_type": "stream",
     "text": [
      " 65%|██████▍   | 323/499 [21:20<19:32,  6.66s/it]"
     ]
    },
    {
     "name": "stdout",
     "output_type": "stream",
     "text": [
      " Answers: During the alert threshold for Cholera, a single suspected case should be reported immediately, managed and treated according to national guidelines, enhanced strict hand-washing and isolation procedures, and conducted case-based investigation to identify similar cases not previously reported. Comparatively, for Buruli Ulcer, during the alert threshold, a single suspected case should also be reported immediately, but there is no mention of specific treatment or isolation procedures in the provided data.\n",
      "\n",
      "Keywords: Cholera alert threshold, report case, national guidelines, hand-washing, isolation, investigation. Buruli Ulcer alert threshold, report case.\n",
      "How does the utilization of cholera vaccine differ from the strategies for improving water and sanitation?\n"
     ]
    },
    {
     "name": "stderr",
     "output_type": "stream",
     "text": [
      " 65%|██████▍   | 324/499 [21:24<16:26,  5.63s/it]"
     ]
    },
    {
     "name": "stdout",
     "output_type": "stream",
     "text": [
      " Answers: The cholera vaccine is a preventative measure, while strategies for improving water and sanitation focus on reducing the risk of cholera transmission.\n",
      "\n",
      "Keywords: cholera vaccine, preventative measure, water and sanitation, reducing risk, transmission.\n",
      "When should stool specimens be collected during a cholera outbreak, and how many specimens should be obtained?\n"
     ]
    },
    {
     "name": "stderr",
     "output_type": "stream",
     "text": [
      " 65%|██████▌   | 325/499 [21:28<15:42,  5.42s/it]"
     ]
    },
    {
     "name": "stdout",
     "output_type": "stream",
     "text": [
      " Answers: Collect stool specimens from 5-10 suspected cholera cases within 1-2 weeks of onset of symptoms, before antibiotics treatment starts. If immediate transport to lab is not possible, use Cary-Blair transport medium or store specimen properly.\n",
      "\n",
      "Keywords: stool specimens, cholera outbreak, collect, suspected cases, onset of symptoms, antibiotics treatment, Cary-Blair transport medium, lab within 2 hours, weekly cases and deaths, epidemic curve, case households, liquid stool or rectal swab.\n",
      "Who should be involved in responding to the alert threshold for Buruli Ulcer, and why is it essential to fill in the case report form with origin village GPS data?\n"
     ]
    },
    {
     "name": "stderr",
     "output_type": "stream",
     "text": [
      " 65%|██████▌   | 326/499 [21:35<16:32,  5.74s/it]"
     ]
    },
    {
     "name": "stdout",
     "output_type": "stream",
     "text": [
      " Answers: In response to a suspected Buruli Ulcer case, both health facilities and community structures should be involved. Health facilities are responsible for reporting case-based information within 24 hours using the Annex 2F form, which includes patient identification, geographical location, signs and symptoms, laboratory results, and history of travel (Keywords: report, health facility, case-based information, Annex 2F). Community structures, on the other hand, should fill out the community alert reporting form (CBS) immediately, providing details such as the number of affected individuals, location, and action taken (Keywords: community, CBS form, alert reporting, priority diseases). It is essential to fill in the case report form with origin village GPS data because accurate geographical information is crucial for effective disease surveillance and response.\n",
      "\n",
      "Keywords: Buruli Ulcer, respond, health facilities, community structures, case report form, GPS data, disease surveillance, effective response.\n",
      "What are the key similarities and differences in the laboratory confirmation methods for Cholera and Chikungunya?\n"
     ]
    },
    {
     "name": "stderr",
     "output_type": "stream",
     "text": [
      " 66%|██████▌   | 327/499 [21:40<15:39,  5.47s/it]"
     ]
    },
    {
     "name": "stdout",
     "output_type": "stream",
     "text": [
      " Answers: The data retrieved does not provide specific information on the similarities and differences in the laboratory confirmation methods for Cholera and Chikungunya. However, it mentions that laboratory confirmation is important for investigating suspected outbreaks of these diseases, especially in crisis-affected populations. Adequate stocks of samples and SOPs, cold chain and shipping arrangements, and strengthening existing laboratories are necessary for timely investigation.\n",
      "\n",
      "Keywords: Cholera, Chikungunya, laboratory confirmation, outbreak investigation, crisis affected populations, adequate stocks, cold chain, shipping arrangements, strengthening laboratories.\n",
      "What are the key components of the surveillance goal for Chikungunya, and why is it important to identify high-risk areas?\n"
     ]
    },
    {
     "name": "stderr",
     "output_type": "stream",
     "text": [
      " 66%|██████▌   | 328/499 [21:44<14:29,  5.09s/it]"
     ]
    },
    {
     "name": "stdout",
     "output_type": "stream",
     "text": [
      " Answers: The surveillance goal for Chikungunya includes conducting investigations in the most affected places based on known information about the disease, defining geographical boundaries and target populations, and deciding communication procedures. Identifying high-risk areas is important as Chikungunya is an epidemic-prone disease requiring immediate reporting.\n",
      "\n",
      "Keywords: Chikungunya, surveillance goal, investigation, geographical boundaries, target population, communication procedure, epidemic-prone, immediate reporting.\n",
      "Who should be treated according to standardized case management guidelines for diabetes, and why is district-level prevention important in the fight against diabetes?\n"
     ]
    },
    {
     "name": "stderr",
     "output_type": "stream",
     "text": [
      " 66%|██████▌   | 329/499 [21:50<15:26,  5.45s/it]"
     ]
    },
    {
     "name": "stdout",
     "output_type": "stream",
     "text": [
      " Answers: Any person confirmed to have Diabetes Mellitus based on lab results (fasting blood sugar ≥ 6.1 mmol/L or venous plasma glucose ≥ 7 mmol/L, non-fasting glucose ≥ 11.1 mmol/L or venous plasma glucose ≥ 11.1mmol/L) should be treated according to standardized case management guidelines. District-level prevention is important as it focuses on implementing integrated prevention and control programs for non-communicable diseases, including diabetes, through community awareness and education activities, multi-sectoral strategies, and clinical preventive measures.\n",
      "\n",
      "Keywords: Diabetes Mellitus, Standardized case management guidelines, Confirmed cases, District-level prevention, Integrated prevention and control programs, Community awareness, Education activities, Multi-sectoral strategies, Clinical preventive measures.\n",
      "What are the recommended public health actions for diabetes, and why is the analysis of data important to understand trends?\n"
     ]
    },
    {
     "name": "stderr",
     "output_type": "stream",
     "text": [
      " 66%|██████▌   | 330/499 [21:54<14:17,  5.08s/it]"
     ]
    },
    {
     "name": "stdout",
     "output_type": "stream",
     "text": [
      " Answers: The recommended public health actions for diabetes include treating confirmed cases according to standardized guidelines and implementing prevention programs through community awareness and education. Data analysis is crucial as it helps estimate the disease's magnitude, monitor trends and risk factors, identify populations at highest risk, and evaluate prevention and control program activities.\n",
      "\n",
      "Keywords: Diabetes, Public health actions, Treatment, Prevention, Community awareness, Education, Data analysis, Estimate, Trends, Risk factors, Populations, Monitoring.\n",
      "What are the key components of the laboratory confirmation for diabetes, and why is it important to measure glucose levels in various specimens?\n"
     ]
    },
    {
     "name": "stderr",
     "output_type": "stream",
     "text": [
      " 66%|██████▋   | 331/499 [21:59<13:58,  4.99s/it]"
     ]
    },
    {
     "name": "stdout",
     "output_type": "stream",
     "text": [
      " Answers: The key components of laboratory confirmation for diabetes include communicating with national and district laboratories, maintaining proper records for results, ensuring quality assurance programs, following standard operating procedures, and periodically updating the list of laboratories. It is important to measure glucose levels in various specimens (such as blood and urine) because it helps in diagnosing diabetes and monitoring its management.\n",
      "\n",
      "Keywords: laboratory confirmation, diabetes, communicate, national laboratory, district laboratory, proper records, quality assurance, standard operating procedures, update list, glucose levels, blood, urine, diagnose, monitor.\n",
      "Why should blood glucose measurements be carried out on the day and at the time requested, and who should be involved in the analysis of data for non-communicable diseases?\n"
     ]
    },
    {
     "name": "stderr",
     "output_type": "stream",
     "text": [
      " 67%|██████▋   | 332/499 [22:04<13:55,  5.00s/it]"
     ]
    },
    {
     "name": "stdout",
     "output_type": "stream",
     "text": [
      " Answers: Blood glucose measurements should be carried out on the requested day and time to ensure accurate results. Laboratory confirmation is essential for diagnosing diabetes, which requires specific testing methods and timely specimen collection. Data analysis for non-communicable diseases, including diabetes, involves district-level prevention and community awareness programs, as well as comparison of trends with national and regional data. Key stakeholders include health professionals and policymakers.\n",
      "\n",
      "Keywords: blood glucose measurements, laboratory confirmation, accurate results, timely specimen collection, data analysis, non-communicable diseases, district-level prevention, community awareness programs, comparison, trends, stakeholders, health professionals, policymakers.\n",
      "Why are obesity, physical inactivity, and excessive alcohol consumption considered modifiable risk factors for diabetes, and who should be targeted in community awareness activities?\n"
     ]
    },
    {
     "name": "stderr",
     "output_type": "stream",
     "text": [
      " 67%|██████▋   | 333/499 [22:10<14:03,  5.08s/it]"
     ]
    },
    {
     "name": "stdout",
     "output_type": "stream",
     "text": [
      " Answers: Obesity, physical inactivity, and excessive alcohol consumption are considered modifiable risk factors for diabetes because individuals can take steps to modify these behaviors. Obesity is linked to insulin resistance and inflammation, which increase the risk of developing Type 2 diabetes. Physical inactivity contributes to weight gain and insulin resistance. Excessive alcohol consumption can lead to weight gain and liver damage, affecting insulin production and metabolism. Community awareness activities should target populations at highest risk, such as those with obesity or physical inactivity, and those living in urban areas.\n",
      "\n",
      "Keywords: diabetes, risk factors, obesity, physical activity, excessive alcohol consumption, community awareness, population, urban areas\n",
      "What is the extent of the resurgence of cholera in Africa since the mid-1980s, and why is it important to establish treatment centers in localities where cases occur?\n"
     ]
    },
    {
     "name": "stderr",
     "output_type": "stream",
     "text": [
      " 67%|██████▋   | 334/499 [22:15<14:35,  5.31s/it]"
     ]
    },
    {
     "name": "stdout",
     "output_type": "stream",
     "text": [
      " Answers: The resurgence of cholera in Africa since the mid-1980s has resulted in over 54% of global cases, with the majority occurring from January through April. In 2016, there were reported cases in 38 countries, including imported cases in 9 countries. Establishing treatment centers in localities where cholera cases occur is important due to the disease's rapid progression and potential for epidemics or pandemics.\n",
      "\n",
      "Keywords: cholera resurgence, Africa, global cases, treatment centers, epidemics, pandemics, import cases, localities.\n",
      "Why is it important to screen high-risk patients for diabetes, and what are the key components of the laboratory confirmation for cholera?\n"
     ]
    },
    {
     "name": "stderr",
     "output_type": "stream",
     "text": [
      " 67%|██████▋   | 335/499 [22:20<14:03,  5.14s/it]"
     ]
    },
    {
     "name": "stdout",
     "output_type": "stream",
     "text": [
      " Answers: Screening high-risk patients for diabetes is essential due to its potential complications and the availability of effective interventions. Early diagnosis and management can prevent or delay these complications. Regarding cholera, laboratory confirmation involves identifying Vibrio cholerae in stools and determining drug sensitivity.\n",
      "\n",
      "Keywords: diabetes screening, high-risk patients, early diagnosis, effective interventions, cholera, laboratory confirmation, Vibrio cholerae, stool specimen, drug sensitivity.\n",
      "Compare the incubation period and clinical characteristics of Shigella dysenteriae type 1 (SD1) and cholera, and why is it crucial to detect and respond promptly to outbreaks of these diseases?\n"
     ]
    },
    {
     "name": "stderr",
     "output_type": "stream",
     "text": [
      " 67%|██████▋   | 336/499 [22:27<15:37,  5.75s/it]"
     ]
    },
    {
     "name": "stdout",
     "output_type": "stream",
     "text": [
      " Answers: The incubation period for Shigella dysenteriae type 1 (SD1) is typically 1-7 days, while cholera has a shorter incubation period of 1-5 days. SD1 causes bloody diarrhea and abdominal cramps, whereas cholera leads to watery diarrhea, dehydration, and vomiting. Prompt detection and response to outbreaks of these diseases are crucial due to their contagious nature and potential for rapid spread. SD1 can cause epidemics, especially in developing countries with poor sanitation, while cholera outbreaks can lead to large numbers of cases and deaths if not addressed promptly.\n",
      "\n",
      "Keywords: Shigella dysenteriae type 1, incubation period, clinical characteristics, bloody diarrhea, abdominal cramps, cholera, watery diarrhea, dehydration, vomiting, contagious, rapid spread, epidemics, developing countries, poor sanitation.\n",
      "How does the epidemiological pattern of Diarrhoea with dehydration in children less than 5 years of age differ from Shigella dysenteriae type 1 (SD1) and cholera, and why is it essential to teach mothers about home treatment with oral rehydration during outbreaks?\n"
     ]
    },
    {
     "name": "stderr",
     "output_type": "stream",
     "text": [
      " 68%|██████▊   | 337/499 [22:35<17:28,  6.47s/it]"
     ]
    },
    {
     "name": "stdout",
     "output_type": "stream",
     "text": [
      " Answers: The epidemiological pattern of Diarrhoea with dehydration in children less than 5 years of age is characterized by various causes, including viruses, bacteria, and parasites, which are transmitted through contaminated food or water or faecal-oral spread. On the other hand, Shigella dysenteriae type 1 (SD1) is primarily transmitted person-to-person through faecal-oral spread and causes bloody diarrhoea with a higher case fatality rate among young children and elderly persons. Cholera, another cause of dihydration, is transmitted through contaminated water and food and can lead to severe dehydration and even death if left untreated.\n",
      "\n",
      "During outbreaks, it is essential to teach mothers about home treatment with oral rehydration to prevent dehydration and reduce morbidity and mortality in children.\n",
      "\n",
      "Keywords: Diarrhoea, dehydration, children under 5, epidemiological pattern, causes, transmission, Shigella dysenteriae type 1, bloody diarrhoea, case fatality rate, oral rehydration, prevention, outbreaks.\n",
      "What actions should be taken if the number of cases or deaths increases for Diarrhoea with dehydration in children less than 5 years of age, and why is it important to assess health worker practice of Integrated Management of Childhood Illnesses (IMCI) guidelines?\n"
     ]
    },
    {
     "name": "stderr",
     "output_type": "stream",
     "text": [
      " 68%|██████▊   | 338/499 [22:40<15:24,  5.74s/it]"
     ]
    },
    {
     "name": "stdout",
     "output_type": "stream",
     "text": [
      " Answers: If the number of cases or deaths increases for Diarrhoea with dehydration in children less than 5 years of age, report the problem to the next level and investigate the cause. Assess health worker practice of IMCI guidelines to improve performance in managing these cases.\n",
      "\n",
      "Keywords: Diarrhoea, dehydration, children under 5, increase in cases or deaths, report problem, investigate cause, assess health worker practice, IMCI guidelines.\n",
      "Which diarrheal diseases are transmitted through faecal-oral spread, and why is it necessary to identify high-risk populations for Diarrhoea with blood (Shigella)?\n"
     ]
    },
    {
     "name": "stderr",
     "output_type": "stream",
     "text": [
      " 68%|██████▊   | 339/499 [22:43<13:40,  5.13s/it]"
     ]
    },
    {
     "name": "stdout",
     "output_type": "stream",
     "text": [
      " Answers: Diarrheal diseases transmitted through faecal-oral spread include Shigellosis caused by Shigella bacteria. Identifying high-risk populations for Diarrhoea with blood (Shigella) is necessary to reduce its transmission and prevent outbreaks.\n",
      "\n",
      "Keywords: Shigellosis, faecal-oral spread, Shigella bacteria, high-risk populations, prevention, outbreaks.\n",
      "What is the standard case definition for Chikungunya, and why is it important to establish treatment centers in localities where cholera cases occur?\n"
     ]
    },
    {
     "name": "stderr",
     "output_type": "stream",
     "text": [
      " 68%|██████▊   | 340/499 [22:49<14:04,  5.31s/it]"
     ]
    },
    {
     "name": "stdout",
     "output_type": "stream",
     "text": [
      " Answers: The standard case definition for Chikungunya includes acute clinical cases and atypical cases, with fever and joint pain being the primary clinical criteria. Early detection of sporadic cases and outbreaks is crucial to prevent further transmission. Establishing treatment centers in localities where cholera cases occur is important due to the severe dehydration associated with cholera, which requires prompt rehydration therapy to prevent death.\n",
      "\n",
      "Keywords: Chikungunya, standard case definition, acute clinical case, atypical case, fever, joint pain, early detection, treatment centers, cholera, severe dehydration, rehydration therapy.\n",
      "What is the extent of the resurgence of cholera in Africa since the mid-1980s?\n"
     ]
    },
    {
     "name": "stderr",
     "output_type": "stream",
     "text": [
      " 68%|██████▊   | 341/499 [22:54<13:45,  5.22s/it]"
     ]
    },
    {
     "name": "stdout",
     "output_type": "stream",
     "text": [
      " Answers: The resurgence of cholera in Africa since the mid-1980s has resulted in over 80% of the world's cases occurring in the continent, with over 54,000 cases reported globally in 2016.\n",
      "\n",
      "Keywords: cholera resurgence, Africa, over 80%, 54000 cases, global reports.\n",
      "Who are the populations at highest risk for Diabetes Mellitus?\n"
     ]
    },
    {
     "name": "stderr",
     "output_type": "stream",
     "text": [
      " 69%|██████▊   | 342/499 [22:59<13:17,  5.08s/it]"
     ]
    },
    {
     "name": "stdout",
     "output_type": "stream",
     "text": [
      " Answers: The populations at highest risk for Diabetes Mellitus include those over 45 years of age, with a family history of the disease, and those with obesity, physical inactivity, and excessive alcohol consumption. In Africa, recent estimates indicate prevalence rates between 1% and 20%, with some countries reaching 20%. The disease is particularly prevalent in urban areas.\n",
      "\n",
      "Keywords: populations at risk, diabetes mellitus, over 45 years, family history, obesity, physical inactivity, excessive alcohol consumption, Africa, urban areas.\n",
      "What is the most common form of diabetes, and what are the risk factors affecting the onset of diabetes?\n"
     ]
    },
    {
     "name": "stderr",
     "output_type": "stream",
     "text": [
      " 69%|██████▊   | 343/499 [23:02<12:10,  4.68s/it]"
     ]
    },
    {
     "name": "stdout",
     "output_type": "stream",
     "text": [
      " Answers: The most common form of diabetes is Type 2 diabetes, representing over 85% of cases. Risk factors for diabetes include non-modifiable factors like old age (over 45 years) and family history, as well as modifiable risk factors such as obesity, physical inactivity, and excessive alcohol consumption.\n",
      "\n",
      "Keywords: Type 2 diabetes, most common form, risk factors, obesity, physical inactivity, excessive alcohol consumption, non-modifiable factors, family history.\n",
      "Why is it important to maintain strict infection prevention and control practices during an Ebola or Marburg outbreak?\n"
     ]
    },
    {
     "name": "stderr",
     "output_type": "stream",
     "text": [
      " 69%|██████▉   | 344/499 [23:06<11:25,  4.42s/it]"
     ]
    },
    {
     "name": "stdout",
     "output_type": "stream",
     "text": [
      " Answers: Maintaining strict infection prevention and control practices during an Ebola or Marburg outbreak is crucial for preventing the spread of the virus and protecting healthcare workers and the community.\n",
      "\n",
      "Keywords: infection prevention, control practices, Ebola, Marburg, outbreak, prevent spread, healthcare workers, community.\n",
      "Who should be notified if a single case of Ebola or Marburg is suspected?\n"
     ]
    },
    {
     "name": "stderr",
     "output_type": "stream",
     "text": [
      " 69%|██████▉   | 345/499 [23:09<10:11,  3.97s/it]"
     ]
    },
    {
     "name": "stdout",
     "output_type": "stream",
     "text": [
      " Answers: If a single case of Ebola or Marburg virus disease is suspected, report the case immediately to appropriate authorities and collect specimen for confirmation.\n",
      "\n",
      "Keywords: suspect, Ebola or Marburg virus diseases, report, authorities, collect specimen.\n",
      "What is the laboratory confirmation process for Ebola or Marburg virus diseases?\n"
     ]
    },
    {
     "name": "stderr",
     "output_type": "stream",
     "text": [
      " 69%|██████▉   | 346/499 [23:14<10:52,  4.26s/it]"
     ]
    },
    {
     "name": "stdout",
     "output_type": "stream",
     "text": [
      " Answers: The laboratory confirmation process involves collecting specimens from suspected cases, refrigerating serum or clotting for ELISA or PCR tests, freezing tissue specimens for virus isolation, fixing skin snips in formalin for immunohistochemistry, and storing at room temperature. Results are obtained through diagnostic services which require advance arrangements.\n",
      "\n",
      "            Keywords: collect specimen, refrigerate serum, clotting, freeze tissue, virus isolation, fix skin snip, formalin, store at room temperature, diagnostic services, advanced arrangements.\n",
      "How should specimens from suspected viral hemorrhagic fever patients be handled and transported?\n"
     ]
    },
    {
     "name": "stderr",
     "output_type": "stream",
     "text": [
      " 70%|██████▉   | 347/499 [23:20<11:59,  4.73s/it]"
     ]
    },
    {
     "name": "stdout",
     "output_type": "stream",
     "text": [
      " Answers: Specimens from suspected Viral Hemorrhagic Fever (VHF) patients should be handled with extreme caution, wearing protective clothing and using full PPE. For ELISA or PCR testing, refrigerate serum or clot, freeze tissue specimens for virus isolation, and store formalin-fixed specimens at room temperature. Laboratory confirmation requires testing positive for the virus antigen using RT-PCR or IgM antibodies.\n",
      "\n",
      "Keywords: handle with caution, protective clothing, PPE, refrigerate, freeze, formalin-fixed, transport, ELISA, PCR, laboratory confirmation, virus antigen, IgM antibodies.\n",
      "What are the key components of analyzing and interpreting data for Ebola or Marburg virus diseases?\n"
     ]
    },
    {
     "name": "stderr",
     "output_type": "stream",
     "text": [
      " 70%|██████▉   | 348/499 [23:24<11:28,  4.56s/it]"
     ]
    },
    {
     "name": "stdout",
     "output_type": "stream",
     "text": [
      " Answers: The key components of analyzing and interpreting data for Ebola or Marburg virus diseases include summarizing the outbreak, looking for clues about its source and spread, drawing an \"Epi\" curve using a histogram, and plotting cases on a spot map.\n",
      "\n",
      "Keywords: summarize outbreak, look for clues, draw histogram, plot cases on spot map, Ebola, Marburg virus diseases.\n",
      "What is the background information on epilepsy?\n"
     ]
    },
    {
     "name": "stderr",
     "output_type": "stream",
     "text": [
      " 70%|██████▉   | 349/499 [23:28<10:46,  4.31s/it]"
     ]
    },
    {
     "name": "stdout",
     "output_type": "stream",
     "text": [
      " Answers: Epilepsy is not directly related to the provided background information which focuses on infectious diseases, syndromic surveillance, and event-based surveillance.\n",
      "Keywords: Epilepsy is a neurological disorder characterized by recurring seizures. It is not an infectious disease or a syndrome requiring syndromic or event-based surveillance.\n",
      "What is the standard case definition for epilepsy?\n"
     ]
    },
    {
     "name": "stderr",
     "output_type": "stream",
     "text": [
      " 70%|███████   | 350/499 [23:33<11:14,  4.53s/it]"
     ]
    },
    {
     "name": "stdout",
     "output_type": "stream",
     "text": [
      " Answers: The standard case definition for epilepsy includes a person experiencing one or more seizures, with suspected cases diagnosed through interviews and clinical examinations. A confirmed case is defined as a person experiencing recurrent seizures, with treatment response strengthening the diagnosis. Epileptic seizures can last from 30 seconds to 3 minutes.\n",
      "\n",
      "Keywords: epilepsy, seizure, suspected case, confirmed case, diagnosis, interview, clinical examination, antiepileptic drug, effective steady state, pharmacological treatment, referral, higher level health structure, risk factors, communicable diseases, non-communicable diseases, poorer medical facilities, stigma, exclusion, mortality risk, status epilepticus, developing countries.\n",
      "What information and education measures are recommended at the action threshold for all epilepsy cases?\n",
      " Answers: Ensure appropriate prevention strategies, such as use of insecticide treated nets (ITNs) and indoor residential spraying (IRS) for all at risk of epilepsy.\n",
      "\n",
      "Keywords: prevention strategies, ITNs, IRS, epilepsy cases.\n"
     ]
    },
    {
     "name": "stderr",
     "output_type": "stream",
     "text": [
      " 70%|███████   | 351/499 [23:37<10:35,  4.30s/it]"
     ]
    },
    {
     "name": "stdout",
     "output_type": "stream",
     "text": [
      "What are foodborne illnesses, and how do they enter the body?\n"
     ]
    },
    {
     "name": "stderr",
     "output_type": "stream",
     "text": [
      " 71%|███████   | 352/499 [23:40<10:05,  4.12s/it]"
     ]
    },
    {
     "name": "stdout",
     "output_type": "stream",
     "text": [
      " Answers: Foodborne illnesses are caused by pathogens or their toxins entering the body through consumption of contaminated food or water. They can result in symptoms such as nausea, vomiting, abdominal cramps, and diarrhea.\n",
      "\n",
      "Keywords: foodborne illnesses, pathogens, toxins, consumption, symptoms, nausea, vomiting, abdominal cramps, diarrhea.\n",
      "What is the goal of surveillance for foodborne illnesses?\n"
     ]
    },
    {
     "name": "stderr",
     "output_type": "stream",
     "text": [
      " 71%|███████   | 353/499 [23:43<09:12,  3.78s/it]"
     ]
    },
    {
     "name": "stdout",
     "output_type": "stream",
     "text": [
      " Answers: The goal of surveillance for foodborne illnesses is to promptly identify any unusual cluster of disease potentially transmitted through food, which may need a public health investigation or response.\n",
      "\n",
      "Keywords: foodborne illnesses, surveillance, identify clusters, public health investigation, response.\n",
      "What is hypertension, and how is it classified?\n"
     ]
    },
    {
     "name": "stderr",
     "output_type": "stream",
     "text": [
      " 71%|███████   | 354/499 [23:47<09:11,  3.81s/it]"
     ]
    },
    {
     "name": "stdout",
     "output_type": "stream",
     "text": [
      " Answers: Hypertension is a chronic condition characterized by elevated blood pressure in the arteries, classified as either primary (essential) or secondary based on the presence of an underlying cause.\n",
      "\n",
      "Keywords: hypertension, chronic condition, elevated blood pressure, primary (essential), secondary, risk factor, cardiovascular diseases, World Health Report 2001, major risk factors, lifestyle modifications, standard case definition, suspected new case, confirmed case.\n",
      "How should data on hypertension be analyzed and interpreted?\n"
     ]
    },
    {
     "name": "stderr",
     "output_type": "stream",
     "text": [
      " 71%|███████   | 355/499 [23:52<10:04,  4.20s/it]"
     ]
    },
    {
     "name": "stdout",
     "output_type": "stream",
     "text": [
      " Answers: Data on hypertension should be analyzed systematically to generate relevant information for timely and appropriate public health actions. This includes observing trends over time, identifying geographic areas at higher risk, characterizing personal variables such as age and gender, and monitoring and evaluating public health interventions. Analysis of hypertension data can be done by time using graphs to measure the number of cases over a period.\n",
      "\n",
      "Keywords: analyze, interpret, hypertension, trends, time, graph, public health actions, geographic areas, personal variables, monitoring, evaluation.\n",
      "How is hypertension diagnosed, and what are the references for guidelines and resources?\n"
     ]
    },
    {
     "name": "stderr",
     "output_type": "stream",
     "text": [
      " 71%|███████▏  | 356/499 [23:56<09:35,  4.02s/it]"
     ]
    },
    {
     "name": "stdout",
     "output_type": "stream",
     "text": [
      " Answers: Hypertension, or high blood pressure, is diagnosed through clinical measurements of systolic pressure at or above 140 mm Hg and diastolic pressure at or equal to 90 mm Hg based on the average of three readings. Confirmed cases require these readings on at least two occasions.\n",
      "\n",
      "Keywords: hypertension diagnosis, blood pressure measurement, clinical diagnostic, WHO guidelines.\n",
      "What are the laboratory testing recommendations for influenza-like illness (ILI)?\n"
     ]
    },
    {
     "name": "stderr",
     "output_type": "stream",
     "text": [
      " 72%|███████▏  | 357/499 [24:00<09:50,  4.16s/it]"
     ]
    },
    {
     "name": "stdout",
     "output_type": "stream",
     "text": [
      " Answers: The most sensitive method for detecting influenza virus is RT-PCR, which can detect the virus up to seven days after symptom onset. Virus culture is also needed for detailed antigenic and genetic characterization. Antiviral resistance testing should be considered for high-risk patients.\n",
      "\n",
      "Keywords: Influenza virus detection, RT-PCR, Virus culture, Antiviral resistance testing, Laboratory surveillance, WHO Global Epidemiological Surveillance Standards for Influenza.\n",
      "Compare the surveillance goals for influenza caused by a new subtype with those for Influenza-like Illness (ILI).\n"
     ]
    },
    {
     "name": "stderr",
     "output_type": "stream",
     "text": [
      " 72%|███████▏  | 358/499 [24:07<11:43,  4.99s/it]"
     ]
    },
    {
     "name": "stdout",
     "output_type": "stream",
     "text": [
      " Answers: The surveillance goals for influenza caused by a new subtype include managing the sick, preventing further transmission, infection prevention and control, communicating the risk, monitoring the event and response, reporting and notifying, and investigating the event in detail. In contrast, the surveillance goals for Influenza-like Illness (ILI) describe the seasonality of influenza, signal the start and end of the influenza season, establish baseline levels of influenza and severe disease, identify circulating viruses and their relationship to global and regional patterns, monitor antiviral sensitivity, identify high-risk groups, and generate data for estimating influenza burden.\n",
      "\n",
      "Keywords: influenza, new subtype, surveillance goals, manage the sick, prevent transmission, infection prevention and control, communicate risk, monitor event response, report and notify, ILI, seasonality, signal start end, baseline levels, circulating viruses, antiviral sensitivity, high-risk groups.\n",
      "Contrast the standard case definitions for influenza caused by a new subtype with those for ILI. Identify the key differences in criteria and parameters.\n"
     ]
    },
    {
     "name": "stderr",
     "output_type": "stream",
     "text": [
      " 72%|███████▏  | 359/499 [24:12<11:21,  4.87s/it]"
     ]
    },
    {
     "name": "stdout",
     "output_type": "stream",
     "text": [
      " Answers: The standard case definitions for influenza caused by a new subtype differ from those for ILI in several ways. For influenza caused by a new subtype, WHO-confirmed test results are required, while for ILI, no specific diagnostic criteria are mentioned. Additionally, the timeframe for considering an infection recent is more strictly defined for influenza caused by a new subtype, with options including PCR, virus isolation, or paired acide and convalescent serologic tests.\n",
      "\n",
      "Keywords: influenza, new subtype, standard case definitions, ILI, WHO-confirmed test results, recent infection, timeframe, criteria, parameters.\n",
      "Compare the key steps involved in investigating influenza caused by a new subtype with those for ILI. Highlight any shared or distinct aspects in the investigation process.\n",
      " Answers: The investigation of influenza caused by a new subtype involves preparing for the investigation, investigating initial cases, collecting specimens, managing and analyzing data, and implementing response and control measures. ILI investigation includes preparing for the investigation, gathering information, identifying and monitoring contacts, enhancing surveillance, and collecting specimens.\n",
      "\n",
      "Keywords: influenza, new subtype, investigation, ILI, prepare, assembly, team, authorities, gather, information, supplies, initial cases, protect, case definitions, find, additional cases, contacts, active case finding, environmental investigations, data management, response, control measures.\n",
      "\n",
      "Shared aspects: Both investigations involve preparing for the investigation, gathering information and supplies, collecting specimens, and implementing response and control measures.\n",
      "\n",
      "Distinct aspects: The investigation of influenza caused by a new subtype involves developing case definitions, finding additional cases, identifying and monitoring contacts, and managing and analyzing data specifically related to the new subtype. ILI investigation includes enhancing surveillance and active case finding beyond initial reported cases.\n"
     ]
    },
    {
     "name": "stderr",
     "output_type": "stream",
     "text": [
      " 72%|███████▏  | 360/499 [24:18<12:00,  5.18s/it]"
     ]
    },
    {
     "name": "stdout",
     "output_type": "stream",
     "text": [
      "How should health authorities analyze and interpret data for lymphatic filariasis, and what criteria indicate successful control?\n"
     ]
    },
    {
     "name": "stderr",
     "output_type": "stream",
     "text": [
      " 72%|███████▏  | 361/499 [24:23<11:35,  5.04s/it]"
     ]
    },
    {
     "name": "stdout",
     "output_type": "stream",
     "text": [
      " Answers: Health authorities should analyze and interpret data for lymphatic filariasis through regular surveys to determine community prevalence of infection. They should respond to action thresholds by implementing case management, which includes hygiene measures and, when necessary, antibiotics and antifungal agents. Successful control is indicated when transmission is reduced below a threshold where new infection ceases to occur.\n",
      "\n",
      "Keywords: lymphatic filariasis, data analysis, community prevalence, action thresholds, case management, hygiene measures, successful control, transmission reduction\n",
      "What are the standard case definitions for uncomplicated and severe malaria?\n"
     ]
    },
    {
     "name": "stderr",
     "output_type": "stream",
     "text": [
      " 73%|███████▎  | 362/499 [24:29<12:11,  5.34s/it]"
     ]
    },
    {
     "name": "stdout",
     "output_type": "stream",
     "text": [
      " Answers: Uncomplicated malaria is defined as P. falciparum infection without vital organ dysfunction, while severe malaria is characterized by clinical or laboratory evidence of vital organ dysfunction.\n",
      "\n",
      "Keywords: uncomplicated malaria, severe malaria, P. falciparum, vital organ dysfunction, clinical presentation, fever, chills, headache, aches and pains, irregular initially, iritis, jaundice, prostration, impaired consciousness, coma, generalized weakness, multiple convulsions, deep breathing, respiratory distress, acidotic breathing, pulmonary oedema, acute respiratory distress syndrome, circulatory collapse, shock, systolic blood pressure, anemia, thrombocytopenia, leukopenia.\n",
      "How should health authorities respond to alert and action thresholds for malaria, and what actions are recommended?\n"
     ]
    },
    {
     "name": "stderr",
     "output_type": "stream",
     "text": [
      " 73%|███████▎  | 363/499 [24:33<11:45,  5.19s/it]"
     ]
    },
    {
     "name": "stdout",
     "output_type": "stream",
     "text": [
      " Answers: Health authorities should respond to alert and action thresholds for malaria by investigating the cause of the increase in cases, treating suspected cases with appropriate anti-malarial drugs, evaluating and improving prevention strategies, and conducting community education. The specific thresholds vary, but are often based on the median or 3rd quartile of confirmed malaria cases over a five-year period.\n",
      "\n",
      "Keywords: malaria, health authorities, investigation, treatment, prevention strategies, community education, threshold, confirmed malaria cases, five-year period.\n",
      "How should health authorities analyze and interpret malaria data, and what factors indicate a possible epidemic?\n"
     ]
    },
    {
     "name": "stderr",
     "output_type": "stream",
     "text": [
      " 73%|███████▎  | 364/499 [24:39<11:36,  5.16s/it]"
     ]
    },
    {
     "name": "stdout",
     "output_type": "stream",
     "text": [
      " Answers: Health authorities should analyze and interpret malaria data by plotting the median for each data series by month/week for a five-year period and joining the points with a line. The area between the two lines represents the normal channel, and if the number of new cases falls above the 3rd quartile, it may indicate a possible malaria epidemic. In endemic areas, health authorities can use weekly surveillance data and set an epidemic threshold using median and 3rd quartile values from past data.\n",
      "\n",
      "Keywords: analyze data, plot median, normal channel, epidemic threshold, detect malaria epidemics, weekly surveillance, health authorities.\n",
      "How is the epidemic threshold set for malaria, and what factors are considered in determining the upper limit of expected cases?\n"
     ]
    },
    {
     "name": "stderr",
     "output_type": "stream",
     "text": [
      " 73%|███████▎  | 365/499 [24:43<10:47,  4.83s/it]"
     ]
    },
    {
     "name": "stdout",
     "output_type": "stream",
     "text": [
      " Answers: The epidemic threshold for malaria is determined using the median and 3rd quartile of confirmed malaria cases over a five-year period. The upper limit of expected cases represents the 3rd quartile.\n",
      "\n",
      "Keywords: epidemic threshold, malaria, median, 3rd quartile, confirmed malaria cases, five-year period, upper limit, expected cases.\n",
      "How is early detection and control of malaria epidemics ensured in epidemic-prone areas?\n"
     ]
    },
    {
     "name": "stderr",
     "output_type": "stream",
     "text": [
      " 73%|███████▎  | 366/499 [24:48<10:50,  4.89s/it]"
     ]
    },
    {
     "name": "stdout",
     "output_type": "stream",
     "text": [
      " Answers: Early detection and control of malaria epidemics in epidemic-prone areas is ensured through various strategies, including setting appropriate thresholds for detecting possible epidemics based on historical data, laboratory confirmation of cases using microscopy or rapid diagnostic tests, prompt treatment with anti-malarial drugs according to national guidelines, community education for early detection and access to health facilities, prevention strategies like use of insecticide treated nets and indoor residential spraying, and investigation of the cause for any increase in cases.\n",
      "\n",
      " Keywords: malaria epidemics, early detection, control, thresholds, historical data, laboratory confirmation, treatment, community education, prevention strategies, investigation.\n",
      "What are the components of programs elaborated to eradicate malnutrition?\n"
     ]
    },
    {
     "name": "stderr",
     "output_type": "stream",
     "text": [
      " 74%|███████▎  | 367/499 [24:52<10:10,  4.63s/it]"
     ]
    },
    {
     "name": "stdout",
     "output_type": "stream",
     "text": [
      " Answers: Programs to eradicate malnutrition include components on food security, water and sanitation, promotion of infant and young children feeding practices, micronutrient supplementation programs, management of severe cases in communities and health facilities, and surveillance for early warning and problem identification.\n",
      "\n",
      "Keywords: food security, water and sanitation, infant and young children feeding practices, micronutrient supplementation, management of severe cases, surveillance, eradicate malnutrition.\n",
      "What is the goal of nutrition surveillance?\n"
     ]
    },
    {
     "name": "stderr",
     "output_type": "stream",
     "text": [
      " 74%|███████▎  | 368/499 [24:55<09:14,  4.23s/it]"
     ]
    },
    {
     "name": "stdout",
     "output_type": "stream",
     "text": [
      " Answers: The goal of nutrition surveillance is to monitor the quality of the surveillance system for diseases related to nutrition, such as AFP (Acute Flaccid Paralysis) and measles.\n",
      "\n",
      "Keywords: nutrition surveillance, monitor quality, disease-specific indicators, AFP, measles.\n",
      "What actions should be taken in response to an alert threshold related to malnutrition in children?\n"
     ]
    },
    {
     "name": "stderr",
     "output_type": "stream",
     "text": [
      " 74%|███████▍  | 369/499 [25:01<10:31,  4.86s/it]"
     ]
    },
    {
     "name": "stdout",
     "output_type": "stream",
     "text": [
      " Answers: The data does not provide specific information on the actions to be taken in response to an alert threshold related to malnutrition in children. However, it mentions that for conditions like maternal and perinatal deaths, the circumstances leading to the death need to be gathered and analyzed using the national Maternal Perinatal Death Surveillance and Response (MPDSR). For malaria, there are specific actions to be taken when an alert threshold is reached, such as reporting suspected epidemics, treating with appropriate anti-malarial drugs, investigating the cause for the increase in cases, making sure cases in children age 2 months up to 5 years are managed according to IMCI guidelines, and conducting community education.\n",
      "\n",
      "Keywords: alert threshold, malnutrition, children, Maternal Perinatal Death Surveillance and Response (MPDSR), investigation, treatment, community education.\n",
      "Who are the most vulnerable populations in terms of malnutrition?\n"
     ]
    },
    {
     "name": "stderr",
     "output_type": "stream",
     "text": [
      " 74%|███████▍  | 370/499 [25:05<09:32,  4.44s/it]"
     ]
    },
    {
     "name": "stdout",
     "output_type": "stream",
     "text": [
      " Answers: The most vulnerable populations to malnutrition are children under five and pregnant and lactating women.\n",
      "\n",
      "Keywords: children, under-five, pregnant women, lactating women, malnutrition, vulnerability.\n",
      "What is the standard case definition for malnutrition in children under five?\n"
     ]
    },
    {
     "name": "stderr",
     "output_type": "stream",
     "text": [
      " 74%|███████▍  | 371/499 [25:09<09:03,  4.25s/it]"
     ]
    },
    {
     "name": "stdout",
     "output_type": "stream",
     "text": [
      " Answers: Children under five who are underweight (weight for age <-2 ZScore) or have mid-upper arm circumference (MUAC) <11.5 cm, or exhibit bilateral pitting edema, are defined as malnourished.\n",
      "            Keywords: underweight, weight for age, ZScore, mid-upper arm circumference, MUAC, pitting edema, children under five.\n",
      "What is considered a maternal death?\n"
     ]
    },
    {
     "name": "stderr",
     "output_type": "stream",
     "text": [
      " 75%|███████▍  | 372/499 [25:12<08:21,  3.95s/it]"
     ]
    },
    {
     "name": "stdout",
     "output_type": "stream",
     "text": [
      " Answers: A maternal death is the death of a woman during pregnancy or within 42 days after delivery, from any cause related to or aggravated by the pregnancy.\n",
      "\n",
      "Keywords: maternal death, pregnancy, delivery, death, 42 days, causes, related, aggravated.\n",
      "How many women die annually due to complications during pregnancy and childbirth globally?\n"
     ]
    },
    {
     "name": "stderr",
     "output_type": "stream",
     "text": [
      " 75%|███████▍  | 373/499 [25:15<07:37,  3.63s/it]"
     ]
    },
    {
     "name": "stdout",
     "output_type": "stream",
     "text": [
      " Answers: Approximately 500,000 women die annually from complications during pregnancy and childbirth.\n",
      "Keywords: maternal deaths, annual deaths, global statistics, pregnancy complications, childbirth.\n",
      "What is the lifetime risk of maternal death in sub-Saharan Africa?\n"
     ]
    },
    {
     "name": "stderr",
     "output_type": "stream",
     "text": [
      " 75%|███████▍  | 374/499 [25:19<08:15,  3.97s/it]"
     ]
    },
    {
     "name": "stdout",
     "output_type": "stream",
     "text": [
      " Answers: The leading cause of maternal death in sub-Saharan Africa is unattended births, especially in rural areas where transport to healthcare facilities is a problem. The Sustainable Development Goals (SDG) demand active surveillance and reporting of actual maternal deaths with no country having an MMR >70 deaths/100 000 live births.\n",
      "\n",
      "Keywords: Maternal death, Sub-Saharan Africa, Unattended births, Active surveillance, Sustainable Development Goals (SDG), Millenium Development Goals (MDGs), Reduction of maternal mortality ratio (MMR).\n",
      "What is the standard case definition for maternal death?\n"
     ]
    },
    {
     "name": "stderr",
     "output_type": "stream",
     "text": [
      " 75%|███████▌  | 375/499 [25:23<07:45,  3.76s/it]"
     ]
    },
    {
     "name": "stdout",
     "output_type": "stream",
     "text": [
      " Answers: The death of a woman during pregnancy or within 42 days after its termination, from any cause related to or aggravated by the pregnancy or its management.\n",
      "\n",
      "Keywords: maternal death, pregnancy, delivery, termination of pregnancy, causes, aggravated, 42 days.\n",
      "How should data on maternal deaths be analyzed and interpreted?\n"
     ]
    },
    {
     "name": "stderr",
     "output_type": "stream",
     "text": [
      " 75%|███████▌  | 376/499 [25:27<07:58,  3.89s/it]"
     ]
    },
    {
     "name": "stdout",
     "output_type": "stream",
     "text": [
      " Answers: Data on maternal deaths should be analyzed and interpreted through various strategies, including constructing epidemic curves, plotting location of cases, analyzing distribution by age and demographic factors, laboratory confirmation (though routine confirmation is not required), and aggregated data analysis at larger health facilities and districts.\n",
      "\n",
      "Keywords: analyze, interpret, epidemic curve, location, distribution, demographic factors, laboratory confirmation, aggregated data, larger health facilities, districts.\n",
      "Why is hemorrhage identified as a leading cause of maternal death in sub-Saharan Africa?\n"
     ]
    },
    {
     "name": "stderr",
     "output_type": "stream",
     "text": [
      " 76%|███████▌  | 377/499 [25:30<07:34,  3.73s/it]"
     ]
    },
    {
     "name": "stdout",
     "output_type": "stream",
     "text": [
      " Answers: Hemorrhage is identified as a leading cause of maternal death in sub-Saharan Africa due to high rates of unattended births and difficulties in transport to healthcare facilities.\n",
      "\n",
      "Keywords: hemorrhage, leading cause, maternal death, sub-Saharan Africa, unattended births, healthcare facilities.\n",
      "Where should surveillance for maternal deaths be conducted?\n"
     ]
    },
    {
     "name": "stderr",
     "output_type": "stream",
     "text": [
      " 76%|███████▌  | 378/499 [25:33<07:08,  3.54s/it]"
     ]
    },
    {
     "name": "stdout",
     "output_type": "stream",
     "text": [
      " Answers: Surveillance for maternal deaths should be conducted not just in labor wards, but in the community and all service areas where women are seen or die.\n",
      "\n",
      "Keywords: community, service areas, identification, reporting, maternal deaths\n",
      "What is the significance of the alert threshold for maternal deaths at a health facility?\n"
     ]
    },
    {
     "name": "stderr",
     "output_type": "stream",
     "text": [
      " 76%|███████▌  | 379/499 [25:37<06:58,  3.49s/it]"
     ]
    },
    {
     "name": "stdout",
     "output_type": "stream",
     "text": [
      " Answers: The alert threshold for maternal deaths at a health facility signifies the point at which an immediate response is required following the determination of a maternal death within 42 days of pregnancy termination.\n",
      "\n",
      "Keywords: maternal death, alert threshold, immediate response, determination, pregnancy termination.\n",
      "How does the SDG reporting in 2030 differ from the MDG approach in terms of maternal mortality reduction goals?\n"
     ]
    },
    {
     "name": "stderr",
     "output_type": "stream",
     "text": [
      " 76%|███████▌  | 380/499 [25:40<06:54,  3.48s/it]"
     ]
    },
    {
     "name": "stdout",
     "output_type": "stream",
     "text": [
      " Answers: The SDG reporting in 2030 demands actual number reporting of maternal deaths, while the MDGs had a goal to reduce maternal mortality ratio by 75%.\n",
      "\n",
      "Keywords: SDG reporting, actual number reporting, maternal deaths, maternal mortality ratio, MDGs.\n",
      "Where should data on maternal deaths be analyzed, and why is it important to analyze it in this manner?\n"
     ]
    },
    {
     "name": "stderr",
     "output_type": "stream",
     "text": [
      " 76%|███████▋  | 381/499 [25:44<07:09,  3.64s/it]"
     ]
    },
    {
     "name": "stdout",
     "output_type": "stream",
     "text": [
      " Answers: Data on maternal deaths should be analyzed at the monthly, quarterly or semi-annual level, both at larger health facilities and at district level. This comprehensive approach allows for identifying trends, addressing gaps that can be addressed at policy level and in health facilities and communities, and preventing similar deaths in the future.\n",
      "\n",
      "Keywords: maternal deaths, data analysis, monthly, quarterly, semi-annual, identify trends, address gaps, prevent similar deaths, policy level, health facilities, communities.\n",
      "What is the extent of the problem of maternal mortality globally?\n"
     ]
    },
    {
     "name": "stderr",
     "output_type": "stream",
     "text": [
      " 77%|███████▋  | 382/499 [25:50<08:19,  4.27s/it]"
     ]
    },
    {
     "name": "stdout",
     "output_type": "stream",
     "text": [
      " Answers: Maternal mortality is a significant global issue, particularly in sub-Saharan Africa where it's the leading cause of death. Unattended births pose a particular risk, especially in rural areas due to limited access to healthcare facilities and transport. The Sustainable Development Goals (SDGs) demand active surveillance and reporting of maternal deaths, with no country allowed an MMR exceeding 70 deaths/100,000 live births. Progress towards MDG 5 indicates most African countries failed to meet the target by 2015, necessitating increased investments and actions.\n",
      "\n",
      "Keywords: maternal mortality, sub-Saharan Africa, unattended births, Sustainable Development Goals (SDGs), active surveillance, reporting, Millennium Development Goals (MDGs), African countries, investments, actions.\n",
      "What is measles, and how is it transmitted?\n"
     ]
    },
    {
     "name": "stderr",
     "output_type": "stream",
     "text": [
      " 77%|███████▋  | 383/499 [25:53<07:21,  3.81s/it]"
     ]
    },
    {
     "name": "stdout",
     "output_type": "stream",
     "text": [
      " Answers: Measles is a viral illness characterized by fever, rash, and respiratory symptoms. It's transmitted through airborne droplets.\n",
      "\n",
      "Keywords: measles, viral illness, fever, rash, respiratory symptoms, airborne droplet spread\n",
      "What are the risk factors for measles outbreaks?\n"
     ]
    },
    {
     "name": "stderr",
     "output_type": "stream",
     "text": [
      " 77%|███████▋  | 384/499 [25:57<07:44,  4.04s/it]"
     ]
    },
    {
     "name": "stdout",
     "output_type": "stream",
     "text": [
      " Answers: Risk factors for measles outbreaks include low vaccine coverage (<85 to 90%), high population density, and accumulation of susceptible persons. Outbreaks can occur every few years in areas with low vaccine coverage.\n",
      "\n",
      "Keywords: low vaccine coverage, high population density, susceptible persons, accumulation, measles outbreaks, human infections, transmissible disease, fever with rash illness, African countries, WHO goal, case definition, suspected case, confirmed case, measles alert threshold, Malawi, health facility, outbreak investigation, action threshold, EPI, community mobilization, Vitamin A, dose 1 and 2, age groups.\n",
      "What is the diagnostic test for measles, and when should specimens be collected?\n"
     ]
    },
    {
     "name": "stderr",
     "output_type": "stream",
     "text": [
      " 77%|███████▋  | 385/499 [26:02<08:03,  4.24s/it]"
     ]
    },
    {
     "name": "stdout",
     "output_type": "stream",
     "text": [
      " Answers: The diagnostic test for measles involves the presence of IgM antibodies to the measles virus in serum. Specimens should be collected between the 3rd day of the rash and 28 days after onset of rash. In countries with an elimination target, specimens from every suspected case should be collected.\n",
      "\n",
      "Keywords: measles diagnostic test, IgM antibodies, serum, collect specimens, within 3 days of rash, between 3rd day and 28 days after onset, every suspected case in elimination target countries.\n",
      "How should specimens be prepared, stored, and managed for measles testing?\n"
     ]
    },
    {
     "name": "stderr",
     "output_type": "stream",
     "text": [
      " 77%|███████▋  | 386/499 [26:07<08:31,  4.52s/it]"
     ]
    },
    {
     "name": "stdout",
     "output_type": "stream",
     "text": [
      " Answers: Specimens for measles testing should be collected between the 3rd day of the rash and 28th day after onset, using a clean glass tube or avoiding shaking before collection. Serum is separated from whole blood and stored at 4°C or in an EPI hand vaccine carrier to prevent bacterial overgrowth. Specimens should be transported using appropriate packaging to prevent leaks or breaks during transport.\n",
      "\n",
      "Keywords: measles testing, specimen preparation, serum separation, storage, transportation, clean glass tube, EPI hand vaccine carrier, bacterial overgrowth, appropriate packaging.\n",
      "What is the reference for responding to measles outbreaks in measles mortality reduction settings?\n",
      " Answers: The response to suspected or confirmed measles outbreaks in measles mortality reduction settings involves reporting cases, collecting blood samples, treating cases with oral rehydration, vitamin A, and antibiotics, using airborne isolation precautions, investigating causes, improving vaccine coverage, mobilizing communities, providing Vitamin A doses, analyzing data, and placing cases on a map.\n",
      "\n",
      "Keywords: measles outbreak, reporting suspected case, collect blood sample, treat cases, oral rehydration, vitamin A, antibiotics, airborne isolation precautions, investigate causes, improve vaccine coverage, mobilize community, provide Vitamin A doses, analyze data, place cases on map.\n",
      "\n",
      "Background: Measles is a viral illness transmitted via airborne droplets, causing fever and rash. It's the fourth leading cause of death in children under 5 years old in many African countries. The incubation period is 7-18 days. Severe cases can result from vitamin A deficiency and malnutrition, leading to bacterial infections like pneumonia. Measles is highly transmissible, with large outbreaks occurring in areas of low vaccine coverage. Risk factors include low vaccine coverage (<85-90%).\n"
     ]
    },
    {
     "name": "stderr",
     "output_type": "stream",
     "text": [
      " 78%|███████▊  | 387/499 [26:15<10:08,  5.43s/it]"
     ]
    },
    {
     "name": "stdout",
     "output_type": "stream",
     "text": [
      "Where can one find African Regional guidelines for measles and rubella surveillance?\n"
     ]
    },
    {
     "name": "stderr",
     "output_type": "stream",
     "text": [
      " 78%|███████▊  | 388/499 [26:19<09:16,  5.01s/it]"
     ]
    },
    {
     "name": "stdout",
     "output_type": "stream",
     "text": [
      " Answers: The African Regional guidelines for measles and rubella surveillance can be found in the Integrated Disease Surveillance and Response (IDSR) technical guidelines provided by WHO-AFRO.\n",
      "\n",
      "Keywords: African Region, IDSR, WHO-AFRO, Integrated Disease Surveillance and Response, technical guidelines, measles, rubella.\n",
      "What is MERS, and what virus causes it?\n"
     ]
    },
    {
     "name": "stderr",
     "output_type": "stream",
     "text": [
      " 78%|███████▊  | 389/499 [26:22<08:23,  4.58s/it]"
     ]
    },
    {
     "name": "stdout",
     "output_type": "stream",
     "text": [
      " Answers: MERS is a viral respiratory illness caused by the Middle East Respiratory Syndrome Coronavirus (MERS-CoV).\n",
      "\n",
      "Keywords: MERS, Middle East Respiratory Syndrome, MERS-CoV, viral respiratory illness.\n",
      "What are the typical symptoms of MERS?\n"
     ]
    },
    {
     "name": "stderr",
     "output_type": "stream",
     "text": [
      " 78%|███████▊  | 390/499 [26:26<07:36,  4.19s/it]"
     ]
    },
    {
     "name": "stdout",
     "output_type": "stream",
     "text": [
      " Answers: The typical symptoms of MERS include respiratory symptoms such as cough and shortness of breath. Other symptoms may include fever, body aches, and gastrointestinal symptoms like diarrhea and nausea.\n",
      "\n",
      "Keywords: respiratory symptoms, cough, shortness of breath, fever, body aches, gastrointestinal symptoms, diarrhea, nausea\n",
      "What is the surveillance goal for MERS?\n"
     ]
    },
    {
     "name": "stderr",
     "output_type": "stream",
     "text": [
      " 78%|███████▊  | 391/499 [26:29<06:52,  3.82s/it]"
     ]
    },
    {
     "name": "stdout",
     "output_type": "stream",
     "text": [
      " Answers: The surveillance goals for MERS include detection, sample collection, reporting, analysis and interpretation, feedback, and action.\n",
      "\n",
      "Keywords: MERS, surveillance goals, detection, sample collection, reporting, analysis, interpretation, feedback, action.\n",
      "How should specimens be collected for laboratory confirmation of MERS?\n"
     ]
    },
    {
     "name": "stderr",
     "output_type": "stream",
     "text": [
      " 79%|███████▊  | 392/499 [26:35<08:12,  4.60s/it]"
     ]
    },
    {
     "name": "stdout",
     "output_type": "stream",
     "text": [
      " Answers: Specimens for MERS-CoV lab confirmation should ideally be lower respiratory tract specimens like sputum, endotracheal aspirates, or bronchoalveolar lavage fluid. If not available, upper respiratory tract specimens such as nasopharyngeal aspirates or combined nasopharyngeal and oropharyngeal swabs can be used. Re-testing and paired acute and convalescent sera are recommended for negative initial tests.\n",
      "\n",
      "Keywords: MERS-CoV, laboratory confirmation, specimens, lower respiratory tract, upper respiratory tract, sputum, endotracheal aspirates, bronchoalveolar lavage fluid, nasopharyngeal aspirate, oropharyngeal swabs, retesting, paired acute and convalescent sera.\n",
      "What are the guidelines for responding to a suspected MERS case or outbreak?\n"
     ]
    },
    {
     "name": "stderr",
     "output_type": "stream",
     "text": [
      " 79%|███████▉  | 393/499 [26:39<07:53,  4.47s/it]"
     ]
    },
    {
     "name": "stdout",
     "output_type": "stream",
     "text": [
      " Answers: The guidelines include testing confirmed or probable cases, identifying and monitoring close contacts, reporting cases within 24 hours, conducting community education, and focusing on active case finding in the area under investigation. Health care workers should wear appropriate personal protective equipment and follow infection control precautions.\n",
      "\n",
      "Keywords: testing, confirmed or probable cases, close contacts, reporting, community education, active case finding, health care workers, personal protective equipment, infection control.\n",
      "Where does Monkeypox primarily occur?\n"
     ]
    },
    {
     "name": "stderr",
     "output_type": "stream",
     "text": [
      " 79%|███████▉  | 394/499 [26:42<07:00,  4.01s/it]"
     ]
    },
    {
     "name": "stdout",
     "output_type": "stream",
     "text": [
      " Answers: Monkeypox primarily occurs in countries in Central and West Africa.\n",
      "Keywords: Central Africa, West Africa, countries, primarily occurs.\n",
      "How is Monkeypox transmitted between humans?\n"
     ]
    },
    {
     "name": "stderr",
     "output_type": "stream",
     "text": [
      " 79%|███████▉  | 395/499 [26:46<06:41,  3.86s/it]"
     ]
    },
    {
     "name": "stdout",
     "output_type": "stream",
     "text": [
      " Answers: Monkeypox is primarily transmitted between humans through prolonged contact with respiratory droplets and contact with lesions or bodily fluids that contain the virus.\n",
      "\n",
      "Keywords: human transmission, respiratory droplets, contact with lesions, bodily fluids.\n",
      "Name some countries that have reported human cases of Monkeypox.\n"
     ]
    },
    {
     "name": "stderr",
     "output_type": "stream",
     "text": [
      " 79%|███████▉  | 396/499 [26:50<07:08,  4.16s/it]"
     ]
    },
    {
     "name": "stdout",
     "output_type": "stream",
     "text": [
      " Answers: The Democratic Republic of Congo, Sierra Leone, Liberia, Cote d'Ivoire, Nigeria, Cameroon, Gabon, Republic of Congo, Central African Republic, Sudan (now South Sudan), and since late 2016, countries that have not reported cases for the past 40 years.\n",
      "\n",
      "Keywords: Democratic Republic of Congo, Sierra Leone, Liberia, Cote d'Ivoire, Nigeria, Cameroon, Gabon, Republic of Congo, Central African Republic, Sudan, South Sudan, late 2016, countries reporting human cases of monkeypox.\n",
      "What is the incubation period of Monkeypox?\n"
     ]
    },
    {
     "name": "stderr",
     "output_type": "stream",
     "text": [
      " 80%|███████▉  | 397/499 [26:54<06:40,  3.93s/it]"
     ]
    },
    {
     "name": "stdout",
     "output_type": "stream",
     "text": [
      " Answers: The incubation period of monkeypox is 6-14 days (range 5-21 days).\n",
      "\n",
      "Keywords: incubation period, monkeypox, range 5-21 days.\n",
      "What are the clinical features of Monkeypox?\n"
     ]
    },
    {
     "name": "stderr",
     "output_type": "stream",
     "text": [
      " 80%|███████▉  | 398/499 [27:01<08:14,  4.90s/it]"
     ]
    },
    {
     "name": "stdout",
     "output_type": "stream",
     "text": [
      " Answers: Monkeypox is characterized by fever, intense headache, lymphadenopathy, back pain, myalgia, and asthenia during the first 5 days, followed by a skin eruption period where various stages of rash appear. The most distinguishing symptom is lymphadenopathy, which affects the face, palms, and soles. The rash evolves from maculo-papules to vesicles, pustules, and crusts in approximately 10 days, with complete disappearance taking three weeks. Monkeypox should not be confused with chickenpox due to its deeper lesions and distribution on the face and extremities.\n",
      "\n",
      "Keywords: fever, headache, lymphadenopathy, back pain, myalgia, asthenia, skin eruption, maculo-papules, vesicles, pustules, crusts, lymph nodes, face, palms, soles, chickenpox, distinction.\n",
      "How is Monkeypox diagnosed in a laboratory?\n"
     ]
    },
    {
     "name": "stderr",
     "output_type": "stream",
     "text": [
      " 80%|███████▉  | 399/499 [27:06<08:11,  4.91s/it]"
     ]
    },
    {
     "name": "stdout",
     "output_type": "stream",
     "text": [
      " Answers: Monkeypox is diagnosed in a laboratory through polymerase chain reaction (PCR) assay to identify monkeypox DNA in clinical specimens, such as vesicular swabs of lesion exudate or crusts, blood/serum samples, and biopsy specimens.\n",
      "\n",
      "Keywords: Monkeypox diagnosis, laboratory testing, polymerase chain reaction (PCR) assay, clinical specimens, vesicular swabs, lesion exudate or crusts, blood/serum samples, biopsy specimens.\n",
      "What are the optimal specimens for Monkeypox diagnosis?\n"
     ]
    },
    {
     "name": "stderr",
     "output_type": "stream",
     "text": [
      " 80%|████████  | 400/499 [27:08<06:52,  4.17s/it]"
     ]
    },
    {
     "name": "stdout",
     "output_type": "stream",
     "text": [
      " Answers: The optimal specimens for Monkeypox diagnosis include vesicular swabs of lesion exudate or crusts, biopsy specimens, scabs, lesion skin (roof), and pustule material.\n",
      "\n",
      "Keywords: Monkeypox diagnosis, optimal specimens, vesicular swabs, biopsy specimens, scabs, lesion skin, pustule material.\n",
      "What is AIDS, and what causes it?\n"
     ]
    },
    {
     "name": "stderr",
     "output_type": "stream",
     "text": [
      " 80%|████████  | 401/499 [27:13<06:56,  4.25s/it]"
     ]
    },
    {
     "name": "stdout",
     "output_type": "stream",
     "text": [
      " Answers: AIDS is a condition caused by the human immunodedeficiency virus (HIV), which infects human lymphocytes and other organs. It results in immuno-suppression and late-stage HIV infection, leading to various opportunistic infections and death without antiretroviral therapy.\n",
      "\n",
      "Keywords: AIDS, human immunodeficiency virus (HIV), lymphocytes, immuno-suppression, opportunistic infections, antiretroviral therapy, late-stage HIV infection, transmission through sexual intercourse, needle injections, transfusions, breast milk or other direct contact with infected body fluids.\n",
      "What is the incubation period for HIV?\n"
     ]
    },
    {
     "name": "stderr",
     "output_type": "stream",
     "text": [
      " 81%|████████  | 402/499 [27:16<06:33,  4.06s/it]"
     ]
    },
    {
     "name": "stdout",
     "output_type": "stream",
     "text": [
      " Answers: The incubation period for HIV is approximately 1 to 3 months from the time of infection to the detection of antibodies in a laboratory process.\n",
      "\n",
      "Keywords: HIV, incubation period, antibodies, laboratory process, approximately 1 to 3 months.\n",
      "Who are at high risk of acquiring HIV?\n"
     ]
    },
    {
     "name": "stderr",
     "output_type": "stream",
     "text": [
      " 81%|████████  | 403/499 [27:20<06:13,  3.89s/it]"
     ]
    },
    {
     "name": "stdout",
     "output_type": "stream",
     "text": [
      " Answers: Populations at high risk of acquiring HIV include commercial sex workers with or without other sexually transmitted infections (STIs), intravenous drug users (IDU), recipients of unscreened blood products, and neonates born to HIV-infected mothers.\n",
      "\n",
      "Keywords: commercial sex workers, STIs, intravenous drug users, recipients of unscreened blood products, neonates, high risk, HIV acquisition\n",
      "What are some symptoms of AIDS-related opportunistic infections?\n"
     ]
    },
    {
     "name": "stderr",
     "output_type": "stream",
     "text": [
      " 81%|████████  | 404/499 [27:24<06:21,  4.02s/it]"
     ]
    },
    {
     "name": "stdout",
     "output_type": "stream",
     "text": [
      " Answers: Some symptoms of AIDS-related opportunistic inctions include tuberculosis, bacterial pneumonia or sepsis, oro-pharyngeal candidiasis, chronic diarrhea, chronic skin infections, recurrent herpes zoster, and others.\n",
      "\n",
      "Keywords: tuberculosis, bacterial pneumonia or sepsis, oro-pharyngeal candidiasis, chronic diarrhea, chronic skin infections, recurrent herpes zoster, opportunistic infections, AIDS symptoms\n",
      "What is the surveillance goal for HIV/AIDS?\n"
     ]
    },
    {
     "name": "stderr",
     "output_type": "stream",
     "text": [
      " 81%|████████  | 405/499 [27:28<06:00,  3.84s/it]"
     ]
    },
    {
     "name": "stdout",
     "output_type": "stream",
     "text": [
      " Answers: The IDSR strategy aims to improve countries' abilities to detect, investigate, report, confirm, and respond effectively to HIV/AIDS as a high-priority communicable disease.\n",
      "\n",
      "Keywords: IDSR strategy, detect, investigate, report, confirm, respond, HIV/AIDS, communicable disease.\n",
      "What are some public health actions for HIV/AIDS?\n",
      " Answers: Public health actions for HIV/AIDS include engaging the community, informing and educating them about the disease and prevention methods, conducting mass vaccination campaigns, improving access to clean water, ensuring safe disposal of infectious waste, improving food handling practices, reducing exposures to hazards, ensuring safe burial and handling of dead bodies, strengthening case management and Infection Prevention and Control measures, keeping the public informed through risk communication and community engagement, and selecting response activities from disease-specific guidelines.\n",
      "\n",
      "Keywords: HIV/AIDS, community engagement, risk communication, inform and educate, mass vaccination, clean water, infectious waste, food handling, prevention activities, case management, Infection Prevention and Control measures, public health actions.\n"
     ]
    },
    {
     "name": "stderr",
     "output_type": "stream",
     "text": [
      " 81%|████████▏ | 406/499 [27:33<06:47,  4.38s/it]"
     ]
    },
    {
     "name": "stdout",
     "output_type": "stream",
     "text": [
      "What specimen is used for HIV testing, and how is it collected?\n"
     ]
    },
    {
     "name": "stderr",
     "output_type": "stream",
     "text": [
      " 82%|████████▏ | 407/499 [27:38<06:56,  4.52s/it]"
     ]
    },
    {
     "name": "stdout",
     "output_type": "stream",
     "text": [
      " Answers: The specimen used for HIV testing is serum. It is collected by obtaining 10 ml of venous blood using sterile needles or syringes, letting it clot or centrifuging to separate the serum, and transferring it into sterile, screw-capped tubes.\n",
      "\n",
      "            Keywords: HIV testing, serum, venous blood, sterile needles, syringes, clot, centrifuge, screw-capped tubes.\n",
      "What are some references for HIV/AIDS surveillance?\n"
     ]
    },
    {
     "name": "stderr",
     "output_type": "stream",
     "text": [
      " 82%|████████▏ | 408/499 [27:42<06:23,  4.21s/it]"
     ]
    },
    {
     "name": "stdout",
     "output_type": "stream",
     "text": [
      " Answers: The data provides several references for HIV/AIDS surveillance, including identifying priority diseases and diseases of public health importance, specifying communication links between community health workers and facilities, conducting meetings, and training health workers on surveillance functions.\n",
      "\n",
      "Keywords: HIV/AIDS, priority diseases, communication links, community health workers, training, surveillance functions.\n",
      "What are the targets set by the Global Strategy for Women’s, Children’s, and Adolescents’ Health regarding neonatal mortality and stillbirths?\n"
     ]
    },
    {
     "name": "stderr",
     "output_type": "stream",
     "text": [
      " 82%|████████▏ | 409/499 [27:47<06:40,  4.46s/it]"
     ]
    },
    {
     "name": "stdout",
     "output_type": "stream",
     "text": [
      " Answers: The Global Strategy for Women's, Children's, and Adolescents' Health aims to reduce neonatal mortality to less than 12 deaths per 1,000 births and stillbirths to less than 12 per 1,000 total births.\n",
      "\n",
      "Keywords: Global Strategy, Women’s Health, Children's Health, Adolescents' Health, Neonatal mortality, Stillbirths, Reduce, Less than 12 deaths per 1,000 births.\n",
      "What is the definition of a stillbirth?\n"
     ]
    },
    {
     "name": "stderr",
     "output_type": "stream",
     "text": [
      " 82%|████████▏ | 410/499 [27:51<06:35,  4.45s/it]"
     ]
    },
    {
     "name": "stdout",
     "output_type": "stream",
     "text": [
      " Answers: A stillbirth is defined as a baby born before birth with no signs of life at birth, having a birthweight of at least 1,000 g or a gestational age and length of at least 28 weeks and 35 cm.\n",
      "\n",
      "Keywords: stillbirth, birthweight, gestational age, signs of life, 1000g, 28 weeks, 35 cm.\n",
      "How is data on perinatal deaths analyzed and interpreted?\n"
     ]
    },
    {
     "name": "stderr",
     "output_type": "stream",
     "text": [
      " 82%|████████▏ | 411/499 [27:56<06:58,  4.75s/it]"
     ]
    },
    {
     "name": "stdout",
     "output_type": "stream",
     "text": [
      " Answers: Data on perinatal deaths is analyzed and interpreted through various measures, including the number of stillbirths (SBR) and early neonatal deaths (NMR), causes of stillbirths and early neonatal deaths, % of avoidable factors, descriptive analysis by person, place and time. Monthly, quarterly or semi-annual analysis is conducted at larger health facilities and district level to address specific problems across multiple facilities or communities.\n",
      "\n",
      "Keywords: perinatal deaths, data analysis, stillbirths, neonatal deaths, causes, descriptive analysis, monthly analysis, quarterly analysis, semi-annual analysis, health facilities, districts.\n",
      "What is the recommended committee for reviewing perinatal deaths, and what other committee can it be combined with?\n"
     ]
    },
    {
     "name": "stderr",
     "output_type": "stream",
     "text": [
      " 83%|████████▎ | 412/499 [28:00<06:15,  4.31s/it]"
     ]
    },
    {
     "name": "stdout",
     "output_type": "stream",
     "text": [
      " Answers: The Perinatal Death Review (PDR) committee is recommended for reviewing perinatal deaths. It can be combined with the Maternal Death Review (MDR) committee.\n",
      "\n",
      "Keywords: Perinatal Death Review, Maternal Death Review, committee, review, perinatal deaths, maternal deaths.\n",
      "What is the standard case definition for suspected, probable, and confirmed cases of pneumonic plague?\n"
     ]
    },
    {
     "name": "stderr",
     "output_type": "stream",
     "text": [
      " 83%|████████▎ | 413/499 [28:08<07:39,  5.34s/it]"
     ]
    },
    {
     "name": "stdout",
     "output_type": "stream",
     "text": [
      " Answers: The standard case definitions for suspected, probable, and confirmed cases of pneumonic plague are as follows:\n",
      "\n",
      "1. Suspected case: Anyone with coughs of less than 5 days and one of the following signs: striated sputum from blood or dyspnea or chest pain, and fever (or history of fever) or at least three of headache, chills, generalized or severe asthenia, and an epidemiological context.\n",
      "2. Probable case: A suspected case alive or deceased with a positive F1 rapid diagnostic test (RDT) or positive PCR alone, or a suspicious death with an epidemiological link to plague established and without biological sampling.\n",
      "3. Confirmed case: A suspected case in which Yersinia pestis has been identified.\n",
      "\n",
      "Keywords: pneumonic plague, case definition, suspected case, probable case, confirmed case, fever, coughs, sputum, dyspnea, chest pain, epidemiological context, F1 RDT, PCR, Yersinia pestis.\n",
      "What are the measures for analyzing and interpreting data on pneumonic plague?\n",
      " Answers: The analysis and interpretation of data on pneumonic plague involve summarizing the outbreak, identifying where cases are occurring, making tables of relevant characteristics for cases, calculating case fatality rates and attack rates, and reviewing the analysis results to identify potential risk factors such as the causal agent, source of infection, and transmission pattern.\n",
      "Keywords: pneumonic plague analysis, summarize outbreak, identify cases location, make tables, calculate case fatality rates, review analysis results, potential risk factors.\n"
     ]
    },
    {
     "name": "stderr",
     "output_type": "stream",
     "text": [
      " 83%|████████▎ | 414/499 [28:12<07:17,  5.15s/it]"
     ]
    },
    {
     "name": "stdout",
     "output_type": "stream",
     "text": [
      "What are the diagnostic tests for laboratory confirmation of pneumonic plague, and what specimens are required?\n"
     ]
    },
    {
     "name": "stderr",
     "output_type": "stream",
     "text": [
      " 83%|████████▎ | 415/499 [28:18<07:25,  5.31s/it]"
     ]
    },
    {
     "name": "stdout",
     "output_type": "stream",
     "text": [
      " Answers: The diagnostic tests for laboratory confirmation of pneumonic plague include Gram stain, May Grunewald Giemsa Kit, Rapid diagnostic test (dipsticks AgF1), Plague culture, and PCR. Specimens required are clinical specimens properly packaged and shipped to a laboratory with known plague diagnostic capabilities or to a WHO Collaborating Centre for Plague.\n",
      "\n",
      "Keywords: Gram stain, May Grunewald Giemsa Kit, Rapid diagnostic test (dipsticks AgF1), Plague culture, PCR, clinical specimens, laboratory confirmation, pneumonic plague.\n",
      "How should clinical specimens for pneumonic plague be prepared, stored, and transported?\n"
     ]
    },
    {
     "name": "stderr",
     "output_type": "stream",
     "text": [
      " 83%|████████▎ | 416/499 [28:24<07:47,  5.63s/it]"
     ]
    },
    {
     "name": "stdout",
     "output_type": "stream",
     "text": [
      " Answers: Clinical specimens for pneumonic plague should be collected (sputum, blood), packaged properly, and shipped to a laboratory with known plague diagnostic capabilities or to a WHO Collaborating Centre for Plague. Proper packaging includes using sterile containers, Cary-Blair transport medium, and cold boxes with frozen ice packs or vacuum flasks. Isolate suspected cases with precautions against airborne spread until after 48 hours of appropriate antibiotic therapy.\n",
      "\n",
      "Keywords: clinical specimens, pneumonic plague, collect, package, ship, sterile containers, Cary-Blair transport medium, cold boxes, frozen ice packs, vacuum flasks, isolate, airborne spread, antibiotic therapy, WHO Collaborating Centre.\n",
      "What is the incubation period for paralytic cases of polio, and what is the range?\n"
     ]
    },
    {
     "name": "stderr",
     "output_type": "stream",
     "text": [
      " 84%|████████▎ | 417/499 [28:28<07:00,  5.13s/it]"
     ]
    },
    {
     "name": "stdout",
     "output_type": "stream",
     "text": [
      " Answers: The incubation period for paralytic cases of polio is 7 to 14 days, with a range of approximately 3 to 35 days.\n",
      "\n",
      "Keywords: incubation period, paralytic cases, polio, range, 3-35 days, 7-14 days\n",
      "What is the standard case definition for suspected and confirmed cases of poliomyelitis?\n"
     ]
    },
    {
     "name": "stderr",
     "output_type": "stream",
     "text": [
      " 84%|████████▍ | 418/499 [28:32<06:27,  4.78s/it]"
     ]
    },
    {
     "name": "stdout",
     "output_type": "stream",
     "text": [
      " Answers: The standard case definition for a suspected case of poliomyelitis is any child under 15 years of age with acute flaccid paralysis or any person with paralytic illness at any age in whom the clinician suspects poliomyelitis. A confirmed case is a suspected case with virus isolation in stool.\n",
      "\n",
      "Keywords: acute flaccid paralysis, clinician suspects, confirmed case, paralytic illness, poliomyelitis, suspected case, virus isolation, stool.\n",
      "How does the incubation period for pneumonic plague compare to that of paralytic polio?\n"
     ]
    },
    {
     "name": "stderr",
     "output_type": "stream",
     "text": [
      " 84%|████████▍ | 419/499 [28:36<06:07,  4.59s/it]"
     ]
    },
    {
     "name": "stdout",
     "output_type": "stream",
     "text": [
      " Answers: The incubation period for pneumonic plague is not specified in the provided data, while the incubation period for paralytic polio is 12-14 days.\n",
      "\n",
      "Keywords: pneumonic plague, incubation period, paralytic polio, 12-14 days.\n",
      "Compare the diagnostic tests and specimen requirements for laboratory confirmation of pneumonic plague and poliomyelitis.\n"
     ]
    },
    {
     "name": "stderr",
     "output_type": "stream",
     "text": [
      " 84%|████████▍ | 420/499 [28:43<07:00,  5.32s/it]"
     ]
    },
    {
     "name": "stdout",
     "output_type": "stream",
     "text": [
      " Answers: Pneumonic plague and poliomyelitis have similarities and differences in diagnostic tests and specimen requirements for laboratory confirmation. For both, clinical specimens should be sent promptly to a lab with known diagnostic capabilities or a WHO Collaborating Centre for their respective diseases. Results will take at least 5 working days. Antibiotic treatment should be initiated as soon as possible. However, pneumonic plague patients seroconvert to the F1 Y. pestis antigen 7-10 days after onset, while poliomyelitis diagnosis relies on F1 RDT or positive PCR alone.\n",
      "\n",
      "Keywords: pneumonic plague, poliomyelitis, diagnostic tests, specimen requirements, laboratory confirmation, clinical specimens, WHO Collaborating Centre, antibiotic treatment, seroconversion, F1 Y. pestis antigen, RDT, PCR.\n",
      "Which antibiotic treatments are recommended for pneumonic plague, and why is quick treatment crucial for this disease?\n"
     ]
    },
    {
     "name": "stderr",
     "output_type": "stream",
     "text": [
      " 84%|████████▍ | 421/499 [28:49<06:58,  5.37s/it]"
     ]
    },
    {
     "name": "stdout",
     "output_type": "stream",
     "text": [
      " Answers: The recommended antibiotic treatments for pneumonic plague include gentamicin and fluoroquinolones (Levofloxacin, Ciprofloxacin, Moxifloxacin), chloramphenicol, and Doxycycline. Quick treatment is crucial as it prevents the progression of pneumonic or septicemic plague, which have higher case fatalities.\n",
      "\n",
      "Keywords: pneumonic plague, antibiotic treatments, gentamicin, fluoroquinolones, chloramphenicol, Doxycycline, quick treatment, prevent progression, higher case fatalities.\n",
      "What is the extent of the risk associated with human-to-human transmission of pneumonic plague, especially in areas with limited health care services?\n"
     ]
    },
    {
     "name": "stderr",
     "output_type": "stream",
     "text": [
      " 85%|████████▍ | 422/499 [28:53<06:14,  4.86s/it]"
     ]
    },
    {
     "name": "stdout",
     "output_type": "stream",
     "text": [
      " Answers: The risk of human-to-human transmission of pneumonic plague is significant, particularly in areas with limited healthcare services. This form of plague can be transmitted through infectious droplets.\n",
      "\n",
      "Keywords: human-to-human transmission, pneumonic plague, infectious droplets, limited healthcare services\n",
      "Where can additional information on plague and polio be found, and why are these resources important for health professionals and authorities?\n",
      " Answers: WHO Plague Manual and CDC Laboratory Manual of Plague Diagnostic tests provide comprehensive information on plague, including its transmission, disease forms, incubation period, case fatality rate, and surveillance goals. Polio-related resources can be found in the TG Booklet 6, specifically focusing on surveillance goals, risk factors, and case details.\n",
      "\n",
      "Keywords: Plague Manual, WHO, CDC, Laboratory Manual, diagnostic tests, transmission, disease forms, incubation period, case fatality rate, surveillance goals, polio, vaccine doses, risk factors, health professionals, authorities.\n"
     ]
    },
    {
     "name": "stderr",
     "output_type": "stream",
     "text": [
      " 85%|████████▍ | 423/499 [28:58<06:13,  4.92s/it]"
     ]
    },
    {
     "name": "stdout",
     "output_type": "stream",
     "text": [
      "In what ways do the standard case definitions for tuberculosis and typhoid fever differ?\n"
     ]
    },
    {
     "name": "stderr",
     "output_type": "stream",
     "text": [
      " 85%|████████▍ | 424/499 [29:03<06:10,  4.94s/it]"
     ]
    },
    {
     "name": "stdout",
     "output_type": "stream",
     "text": [
      " Answers: The standard case definition for tuberculosis includes a suspected case defined as a person with a cough lasting three weeks or more, while a confirmed case requires microscopic evidence of acid-fast bacilli in sputum specimens or radiographic abnormalities. For typhoid fever, no such lengthy cough requirement exists; instead, the definition focuses on symptoms such as fever and gastrointestinal issues.\n",
      "\n",
      "Keywords: tuberculosis, case definition, suspected case, confirmed case, cough, microscopy, radiographic abnormalities, typhoid fever, symptoms, fever, gastrointestinal issues.\n",
      "What is the risk associated with untreated tuberculosis, especially in individuals with HIV/AIDS and other immunocompromising conditions?\n"
     ]
    },
    {
     "name": "stderr",
     "output_type": "stream",
     "text": [
      " 85%|████████▌ | 425/499 [29:06<05:40,  4.60s/it]"
     ]
    },
    {
     "name": "stdout",
     "output_type": "stream",
     "text": [
      " Answers: Untreated tuberculosis poses a significant risk, particularly for individuals with HIV/AIDS and other immunocompromising conditions. Approximately 30-50% of new TB cases and 40% of AIDS deaths are attributable to this population.\n",
      "\n",
      "Keywords: untreated tuberculosis, risk, HIV/AIDS, immunocompromising conditions, new cases, AIDS deaths\n",
      "Where can additional information on tuberculosis and typhoid fever be found, and why are these resources important for health professionals and authorities?\n"
     ]
    },
    {
     "name": "stderr",
     "output_type": "stream",
     "text": [
      " 85%|████████▌ | 426/499 [29:11<05:41,  4.68s/it]"
     ]
    },
    {
     "name": "stdout",
     "output_type": "stream",
     "text": [
      " Answers: WHO publications such as \"Policy Statement of Prevention Therapy Against TB in People Living with HIV,\" \"Laboratory Services in Tuberculosis Control,\" \"Guidelines to surveillance of drug resistance in tuberculosis,\" and \"HTM/TB/2009.422\" provide valuable information on tuberculosis (TB). These resources are important for health professionals and authorities as they offer guidance on prevention, therapy, laboratory services, and surveillance of TB, especially in the context of HIV co-infection and drug resistance.\n",
      "\n",
      "Keywords: WHO publications, tuberculosis, prevention therapy, laboratory services, surveillance, HIV co-infection, drug resistance.\n",
      "Why is case-based surveillance particularly important for diseases targeted for elimination or eradication?\n"
     ]
    },
    {
     "name": "stderr",
     "output_type": "stream",
     "text": [
      " 86%|████████▌ | 427/499 [29:14<04:57,  4.13s/it]"
     ]
    },
    {
     "name": "stdout",
     "output_type": "stream",
     "text": [
      " Answers: Case-based surveillance is crucial for diseases targeted for elimination or eradication due to the need for immediate identification and follow-up of every case.\n",
      "\n",
      "Keywords: case-based surveillance, diseases, elimination, eradication, identification, follow-up.\n",
      "Who is responsible for reporting individual cases immediately in case-based surveillance systems?\n"
     ]
    },
    {
     "name": "stderr",
     "output_type": "stream",
     "text": [
      " 86%|████████▌ | 428/499 [29:16<04:14,  3.59s/it]"
     ]
    },
    {
     "name": "stdout",
     "output_type": "stream",
     "text": [
      " Answers: Health staff are responsible for reporting individual cases immediately in case-based surveillance systems.\n",
      "\n",
      "Keywords: health staff, individual cases, case-based surveillance, report immediately.\n",
      "Where are sentinel sites typically located, and why are they chosen?\n"
     ]
    },
    {
     "name": "stderr",
     "output_type": "stream",
     "text": [
      " 86%|████████▌ | 429/499 [29:20<04:17,  3.67s/it]"
     ]
    },
    {
     "name": "stdout",
     "output_type": "stream",
     "text": [
      " Answers: Sentinel sites are typically located in specific areas or population subgroups for monitoring rate of occurrence of priority events such as pandemic or epidemic events and other Public Health Events (PHEs) of public health importance. They act as early warning and reporting sites, often chosen because they are representative of an area or in an area of likely risk for a disease or condition of concern.\n",
      "\n",
      "Keywords: sentinel sites, specific areas, population subgroups, priority events, early warning, reporting sites, representative, likely risk.\n",
      "Why is disease-specific surveillance important, and who benefits from it?\n"
     ]
    },
    {
     "name": "stderr",
     "output_type": "stream",
     "text": [
      " 86%|████████▌ | 430/499 [29:23<04:02,  3.51s/it]"
     ]
    },
    {
     "name": "stdout",
     "output_type": "stream",
     "text": [
      " Answers: Disease-specific surveillance is important because it allows targeted health data collection for specific diseases, such as Tuberculosis, Malaria, and HIV. It benefits individuals and populations by enabling early detection and response to disease outbreaks or trends, ultimately improving public health.\n",
      "\n",
      "Keywords: disease-specific surveillance, targeted health data, early detection, response, public health.\n",
      "Who is involved in Community Based Surveillance (CBS), and what are its main strategies?\n"
     ]
    },
    {
     "name": "stderr",
     "output_type": "stream",
     "text": [
      " 86%|████████▋ | 431/499 [29:28<04:29,  3.96s/it]"
     ]
    },
    {
     "name": "stdout",
     "output_type": "stream",
     "text": [
      " Answers: Community Based Surveillance (CBS) involves community members, focal points, health surveillance assistants, and subnational and national level authorities. CBS uses indicator-based and event-based strategies. In indicator-based surveillance, community members identify and report events based on agreed indicators using community case definitions and a standardized reporting system. In event-based surveillance, community members report unusual events as alerts.\n",
      "\n",
      "Keywords: Community Based Surveillance, community members, focal points, health surveillance assistants, subnational and national level authorities, indicator-based surveillance, event-based surveillance, agreed indicators, community case definitions, standardized reporting system, unusual events, alerts.\n",
      "Where is every individual case reported in case-based surveillance?\n"
     ]
    },
    {
     "name": "stderr",
     "output_type": "stream",
     "text": [
      " 87%|████████▋ | 432/499 [29:31<03:53,  3.49s/it]"
     ]
    },
    {
     "name": "stdout",
     "output_type": "stream",
     "text": [
      " Answers: Every individual case is reported immediately using a case-based form to the next level.\n",
      "Keywords: case-based surveillance, reporting, individual cases, next level.\n",
      "Which types of events are monitored in event-based surveillance?\n"
     ]
    },
    {
     "name": "stderr",
     "output_type": "stream",
     "text": [
      " 87%|████████▋ | 433/499 [29:35<03:54,  3.55s/it]"
     ]
    },
    {
     "name": "stdout",
     "output_type": "stream",
     "text": [
      " Answers: Event-based surveillance monitors potential risks to public health, including diseases in humans, environmental hazards, and natural or man-made disasters.\n",
      "\n",
      "Keywords: event-based surveillance, potential risks, public health, diseases, humans, environmental hazards, natural disasters, man-made disasters.\n",
      "Why is event-based surveillance considered sensitive?\n"
     ]
    },
    {
     "name": "stderr",
     "output_type": "stream",
     "text": [
      " 87%|████████▋ | 434/499 [29:37<03:37,  3.34s/it]"
     ]
    },
    {
     "name": "stdout",
     "output_type": "stream",
     "text": [
      " Answers: Event-based surveillance is considered sensitive due to its ability to rapidly capture information about potential risks to public health as alerts, which need to be triaged and verified before a response is initiated.\n",
      "\n",
      "Keywords: event-based surveillance, rapid capture of information, alerts, potential risks, public health, triage, verify, response.\n",
      "When should information from event-based surveillance be synchronized with IBS?\n"
     ]
    },
    {
     "name": "stderr",
     "output_type": "stream",
     "text": [
      " 87%|████████▋ | 435/499 [29:40<03:26,  3.23s/it]"
     ]
    },
    {
     "name": "stdout",
     "output_type": "stream",
     "text": [
      " Answers: Information from event-based surveillance should be synchronized with IBS as soon as an event is detected and meets the standard case definition.\n",
      "\n",
      "Keywords: event-based surveillance, indicator-based surveillance, synchronize, detect, standard case definition.\n",
      "Where do event-based surveillance alerts intersect with indicator-based surveillance (IBS)?\n"
     ]
    },
    {
     "name": "stderr",
     "output_type": "stream",
     "text": [
      " 87%|████████▋ | 436/499 [29:43<03:14,  3.08s/it]"
     ]
    },
    {
     "name": "stdout",
     "output_type": "stream",
     "text": [
      " Answers: Event-based surveillance alerts intersect with indicator-based surveillance (IBS) by being synchronized and assessed together for public health response.\n",
      "\n",
      "Keywords: event-based surveillance, indicator-based surveillance, synchronize, assess, public health response.\n",
      "Which surveillance functions are common to both IBS and EBS?\n"
     ]
    },
    {
     "name": "stderr",
     "output_type": "stream",
     "text": [
      " 88%|████████▊ | 437/499 [29:46<03:10,  3.08s/it]"
     ]
    },
    {
     "name": "stdout",
     "output_type": "stream",
     "text": [
      " Answers: Both IBS and EBS are integral components of the IDSR strategy and should use existing resources and infrastructure. They complement each other in early detection of diseases, conditions, and events.\n",
      "\n",
      "Keywords: IDSR strategy, integral components, existing resources, early detection, both IBS and EBS.\n",
      "Why are IBS and EBS considered complementary sources of information?\n"
     ]
    },
    {
     "name": "stderr",
     "output_type": "stream",
     "text": [
      " 88%|████████▊ | 438/499 [29:50<03:14,  3.18s/it]"
     ]
    },
    {
     "name": "stdout",
     "output_type": "stream",
     "text": [
      " Answers: IBS and EBS are considered complementary sources of information due to their distinct approaches in disease surveillance and response. IBS uses standard case definitions for priority diseases, while EBS employs alert detection and verification for potential public health events. Both systems operate at various levels of the health system and should utilize existing resources.\n",
      "\n",
      "Keywords: IBS, Event-Based Surveillance (EBS), standard case definitions, priority diseases, alert detection, verification, public health events, health system, existing resources.\n",
      "Who does the IDSR strategy assist to better monitor and track planned targets?\n"
     ]
    },
    {
     "name": "stderr",
     "output_type": "stream",
     "text": [
      " 88%|████████▊ | 439/499 [29:53<03:12,  3.21s/it]"
     ]
    },
    {
     "name": "stdout",
     "output_type": "stream",
     "text": [
      " Answers: The IDSR strategy assists various actors in monitoring and tracking planned targets by implementing indicator-based and event-based surveillance, providing feedback, and ensuring timely reporting.\n",
      "\n",
      "Keywords: IDSR strategy, indicator-based surveillance, event-based surveillance, feedback, timely reporting, actors.\n",
      "What is the definition of a disaster according to the IDSR and DRM?\n"
     ]
    },
    {
     "name": "stderr",
     "output_type": "stream",
     "text": [
      " 88%|████████▊ | 440/499 [29:56<03:08,  3.20s/it]"
     ]
    },
    {
     "name": "stdout",
     "output_type": "stream",
     "text": [
      " Answers: A disaster is a serious disruption causing widespread losses exceeding the affected community's coping capacity, as defined by both the International Strategy for Disaster Reduction (ISDR) and Disaster Risk Management (DRM).\n",
      "\n",
      "Keywords: disaster, definition, ISDR, DRM, coping capacity, widespread losses.\n",
      "What is the ultimate objective of DRM?\n"
     ]
    },
    {
     "name": "stderr",
     "output_type": "stream",
     "text": [
      " 88%|████████▊ | 441/499 [30:00<03:16,  3.39s/it]"
     ]
    },
    {
     "name": "stdout",
     "output_type": "stream",
     "text": [
      " Answers: The ultimate objective of DRM (Data Resource Management) is to ensure clear guidelines for accessing data, scheduled backups, secure physical storage devices, IT system maintenance, local capacity to maintain software and hardware, adequate resources to support operational infrastructure, and enough resources for capital investments.\n",
      "\n",
      "Keywords: clear guidelines, scheduled backups, secure physical storage, IT system maintenance, local capacity, adequate resources, capital investments.\n",
      "What does Electronic IDSR (eIDSR) provide?\n"
     ]
    },
    {
     "name": "stderr",
     "output_type": "stream",
     "text": [
      " 89%|████████▊ | 442/499 [30:05<03:47,  3.99s/it]"
     ]
    },
    {
     "name": "stdout",
     "output_type": "stream",
     "text": [
      " Answers: Electronic IDSR (eIDSR) is a system put in place by the Ministry of Health to facilitate surveillance functions for public health monitoring and diseases prevention, prediction, detection, reporting and response using electronic tools, digital solutions, human capacity and processes according to IDSR principles. It provides standardized interoperable and interconnected information systems, automated transmission, analyses, improved quality data, and ultimately contributes towards good response and better monitoring and evaluation.\n",
      "\n",
      "Keywords: Electronic IDSR, public health monitoring, surveillance functions, digital solutions, interoperability, automated transmission, data analysis, response, standardized systems.\n",
      "What tool is used by most countries to assess their national surveillance, epidemic preparedness, and response systems?\n"
     ]
    },
    {
     "name": "stderr",
     "output_type": "stream",
     "text": [
      " 89%|████████▉ | 443/499 [30:09<03:31,  3.77s/it]"
     ]
    },
    {
     "name": "stdout",
     "output_type": "stream",
     "text": [
      " Answers: Most countries use the assessment tool developed by WHO/AFRO to evaluate their national surveillance, epidemic preparedness, and response systems.\n",
      "\n",
      "Keywords: WHO/AFRO assessment tool, national surveillance, epidemic preparedness, response systems.\n",
      "Where can the national strategic plan be used as a reference?\n"
     ]
    },
    {
     "name": "stderr",
     "output_type": "stream",
     "text": [
      " 89%|████████▉ | 444/499 [30:11<03:08,  3.43s/it]"
     ]
    },
    {
     "name": "stdout",
     "output_type": "stream",
     "text": [
      " Answers: The national strategic plan can be used as a reference while preparing a district-specific action plan.\n",
      "\n",
      "Keywords: national strategic plan, reference, district-specific action plan.\n",
      "Which sources of information about health events are defined in the district?\n"
     ]
    },
    {
     "name": "stderr",
     "output_type": "stream",
     "text": [
      " 89%|████████▉ | 445/499 [30:16<03:21,  3.73s/it]"
     ]
    },
    {
     "name": "stdout",
     "output_type": "stream",
     "text": [
      " Answers: The sources of information about health events in the district include health facilities and hospitals, laboratories (including non-public ones), Point of Entry, community health workers, VHCs or focal points, birth attendants, traditional healers, community leaders, elders, and other influencers.\n",
      "\n",
      "Keywords: health facilities, hospitals, laboratories, Point of Entry, community health workers, VHCs, birth attendants, traditional healers, community leaders, elders, influencers.\n",
      "Who should the national strategic plan and the assessment tools serve?\n",
      " Answers: The national strategic plan and assessment tools should serve all stakeholders, including Traditional leaders, Civil Society, faith based leaders, youth and women church associations, Faith Based Organisations, Community Based Organisations, Non-governmental Organisations, Political leaders, Community structures, mother care groups, vulnerable groups, and community members themselves.\n",
      "\n",
      "Keywords: national strategic plan, assessment tools, stakeholders, Traditional leaders, Civil Society, faith based leaders, youth and women church associations, Faith Based Organisations, Community Based Organisations, Non-governmental Organisations, Political leaders, Community structures, mother care groups, vulnerable groups.\n"
     ]
    },
    {
     "name": "stderr",
     "output_type": "stream",
     "text": [
      " 89%|████████▉ | 446/499 [30:21<03:36,  4.09s/it]"
     ]
    },
    {
     "name": "stdout",
     "output_type": "stream",
     "text": [
      "Who can be members of the CBS team?\n"
     ]
    },
    {
     "name": "stderr",
     "output_type": "stream",
     "text": [
      " 90%|████████▉ | 447/499 [30:24<03:26,  3.98s/it]"
     ]
    },
    {
     "name": "stdout",
     "output_type": "stream",
     "text": [
      " Answers: Community-based health workers (VHCs), traditional birth attendants, school teachers, pharmacists, community leaders, youth or religious leaders, media, and community representatives. In some cases, a CBS Focal Supervisor may be appointed to oversee a specific number of VHCs.\n",
      "\n",
      "Keywords: Community-based health workers (VHCs), traditional birth attendants, school teachers, pharmacists, community leaders, youth or religious leaders, media, community representatives, CBS team, CBS Focal Supervisor.\n",
      "Where are the various actors located who enhance IDSR?\n"
     ]
    },
    {
     "name": "stderr",
     "output_type": "stream",
     "text": [
      " 90%|████████▉ | 448/499 [30:28<03:15,  3.84s/it]"
     ]
    },
    {
     "name": "stdout",
     "output_type": "stream",
     "text": [
      " Answers: The various actors involved in enhancing IDSR include community members, local leaders, health facility staff, and appropriate authorities. They are responsible for identifying and reporting alert triggers, investigating and confirming diseases or events, preparing responses, communicating risks, and providing feedback to improve the system.\n",
      "\n",
      "Keywords: community members, local leaders, health facility staff, appropriate authorities, identify, report, investigate, confirm, prepare responses, communicate risks, improve.\n",
      "Where do humanitarian emergencies typically occur?\n"
     ]
    },
    {
     "name": "stderr",
     "output_type": "stream",
     "text": [
      " 90%|████████▉ | 449/499 [30:32<03:14,  3.88s/it]"
     ]
    },
    {
     "name": "stdout",
     "output_type": "stream",
     "text": [
      " Answers: Humanitarian emergencies can occur due to conflicts, famine, natural disasters, and other major crises in a country or society where there is a total or considerable breakdown of authority, requiring an international response (ReliefWeb, 2008).\n",
      "\n",
      "Keywords: humanitarian emergencies, conflicts, famine, natural disasters, international response, breakdown of authority.\n",
      "Who defines a disaster in the context of emergency situations?\n"
     ]
    },
    {
     "name": "stderr",
     "output_type": "stream",
     "text": [
      " 90%|█████████ | 450/499 [30:35<03:02,  3.72s/it]"
     ]
    },
    {
     "name": "stdout",
     "output_type": "stream",
     "text": [
      " Answers: A disaster is defined as a serious disruption causing widespread human, material, economic or environmental losses exceeding the ability of the affected community or society to cope using its own resources (ISDR, 2009; ReliefWeb, 2008).\n",
      "\n",
      "Keywords: disaster, definition, ISDR, ReliefWeb, human needs, basic needs, extraordinary measures, urgent action, community, society, coping ability.\n",
      "What is a humanitarian emergency?\n"
     ]
    },
    {
     "name": "stderr",
     "output_type": "stream",
     "text": [
      " 90%|█████████ | 451/499 [30:39<03:02,  3.80s/it]"
     ]
    },
    {
     "name": "stdout",
     "output_type": "stream",
     "text": [
      " Answers: A humanitarian emergency is a situation where the basic human needs of a population are threatened, requiring extraordinary measures and urgent action (ReliefWeb, 2008). It can result from internal or external conflict leading to a total or considerable breakdown of authority, necessitating international assistance (ReliefWeb, 2008).\n",
      "\n",
      "Keywords: humanitarian emergency, basic human needs, population, extraordinary measures, urgent action, international assistance, internal conflict, external conflict, total breakdown of authority.\n",
      "What constitutes a complex emergency?\n"
     ]
    },
    {
     "name": "stderr",
     "output_type": "stream",
     "text": [
      " 91%|█████████ | 452/499 [30:42<02:48,  3.59s/it]"
     ]
    },
    {
     "name": "stdout",
     "output_type": "stream",
     "text": [
      " Answers: A complex emergency is a situation where the basic human needs of a population are threatened, requiring extraordinary measures and urgent action. It may be geographically confined or dispersed, and can start suddenly or gradually, lasting for months or even years.\n",
      "\n",
      "Keywords: complex emergency, extraordinary measures, urgent action, basic human needs, population, geographically confined, dispersed, sudden, gradual, lasts for months or years.\n",
      "What are the core functions of IDSR in the context of complex humanitarian emergencies?\n"
     ]
    },
    {
     "name": "stderr",
     "output_type": "stream",
     "text": [
      " 91%|█████████ | 453/499 [30:46<02:44,  3.57s/it]"
     ]
    },
    {
     "name": "stdout",
     "output_type": "stream",
     "text": [
      " Answers: The core functions of IDSR in complex humanitarian emergencies involve enhancing early detection, assessment, and response to acute public health events. This is achieved by implementing event-based surveillance and focusing on early warning and response systems (WHO, 2014).\n",
      "\n",
      "Keywords: IDSR, complex humanitarian emergencies, early detection, assessment, response, event-based surveillance, early warning, WHO.\n",
      "How does a disaster differ from a humanitarian or complex emergency?\n"
     ]
    },
    {
     "name": "stderr",
     "output_type": "stream",
     "text": [
      " 91%|█████████ | 454/499 [30:49<02:40,  3.57s/it]"
     ]
    },
    {
     "name": "stdout",
     "output_type": "stream",
     "text": [
      " Answers: A disaster is a serious disruption causing widespread losses exceeding the affected community's coping capacity, while a humanitarian emergency is a situation threatening basic human needs requiring extraordinary measures. A complex emergency includes a breakdown of authority and international response beyond the mandate or capacity of any single UN country program.\n",
      "\n",
      "Keywords: disaster, humanitarian emergency, complex emergency, widespread losses, coping capacity, threaten basic human needs, extraordinary measures, international response, breakdown of authority.\n",
      "Where does early warning operate in the surveillance system?\n"
     ]
    },
    {
     "name": "stderr",
     "output_type": "stream",
     "text": [
      " 91%|█████████ | 455/499 [30:52<02:25,  3.30s/it]"
     ]
    },
    {
     "name": "stdout",
     "output_type": "stream",
     "text": [
      " Answers: Early warning operates as a function within the surveillance system, utilizing both indicator-based and event-based approaches.\n",
      "\n",
      "Keywords: early warning, surveillance system, indicator-based surveillance, event-based surveillance.\n",
      "Which public health problems should be the focus of the tailored IDSR during the acute phase of a humanitarian emergency?\n"
     ]
    },
    {
     "name": "stderr",
     "output_type": "stream",
     "text": [
      " 91%|█████████▏| 456/499 [30:55<02:14,  3.14s/it]"
     ]
    },
    {
     "name": "stdout",
     "output_type": "stream",
     "text": [
      " Answers: The tailored IDSR during the acute phase of a humanitarian emergency should focus on priority health problems for that specific context.\n",
      "\n",
      "Keywords: tailored IDSR, acute phase, humanitarian emergency, priority health problems, specific context.\n",
      "Why is early warning needed in humanitarian emergencies?\n"
     ]
    },
    {
     "name": "stderr",
     "output_type": "stream",
     "text": [
      " 92%|█████████▏| 457/499 [31:00<02:44,  3.93s/it]"
     ]
    },
    {
     "name": "stdout",
     "output_type": "stream",
     "text": [
      " Answers: Early warning is necessary in humanitarian emergencies as it helps detect abnormal occurrences or divergences from the usual, often related to diseases or events, at an early stage (Row 96). This mechanism relies on a network of people responsible for collecting, investigating, reporting, analyzing, and disseminating information for appropriate action (Row 96). In humanitarian emergencies, such as armed conflict, famine, natural disasters, or other major crises, the routine IDSR system may underperform or be disrupted, necessitating tailored approaches to meet surveillance information needs (Rows 87-88).\n",
      "\n",
      "Keywords: early warning, humanitarian emergencies, detect abnormal occurrences, network, collect information, investigate, report, analyze, disseminate, appropriate action, IDSR system, armed conflict, famine, natural disasters.\n",
      "What steps are involved in the early warning system?\n"
     ]
    },
    {
     "name": "stderr",
     "output_type": "stream",
     "text": [
      " 92%|█████████▏| 458/499 [31:04<02:36,  3.82s/it]"
     ]
    },
    {
     "name": "stdout",
     "output_type": "stream",
     "text": [
      " Answers: The early warning system involves the following steps: investigating the nature of an event, performing risk assessment, ensuring immediate alert mechanisms, implementing response measures, communicating with stakeholders, and detecting acute public health events and risks.\n",
      "\n",
      "Keywords: investigate, risk assessment, alert mechanisms, response measures, communicate, detect, acute public health events, health risks.\n",
      "What is the role of early warning in reducing the impact of humanitarian emergencies?\n"
     ]
    },
    {
     "name": "stderr",
     "output_type": "stream",
     "text": [
      " 92%|█████████▏| 459/499 [31:07<02:23,  3.58s/it]"
     ]
    },
    {
     "name": "stdout",
     "output_type": "stream",
     "text": [
      " Answers: Early warning systems help detect abnormal occurrences or divergences from normal conditions that may lead to humanitarian crises, allowing for timely response and mitigation of their impacts.\n",
      "\n",
      "Keywords: early warning, detection, abnormal occurrences, timely response, crisis mitigation, international response, humanitarian emergencies.\n",
      "How do the main and specific objectives of tailoring IDSR to emergency contexts contrast with those of standard IDSR?\n"
     ]
    },
    {
     "name": "stderr",
     "output_type": "stream",
     "text": [
      " 92%|█████████▏| 460/499 [31:11<02:25,  3.73s/it]"
     ]
    },
    {
     "name": "stdout",
     "output_type": "stream",
     "text": [
      " Answers: The main objective of tailoring IDSR to emergency contexts is to enhance early detection, assessment, and response to acute public health events during complex humanitarian emergencies. In contrast, the standard IDSR focuses on routine disease surveillance.\n",
      "\n",
      "Keywords: enhance, early detection, assessment, response, acute public health events, complex humanitarian emergencies, contrast, standard IDSR, routine disease surveillance.\n",
      "Why is gap analysis important in the context of IDSR in humanitarian emergencies?\n"
     ]
    },
    {
     "name": "stderr",
     "output_type": "stream",
     "text": [
      " 92%|█████████▏| 461/499 [31:15<02:28,  3.91s/it]"
     ]
    },
    {
     "name": "stdout",
     "output_type": "stream",
     "text": [
      " Answers: Gap analysis is important in the context of IDSR in humanitarian emergencies as it helps identify differences between the current state and desired state of the health information system. This information is used to prioritize interventions and enhance IDSR functions for early detection, assessment, and response to public health events.\n",
      "\n",
      "Keywords: gap analysis, IDSR, health information system, humanitarian emergencies, prioritize interventions, early detection, assessment, response.\n",
      "What are the critical components of IDSR in humanitarian crises?\n"
     ]
    },
    {
     "name": "stderr",
     "output_type": "stream",
     "text": [
      " 93%|█████████▎| 462/499 [31:19<02:20,  3.80s/it]"
     ]
    },
    {
     "name": "stdout",
     "output_type": "stream",
     "text": [
      " Answers: The critical components of IDSR in humanitarian crises are not explicitly stated in the provided data, but they can be inferred from the context as enhancing early detection, assessment, and response to acute public health events (WHO, 2014).\n",
      "\n",
      "Keywords: IDSR, humanitarian crises, early detection, assessment, response, public health events.\n",
      "How do indicator-based and event-based surveillance systems complement each other in IDSR?\n"
     ]
    },
    {
     "name": "stderr",
     "output_type": "stream",
     "text": [
      " 93%|█████████▎| 463/499 [31:24<02:29,  4.16s/it]"
     ]
    },
    {
     "name": "stdout",
     "output_type": "stream",
     "text": [
      " Answers: Indicator-based and event-based surveillance systems complement each other in IDSR by providing comprehensive data for early detection and response to disease outbreaks. While indicator-based surveillance involves the collection and reporting of aggregated data, event-based surveillance focuses on unstructured information regarding health events or risks. Together, they increase the sensitivity of IDSR and ensure timely detection and verification of outbreaks.\n",
      "\n",
      "Keywords: indicator-based surveillance, event-based surveillance, IDSR, early detection, disease outbreaks, aggregated data, unstructured information, timely detection, verification, complementary systems.\n",
      "What role does the PHEOC play in the coordination of data during humanitarian crises?\n",
      " Answers: The PHEOC plays a crucial role in the coordination of data during humanitarian crises by facilitating communication between public health and emergency management personnel, and improving coordination with multiple response partners. It receives data from various sources and feeds into the National Disaster Risk Management EOC for managing escalated events of national magnitude.\n",
      "\n",
      "Keywords: PHEOC, data coordination, communication, emergency management, public health, response partners, National Disaster Risk Management EOC.\n"
     ]
    },
    {
     "name": "stderr",
     "output_type": "stream",
     "text": [
      " 93%|█████████▎| 464/499 [31:28<02:25,  4.16s/it]"
     ]
    },
    {
     "name": "stdout",
     "output_type": "stream",
     "text": [
      "What are the key activities conducted by district-level focal points during humanitarian crises?\n"
     ]
    },
    {
     "name": "stderr",
     "output_type": "stream",
     "text": [
      " 93%|█████████▎| 465/499 [31:34<02:40,  4.71s/it]"
     ]
    },
    {
     "name": "stdout",
     "output_type": "stream",
     "text": [
      " Answers: The district-level focal points coordinate disease surveillance and outbreak response, ensure timely reporting of priority diseases and events related to the crisis, conduct trend analyses, investigate disease outbreaks, align with national emergency preparedness response taskforce and multi-sector coordination platforms, support community mobilization, work with Health Surveillance Assistants (HSAs) and Community Health Workers (CHWs), and sensitize the community to report and seek care for priority diseases.\n",
      "\n",
      "Keywords: district-level focal points, coordinate surveillance, response activities, crisis-affected populations, timely reporting, trend analyses, disease outbreaks, national emergency preparedness, community mobilization, HSAs, CHWs, sensitization.\n",
      "Who should be responsible for ensuring the availability of quality-assured WHO-approved RDT kits during a crisis?\n"
     ]
    },
    {
     "name": "stderr",
     "output_type": "stream",
     "text": [
      " 93%|█████████▎| 466/499 [31:40<02:43,  4.95s/it]"
     ]
    },
    {
     "name": "stdout",
     "output_type": "stream",
     "text": [
      " Answers: During acute crises or complex emergencies, when the capacities of national/central surveillance focal points are constrained, WHO country office in collaboration with the health cluster should assign a partner or a focal point in each affected district to coordinate disease surveillance and response activities. This includes ensuring timely reporting of priority diseases and events related to the crisis, conducting trend analyses, investigating disease outbreaks, and coordinating public health response (TG Booklet 5, Row Numbers: 137-141).\n",
      "\n",
      "Keywords: crisis-affected populations, acute crises, complex emergencies, WHO country office, health cluster, partner or focal point, disease surveillance, reporting, trend analyses, investigation, public health response.\n",
      "Where should the feedback be disseminated to engage all stakeholders effectively?\n"
     ]
    },
    {
     "name": "stderr",
     "output_type": "stream",
     "text": [
      " 94%|█████████▎| 467/499 [31:42<02:17,  4.28s/it]"
     ]
    },
    {
     "name": "stdout",
     "output_type": "stream",
     "text": [
      " Answers: Feedback should be disseminated vertically and horizontally to different audiences at various levels in the health system, as well as to communities on a continuous basis.\n",
      "\n",
      "Keywords: feedback mechanism, vertical and horizontal dissemination, stakeholders, health system, communities, continuous engagement.\n",
      "Why is regular supervision and support crucial for enhancing surveillance functions at all levels?\n"
     ]
    },
    {
     "name": "stderr",
     "output_type": "stream",
     "text": [
      " 94%|█████████▍| 468/499 [31:46<02:09,  4.18s/it]"
     ]
    },
    {
     "name": "stdout",
     "output_type": "stream",
     "text": [
      " Answers: Regular supervision and support are crucial for enhancing surveillance functions at all levels because they enable the identification of problems, decision-making on causes, and development of feasible solutions. Through collaboration between supervisors and health professionals, progress is reviewed, and resources are combined to collect, manage, and analyze information effectively in an integrated system.\n",
      "\n",
      "Keywords: supervision, support, identification, problem-solving, collaboration, progress review, resources, integration.\n",
      "What are the critical aspects of feedback and dissemination in the context of IDSR during a humanitarian crisis?\n"
     ]
    },
    {
     "name": "stderr",
     "output_type": "stream",
     "text": [
      " 94%|█████████▍| 469/499 [31:51<02:11,  4.38s/it]"
     ]
    },
    {
     "name": "stdout",
     "output_type": "stream",
     "text": [
      " Answers: Feedback is an essential function of IDSR systems, particularly in humanitarian crises where health systems may be disrupted. It involves returning the effect or output of an action to modify the next action. Indicators for feedback include the proportion of districts with functional multi-sectoral Health clusters and PHEMC, PHERRT teams, and case fatality rates for epidemic-prone diseases.\n",
      "\n",
      "Keywords: Feedback, IDSR system, humanitarian crises, disruption, health systems, indicators, multi-sectoral Health clusters, PHEMC, PHERRT, case fatality rate.\n",
      "How does outbreak preparedness in crisis-affected populations differ from standard preparedness practices?\n"
     ]
    },
    {
     "name": "stderr",
     "output_type": "stream",
     "text": [
      " 94%|█████████▍| 470/499 [31:56<02:10,  4.50s/it]"
     ]
    },
    {
     "name": "stdout",
     "output_type": "stream",
     "text": [
      " Answers: Outbreak preparedness in crisis-affected populations emphasizes integrating efforts into existing national IDSR frameworks, while WHO leads during emergencies where Ministry of Health capacities are compromised. Key differences include forming multi-sectoral teams, updating plans for unique risks, developing standard forms and protocols, calculating attack rates, and pre-positioning essential supplies specific to crisis situations.\n",
      "\n",
      "Keywords: crisis-affected populations, outbreak preparedness, Ministry of Health, WHO, national IDSR framework, multi-sectoral teams, updating plans, standard forms, protocols, attack rates, essential supplies, unique risks.\n",
      "Where should outbreak investigations be undertaken during a humanitarian crisis?\n"
     ]
    },
    {
     "name": "stderr",
     "output_type": "stream",
     "text": [
      " 94%|█████████▍| 471/499 [32:00<02:01,  4.33s/it]"
     ]
    },
    {
     "name": "stdout",
     "output_type": "stream",
     "text": [
      " Answers: Outbreak investigations should be undertaken by rapid response teams at national and sub-national levels during a humanitarian crisis, following existing IDSR guidelines. In acute crises or complex emergencies, dedicated and trained teams will be identified for the investigations.\n",
      "\n",
      "Keywords: outbreak investigations, rapid response teams, national and sub-national levels, IDSR guidelines, acute crises, complex emergencies, dedicated teams.\n",
      "Which thresholds are used in crisis-affected populations for alert and epidemic detection?\n"
     ]
    },
    {
     "name": "stderr",
     "output_type": "stream",
     "text": [
      " 95%|█████████▍| 472/499 [32:06<02:14,  4.97s/it]"
     ]
    },
    {
     "name": "stdout",
     "output_type": "stream",
     "text": [
      " Answers: In crisis-affected populations, the thresholds for alert and epidemic detection include assessing the crude mortality rate (CMR) and under five mortality rate (U5MR), an alert system based on doubling of weekly incidence compared to previous 2-3 weeks, and detecting cases of potentially severe epidemic prone diseases like measles, polio, cholera, viral haemorrhagic fevers (VHF) or meningitis. Specific thresholds vary for different conditions and populations.\n",
      "\n",
      "Keywords: crisis-affected populations, alert threshold, epidemic threshold, crude mortality rate, under five mortality rate, weekly incidence, potentially severe epidemic prone diseases, measles, polio, cholera, viral haemorrhagic fevers, meningitis.\n",
      "Why is an exit strategy important during the recovery phase of a crisis?\n"
     ]
    },
    {
     "name": "stderr",
     "output_type": "stream",
     "text": [
      " 95%|█████████▍| 473/499 [32:10<01:57,  4.50s/it]"
     ]
    },
    {
     "name": "stdout",
     "output_type": "stream",
     "text": [
      " Answers: An exit strategy is important during the recovery phase of a crisis to re-establish IDSR structures, assess what happened, document lessons learned, and prevent future occurrences.\n",
      "\n",
      "Keywords: exit strategy, recovery phase, re-establish IDSR structures, assessment, evaluate, document lessons learned, prevent future occurrence.\n",
      "What is the main objective of an outbreak investigation in the context of IDSR during a humanitarian crisis?\n"
     ]
    },
    {
     "name": "stderr",
     "output_type": "stream",
     "text": [
      " 95%|█████████▍| 474/499 [32:13<01:44,  4.19s/it]"
     ]
    },
    {
     "name": "stdout",
     "output_type": "stream",
     "text": [
      " Answers: The main objective of an outbreak investigation in the context of IDSR during a humanitarian crisis is to determine the cause of an outbreak and who is at risk, so that control measures can be implemented to reduce morbidity and mortality.\n",
      "\n",
      "Keywords: outbreak investigation, IDSR, humanitarian crisis, determine cause, reduce morbidity and mortality, control measures.\n",
      "What additional risks and requirements are involved in outbreak response activities in crisis-affected populations?\n",
      " Answers: In crisis-affected populations, outbreak response activities require strengthening existing or forming new multi-sectoral teams, psychosocial support, capacity building, logistics, environment management, decontamination, monitoring and evaluation, resource mobilization, and hotspot mapping (WHO, 2012).\n",
      "\n",
      "Keywords: crisis-affected populations, outbreak response activities, multi-sectoral teams, psychosocial support, capacity building, logistics, environment management, decontamination, monitoring and evaluation, resource mobilization, hotspot mapping.\n"
     ]
    },
    {
     "name": "stderr",
     "output_type": "stream",
     "text": [
      " 95%|█████████▌| 475/499 [32:18<01:43,  4.30s/it]"
     ]
    },
    {
     "name": "stdout",
     "output_type": "stream",
     "text": [
      "How should countries approach the exit strategy during the recovery phase of a crisis?\n"
     ]
    },
    {
     "name": "stderr",
     "output_type": "stream",
     "text": [
      " 95%|█████████▌| 476/499 [32:21<01:28,  3.86s/it]"
     ]
    },
    {
     "name": "stdout",
     "output_type": "stream",
     "text": [
      " Answers: During the recovery phase, countries should work with WHO and partners to re-establish IDSR structures and assess what happened in the crisis to prevent future occurrences.\n",
      "\n",
      "Keywords: recovery phase, re-establish IDSR structures, assessment, prevent future occurrences.\n",
      "What are indicators and how are they used in measuring the performance of a surveillance system?\n"
     ]
    },
    {
     "name": "stderr",
     "output_type": "stream",
     "text": [
      " 96%|█████████▌| 477/499 [32:24<01:20,  3.67s/it]"
     ]
    },
    {
     "name": "stdout",
     "output_type": "stream",
     "text": [
      " Answers: Indicators are measurable data points used to assess the performance of a surveillance system against targets and objectives. They are systematically collected, analyzed, and interpreted from identified sources.\n",
      "\n",
      "Keywords: indicators, measurable data, assessment, targets, objectives, collection, analysis, interpretation, surveillance system.\n",
      "How do the selected data for measuring indicators assist in improving the surveillance system?\n"
     ]
    },
    {
     "name": "stderr",
     "output_type": "stream",
     "text": [
      " 96%|█████████▌| 478/499 [32:27<01:14,  3.56s/it]"
     ]
    },
    {
     "name": "stdout",
     "output_type": "stream",
     "text": [
      " Answers: Indicators help improve the surveillance system by measuring progress towards objectives, identifying areas for improvement, and evaluating the quality of services or activities. Relevant indicators are selected based on national goals and specific plans. Community-driven data analysis and monitoring can also provide valuable information.\n",
      "\n",
      "Keywords: indicators, progress, objectives, evaluation, community-driven, data analysis, monitoring, national goals, specific plans.\n",
      "How does the use of indicators contribute to the overall performance and quality assessment of a surveillance system?\n"
     ]
    },
    {
     "name": "stderr",
     "output_type": "stream",
     "text": [
      " 96%|█████████▌| 479/499 [32:30<01:08,  3.44s/it]"
     ]
    },
    {
     "name": "stdout",
     "output_type": "stream",
     "text": [
      " Answers: The use of indicators is essential for assessing the performance and quality of a surveillance system by measuring progress towards targets and objectives, providing valuable information for improvement.\n",
      "\n",
      "Keywords: assessment, performance, quality, targets, objectives, measurement, improvement, indicators.\n",
      "When should monitoring indicators be established to monitor core surveillance functions?\n"
     ]
    },
    {
     "name": "stderr",
     "output_type": "stream",
     "text": [
      " 96%|█████████▌| 480/499 [32:33<01:03,  3.36s/it]"
     ]
    },
    {
     "name": "stdout",
     "output_type": "stream",
     "text": [
      " Answers: Monitoring indicators should be established routinely to monitor core surveillance functions, following the methods of facility-based surveillance where reporting units report on a regular basis (weekly, monthly, quarterly or annually).\n",
      "\n",
      "Keywords: routine monitoring, facility-based surveillance, reporting units, regularly.\n",
      "Where should cases be recorded for surveillance purposes?\n"
     ]
    },
    {
     "name": "stderr",
     "output_type": "stream",
     "text": [
      " 96%|█████████▋| 481/499 [32:37<00:59,  3.28s/it]"
     ]
    },
    {
     "name": "stdout",
     "output_type": "stream",
     "text": [
      " Answers: Cases should be recorded at health facilities, Points of Entry, and community focal points as required by the surveillance system. This includes private facilities, laboratories, and NGOs.\n",
      "\n",
      "Keywords: health facilities, Points of Entry, community focal points, recording cases, surveillance activities, private facilities, laboratories, NGOs.\n",
      "Which core functions are monitored in IDSR at the district level?\n"
     ]
    },
    {
     "name": "stderr",
     "output_type": "stream",
     "text": [
      " 97%|█████████▋| 482/499 [32:40<00:56,  3.32s/it]"
     ]
    },
    {
     "name": "stdout",
     "output_type": "stream",
     "text": [
      " Answers: The core functions monitored in IDSR at the district level include identifying cases and public health events, monitoring the quality of IDSR activities, and supporting supervision and feedback for improving IDSR activities.\n",
      "\n",
      "Keywords: district level, core functions, identify cases, public health events, monitoring quality, surveillance system.\n",
      "Who should ensure that cases are identified and reported accurately and promptly for surveillance?\n"
     ]
    },
    {
     "name": "stderr",
     "output_type": "stream",
     "text": [
      " 97%|█████████▋| 483/499 [32:43<00:53,  3.37s/it]"
     ]
    },
    {
     "name": "stdout",
     "output_type": "stream",
     "text": [
      " Answers: Health staff, community members, and designated focal points should ensure that cases are identified and reported accurately and promptly for surveillance.\n",
      "\n",
      "Keywords: health staff, community members, detection, reporting, public health problems, surveillance activities, priority diseases, events, community-based surveillance, CBS, indicators, unusual events, alerts, international travel, trade.\n",
      "What are the examples of indicators for monitoring core surveillance functions at the district level?\n"
     ]
    },
    {
     "name": "stderr",
     "output_type": "stream",
     "text": [
      " 97%|█████████▋| 484/499 [32:47<00:51,  3.42s/it]"
     ]
    },
    {
     "name": "stdout",
     "output_type": "stream",
     "text": [
      " Answers: Indicators such as the proportion or percentage of facilities reporting, and whether surveillance data was used for public health action are examples of indicators for monitoring core surveillance functions at the district level.\n",
      "\n",
      "Keywords: indicators, monitoring, core surveillance functions, district level, proportion reporting, public health action\n",
      "What steps are involved in investigating and confirming suspected cases or outbreaks in the context of IDSR?\n"
     ]
    },
    {
     "name": "stderr",
     "output_type": "stream",
     "text": [
      " 97%|█████████▋| 485/499 [32:52<00:53,  3.79s/it]"
     ]
    },
    {
     "name": "stdout",
     "output_type": "stream",
     "text": [
      " Answers: The investigation of suspected cases or outbreaks in IDSR involves several steps, including identifying availability of standard case definitions and forms, conducting active surveillance through regular contacts or physical visits, collecting diagnostic samples, advising on treatment/prevention protocols, reporting complete surveillance reports to the district on time, and investigating and verifying possible outbreaks.\n",
      "\n",
      "Keywords: IDSR investigation, suspected cases, outbreaks, standard case definition, active surveillance, diagnostic samples, treatment/prevention protocols, reporting, district rapid response team.\n",
      "How does the monitoring of preparedness for epidemics contribute to the overall effectiveness of IDSR at the district level?\n"
     ]
    },
    {
     "name": "stderr",
     "output_type": "stream",
     "text": [
      " 97%|█████████▋| 486/499 [32:56<00:51,  3.93s/it]"
     ]
    },
    {
     "name": "stdout",
     "output_type": "stream",
     "text": [
      " Answers: The IDSR matrix and components like Event-Based Surveillance (EBS) and Indicator-Based Surveillance (IBS) help improve preparedness for epidemics at the district level by ensuring all necessary functions and capacities are identified, and enabling early detection of outbreaks through EBS.\n",
      "\n",
      "Keywords: IDSR matrix, Event-Based Surveillance (EBS), Indicator-Based Surveillance (IBS), preparedness, epidemics, district level.\n",
      "What are the components of an effective feedback system in the context of IDSR at the district level?\n"
     ]
    },
    {
     "name": "stderr",
     "output_type": "stream",
     "text": [
      " 98%|█████████▊| 487/499 [33:01<00:52,  4.41s/it]"
     ]
    },
    {
     "name": "stdout",
     "output_type": "stream",
     "text": [
      " Answers: The components of an effective feedback system in the IDSR context at the district level include monitoring the timeliness and completeness of monthly reporting, identifying problems and taking corrective measures, ensuring sources of data are available, tracking progress of improvements in targeted indicators, holding implementers accountable, and documenting the status and changes in performance.\n",
      "\n",
      "Keywords: IDSR, feedback system, district level, monitoring, timeliness, completeness, problem identification, corrective measures, data availability, accountability, documentation.\n",
      "Where can tools for evaluating the quality of surveillance systems be found?\n"
     ]
    },
    {
     "name": "stderr",
     "output_type": "stream",
     "text": [
      " 98%|█████████▊| 488/499 [33:04<00:43,  3.91s/it]"
     ]
    },
    {
     "name": "stdout",
     "output_type": "stream",
     "text": [
      " Answers: WHO has developed a standardized eSurveillance assessment tool which can be used as a resource for evaluating the quality of surveillance systems.\n",
      "\n",
      "Keywords: WHO, standardized eSurveillance assessment tool, evaluate surveillance systems.\n",
      "Why is it important to monitor the timeliness and completeness of monthly reporting?\n"
     ]
    },
    {
     "name": "stderr",
     "output_type": "stream",
     "text": [
      " 98%|█████████▊| 489/499 [33:08<00:38,  3.85s/it]"
     ]
    },
    {
     "name": "stdout",
     "output_type": "stream",
     "text": [
      " Answers: Monitoring the timeliness and completeness of monthly reporting is essential for effective public health surveillance. Timely reports enable prompt detection and response to health problems, while incomplete or missing reports result in inaccurate information and potential missed opportunities for intervention.\n",
      "\n",
      "Keywords: timeliness, completeness, reporting, public health surveillance, accuracy, detection, response, health problems.\n",
      "What are the consequences of incomplete or late reporting in the context of IDSR?\n",
      " Answers: Incomplete or late reporting in IDSR (Integrated Disease Surveillance and Response) can negatively impact disease detection, response, and ultimately public health.\n",
      "\n",
      "Keywords: IDSR, incomplete reporting, late reporting, disease detection, response, public health.\n"
     ]
    },
    {
     "name": "stderr",
     "output_type": "stream",
     "text": [
      " 98%|█████████▊| 490/499 [33:11<00:33,  3.69s/it]"
     ]
    },
    {
     "name": "stdout",
     "output_type": "stream",
     "text": [
      "How do the attributes of the surveillance system contribute to the overall quality of IDSR activities at the district level?\n"
     ]
    },
    {
     "name": "stderr",
     "output_type": "stream",
     "text": [
      " 98%|█████████▊| 491/499 [33:16<00:31,  3.95s/it]"
     ]
    },
    {
     "name": "stdout",
     "output_type": "stream",
     "text": [
      " Answers: The timeliness and completeness of monthly reporting, identification of problems and taking action, monitoring other attributes for assessing the quality of the IDSR system, supportive supervision and feedback, evaluation of the IDSR system, and ensuring that the surveillance system meets its objectives are essential attributes that contribute to the overall quality of IDSR activities at the district level.\n",
      "\n",
      "Keywords: timeliness, completeness, monitoring, identification, problems, action, other attributes, evaluation, performance, objectives, surveillance system, IDSR activities, district level.\n",
      "How does the timeliness and completeness of reporting affect the detection and response to public health threats in IDSR?\n"
     ]
    },
    {
     "name": "stderr",
     "output_type": "stream",
     "text": [
      " 99%|█████████▊| 492/499 [33:19<00:26,  3.78s/it]"
     ]
    },
    {
     "name": "stdout",
     "output_type": "stream",
     "text": [
      " Answers: The timeliness and completeness of reporting are crucial for effective detection and response to public health threats in IDSR. Late or incomplete reports can result in undetected outbreaks and missed opportunities for prompt action.\n",
      "\n",
      "Keywords: timeliness, completeness, reporting, detection, response, IDSR, public health threats\n",
      "What role do FETP residents play in the evaluation of surveillance and response systems of IDSR?\n"
     ]
    },
    {
     "name": "stderr",
     "output_type": "stream",
     "text": [
      " 99%|█████████▉| 493/499 [33:22<00:21,  3.59s/it]"
     ]
    },
    {
     "name": "stdout",
     "output_type": "stream",
     "text": [
      " Answers: FETP residents assist in evaluating the surveillance and response systems of IDSR in countries that have such programs.\n",
      "\n",
      "Keywords: FETP residents, evaluate, surveillance systems, IDSR.\n",
      "Who should monitor detection and notification of immediately reportable diseases or events?\n"
     ]
    },
    {
     "name": "stderr",
     "output_type": "stream",
     "text": [
      " 99%|█████████▉| 494/499 [33:25<00:16,  3.30s/it]"
     ]
    },
    {
     "name": "stdout",
     "output_type": "stream",
     "text": [
      " Answers: Health staff at all levels of the health system, community members.\n",
      "Keywords: monitoring, detection, immediately reportable diseases, health staff, community members, surveillance activities.\n",
      "Where should completeness be evaluated in the surveillance system?\n"
     ]
    },
    {
     "name": "stderr",
     "output_type": "stream",
     "text": [
      " 99%|█████████▉| 495/499 [33:28<00:12,  3.14s/it]"
     ]
    },
    {
     "name": "stdout",
     "output_type": "stream",
     "text": [
      " Answers: Completeness should be evaluated in various dimensions of the surveillance system, including reporting sites and case reporting.\n",
      "\n",
      "Keywords: completeness, reporting sites, case reporting, evaluation, surveillance system.\n",
      "Which dimensions of completeness are crucial in surveillance?\n"
     ]
    },
    {
     "name": "stderr",
     "output_type": "stream",
     "text": [
      " 99%|█████████▉| 496/499 [33:30<00:08,  2.91s/it]"
     ]
    },
    {
     "name": "stdout",
     "output_type": "stream",
     "text": [
      " Answers: The dimensions of completeness crucial in surveillance include the completeness of reporting sites and the completeness of case reporting, as well as the completeness of surveillance data.\n",
      "\n",
      "Keywords: completeness, reporting sites, case reporting, surveillance data, public health actions, trend analysis, investigation, solutions, periodic evaluation assessments, attributes, quality of surveillance system, required variables, routine analysis, tables, graphs, maps, silent areas, assistance, representation.\n",
      "How can the completeness of case reporting be monitored and improved in the context of IDSR?\n"
     ]
    },
    {
     "name": "stderr",
     "output_type": "stream",
     "text": [
      "100%|█████████▉| 497/499 [33:36<00:07,  3.67s/it]"
     ]
    },
    {
     "name": "stdout",
     "output_type": "stream",
     "text": [
      " Answers: Monitoring the completeness of case reporting in IDSR involves several steps. At the district level, timely and complete monthly reporting should be monitored (8.3.1.2). Identifying problems and taking action is also important (8.3.1.3). Reporting completeness to other levels is required (8.3.1.4). Monitoring other attributes for assessing the quality of the IDSR system is necessary as well (8.3.2).\n",
      "\n",
      "Keywords: monitor, completeness, case reporting, district level, timeliness, identify problems, report, other levels, attributes.\n",
      "Where should completeness and timeliness of reports be monitored?\n"
     ]
    },
    {
     "name": "stderr",
     "output_type": "stream",
     "text": [
      "100%|█████████▉| 498/499 [33:39<00:03,  3.64s/it]"
     ]
    },
    {
     "name": "stdout",
     "output_type": "stream",
     "text": [
      " Answers: Completeness and timeliness of reports should be monitored at each reporting site and for each level in a communicable disease surveillance system.\n",
      "\n",
      "Keywords: monitoring completeness reporting sites, measuring timeliness of immediate notification, tracking weekly and monthly reporting, ensuring timely submission of surveillance forms.\n",
      "How does community-based surveillance contribute to the overall quality of the surveillance system?\n"
     ]
    },
    {
     "name": "stderr",
     "output_type": "stream",
     "text": [
      "100%|██████████| 499/499 [33:44<00:00,  4.06s/it]"
     ]
    },
    {
     "name": "stdout",
     "output_type": "stream",
     "text": [
      " Answers: Community-based surveillance (CBS) contributes to the overall quality of the surveillance system by allowing for event detection and reporting at the community level. This includes monitoring community-based surveillance systems and events from community sources, which is equally important as monitoring at health facilities, districts, and national levels. CBS empowers community members to be involved in the system, increasing ownership and effectiveness. Any community member can serve as a focal person, and they report events or alerts to designated authorities using agreed indicators or through the integrated community health information system (iCHIS).\n",
      "\n",
      "Keywords: community-based surveillance, CBS, event detection, reporting, community focal persons, public health significance, iCHIS, community empowerment, ownership, community informants.\n",
      "CPU times: user 1min 56s, sys: 2.28 s, total: 1min 59s\n",
      "Wall time: 33min 44s\n"
     ]
    },
    {
     "name": "stderr",
     "output_type": "stream",
     "text": [
      "\n"
     ]
    }
   ],
   "source": [
    "%%time\n",
    "from tqdm import tqdm\n",
    "\n",
    "test = pd.read_csv(\"/kaggle/input/malawi-data/Test.csv\")\n",
    "\n",
    "results = []\n",
    "sources = []\n",
    "keywords = []\n",
    "paragraph_nums = []\n",
    "for i, question in enumerate(tqdm(test[\"Question Text\"])):\n",
    "    print(question)\n",
    "    output = chain.invoke(question)['result']\n",
    "    print(output)\n",
    "    answer, keyword = get_answer_keywords(output)\n",
    "        \n",
    "    docs = vectordb.similarity_search(answer)\n",
    "    source = docs[0].metadata['source'].split(\"/\")[-1]\n",
    "    paragraph_num = find_matching_paragraphs(source, answer)\n",
    "\n",
    "    results.append(answer)\n",
    "    sources.append(source)\n",
    "    keywords.append(keyword)\n",
    "    paragraph_nums.append(paragraph_num)"
   ]
  },
  {
   "cell_type": "code",
   "execution_count": 17,
   "id": "52662eb4",
   "metadata": {
    "execution": {
     "iopub.execute_input": "2024-02-25T05:44:09.843723Z",
     "iopub.status.busy": "2024-02-25T05:44:09.843381Z",
     "iopub.status.idle": "2024-02-25T05:44:09.851640Z",
     "shell.execute_reply": "2024-02-25T05:44:09.850782Z"
    },
    "id": "QFUs_VQNxR3W",
    "papermill": {
     "duration": 0.108072,
     "end_time": "2024-02-25T05:44:09.853570",
     "exception": false,
     "start_time": "2024-02-25T05:44:09.745498",
     "status": "completed"
    },
    "tags": []
   },
   "outputs": [],
   "source": [
    "test['Answers'] = results\n",
    "test[\"Answers\"] = test[\"Answers\"].str.replace(\"\\n\", \"\")\n",
    "test[\"Keywords\"] = keywords\n",
    "test['Paragraph_nums'] = paragraph_nums\n",
    "test['Source files'] = sources"
   ]
  },
  {
   "cell_type": "code",
   "execution_count": 18,
   "id": "602ee411",
   "metadata": {
    "execution": {
     "iopub.execute_input": "2024-02-25T05:44:10.053902Z",
     "iopub.status.busy": "2024-02-25T05:44:10.053110Z",
     "iopub.status.idle": "2024-02-25T05:44:10.084249Z",
     "shell.execute_reply": "2024-02-25T05:44:10.083381Z"
    },
    "id": "0DXg70oybRRV",
    "outputId": "845f5bc6-bff7-400f-cd14-e2ecd1e64d72",
    "papermill": {
     "duration": 0.132043,
     "end_time": "2024-02-25T05:44:10.086411",
     "exception": false,
     "start_time": "2024-02-25T05:44:09.954368",
     "status": "completed"
    },
    "tags": []
   },
   "outputs": [
    {
     "data": {
      "text/html": [
       "<div>\n",
       "<style scoped>\n",
       "    .dataframe tbody tr th:only-of-type {\n",
       "        vertical-align: middle;\n",
       "    }\n",
       "\n",
       "    .dataframe tbody tr th {\n",
       "        vertical-align: top;\n",
       "    }\n",
       "\n",
       "    .dataframe thead th {\n",
       "        text-align: right;\n",
       "    }\n",
       "</style>\n",
       "<table border=\"1\" class=\"dataframe\">\n",
       "  <thead>\n",
       "    <tr style=\"text-align: right;\">\n",
       "      <th></th>\n",
       "      <th>ID</th>\n",
       "      <th>Question Text</th>\n",
       "      <th>Answers</th>\n",
       "      <th>Keywords</th>\n",
       "      <th>Paragraph_nums</th>\n",
       "      <th>Source files</th>\n",
       "    </tr>\n",
       "  </thead>\n",
       "  <tbody>\n",
       "  </tbody>\n",
       "</table>\n",
       "</div>"
      ],
      "text/plain": [
       "Empty DataFrame\n",
       "Columns: [ID, Question Text, Answers, Keywords, Paragraph_nums, Source files]\n",
       "Index: []"
      ]
     },
     "execution_count": 18,
     "metadata": {},
     "output_type": "execute_result"
    }
   ],
   "source": [
    "test[test[\"Answers\"].isnull()]"
   ]
  },
  {
   "cell_type": "code",
   "execution_count": 19,
   "id": "c5078c6b",
   "metadata": {
    "execution": {
     "iopub.execute_input": "2024-02-25T05:44:10.317606Z",
     "iopub.status.busy": "2024-02-25T05:44:10.317242Z",
     "iopub.status.idle": "2024-02-25T05:44:10.372751Z",
     "shell.execute_reply": "2024-02-25T05:44:10.371878Z"
    },
    "id": "ymrDC1pTbYi2",
    "outputId": "92ddf8c9-1ed6-419c-c45c-6cc6d8c7349c",
    "papermill": {
     "duration": 0.171383,
     "end_time": "2024-02-25T05:44:10.375075",
     "exception": false,
     "start_time": "2024-02-25T05:44:10.203692",
     "status": "completed"
    },
    "tags": []
   },
   "outputs": [
    {
     "name": "stderr",
     "output_type": "stream",
     "text": [
      "100%|██████████| 499/499 [00:00<00:00, 10770.90it/s]\n"
     ]
    }
   ],
   "source": [
    "ID = []\n",
    "Target = []\n",
    "\n",
    "for index, row in tqdm(test.iterrows(), total=len(test)):\n",
    "    ID.append(row[\"ID\"]+\"_keywords\")\n",
    "    Target.append(row[\"Keywords\"])\n",
    "    ID.append(row[\"ID\"]+\"_paragraph(s)_number\")\n",
    "    Target.append(row[\"Paragraph_nums\"])\n",
    "    ID.append(row[\"ID\"]+\"_question_answer\")\n",
    "    Target.append(row[\"Answers\"])\n",
    "    ID.append(row[\"ID\"]+\"_reference_document\")\n",
    "    Target.append(row[\"Source files\"][:12])"
   ]
  },
  {
   "cell_type": "code",
   "execution_count": 20,
   "id": "8e779600",
   "metadata": {
    "execution": {
     "iopub.execute_input": "2024-02-25T05:44:10.592695Z",
     "iopub.status.busy": "2024-02-25T05:44:10.591876Z",
     "iopub.status.idle": "2024-02-25T05:44:10.613315Z",
     "shell.execute_reply": "2024-02-25T05:44:10.612637Z"
    },
    "id": "ZLtKU6dpxR3Z",
    "papermill": {
     "duration": 0.138266,
     "end_time": "2024-02-25T05:44:10.615178",
     "exception": false,
     "start_time": "2024-02-25T05:44:10.476912",
     "status": "completed"
    },
    "tags": []
   },
   "outputs": [],
   "source": [
    "sub_df = pd.DataFrame({\"ID\":ID, \"Target\": Target})\n",
    "sub_df.to_csv(\"submission.csv\", index=False)"
   ]
  },
  {
   "cell_type": "code",
   "execution_count": null,
   "id": "ffe00578",
   "metadata": {
    "id": "EYlnp7q0DsHZ",
    "papermill": {
     "duration": 0.09624,
     "end_time": "2024-02-25T05:44:10.807661",
     "exception": false,
     "start_time": "2024-02-25T05:44:10.711421",
     "status": "completed"
    },
    "tags": []
   },
   "outputs": [],
   "source": []
  }
 ],
 "metadata": {
  "accelerator": "GPU",
  "colab": {
   "gpuType": "T4",
   "provenance": []
  },
  "kaggle": {
   "accelerator": "nvidiaTeslaT4",
   "dataSources": [
    {
     "datasetId": 4428480,
     "sourceId": 7606206,
     "sourceType": "datasetVersion"
    },
    {
     "datasetId": 4472418,
     "sourceId": 7677844,
     "sourceType": "datasetVersion"
    },
    {
     "sourceId": 163866579,
     "sourceType": "kernelVersion"
    }
   ],
   "isGpuEnabled": true,
   "isInternetEnabled": true,
   "language": "python",
   "sourceType": "notebook"
  },
  "kernelspec": {
   "display_name": "Python 3",
   "language": "python",
   "name": "python3"
  },
  "language_info": {
   "codemirror_mode": {
    "name": "ipython",
    "version": 3
   },
   "file_extension": ".py",
   "mimetype": "text/x-python",
   "name": "python",
   "nbconvert_exporter": "python",
   "pygments_lexer": "ipython3",
   "version": "3.10.13"
  },
  "papermill": {
   "default_parameters": {},
   "duration": 2227.239582,
   "end_time": "2024-02-25T05:44:13.632938",
   "environment_variables": {},
   "exception": null,
   "input_path": "__notebook__.ipynb",
   "output_path": "__notebook__.ipynb",
   "parameters": {},
   "start_time": "2024-02-25T05:07:06.393356",
   "version": "2.5.0"
  },
  "widgets": {
   "application/vnd.jupyter.widget-state+json": {
    "state": {
     "047d5f598f15465cb6b7e1ec0730f672": {
      "model_module": "@jupyter-widgets/controls",
      "model_module_version": "1.5.0",
      "model_name": "DescriptionStyleModel",
      "state": {
       "_model_module": "@jupyter-widgets/controls",
       "_model_module_version": "1.5.0",
       "_model_name": "DescriptionStyleModel",
       "_view_count": null,
       "_view_module": "@jupyter-widgets/base",
       "_view_module_version": "1.2.0",
       "_view_name": "StyleView",
       "description_width": ""
      }
     },
     "0da598bc29d946279fc80339718dd92c": {
      "model_module": "@jupyter-widgets/base",
      "model_module_version": "1.2.0",
      "model_name": "LayoutModel",
      "state": {
       "_model_module": "@jupyter-widgets/base",
       "_model_module_version": "1.2.0",
       "_model_name": "LayoutModel",
       "_view_count": null,
       "_view_module": "@jupyter-widgets/base",
       "_view_module_version": "1.2.0",
       "_view_name": "LayoutView",
       "align_content": null,
       "align_items": null,
       "align_self": null,
       "border": null,
       "bottom": null,
       "display": null,
       "flex": null,
       "flex_flow": null,
       "grid_area": null,
       "grid_auto_columns": null,
       "grid_auto_flow": null,
       "grid_auto_rows": null,
       "grid_column": null,
       "grid_gap": null,
       "grid_row": null,
       "grid_template_areas": null,
       "grid_template_columns": null,
       "grid_template_rows": null,
       "height": null,
       "justify_content": null,
       "justify_items": null,
       "left": null,
       "margin": null,
       "max_height": null,
       "max_width": null,
       "min_height": null,
       "min_width": null,
       "object_fit": null,
       "object_position": null,
       "order": null,
       "overflow": null,
       "overflow_x": null,
       "overflow_y": null,
       "padding": null,
       "right": null,
       "top": null,
       "visibility": null,
       "width": null
      }
     },
     "0e1fffff44994bdcbd3ca2856327016a": {
      "model_module": "@jupyter-widgets/base",
      "model_module_version": "1.2.0",
      "model_name": "LayoutModel",
      "state": {
       "_model_module": "@jupyter-widgets/base",
       "_model_module_version": "1.2.0",
       "_model_name": "LayoutModel",
       "_view_count": null,
       "_view_module": "@jupyter-widgets/base",
       "_view_module_version": "1.2.0",
       "_view_name": "LayoutView",
       "align_content": null,
       "align_items": null,
       "align_self": null,
       "border": null,
       "bottom": null,
       "display": null,
       "flex": null,
       "flex_flow": null,
       "grid_area": null,
       "grid_auto_columns": null,
       "grid_auto_flow": null,
       "grid_auto_rows": null,
       "grid_column": null,
       "grid_gap": null,
       "grid_row": null,
       "grid_template_areas": null,
       "grid_template_columns": null,
       "grid_template_rows": null,
       "height": null,
       "justify_content": null,
       "justify_items": null,
       "left": null,
       "margin": null,
       "max_height": null,
       "max_width": null,
       "min_height": null,
       "min_width": null,
       "object_fit": null,
       "object_position": null,
       "order": null,
       "overflow": null,
       "overflow_x": null,
       "overflow_y": null,
       "padding": null,
       "right": null,
       "top": null,
       "visibility": null,
       "width": null
      }
     },
     "0edc1197324f4635afae3494aa40a993": {
      "model_module": "@jupyter-widgets/base",
      "model_module_version": "1.2.0",
      "model_name": "LayoutModel",
      "state": {
       "_model_module": "@jupyter-widgets/base",
       "_model_module_version": "1.2.0",
       "_model_name": "LayoutModel",
       "_view_count": null,
       "_view_module": "@jupyter-widgets/base",
       "_view_module_version": "1.2.0",
       "_view_name": "LayoutView",
       "align_content": null,
       "align_items": null,
       "align_self": null,
       "border": null,
       "bottom": null,
       "display": null,
       "flex": null,
       "flex_flow": null,
       "grid_area": null,
       "grid_auto_columns": null,
       "grid_auto_flow": null,
       "grid_auto_rows": null,
       "grid_column": null,
       "grid_gap": null,
       "grid_row": null,
       "grid_template_areas": null,
       "grid_template_columns": null,
       "grid_template_rows": null,
       "height": null,
       "justify_content": null,
       "justify_items": null,
       "left": null,
       "margin": null,
       "max_height": null,
       "max_width": null,
       "min_height": null,
       "min_width": null,
       "object_fit": null,
       "object_position": null,
       "order": null,
       "overflow": null,
       "overflow_x": null,
       "overflow_y": null,
       "padding": null,
       "right": null,
       "top": null,
       "visibility": null,
       "width": null
      }
     },
     "11c1893b4b4c4a729c5789c7df6757d6": {
      "model_module": "@jupyter-widgets/controls",
      "model_module_version": "1.5.0",
      "model_name": "HBoxModel",
      "state": {
       "_dom_classes": [],
       "_model_module": "@jupyter-widgets/controls",
       "_model_module_version": "1.5.0",
       "_model_name": "HBoxModel",
       "_view_count": null,
       "_view_module": "@jupyter-widgets/controls",
       "_view_module_version": "1.5.0",
       "_view_name": "HBoxView",
       "box_style": "",
       "children": [
        "IPY_MODEL_1338f24782bd442ca5ea96352913b2c1",
        "IPY_MODEL_54ddd98adbbd4965aa66c6c2eb49cca1",
        "IPY_MODEL_5e546b712192493ebc987c7657812517"
       ],
       "layout": "IPY_MODEL_d76f8a1aa0a041ac99eefba354b928ab"
      }
     },
     "1338f24782bd442ca5ea96352913b2c1": {
      "model_module": "@jupyter-widgets/controls",
      "model_module_version": "1.5.0",
      "model_name": "HTMLModel",
      "state": {
       "_dom_classes": [],
       "_model_module": "@jupyter-widgets/controls",
       "_model_module_version": "1.5.0",
       "_model_name": "HTMLModel",
       "_view_count": null,
       "_view_module": "@jupyter-widgets/controls",
       "_view_module_version": "1.5.0",
       "_view_name": "HTMLView",
       "description": "",
       "description_tooltip": null,
       "layout": "IPY_MODEL_258cd22ccfae495caa7c4cfe77c6de5d",
       "placeholder": "​",
       "style": "IPY_MODEL_76d9fe6f298c40c48e99b8ca24692df8",
       "value": "config.json: 100%"
      }
     },
     "14e87fbcde85433e9433bfd4e1bcd4d9": {
      "model_module": "@jupyter-widgets/controls",
      "model_module_version": "1.5.0",
      "model_name": "HTMLModel",
      "state": {
       "_dom_classes": [],
       "_model_module": "@jupyter-widgets/controls",
       "_model_module_version": "1.5.0",
       "_model_name": "HTMLModel",
       "_view_count": null,
       "_view_module": "@jupyter-widgets/controls",
       "_view_module_version": "1.5.0",
       "_view_name": "HTMLView",
       "description": "",
       "description_tooltip": null,
       "layout": "IPY_MODEL_fa6184fd6c434a0aa005da717fb2499f",
       "placeholder": "​",
       "style": "IPY_MODEL_950a8efd002744ee927f2df2645c3975",
       "value": " 116/116 [00:00&lt;00:00, 10.6kB/s]"
      }
     },
     "15dc9f6898244739bee074d11f2624a5": {
      "model_module": "@jupyter-widgets/base",
      "model_module_version": "1.2.0",
      "model_name": "LayoutModel",
      "state": {
       "_model_module": "@jupyter-widgets/base",
       "_model_module_version": "1.2.0",
       "_model_name": "LayoutModel",
       "_view_count": null,
       "_view_module": "@jupyter-widgets/base",
       "_view_module_version": "1.2.0",
       "_view_name": "LayoutView",
       "align_content": null,
       "align_items": null,
       "align_self": null,
       "border": null,
       "bottom": null,
       "display": null,
       "flex": null,
       "flex_flow": null,
       "grid_area": null,
       "grid_auto_columns": null,
       "grid_auto_flow": null,
       "grid_auto_rows": null,
       "grid_column": null,
       "grid_gap": null,
       "grid_row": null,
       "grid_template_areas": null,
       "grid_template_columns": null,
       "grid_template_rows": null,
       "height": null,
       "justify_content": null,
       "justify_items": null,
       "left": null,
       "margin": null,
       "max_height": null,
       "max_width": null,
       "min_height": null,
       "min_width": null,
       "object_fit": null,
       "object_position": null,
       "order": null,
       "overflow": null,
       "overflow_x": null,
       "overflow_y": null,
       "padding": null,
       "right": null,
       "top": null,
       "visibility": null,
       "width": null
      }
     },
     "172dd26ef79140189a70a34dffaaeec2": {
      "model_module": "@jupyter-widgets/controls",
      "model_module_version": "1.5.0",
      "model_name": "HTMLModel",
      "state": {
       "_dom_classes": [],
       "_model_module": "@jupyter-widgets/controls",
       "_model_module_version": "1.5.0",
       "_model_name": "HTMLModel",
       "_view_count": null,
       "_view_module": "@jupyter-widgets/controls",
       "_view_module_version": "1.5.0",
       "_view_name": "HTMLView",
       "description": "",
       "description_tooltip": null,
       "layout": "IPY_MODEL_1b4748b8c1874a5c9c96f36130327dc7",
       "placeholder": "​",
       "style": "IPY_MODEL_e52ad44684be499d930ff2363b5aa63d",
       "value": "1_Pooling/config.json: 100%"
      }
     },
     "18d963b5cd9b4b56b15c11fd634105fb": {
      "model_module": "@jupyter-widgets/base",
      "model_module_version": "1.2.0",
      "model_name": "LayoutModel",
      "state": {
       "_model_module": "@jupyter-widgets/base",
       "_model_module_version": "1.2.0",
       "_model_name": "LayoutModel",
       "_view_count": null,
       "_view_module": "@jupyter-widgets/base",
       "_view_module_version": "1.2.0",
       "_view_name": "LayoutView",
       "align_content": null,
       "align_items": null,
       "align_self": null,
       "border": null,
       "bottom": null,
       "display": null,
       "flex": null,
       "flex_flow": null,
       "grid_area": null,
       "grid_auto_columns": null,
       "grid_auto_flow": null,
       "grid_auto_rows": null,
       "grid_column": null,
       "grid_gap": null,
       "grid_row": null,
       "grid_template_areas": null,
       "grid_template_columns": null,
       "grid_template_rows": null,
       "height": null,
       "justify_content": null,
       "justify_items": null,
       "left": null,
       "margin": null,
       "max_height": null,
       "max_width": null,
       "min_height": null,
       "min_width": null,
       "object_fit": null,
       "object_position": null,
       "order": null,
       "overflow": null,
       "overflow_x": null,
       "overflow_y": null,
       "padding": null,
       "right": null,
       "top": null,
       "visibility": null,
       "width": null
      }
     },
     "195f0a8a92df4878871c9c8d8aa4ad11": {
      "model_module": "@jupyter-widgets/controls",
      "model_module_version": "1.5.0",
      "model_name": "FloatProgressModel",
      "state": {
       "_dom_classes": [],
       "_model_module": "@jupyter-widgets/controls",
       "_model_module_version": "1.5.0",
       "_model_name": "FloatProgressModel",
       "_view_count": null,
       "_view_module": "@jupyter-widgets/controls",
       "_view_module_version": "1.5.0",
       "_view_name": "ProgressView",
       "bar_style": "success",
       "description": "",
       "description_tooltip": null,
       "layout": "IPY_MODEL_c4ac01e4b15641929ef38061da14001c",
       "max": 116.0,
       "min": 0.0,
       "orientation": "horizontal",
       "style": "IPY_MODEL_5d6cf847d2454f68a2410c3b9857418d",
       "value": 116.0
      }
     },
     "19e995ea7ab64da49a7cb9f0f5c7523f": {
      "model_module": "@jupyter-widgets/controls",
      "model_module_version": "1.5.0",
      "model_name": "HBoxModel",
      "state": {
       "_dom_classes": [],
       "_model_module": "@jupyter-widgets/controls",
       "_model_module_version": "1.5.0",
       "_model_name": "HBoxModel",
       "_view_count": null,
       "_view_module": "@jupyter-widgets/controls",
       "_view_module_version": "1.5.0",
       "_view_name": "HBoxView",
       "box_style": "",
       "children": [
        "IPY_MODEL_992d8577704d4dae8d953238e572c9e3",
        "IPY_MODEL_85015e961cdf4e3dac37647adbe7461c",
        "IPY_MODEL_de2a84713f5a4fed94dd4f6332d79c60"
       ],
       "layout": "IPY_MODEL_8bd47c80e00544d5b8a779a88ead3639"
      }
     },
     "1b4748b8c1874a5c9c96f36130327dc7": {
      "model_module": "@jupyter-widgets/base",
      "model_module_version": "1.2.0",
      "model_name": "LayoutModel",
      "state": {
       "_model_module": "@jupyter-widgets/base",
       "_model_module_version": "1.2.0",
       "_model_name": "LayoutModel",
       "_view_count": null,
       "_view_module": "@jupyter-widgets/base",
       "_view_module_version": "1.2.0",
       "_view_name": "LayoutView",
       "align_content": null,
       "align_items": null,
       "align_self": null,
       "border": null,
       "bottom": null,
       "display": null,
       "flex": null,
       "flex_flow": null,
       "grid_area": null,
       "grid_auto_columns": null,
       "grid_auto_flow": null,
       "grid_auto_rows": null,
       "grid_column": null,
       "grid_gap": null,
       "grid_row": null,
       "grid_template_areas": null,
       "grid_template_columns": null,
       "grid_template_rows": null,
       "height": null,
       "justify_content": null,
       "justify_items": null,
       "left": null,
       "margin": null,
       "max_height": null,
       "max_width": null,
       "min_height": null,
       "min_width": null,
       "object_fit": null,
       "object_position": null,
       "order": null,
       "overflow": null,
       "overflow_x": null,
       "overflow_y": null,
       "padding": null,
       "right": null,
       "top": null,
       "visibility": null,
       "width": null
      }
     },
     "1be5864fa1b44404bf26042c6d73b2ed": {
      "model_module": "@jupyter-widgets/base",
      "model_module_version": "1.2.0",
      "model_name": "LayoutModel",
      "state": {
       "_model_module": "@jupyter-widgets/base",
       "_model_module_version": "1.2.0",
       "_model_name": "LayoutModel",
       "_view_count": null,
       "_view_module": "@jupyter-widgets/base",
       "_view_module_version": "1.2.0",
       "_view_name": "LayoutView",
       "align_content": null,
       "align_items": null,
       "align_self": null,
       "border": null,
       "bottom": null,
       "display": null,
       "flex": null,
       "flex_flow": null,
       "grid_area": null,
       "grid_auto_columns": null,
       "grid_auto_flow": null,
       "grid_auto_rows": null,
       "grid_column": null,
       "grid_gap": null,
       "grid_row": null,
       "grid_template_areas": null,
       "grid_template_columns": null,
       "grid_template_rows": null,
       "height": null,
       "justify_content": null,
       "justify_items": null,
       "left": null,
       "margin": null,
       "max_height": null,
       "max_width": null,
       "min_height": null,
       "min_width": null,
       "object_fit": null,
       "object_position": null,
       "order": null,
       "overflow": null,
       "overflow_x": null,
       "overflow_y": null,
       "padding": null,
       "right": null,
       "top": null,
       "visibility": null,
       "width": null
      }
     },
     "1d7a713bae1947a997b84597f63ac0da": {
      "model_module": "@jupyter-widgets/base",
      "model_module_version": "1.2.0",
      "model_name": "LayoutModel",
      "state": {
       "_model_module": "@jupyter-widgets/base",
       "_model_module_version": "1.2.0",
       "_model_name": "LayoutModel",
       "_view_count": null,
       "_view_module": "@jupyter-widgets/base",
       "_view_module_version": "1.2.0",
       "_view_name": "LayoutView",
       "align_content": null,
       "align_items": null,
       "align_self": null,
       "border": null,
       "bottom": null,
       "display": null,
       "flex": null,
       "flex_flow": null,
       "grid_area": null,
       "grid_auto_columns": null,
       "grid_auto_flow": null,
       "grid_auto_rows": null,
       "grid_column": null,
       "grid_gap": null,
       "grid_row": null,
       "grid_template_areas": null,
       "grid_template_columns": null,
       "grid_template_rows": null,
       "height": null,
       "justify_content": null,
       "justify_items": null,
       "left": null,
       "margin": null,
       "max_height": null,
       "max_width": null,
       "min_height": null,
       "min_width": null,
       "object_fit": null,
       "object_position": null,
       "order": null,
       "overflow": null,
       "overflow_x": null,
       "overflow_y": null,
       "padding": null,
       "right": null,
       "top": null,
       "visibility": null,
       "width": null
      }
     },
     "215f368209f748e0991518609e9bef85": {
      "model_module": "@jupyter-widgets/controls",
      "model_module_version": "1.5.0",
      "model_name": "DescriptionStyleModel",
      "state": {
       "_model_module": "@jupyter-widgets/controls",
       "_model_module_version": "1.5.0",
       "_model_name": "DescriptionStyleModel",
       "_view_count": null,
       "_view_module": "@jupyter-widgets/base",
       "_view_module_version": "1.2.0",
       "_view_name": "StyleView",
       "description_width": ""
      }
     },
     "258cd22ccfae495caa7c4cfe77c6de5d": {
      "model_module": "@jupyter-widgets/base",
      "model_module_version": "1.2.0",
      "model_name": "LayoutModel",
      "state": {
       "_model_module": "@jupyter-widgets/base",
       "_model_module_version": "1.2.0",
       "_model_name": "LayoutModel",
       "_view_count": null,
       "_view_module": "@jupyter-widgets/base",
       "_view_module_version": "1.2.0",
       "_view_name": "LayoutView",
       "align_content": null,
       "align_items": null,
       "align_self": null,
       "border": null,
       "bottom": null,
       "display": null,
       "flex": null,
       "flex_flow": null,
       "grid_area": null,
       "grid_auto_columns": null,
       "grid_auto_flow": null,
       "grid_auto_rows": null,
       "grid_column": null,
       "grid_gap": null,
       "grid_row": null,
       "grid_template_areas": null,
       "grid_template_columns": null,
       "grid_template_rows": null,
       "height": null,
       "justify_content": null,
       "justify_items": null,
       "left": null,
       "margin": null,
       "max_height": null,
       "max_width": null,
       "min_height": null,
       "min_width": null,
       "object_fit": null,
       "object_position": null,
       "order": null,
       "overflow": null,
       "overflow_x": null,
       "overflow_y": null,
       "padding": null,
       "right": null,
       "top": null,
       "visibility": null,
       "width": null
      }
     },
     "2a566c73d7254298a8d548a72cb19f76": {
      "model_module": "@jupyter-widgets/base",
      "model_module_version": "1.2.0",
      "model_name": "LayoutModel",
      "state": {
       "_model_module": "@jupyter-widgets/base",
       "_model_module_version": "1.2.0",
       "_model_name": "LayoutModel",
       "_view_count": null,
       "_view_module": "@jupyter-widgets/base",
       "_view_module_version": "1.2.0",
       "_view_name": "LayoutView",
       "align_content": null,
       "align_items": null,
       "align_self": null,
       "border": null,
       "bottom": null,
       "display": null,
       "flex": null,
       "flex_flow": null,
       "grid_area": null,
       "grid_auto_columns": null,
       "grid_auto_flow": null,
       "grid_auto_rows": null,
       "grid_column": null,
       "grid_gap": null,
       "grid_row": null,
       "grid_template_areas": null,
       "grid_template_columns": null,
       "grid_template_rows": null,
       "height": null,
       "justify_content": null,
       "justify_items": null,
       "left": null,
       "margin": null,
       "max_height": null,
       "max_width": null,
       "min_height": null,
       "min_width": null,
       "object_fit": null,
       "object_position": null,
       "order": null,
       "overflow": null,
       "overflow_x": null,
       "overflow_y": null,
       "padding": null,
       "right": null,
       "top": null,
       "visibility": null,
       "width": null
      }
     },
     "2a73fef883bd4b63878f1cb3370c0352": {
      "model_module": "@jupyter-widgets/controls",
      "model_module_version": "1.5.0",
      "model_name": "DescriptionStyleModel",
      "state": {
       "_model_module": "@jupyter-widgets/controls",
       "_model_module_version": "1.5.0",
       "_model_name": "DescriptionStyleModel",
       "_view_count": null,
       "_view_module": "@jupyter-widgets/base",
       "_view_module_version": "1.2.0",
       "_view_name": "StyleView",
       "description_width": ""
      }
     },
     "2bd168c0c7f74dd2a28e2f66e0029554": {
      "model_module": "@jupyter-widgets/controls",
      "model_module_version": "1.5.0",
      "model_name": "HBoxModel",
      "state": {
       "_dom_classes": [],
       "_model_module": "@jupyter-widgets/controls",
       "_model_module_version": "1.5.0",
       "_model_name": "HBoxModel",
       "_view_count": null,
       "_view_module": "@jupyter-widgets/controls",
       "_view_module_version": "1.5.0",
       "_view_name": "HBoxView",
       "box_style": "",
       "children": [
        "IPY_MODEL_6e59defeb04c468695f5d400e4d1cd8f",
        "IPY_MODEL_6c70ebaebe1149ce8a2a792e559121ba",
        "IPY_MODEL_c12d09cd55914ad98bb22bcfab51fcb5"
       ],
       "layout": "IPY_MODEL_bf9bd04b434842c9b4839bb4deab0370"
      }
     },
     "2c5c207676974971a72c06319a931bb4": {
      "model_module": "@jupyter-widgets/controls",
      "model_module_version": "1.5.0",
      "model_name": "HTMLModel",
      "state": {
       "_dom_classes": [],
       "_model_module": "@jupyter-widgets/controls",
       "_model_module_version": "1.5.0",
       "_model_name": "HTMLModel",
       "_view_count": null,
       "_view_module": "@jupyter-widgets/controls",
       "_view_module_version": "1.5.0",
       "_view_name": "HTMLView",
       "description": "",
       "description_tooltip": null,
       "layout": "IPY_MODEL_5dae2097c3f048dfa5b8a003067f3f65",
       "placeholder": "​",
       "style": "IPY_MODEL_4102ea20a45c402b8907b9f7f2bdb167",
       "value": "tokenizer_config.json: 100%"
      }
     },
     "2d218b455e7344a7a3f0744a2a77745e": {
      "model_module": "@jupyter-widgets/base",
      "model_module_version": "1.2.0",
      "model_name": "LayoutModel",
      "state": {
       "_model_module": "@jupyter-widgets/base",
       "_model_module_version": "1.2.0",
       "_model_name": "LayoutModel",
       "_view_count": null,
       "_view_module": "@jupyter-widgets/base",
       "_view_module_version": "1.2.0",
       "_view_name": "LayoutView",
       "align_content": null,
       "align_items": null,
       "align_self": null,
       "border": null,
       "bottom": null,
       "display": null,
       "flex": null,
       "flex_flow": null,
       "grid_area": null,
       "grid_auto_columns": null,
       "grid_auto_flow": null,
       "grid_auto_rows": null,
       "grid_column": null,
       "grid_gap": null,
       "grid_row": null,
       "grid_template_areas": null,
       "grid_template_columns": null,
       "grid_template_rows": null,
       "height": null,
       "justify_content": null,
       "justify_items": null,
       "left": null,
       "margin": null,
       "max_height": null,
       "max_width": null,
       "min_height": null,
       "min_width": null,
       "object_fit": null,
       "object_position": null,
       "order": null,
       "overflow": null,
       "overflow_x": null,
       "overflow_y": null,
       "padding": null,
       "right": null,
       "top": null,
       "visibility": null,
       "width": null
      }
     },
     "2e80087bae3645938c43f122aefb9356": {
      "model_module": "@jupyter-widgets/base",
      "model_module_version": "1.2.0",
      "model_name": "LayoutModel",
      "state": {
       "_model_module": "@jupyter-widgets/base",
       "_model_module_version": "1.2.0",
       "_model_name": "LayoutModel",
       "_view_count": null,
       "_view_module": "@jupyter-widgets/base",
       "_view_module_version": "1.2.0",
       "_view_name": "LayoutView",
       "align_content": null,
       "align_items": null,
       "align_self": null,
       "border": null,
       "bottom": null,
       "display": null,
       "flex": null,
       "flex_flow": null,
       "grid_area": null,
       "grid_auto_columns": null,
       "grid_auto_flow": null,
       "grid_auto_rows": null,
       "grid_column": null,
       "grid_gap": null,
       "grid_row": null,
       "grid_template_areas": null,
       "grid_template_columns": null,
       "grid_template_rows": null,
       "height": null,
       "justify_content": null,
       "justify_items": null,
       "left": null,
       "margin": null,
       "max_height": null,
       "max_width": null,
       "min_height": null,
       "min_width": null,
       "object_fit": null,
       "object_position": null,
       "order": null,
       "overflow": null,
       "overflow_x": null,
       "overflow_y": null,
       "padding": null,
       "right": null,
       "top": null,
       "visibility": null,
       "width": null
      }
     },
     "2ebe73846f7247c1b4a5d33e4a3704c7": {
      "model_module": "@jupyter-widgets/controls",
      "model_module_version": "1.5.0",
      "model_name": "HTMLModel",
      "state": {
       "_dom_classes": [],
       "_model_module": "@jupyter-widgets/controls",
       "_model_module_version": "1.5.0",
       "_model_name": "HTMLModel",
       "_view_count": null,
       "_view_module": "@jupyter-widgets/controls",
       "_view_module_version": "1.5.0",
       "_view_name": "HTMLView",
       "description": "",
       "description_tooltip": null,
       "layout": "IPY_MODEL_0da598bc29d946279fc80339718dd92c",
       "placeholder": "​",
       "style": "IPY_MODEL_da8fb186b2574b968a145a1725fedaf4",
       "value": "vocab.txt: 100%"
      }
     },
     "2fc9ed5f22cd4559b90dd4daf38428ea": {
      "model_module": "@jupyter-widgets/base",
      "model_module_version": "1.2.0",
      "model_name": "LayoutModel",
      "state": {
       "_model_module": "@jupyter-widgets/base",
       "_model_module_version": "1.2.0",
       "_model_name": "LayoutModel",
       "_view_count": null,
       "_view_module": "@jupyter-widgets/base",
       "_view_module_version": "1.2.0",
       "_view_name": "LayoutView",
       "align_content": null,
       "align_items": null,
       "align_self": null,
       "border": null,
       "bottom": null,
       "display": null,
       "flex": null,
       "flex_flow": null,
       "grid_area": null,
       "grid_auto_columns": null,
       "grid_auto_flow": null,
       "grid_auto_rows": null,
       "grid_column": null,
       "grid_gap": null,
       "grid_row": null,
       "grid_template_areas": null,
       "grid_template_columns": null,
       "grid_template_rows": null,
       "height": null,
       "justify_content": null,
       "justify_items": null,
       "left": null,
       "margin": null,
       "max_height": null,
       "max_width": null,
       "min_height": null,
       "min_width": null,
       "object_fit": null,
       "object_position": null,
       "order": null,
       "overflow": null,
       "overflow_x": null,
       "overflow_y": null,
       "padding": null,
       "right": null,
       "top": null,
       "visibility": null,
       "width": null
      }
     },
     "3307a07cfb814592b4e2c495ca89fce0": {
      "model_module": "@jupyter-widgets/controls",
      "model_module_version": "1.5.0",
      "model_name": "ProgressStyleModel",
      "state": {
       "_model_module": "@jupyter-widgets/controls",
       "_model_module_version": "1.5.0",
       "_model_name": "ProgressStyleModel",
       "_view_count": null,
       "_view_module": "@jupyter-widgets/base",
       "_view_module_version": "1.2.0",
       "_view_name": "StyleView",
       "bar_color": null,
       "description_width": ""
      }
     },
     "34bec863beba401d90bbe10e39680f82": {
      "model_module": "@jupyter-widgets/base",
      "model_module_version": "1.2.0",
      "model_name": "LayoutModel",
      "state": {
       "_model_module": "@jupyter-widgets/base",
       "_model_module_version": "1.2.0",
       "_model_name": "LayoutModel",
       "_view_count": null,
       "_view_module": "@jupyter-widgets/base",
       "_view_module_version": "1.2.0",
       "_view_name": "LayoutView",
       "align_content": null,
       "align_items": null,
       "align_self": null,
       "border": null,
       "bottom": null,
       "display": null,
       "flex": null,
       "flex_flow": null,
       "grid_area": null,
       "grid_auto_columns": null,
       "grid_auto_flow": null,
       "grid_auto_rows": null,
       "grid_column": null,
       "grid_gap": null,
       "grid_row": null,
       "grid_template_areas": null,
       "grid_template_columns": null,
       "grid_template_rows": null,
       "height": null,
       "justify_content": null,
       "justify_items": null,
       "left": null,
       "margin": null,
       "max_height": null,
       "max_width": null,
       "min_height": null,
       "min_width": null,
       "object_fit": null,
       "object_position": null,
       "order": null,
       "overflow": null,
       "overflow_x": null,
       "overflow_y": null,
       "padding": null,
       "right": null,
       "top": null,
       "visibility": null,
       "width": null
      }
     },
     "3775f193a5ec4064a7a6950fd252a8cf": {
      "model_module": "@jupyter-widgets/base",
      "model_module_version": "1.2.0",
      "model_name": "LayoutModel",
      "state": {
       "_model_module": "@jupyter-widgets/base",
       "_model_module_version": "1.2.0",
       "_model_name": "LayoutModel",
       "_view_count": null,
       "_view_module": "@jupyter-widgets/base",
       "_view_module_version": "1.2.0",
       "_view_name": "LayoutView",
       "align_content": null,
       "align_items": null,
       "align_self": null,
       "border": null,
       "bottom": null,
       "display": null,
       "flex": null,
       "flex_flow": null,
       "grid_area": null,
       "grid_auto_columns": null,
       "grid_auto_flow": null,
       "grid_auto_rows": null,
       "grid_column": null,
       "grid_gap": null,
       "grid_row": null,
       "grid_template_areas": null,
       "grid_template_columns": null,
       "grid_template_rows": null,
       "height": null,
       "justify_content": null,
       "justify_items": null,
       "left": null,
       "margin": null,
       "max_height": null,
       "max_width": null,
       "min_height": null,
       "min_width": null,
       "object_fit": null,
       "object_position": null,
       "order": null,
       "overflow": null,
       "overflow_x": null,
       "overflow_y": null,
       "padding": null,
       "right": null,
       "top": null,
       "visibility": null,
       "width": null
      }
     },
     "38b1ff9fe7a3494da066895b04ee95fa": {
      "model_module": "@jupyter-widgets/controls",
      "model_module_version": "1.5.0",
      "model_name": "HBoxModel",
      "state": {
       "_dom_classes": [],
       "_model_module": "@jupyter-widgets/controls",
       "_model_module_version": "1.5.0",
       "_model_name": "HBoxModel",
       "_view_count": null,
       "_view_module": "@jupyter-widgets/controls",
       "_view_module_version": "1.5.0",
       "_view_name": "HBoxView",
       "box_style": "",
       "children": [
        "IPY_MODEL_b11cc71ab374471f982ba1d3798da8c9",
        "IPY_MODEL_9a6216b48b1847d8b91a58ed7115267c",
        "IPY_MODEL_f1e0ae384bab45168e315f72e206fcf9"
       ],
       "layout": "IPY_MODEL_df62a1b80b1f4064abe546a8dc1688e1"
      }
     },
     "39aafbbc03504262a4b0ee29b2f738de": {
      "model_module": "@jupyter-widgets/controls",
      "model_module_version": "1.5.0",
      "model_name": "ProgressStyleModel",
      "state": {
       "_model_module": "@jupyter-widgets/controls",
       "_model_module_version": "1.5.0",
       "_model_name": "ProgressStyleModel",
       "_view_count": null,
       "_view_module": "@jupyter-widgets/base",
       "_view_module_version": "1.2.0",
       "_view_name": "StyleView",
       "bar_color": null,
       "description_width": ""
      }
     },
     "3b603d10e6b34202b76a120c3ec18834": {
      "model_module": "@jupyter-widgets/controls",
      "model_module_version": "1.5.0",
      "model_name": "ProgressStyleModel",
      "state": {
       "_model_module": "@jupyter-widgets/controls",
       "_model_module_version": "1.5.0",
       "_model_name": "ProgressStyleModel",
       "_view_count": null,
       "_view_module": "@jupyter-widgets/base",
       "_view_module_version": "1.2.0",
       "_view_name": "StyleView",
       "bar_color": null,
       "description_width": ""
      }
     },
     "3c5b3b4fd1bf41f8ac9cb491dd0bc35d": {
      "model_module": "@jupyter-widgets/controls",
      "model_module_version": "1.5.0",
      "model_name": "HTMLModel",
      "state": {
       "_dom_classes": [],
       "_model_module": "@jupyter-widgets/controls",
       "_model_module_version": "1.5.0",
       "_model_name": "HTMLModel",
       "_view_count": null,
       "_view_module": "@jupyter-widgets/controls",
       "_view_module_version": "1.5.0",
       "_view_name": "HTMLView",
       "description": "",
       "description_tooltip": null,
       "layout": "IPY_MODEL_d62fe589ac524c108d73fa93f9f02b3e",
       "placeholder": "​",
       "style": "IPY_MODEL_b5fdb899794342d88371249be5630862",
       "value": "config_sentence_transformers.json: 100%"
      }
     },
     "3e5990cd975a489c8984b0ce31c71abd": {
      "model_module": "@jupyter-widgets/base",
      "model_module_version": "1.2.0",
      "model_name": "LayoutModel",
      "state": {
       "_model_module": "@jupyter-widgets/base",
       "_model_module_version": "1.2.0",
       "_model_name": "LayoutModel",
       "_view_count": null,
       "_view_module": "@jupyter-widgets/base",
       "_view_module_version": "1.2.0",
       "_view_name": "LayoutView",
       "align_content": null,
       "align_items": null,
       "align_self": null,
       "border": null,
       "bottom": null,
       "display": null,
       "flex": null,
       "flex_flow": null,
       "grid_area": null,
       "grid_auto_columns": null,
       "grid_auto_flow": null,
       "grid_auto_rows": null,
       "grid_column": null,
       "grid_gap": null,
       "grid_row": null,
       "grid_template_areas": null,
       "grid_template_columns": null,
       "grid_template_rows": null,
       "height": null,
       "justify_content": null,
       "justify_items": null,
       "left": null,
       "margin": null,
       "max_height": null,
       "max_width": null,
       "min_height": null,
       "min_width": null,
       "object_fit": null,
       "object_position": null,
       "order": null,
       "overflow": null,
       "overflow_x": null,
       "overflow_y": null,
       "padding": null,
       "right": null,
       "top": null,
       "visibility": null,
       "width": null
      }
     },
     "3f1fbc76106446bea935c371c62c98e9": {
      "model_module": "@jupyter-widgets/controls",
      "model_module_version": "1.5.0",
      "model_name": "ProgressStyleModel",
      "state": {
       "_model_module": "@jupyter-widgets/controls",
       "_model_module_version": "1.5.0",
       "_model_name": "ProgressStyleModel",
       "_view_count": null,
       "_view_module": "@jupyter-widgets/base",
       "_view_module_version": "1.2.0",
       "_view_name": "StyleView",
       "bar_color": null,
       "description_width": ""
      }
     },
     "3f2bbd0adcb34f09ae580b8e1cabffc6": {
      "model_module": "@jupyter-widgets/base",
      "model_module_version": "1.2.0",
      "model_name": "LayoutModel",
      "state": {
       "_model_module": "@jupyter-widgets/base",
       "_model_module_version": "1.2.0",
       "_model_name": "LayoutModel",
       "_view_count": null,
       "_view_module": "@jupyter-widgets/base",
       "_view_module_version": "1.2.0",
       "_view_name": "LayoutView",
       "align_content": null,
       "align_items": null,
       "align_self": null,
       "border": null,
       "bottom": null,
       "display": null,
       "flex": null,
       "flex_flow": null,
       "grid_area": null,
       "grid_auto_columns": null,
       "grid_auto_flow": null,
       "grid_auto_rows": null,
       "grid_column": null,
       "grid_gap": null,
       "grid_row": null,
       "grid_template_areas": null,
       "grid_template_columns": null,
       "grid_template_rows": null,
       "height": null,
       "justify_content": null,
       "justify_items": null,
       "left": null,
       "margin": null,
       "max_height": null,
       "max_width": null,
       "min_height": null,
       "min_width": null,
       "object_fit": null,
       "object_position": null,
       "order": null,
       "overflow": null,
       "overflow_x": null,
       "overflow_y": null,
       "padding": null,
       "right": null,
       "top": null,
       "visibility": null,
       "width": null
      }
     },
     "3f8ad1315baa464baedf9dfaf6b05675": {
      "model_module": "@jupyter-widgets/controls",
      "model_module_version": "1.5.0",
      "model_name": "ProgressStyleModel",
      "state": {
       "_model_module": "@jupyter-widgets/controls",
       "_model_module_version": "1.5.0",
       "_model_name": "ProgressStyleModel",
       "_view_count": null,
       "_view_module": "@jupyter-widgets/base",
       "_view_module_version": "1.2.0",
       "_view_name": "StyleView",
       "bar_color": null,
       "description_width": ""
      }
     },
     "4102ea20a45c402b8907b9f7f2bdb167": {
      "model_module": "@jupyter-widgets/controls",
      "model_module_version": "1.5.0",
      "model_name": "DescriptionStyleModel",
      "state": {
       "_model_module": "@jupyter-widgets/controls",
       "_model_module_version": "1.5.0",
       "_model_name": "DescriptionStyleModel",
       "_view_count": null,
       "_view_module": "@jupyter-widgets/base",
       "_view_module_version": "1.2.0",
       "_view_name": "StyleView",
       "description_width": ""
      }
     },
     "4246e4ed534c46b48d8400075332cc09": {
      "model_module": "@jupyter-widgets/controls",
      "model_module_version": "1.5.0",
      "model_name": "HBoxModel",
      "state": {
       "_dom_classes": [],
       "_model_module": "@jupyter-widgets/controls",
       "_model_module_version": "1.5.0",
       "_model_name": "HBoxModel",
       "_view_count": null,
       "_view_module": "@jupyter-widgets/controls",
       "_view_module_version": "1.5.0",
       "_view_name": "HBoxView",
       "box_style": "",
       "children": [
        "IPY_MODEL_3c5b3b4fd1bf41f8ac9cb491dd0bc35d",
        "IPY_MODEL_195f0a8a92df4878871c9c8d8aa4ad11",
        "IPY_MODEL_14e87fbcde85433e9433bfd4e1bcd4d9"
       ],
       "layout": "IPY_MODEL_6fa6b316696a4055aa99af3b2d15e963"
      }
     },
     "4ced89b888e345fdb3df4d2bb7e1c075": {
      "model_module": "@jupyter-widgets/base",
      "model_module_version": "1.2.0",
      "model_name": "LayoutModel",
      "state": {
       "_model_module": "@jupyter-widgets/base",
       "_model_module_version": "1.2.0",
       "_model_name": "LayoutModel",
       "_view_count": null,
       "_view_module": "@jupyter-widgets/base",
       "_view_module_version": "1.2.0",
       "_view_name": "LayoutView",
       "align_content": null,
       "align_items": null,
       "align_self": null,
       "border": null,
       "bottom": null,
       "display": null,
       "flex": null,
       "flex_flow": null,
       "grid_area": null,
       "grid_auto_columns": null,
       "grid_auto_flow": null,
       "grid_auto_rows": null,
       "grid_column": null,
       "grid_gap": null,
       "grid_row": null,
       "grid_template_areas": null,
       "grid_template_columns": null,
       "grid_template_rows": null,
       "height": null,
       "justify_content": null,
       "justify_items": null,
       "left": null,
       "margin": null,
       "max_height": null,
       "max_width": null,
       "min_height": null,
       "min_width": null,
       "object_fit": null,
       "object_position": null,
       "order": null,
       "overflow": null,
       "overflow_x": null,
       "overflow_y": null,
       "padding": null,
       "right": null,
       "top": null,
       "visibility": null,
       "width": null
      }
     },
     "4ddff697d9a54cf5bdb4d27d84206e02": {
      "model_module": "@jupyter-widgets/controls",
      "model_module_version": "1.5.0",
      "model_name": "HTMLModel",
      "state": {
       "_dom_classes": [],
       "_model_module": "@jupyter-widgets/controls",
       "_model_module_version": "1.5.0",
       "_model_name": "HTMLModel",
       "_view_count": null,
       "_view_module": "@jupyter-widgets/controls",
       "_view_module_version": "1.5.0",
       "_view_name": "HTMLView",
       "description": "",
       "description_tooltip": null,
       "layout": "IPY_MODEL_6a635f7ac3e64079934b2e5763c6fd4c",
       "placeholder": "​",
       "style": "IPY_MODEL_f8b6617ef54643febecb17a8d98efca3",
       "value": " 363/363 [00:00&lt;00:00, 32.4kB/s]"
      }
     },
     "54ddd98adbbd4965aa66c6c2eb49cca1": {
      "model_module": "@jupyter-widgets/controls",
      "model_module_version": "1.5.0",
      "model_name": "FloatProgressModel",
      "state": {
       "_dom_classes": [],
       "_model_module": "@jupyter-widgets/controls",
       "_model_module_version": "1.5.0",
       "_model_name": "FloatProgressModel",
       "_view_count": null,
       "_view_module": "@jupyter-widgets/controls",
       "_view_module_version": "1.5.0",
       "_view_name": "ProgressView",
       "bar_style": "success",
       "description": "",
       "description_tooltip": null,
       "layout": "IPY_MODEL_85c68ba999fb4b8db97877483cd0a334",
       "max": 571.0,
       "min": 0.0,
       "orientation": "horizontal",
       "style": "IPY_MODEL_abebee5eac6d4a8891f9b1f1ac06f0d1",
       "value": 571.0
      }
     },
     "55395cf95ec14024be212cd02f37211a": {
      "model_module": "@jupyter-widgets/controls",
      "model_module_version": "1.5.0",
      "model_name": "FloatProgressModel",
      "state": {
       "_dom_classes": [],
       "_model_module": "@jupyter-widgets/controls",
       "_model_module_version": "1.5.0",
       "_model_name": "FloatProgressModel",
       "_view_count": null,
       "_view_module": "@jupyter-widgets/controls",
       "_view_module_version": "1.5.0",
       "_view_name": "ProgressView",
       "bar_style": "success",
       "description": "",
       "description_tooltip": null,
       "layout": "IPY_MODEL_4ced89b888e345fdb3df4d2bb7e1c075",
       "max": 190.0,
       "min": 0.0,
       "orientation": "horizontal",
       "style": "IPY_MODEL_fdd9ad1be7014413830eb972ad9e71a9",
       "value": 190.0
      }
     },
     "586493325d87418490bcc8d851db19b5": {
      "model_module": "@jupyter-widgets/base",
      "model_module_version": "1.2.0",
      "model_name": "LayoutModel",
      "state": {
       "_model_module": "@jupyter-widgets/base",
       "_model_module_version": "1.2.0",
       "_model_name": "LayoutModel",
       "_view_count": null,
       "_view_module": "@jupyter-widgets/base",
       "_view_module_version": "1.2.0",
       "_view_name": "LayoutView",
       "align_content": null,
       "align_items": null,
       "align_self": null,
       "border": null,
       "bottom": null,
       "display": null,
       "flex": null,
       "flex_flow": null,
       "grid_area": null,
       "grid_auto_columns": null,
       "grid_auto_flow": null,
       "grid_auto_rows": null,
       "grid_column": null,
       "grid_gap": null,
       "grid_row": null,
       "grid_template_areas": null,
       "grid_template_columns": null,
       "grid_template_rows": null,
       "height": null,
       "justify_content": null,
       "justify_items": null,
       "left": null,
       "margin": null,
       "max_height": null,
       "max_width": null,
       "min_height": null,
       "min_width": null,
       "object_fit": null,
       "object_position": null,
       "order": null,
       "overflow": null,
       "overflow_x": null,
       "overflow_y": null,
       "padding": null,
       "right": null,
       "top": null,
       "visibility": null,
       "width": null
      }
     },
     "5d6cf847d2454f68a2410c3b9857418d": {
      "model_module": "@jupyter-widgets/controls",
      "model_module_version": "1.5.0",
      "model_name": "ProgressStyleModel",
      "state": {
       "_model_module": "@jupyter-widgets/controls",
       "_model_module_version": "1.5.0",
       "_model_name": "ProgressStyleModel",
       "_view_count": null,
       "_view_module": "@jupyter-widgets/base",
       "_view_module_version": "1.2.0",
       "_view_name": "StyleView",
       "bar_color": null,
       "description_width": ""
      }
     },
     "5dae2097c3f048dfa5b8a003067f3f65": {
      "model_module": "@jupyter-widgets/base",
      "model_module_version": "1.2.0",
      "model_name": "LayoutModel",
      "state": {
       "_model_module": "@jupyter-widgets/base",
       "_model_module_version": "1.2.0",
       "_model_name": "LayoutModel",
       "_view_count": null,
       "_view_module": "@jupyter-widgets/base",
       "_view_module_version": "1.2.0",
       "_view_name": "LayoutView",
       "align_content": null,
       "align_items": null,
       "align_self": null,
       "border": null,
       "bottom": null,
       "display": null,
       "flex": null,
       "flex_flow": null,
       "grid_area": null,
       "grid_auto_columns": null,
       "grid_auto_flow": null,
       "grid_auto_rows": null,
       "grid_column": null,
       "grid_gap": null,
       "grid_row": null,
       "grid_template_areas": null,
       "grid_template_columns": null,
       "grid_template_rows": null,
       "height": null,
       "justify_content": null,
       "justify_items": null,
       "left": null,
       "margin": null,
       "max_height": null,
       "max_width": null,
       "min_height": null,
       "min_width": null,
       "object_fit": null,
       "object_position": null,
       "order": null,
       "overflow": null,
       "overflow_x": null,
       "overflow_y": null,
       "padding": null,
       "right": null,
       "top": null,
       "visibility": null,
       "width": null
      }
     },
     "5e546b712192493ebc987c7657812517": {
      "model_module": "@jupyter-widgets/controls",
      "model_module_version": "1.5.0",
      "model_name": "HTMLModel",
      "state": {
       "_dom_classes": [],
       "_model_module": "@jupyter-widgets/controls",
       "_model_module_version": "1.5.0",
       "_model_name": "HTMLModel",
       "_view_count": null,
       "_view_module": "@jupyter-widgets/controls",
       "_view_module_version": "1.5.0",
       "_view_name": "HTMLView",
       "description": "",
       "description_tooltip": null,
       "layout": "IPY_MODEL_aa89c8380d7f4615a73861163d9f0153",
       "placeholder": "​",
       "style": "IPY_MODEL_047d5f598f15465cb6b7e1ec0730f672",
       "value": " 571/571 [00:00&lt;00:00, 43.7kB/s]"
      }
     },
     "63312aeb9a5b4f54bfe496c71e6de338": {
      "model_module": "@jupyter-widgets/controls",
      "model_module_version": "1.5.0",
      "model_name": "FloatProgressModel",
      "state": {
       "_dom_classes": [],
       "_model_module": "@jupyter-widgets/controls",
       "_model_module_version": "1.5.0",
       "_model_name": "FloatProgressModel",
       "_view_count": null,
       "_view_module": "@jupyter-widgets/controls",
       "_view_module_version": "1.5.0",
       "_view_name": "ProgressView",
       "bar_style": "success",
       "description": "",
       "description_tooltip": null,
       "layout": "IPY_MODEL_3f2bbd0adcb34f09ae580b8e1cabffc6",
       "max": 231536.0,
       "min": 0.0,
       "orientation": "horizontal",
       "style": "IPY_MODEL_3307a07cfb814592b4e2c495ca89fce0",
       "value": 231536.0
      }
     },
     "66e1f63ff2584b528ab64345b669d4f4": {
      "model_module": "@jupyter-widgets/controls",
      "model_module_version": "1.5.0",
      "model_name": "HBoxModel",
      "state": {
       "_dom_classes": [],
       "_model_module": "@jupyter-widgets/controls",
       "_model_module_version": "1.5.0",
       "_model_name": "HBoxModel",
       "_view_count": null,
       "_view_module": "@jupyter-widgets/controls",
       "_view_module_version": "1.5.0",
       "_view_name": "HBoxView",
       "box_style": "",
       "children": [
        "IPY_MODEL_2ebe73846f7247c1b4a5d33e4a3704c7",
        "IPY_MODEL_63312aeb9a5b4f54bfe496c71e6de338",
        "IPY_MODEL_a6f4a2111d1241d087594ba543049a2b"
       ],
       "layout": "IPY_MODEL_a3cde251e1f942298962c188d14e355c"
      }
     },
     "67731a494c67434e899d2aed15f4afbb": {
      "model_module": "@jupyter-widgets/base",
      "model_module_version": "1.2.0",
      "model_name": "LayoutModel",
      "state": {
       "_model_module": "@jupyter-widgets/base",
       "_model_module_version": "1.2.0",
       "_model_name": "LayoutModel",
       "_view_count": null,
       "_view_module": "@jupyter-widgets/base",
       "_view_module_version": "1.2.0",
       "_view_name": "LayoutView",
       "align_content": null,
       "align_items": null,
       "align_self": null,
       "border": null,
       "bottom": null,
       "display": null,
       "flex": null,
       "flex_flow": null,
       "grid_area": null,
       "grid_auto_columns": null,
       "grid_auto_flow": null,
       "grid_auto_rows": null,
       "grid_column": null,
       "grid_gap": null,
       "grid_row": null,
       "grid_template_areas": null,
       "grid_template_columns": null,
       "grid_template_rows": null,
       "height": null,
       "justify_content": null,
       "justify_items": null,
       "left": null,
       "margin": null,
       "max_height": null,
       "max_width": null,
       "min_height": null,
       "min_width": null,
       "object_fit": null,
       "object_position": null,
       "order": null,
       "overflow": null,
       "overflow_x": null,
       "overflow_y": null,
       "padding": null,
       "right": null,
       "top": null,
       "visibility": null,
       "width": null
      }
     },
     "67f3c102f3684b1ebdf46b29e2a67940": {
      "model_module": "@jupyter-widgets/controls",
      "model_module_version": "1.5.0",
      "model_name": "DescriptionStyleModel",
      "state": {
       "_model_module": "@jupyter-widgets/controls",
       "_model_module_version": "1.5.0",
       "_model_name": "DescriptionStyleModel",
       "_view_count": null,
       "_view_module": "@jupyter-widgets/base",
       "_view_module_version": "1.2.0",
       "_view_name": "StyleView",
       "description_width": ""
      }
     },
     "6a635f7ac3e64079934b2e5763c6fd4c": {
      "model_module": "@jupyter-widgets/base",
      "model_module_version": "1.2.0",
      "model_name": "LayoutModel",
      "state": {
       "_model_module": "@jupyter-widgets/base",
       "_model_module_version": "1.2.0",
       "_model_name": "LayoutModel",
       "_view_count": null,
       "_view_module": "@jupyter-widgets/base",
       "_view_module_version": "1.2.0",
       "_view_name": "LayoutView",
       "align_content": null,
       "align_items": null,
       "align_self": null,
       "border": null,
       "bottom": null,
       "display": null,
       "flex": null,
       "flex_flow": null,
       "grid_area": null,
       "grid_auto_columns": null,
       "grid_auto_flow": null,
       "grid_auto_rows": null,
       "grid_column": null,
       "grid_gap": null,
       "grid_row": null,
       "grid_template_areas": null,
       "grid_template_columns": null,
       "grid_template_rows": null,
       "height": null,
       "justify_content": null,
       "justify_items": null,
       "left": null,
       "margin": null,
       "max_height": null,
       "max_width": null,
       "min_height": null,
       "min_width": null,
       "object_fit": null,
       "object_position": null,
       "order": null,
       "overflow": null,
       "overflow_x": null,
       "overflow_y": null,
       "padding": null,
       "right": null,
       "top": null,
       "visibility": null,
       "width": null
      }
     },
     "6c70ebaebe1149ce8a2a792e559121ba": {
      "model_module": "@jupyter-widgets/controls",
      "model_module_version": "1.5.0",
      "model_name": "FloatProgressModel",
      "state": {
       "_dom_classes": [],
       "_model_module": "@jupyter-widgets/controls",
       "_model_module_version": "1.5.0",
       "_model_name": "FloatProgressModel",
       "_view_count": null,
       "_view_module": "@jupyter-widgets/controls",
       "_view_module_version": "1.5.0",
       "_view_name": "ProgressView",
       "bar_style": "success",
       "description": "",
       "description_tooltip": null,
       "layout": "IPY_MODEL_34bec863beba401d90bbe10e39680f82",
       "max": 438011953.0,
       "min": 0.0,
       "orientation": "horizontal",
       "style": "IPY_MODEL_39aafbbc03504262a4b0ee29b2f738de",
       "value": 438011953.0
      }
     },
     "6c8934e8b81b4829bdafbb4604f4949b": {
      "model_module": "@jupyter-widgets/controls",
      "model_module_version": "1.5.0",
      "model_name": "HBoxModel",
      "state": {
       "_dom_classes": [],
       "_model_module": "@jupyter-widgets/controls",
       "_model_module_version": "1.5.0",
       "_model_name": "HBoxModel",
       "_view_count": null,
       "_view_module": "@jupyter-widgets/controls",
       "_view_module_version": "1.5.0",
       "_view_name": "HBoxView",
       "box_style": "",
       "children": [
        "IPY_MODEL_a84d0bf6482c467f83f82415a93b3bdf",
        "IPY_MODEL_6d00c277bfab4f9b8285b460b4e3de92",
        "IPY_MODEL_967634b68d3146e9b465e0837b538072"
       ],
       "layout": "IPY_MODEL_7905f18b07c44236a927ea3ca503f22c"
      }
     },
     "6d00c277bfab4f9b8285b460b4e3de92": {
      "model_module": "@jupyter-widgets/controls",
      "model_module_version": "1.5.0",
      "model_name": "FloatProgressModel",
      "state": {
       "_dom_classes": [],
       "_model_module": "@jupyter-widgets/controls",
       "_model_module_version": "1.5.0",
       "_model_name": "FloatProgressModel",
       "_view_count": null,
       "_view_module": "@jupyter-widgets/controls",
       "_view_module_version": "1.5.0",
       "_view_name": "ProgressView",
       "bar_style": "success",
       "description": "",
       "description_tooltip": null,
       "layout": "IPY_MODEL_c239002e7224459585e5687daac5c405",
       "max": 349.0,
       "min": 0.0,
       "orientation": "horizontal",
       "style": "IPY_MODEL_dc54ffd29c2b48b6b5ecb92b87381dc7",
       "value": 349.0
      }
     },
     "6e59defeb04c468695f5d400e4d1cd8f": {
      "model_module": "@jupyter-widgets/controls",
      "model_module_version": "1.5.0",
      "model_name": "HTMLModel",
      "state": {
       "_dom_classes": [],
       "_model_module": "@jupyter-widgets/controls",
       "_model_module_version": "1.5.0",
       "_model_name": "HTMLModel",
       "_view_count": null,
       "_view_module": "@jupyter-widgets/controls",
       "_view_module_version": "1.5.0",
       "_view_name": "HTMLView",
       "description": "",
       "description_tooltip": null,
       "layout": "IPY_MODEL_0e1fffff44994bdcbd3ca2856327016a",
       "placeholder": "​",
       "style": "IPY_MODEL_67f3c102f3684b1ebdf46b29e2a67940",
       "value": "pytorch_model.bin: 100%"
      }
     },
     "6fa6b316696a4055aa99af3b2d15e963": {
      "model_module": "@jupyter-widgets/base",
      "model_module_version": "1.2.0",
      "model_name": "LayoutModel",
      "state": {
       "_model_module": "@jupyter-widgets/base",
       "_model_module_version": "1.2.0",
       "_model_name": "LayoutModel",
       "_view_count": null,
       "_view_module": "@jupyter-widgets/base",
       "_view_module_version": "1.2.0",
       "_view_name": "LayoutView",
       "align_content": null,
       "align_items": null,
       "align_self": null,
       "border": null,
       "bottom": null,
       "display": null,
       "flex": null,
       "flex_flow": null,
       "grid_area": null,
       "grid_auto_columns": null,
       "grid_auto_flow": null,
       "grid_auto_rows": null,
       "grid_column": null,
       "grid_gap": null,
       "grid_row": null,
       "grid_template_areas": null,
       "grid_template_columns": null,
       "grid_template_rows": null,
       "height": null,
       "justify_content": null,
       "justify_items": null,
       "left": null,
       "margin": null,
       "max_height": null,
       "max_width": null,
       "min_height": null,
       "min_width": null,
       "object_fit": null,
       "object_position": null,
       "order": null,
       "overflow": null,
       "overflow_x": null,
       "overflow_y": null,
       "padding": null,
       "right": null,
       "top": null,
       "visibility": null,
       "width": null
      }
     },
     "7186f27e1c2f4ea598e317bd5f8105b4": {
      "model_module": "@jupyter-widgets/base",
      "model_module_version": "1.2.0",
      "model_name": "LayoutModel",
      "state": {
       "_model_module": "@jupyter-widgets/base",
       "_model_module_version": "1.2.0",
       "_model_name": "LayoutModel",
       "_view_count": null,
       "_view_module": "@jupyter-widgets/base",
       "_view_module_version": "1.2.0",
       "_view_name": "LayoutView",
       "align_content": null,
       "align_items": null,
       "align_self": null,
       "border": null,
       "bottom": null,
       "display": null,
       "flex": null,
       "flex_flow": null,
       "grid_area": null,
       "grid_auto_columns": null,
       "grid_auto_flow": null,
       "grid_auto_rows": null,
       "grid_column": null,
       "grid_gap": null,
       "grid_row": null,
       "grid_template_areas": null,
       "grid_template_columns": null,
       "grid_template_rows": null,
       "height": null,
       "justify_content": null,
       "justify_items": null,
       "left": null,
       "margin": null,
       "max_height": null,
       "max_width": null,
       "min_height": null,
       "min_width": null,
       "object_fit": null,
       "object_position": null,
       "order": null,
       "overflow": null,
       "overflow_x": null,
       "overflow_y": null,
       "padding": null,
       "right": null,
       "top": null,
       "visibility": null,
       "width": null
      }
     },
     "72cb2994202d432b94d6bcbaec7e2dab": {
      "model_module": "@jupyter-widgets/controls",
      "model_module_version": "1.5.0",
      "model_name": "ProgressStyleModel",
      "state": {
       "_model_module": "@jupyter-widgets/controls",
       "_model_module_version": "1.5.0",
       "_model_name": "ProgressStyleModel",
       "_view_count": null,
       "_view_module": "@jupyter-widgets/base",
       "_view_module_version": "1.2.0",
       "_view_name": "StyleView",
       "bar_color": null,
       "description_width": ""
      }
     },
     "730cfb1dd9cb430cb14aac5defba6364": {
      "model_module": "@jupyter-widgets/controls",
      "model_module_version": "1.5.0",
      "model_name": "HBoxModel",
      "state": {
       "_dom_classes": [],
       "_model_module": "@jupyter-widgets/controls",
       "_model_module_version": "1.5.0",
       "_model_name": "HBoxModel",
       "_view_count": null,
       "_view_module": "@jupyter-widgets/controls",
       "_view_module_version": "1.5.0",
       "_view_name": "HBoxView",
       "box_style": "",
       "children": [
        "IPY_MODEL_2c5c207676974971a72c06319a931bb4",
        "IPY_MODEL_d4304d9ec1954014be16026b7ce9523c",
        "IPY_MODEL_4ddff697d9a54cf5bdb4d27d84206e02"
       ],
       "layout": "IPY_MODEL_78735082bf174befb51aabd404a0b152"
      }
     },
     "7488574e63d549ab83864e7e05b74547": {
      "model_module": "@jupyter-widgets/controls",
      "model_module_version": "1.5.0",
      "model_name": "DescriptionStyleModel",
      "state": {
       "_model_module": "@jupyter-widgets/controls",
       "_model_module_version": "1.5.0",
       "_model_name": "DescriptionStyleModel",
       "_view_count": null,
       "_view_module": "@jupyter-widgets/base",
       "_view_module_version": "1.2.0",
       "_view_name": "StyleView",
       "description_width": ""
      }
     },
     "76d9fe6f298c40c48e99b8ca24692df8": {
      "model_module": "@jupyter-widgets/controls",
      "model_module_version": "1.5.0",
      "model_name": "DescriptionStyleModel",
      "state": {
       "_model_module": "@jupyter-widgets/controls",
       "_model_module_version": "1.5.0",
       "_model_name": "DescriptionStyleModel",
       "_view_count": null,
       "_view_module": "@jupyter-widgets/base",
       "_view_module_version": "1.2.0",
       "_view_name": "StyleView",
       "description_width": ""
      }
     },
     "78735082bf174befb51aabd404a0b152": {
      "model_module": "@jupyter-widgets/base",
      "model_module_version": "1.2.0",
      "model_name": "LayoutModel",
      "state": {
       "_model_module": "@jupyter-widgets/base",
       "_model_module_version": "1.2.0",
       "_model_name": "LayoutModel",
       "_view_count": null,
       "_view_module": "@jupyter-widgets/base",
       "_view_module_version": "1.2.0",
       "_view_name": "LayoutView",
       "align_content": null,
       "align_items": null,
       "align_self": null,
       "border": null,
       "bottom": null,
       "display": null,
       "flex": null,
       "flex_flow": null,
       "grid_area": null,
       "grid_auto_columns": null,
       "grid_auto_flow": null,
       "grid_auto_rows": null,
       "grid_column": null,
       "grid_gap": null,
       "grid_row": null,
       "grid_template_areas": null,
       "grid_template_columns": null,
       "grid_template_rows": null,
       "height": null,
       "justify_content": null,
       "justify_items": null,
       "left": null,
       "margin": null,
       "max_height": null,
       "max_width": null,
       "min_height": null,
       "min_width": null,
       "object_fit": null,
       "object_position": null,
       "order": null,
       "overflow": null,
       "overflow_x": null,
       "overflow_y": null,
       "padding": null,
       "right": null,
       "top": null,
       "visibility": null,
       "width": null
      }
     },
     "7905f18b07c44236a927ea3ca503f22c": {
      "model_module": "@jupyter-widgets/base",
      "model_module_version": "1.2.0",
      "model_name": "LayoutModel",
      "state": {
       "_model_module": "@jupyter-widgets/base",
       "_model_module_version": "1.2.0",
       "_model_name": "LayoutModel",
       "_view_count": null,
       "_view_module": "@jupyter-widgets/base",
       "_view_module_version": "1.2.0",
       "_view_name": "LayoutView",
       "align_content": null,
       "align_items": null,
       "align_self": null,
       "border": null,
       "bottom": null,
       "display": null,
       "flex": null,
       "flex_flow": null,
       "grid_area": null,
       "grid_auto_columns": null,
       "grid_auto_flow": null,
       "grid_auto_rows": null,
       "grid_column": null,
       "grid_gap": null,
       "grid_row": null,
       "grid_template_areas": null,
       "grid_template_columns": null,
       "grid_template_rows": null,
       "height": null,
       "justify_content": null,
       "justify_items": null,
       "left": null,
       "margin": null,
       "max_height": null,
       "max_width": null,
       "min_height": null,
       "min_width": null,
       "object_fit": null,
       "object_position": null,
       "order": null,
       "overflow": null,
       "overflow_x": null,
       "overflow_y": null,
       "padding": null,
       "right": null,
       "top": null,
       "visibility": null,
       "width": null
      }
     },
     "82d809fd832d43edb1411a78b56454c2": {
      "model_module": "@jupyter-widgets/controls",
      "model_module_version": "1.5.0",
      "model_name": "HTMLModel",
      "state": {
       "_dom_classes": [],
       "_model_module": "@jupyter-widgets/controls",
       "_model_module_version": "1.5.0",
       "_model_name": "HTMLModel",
       "_view_count": null,
       "_view_module": "@jupyter-widgets/controls",
       "_view_module_version": "1.5.0",
       "_view_name": "HTMLView",
       "description": "",
       "description_tooltip": null,
       "layout": "IPY_MODEL_c5caa65500d5402ead4b2ec9f895b0bd",
       "placeholder": "​",
       "style": "IPY_MODEL_b43b3ec87fb64f92be27d883ecaf1491",
       "value": " 10.6k/10.6k [00:00&lt;00:00, 825kB/s]"
      }
     },
     "85015e961cdf4e3dac37647adbe7461c": {
      "model_module": "@jupyter-widgets/controls",
      "model_module_version": "1.5.0",
      "model_name": "FloatProgressModel",
      "state": {
       "_dom_classes": [],
       "_model_module": "@jupyter-widgets/controls",
       "_model_module_version": "1.5.0",
       "_model_name": "FloatProgressModel",
       "_view_count": null,
       "_view_module": "@jupyter-widgets/controls",
       "_view_module_version": "1.5.0",
       "_view_name": "ProgressView",
       "bar_style": "success",
       "description": "",
       "description_tooltip": null,
       "layout": "IPY_MODEL_3e5990cd975a489c8984b0ce31c71abd",
       "max": 53.0,
       "min": 0.0,
       "orientation": "horizontal",
       "style": "IPY_MODEL_72cb2994202d432b94d6bcbaec7e2dab",
       "value": 53.0
      }
     },
     "85c68ba999fb4b8db97877483cd0a334": {
      "model_module": "@jupyter-widgets/base",
      "model_module_version": "1.2.0",
      "model_name": "LayoutModel",
      "state": {
       "_model_module": "@jupyter-widgets/base",
       "_model_module_version": "1.2.0",
       "_model_name": "LayoutModel",
       "_view_count": null,
       "_view_module": "@jupyter-widgets/base",
       "_view_module_version": "1.2.0",
       "_view_name": "LayoutView",
       "align_content": null,
       "align_items": null,
       "align_self": null,
       "border": null,
       "bottom": null,
       "display": null,
       "flex": null,
       "flex_flow": null,
       "grid_area": null,
       "grid_auto_columns": null,
       "grid_auto_flow": null,
       "grid_auto_rows": null,
       "grid_column": null,
       "grid_gap": null,
       "grid_row": null,
       "grid_template_areas": null,
       "grid_template_columns": null,
       "grid_template_rows": null,
       "height": null,
       "justify_content": null,
       "justify_items": null,
       "left": null,
       "margin": null,
       "max_height": null,
       "max_width": null,
       "min_height": null,
       "min_width": null,
       "object_fit": null,
       "object_position": null,
       "order": null,
       "overflow": null,
       "overflow_x": null,
       "overflow_y": null,
       "padding": null,
       "right": null,
       "top": null,
       "visibility": null,
       "width": null
      }
     },
     "88304c82702b45108c00cf16d0364b2c": {
      "model_module": "@jupyter-widgets/controls",
      "model_module_version": "1.5.0",
      "model_name": "DescriptionStyleModel",
      "state": {
       "_model_module": "@jupyter-widgets/controls",
       "_model_module_version": "1.5.0",
       "_model_name": "DescriptionStyleModel",
       "_view_count": null,
       "_view_module": "@jupyter-widgets/base",
       "_view_module_version": "1.2.0",
       "_view_name": "StyleView",
       "description_width": ""
      }
     },
     "8bd47c80e00544d5b8a779a88ead3639": {
      "model_module": "@jupyter-widgets/base",
      "model_module_version": "1.2.0",
      "model_name": "LayoutModel",
      "state": {
       "_model_module": "@jupyter-widgets/base",
       "_model_module_version": "1.2.0",
       "_model_name": "LayoutModel",
       "_view_count": null,
       "_view_module": "@jupyter-widgets/base",
       "_view_module_version": "1.2.0",
       "_view_name": "LayoutView",
       "align_content": null,
       "align_items": null,
       "align_self": null,
       "border": null,
       "bottom": null,
       "display": null,
       "flex": null,
       "flex_flow": null,
       "grid_area": null,
       "grid_auto_columns": null,
       "grid_auto_flow": null,
       "grid_auto_rows": null,
       "grid_column": null,
       "grid_gap": null,
       "grid_row": null,
       "grid_template_areas": null,
       "grid_template_columns": null,
       "grid_template_rows": null,
       "height": null,
       "justify_content": null,
       "justify_items": null,
       "left": null,
       "margin": null,
       "max_height": null,
       "max_width": null,
       "min_height": null,
       "min_width": null,
       "object_fit": null,
       "object_position": null,
       "order": null,
       "overflow": null,
       "overflow_x": null,
       "overflow_y": null,
       "padding": null,
       "right": null,
       "top": null,
       "visibility": null,
       "width": null
      }
     },
     "9294513981a546dea585759a2419135d": {
      "model_module": "@jupyter-widgets/base",
      "model_module_version": "1.2.0",
      "model_name": "LayoutModel",
      "state": {
       "_model_module": "@jupyter-widgets/base",
       "_model_module_version": "1.2.0",
       "_model_name": "LayoutModel",
       "_view_count": null,
       "_view_module": "@jupyter-widgets/base",
       "_view_module_version": "1.2.0",
       "_view_name": "LayoutView",
       "align_content": null,
       "align_items": null,
       "align_self": null,
       "border": null,
       "bottom": null,
       "display": null,
       "flex": null,
       "flex_flow": null,
       "grid_area": null,
       "grid_auto_columns": null,
       "grid_auto_flow": null,
       "grid_auto_rows": null,
       "grid_column": null,
       "grid_gap": null,
       "grid_row": null,
       "grid_template_areas": null,
       "grid_template_columns": null,
       "grid_template_rows": null,
       "height": null,
       "justify_content": null,
       "justify_items": null,
       "left": null,
       "margin": null,
       "max_height": null,
       "max_width": null,
       "min_height": null,
       "min_width": null,
       "object_fit": null,
       "object_position": null,
       "order": null,
       "overflow": null,
       "overflow_x": null,
       "overflow_y": null,
       "padding": null,
       "right": null,
       "top": null,
       "visibility": null,
       "width": null
      }
     },
     "950a8efd002744ee927f2df2645c3975": {
      "model_module": "@jupyter-widgets/controls",
      "model_module_version": "1.5.0",
      "model_name": "DescriptionStyleModel",
      "state": {
       "_model_module": "@jupyter-widgets/controls",
       "_model_module_version": "1.5.0",
       "_model_name": "DescriptionStyleModel",
       "_view_count": null,
       "_view_module": "@jupyter-widgets/base",
       "_view_module_version": "1.2.0",
       "_view_name": "StyleView",
       "description_width": ""
      }
     },
     "967634b68d3146e9b465e0837b538072": {
      "model_module": "@jupyter-widgets/controls",
      "model_module_version": "1.5.0",
      "model_name": "HTMLModel",
      "state": {
       "_dom_classes": [],
       "_model_module": "@jupyter-widgets/controls",
       "_model_module_version": "1.5.0",
       "_model_name": "HTMLModel",
       "_view_count": null,
       "_view_module": "@jupyter-widgets/controls",
       "_view_module_version": "1.5.0",
       "_view_name": "HTMLView",
       "description": "",
       "description_tooltip": null,
       "layout": "IPY_MODEL_2d218b455e7344a7a3f0744a2a77745e",
       "placeholder": "​",
       "style": "IPY_MODEL_f9536ef5191243c6985a3952e749cf49",
       "value": " 349/349 [00:00&lt;00:00, 28.4kB/s]"
      }
     },
     "992d8577704d4dae8d953238e572c9e3": {
      "model_module": "@jupyter-widgets/controls",
      "model_module_version": "1.5.0",
      "model_name": "HTMLModel",
      "state": {
       "_dom_classes": [],
       "_model_module": "@jupyter-widgets/controls",
       "_model_module_version": "1.5.0",
       "_model_name": "HTMLModel",
       "_view_count": null,
       "_view_module": "@jupyter-widgets/controls",
       "_view_module_version": "1.5.0",
       "_view_name": "HTMLView",
       "description": "",
       "description_tooltip": null,
       "layout": "IPY_MODEL_f887410bcf87493f995dfc9efe5b938a",
       "placeholder": "​",
       "style": "IPY_MODEL_c7c2dc987d1142ab8a74a06b86bb8488",
       "value": "sentence_bert_config.json: 100%"
      }
     },
     "9a6216b48b1847d8b91a58ed7115267c": {
      "model_module": "@jupyter-widgets/controls",
      "model_module_version": "1.5.0",
      "model_name": "FloatProgressModel",
      "state": {
       "_dom_classes": [],
       "_model_module": "@jupyter-widgets/controls",
       "_model_module_version": "1.5.0",
       "_model_name": "FloatProgressModel",
       "_view_count": null,
       "_view_module": "@jupyter-widgets/controls",
       "_view_module_version": "1.5.0",
       "_view_name": "ProgressView",
       "bar_style": "success",
       "description": "",
       "description_tooltip": null,
       "layout": "IPY_MODEL_f6245299001f49debc8e4c6f69fbaf8c",
       "max": 466021.0,
       "min": 0.0,
       "orientation": "horizontal",
       "style": "IPY_MODEL_3b603d10e6b34202b76a120c3ec18834",
       "value": 466021.0
      }
     },
     "9f3338f705584d868324a819914e4f4d": {
      "model_module": "@jupyter-widgets/controls",
      "model_module_version": "1.5.0",
      "model_name": "HBoxModel",
      "state": {
       "_dom_classes": [],
       "_model_module": "@jupyter-widgets/controls",
       "_model_module_version": "1.5.0",
       "_model_name": "HBoxModel",
       "_view_count": null,
       "_view_module": "@jupyter-widgets/controls",
       "_view_module_version": "1.5.0",
       "_view_name": "HBoxView",
       "box_style": "",
       "children": [
        "IPY_MODEL_172dd26ef79140189a70a34dffaaeec2",
        "IPY_MODEL_55395cf95ec14024be212cd02f37211a",
        "IPY_MODEL_f8332214c14a4a8ca01f2a789ef6e665"
       ],
       "layout": "IPY_MODEL_7186f27e1c2f4ea598e317bd5f8105b4"
      }
     },
     "a3cde251e1f942298962c188d14e355c": {
      "model_module": "@jupyter-widgets/base",
      "model_module_version": "1.2.0",
      "model_name": "LayoutModel",
      "state": {
       "_model_module": "@jupyter-widgets/base",
       "_model_module_version": "1.2.0",
       "_model_name": "LayoutModel",
       "_view_count": null,
       "_view_module": "@jupyter-widgets/base",
       "_view_module_version": "1.2.0",
       "_view_name": "LayoutView",
       "align_content": null,
       "align_items": null,
       "align_self": null,
       "border": null,
       "bottom": null,
       "display": null,
       "flex": null,
       "flex_flow": null,
       "grid_area": null,
       "grid_auto_columns": null,
       "grid_auto_flow": null,
       "grid_auto_rows": null,
       "grid_column": null,
       "grid_gap": null,
       "grid_row": null,
       "grid_template_areas": null,
       "grid_template_columns": null,
       "grid_template_rows": null,
       "height": null,
       "justify_content": null,
       "justify_items": null,
       "left": null,
       "margin": null,
       "max_height": null,
       "max_width": null,
       "min_height": null,
       "min_width": null,
       "object_fit": null,
       "object_position": null,
       "order": null,
       "overflow": null,
       "overflow_x": null,
       "overflow_y": null,
       "padding": null,
       "right": null,
       "top": null,
       "visibility": null,
       "width": null
      }
     },
     "a5575709389f4a8a88703961cdc77842": {
      "model_module": "@jupyter-widgets/controls",
      "model_module_version": "1.5.0",
      "model_name": "HTMLModel",
      "state": {
       "_dom_classes": [],
       "_model_module": "@jupyter-widgets/controls",
       "_model_module_version": "1.5.0",
       "_model_name": "HTMLModel",
       "_view_count": null,
       "_view_module": "@jupyter-widgets/controls",
       "_view_module_version": "1.5.0",
       "_view_name": "HTMLView",
       "description": "",
       "description_tooltip": null,
       "layout": "IPY_MODEL_b799336d11e0475ca41b00bd10ef76e9",
       "placeholder": "​",
       "style": "IPY_MODEL_88304c82702b45108c00cf16d0364b2c",
       "value": " 239/239 [00:00&lt;00:00, 22.7kB/s]"
      }
     },
     "a6f4a2111d1241d087594ba543049a2b": {
      "model_module": "@jupyter-widgets/controls",
      "model_module_version": "1.5.0",
      "model_name": "HTMLModel",
      "state": {
       "_dom_classes": [],
       "_model_module": "@jupyter-widgets/controls",
       "_model_module_version": "1.5.0",
       "_model_name": "HTMLModel",
       "_view_count": null,
       "_view_module": "@jupyter-widgets/controls",
       "_view_module_version": "1.5.0",
       "_view_name": "HTMLView",
       "description": "",
       "description_tooltip": null,
       "layout": "IPY_MODEL_586493325d87418490bcc8d851db19b5",
       "placeholder": "​",
       "style": "IPY_MODEL_ea14fc186d1847b2812d98ee0764730b",
       "value": " 232k/232k [00:00&lt;00:00, 5.34MB/s]"
      }
     },
     "a766890822a2421cbef6884549b74161": {
      "model_module": "@jupyter-widgets/controls",
      "model_module_version": "1.5.0",
      "model_name": "DescriptionStyleModel",
      "state": {
       "_model_module": "@jupyter-widgets/controls",
       "_model_module_version": "1.5.0",
       "_model_name": "DescriptionStyleModel",
       "_view_count": null,
       "_view_module": "@jupyter-widgets/base",
       "_view_module_version": "1.2.0",
       "_view_name": "StyleView",
       "description_width": ""
      }
     },
     "a822d26c352d4d6aa12b7b44df9f79c4": {
      "model_module": "@jupyter-widgets/controls",
      "model_module_version": "1.5.0",
      "model_name": "DescriptionStyleModel",
      "state": {
       "_model_module": "@jupyter-widgets/controls",
       "_model_module_version": "1.5.0",
       "_model_name": "DescriptionStyleModel",
       "_view_count": null,
       "_view_module": "@jupyter-widgets/base",
       "_view_module_version": "1.2.0",
       "_view_name": "StyleView",
       "description_width": ""
      }
     },
     "a84d0bf6482c467f83f82415a93b3bdf": {
      "model_module": "@jupyter-widgets/controls",
      "model_module_version": "1.5.0",
      "model_name": "HTMLModel",
      "state": {
       "_dom_classes": [],
       "_model_module": "@jupyter-widgets/controls",
       "_model_module_version": "1.5.0",
       "_model_name": "HTMLModel",
       "_view_count": null,
       "_view_module": "@jupyter-widgets/controls",
       "_view_module_version": "1.5.0",
       "_view_name": "HTMLView",
       "description": "",
       "description_tooltip": null,
       "layout": "IPY_MODEL_2a566c73d7254298a8d548a72cb19f76",
       "placeholder": "​",
       "style": "IPY_MODEL_b613a3e383344e60b4f8fce92bce30fe",
       "value": "modules.json: 100%"
      }
     },
     "a93f6c77d4514da1bd529a1430e5d35e": {
      "model_module": "@jupyter-widgets/controls",
      "model_module_version": "1.5.0",
      "model_name": "DescriptionStyleModel",
      "state": {
       "_model_module": "@jupyter-widgets/controls",
       "_model_module_version": "1.5.0",
       "_model_name": "DescriptionStyleModel",
       "_view_count": null,
       "_view_module": "@jupyter-widgets/base",
       "_view_module_version": "1.2.0",
       "_view_name": "StyleView",
       "description_width": ""
      }
     },
     "aa89c8380d7f4615a73861163d9f0153": {
      "model_module": "@jupyter-widgets/base",
      "model_module_version": "1.2.0",
      "model_name": "LayoutModel",
      "state": {
       "_model_module": "@jupyter-widgets/base",
       "_model_module_version": "1.2.0",
       "_model_name": "LayoutModel",
       "_view_count": null,
       "_view_module": "@jupyter-widgets/base",
       "_view_module_version": "1.2.0",
       "_view_name": "LayoutView",
       "align_content": null,
       "align_items": null,
       "align_self": null,
       "border": null,
       "bottom": null,
       "display": null,
       "flex": null,
       "flex_flow": null,
       "grid_area": null,
       "grid_auto_columns": null,
       "grid_auto_flow": null,
       "grid_auto_rows": null,
       "grid_column": null,
       "grid_gap": null,
       "grid_row": null,
       "grid_template_areas": null,
       "grid_template_columns": null,
       "grid_template_rows": null,
       "height": null,
       "justify_content": null,
       "justify_items": null,
       "left": null,
       "margin": null,
       "max_height": null,
       "max_width": null,
       "min_height": null,
       "min_width": null,
       "object_fit": null,
       "object_position": null,
       "order": null,
       "overflow": null,
       "overflow_x": null,
       "overflow_y": null,
       "padding": null,
       "right": null,
       "top": null,
       "visibility": null,
       "width": null
      }
     },
     "abebee5eac6d4a8891f9b1f1ac06f0d1": {
      "model_module": "@jupyter-widgets/controls",
      "model_module_version": "1.5.0",
      "model_name": "ProgressStyleModel",
      "state": {
       "_model_module": "@jupyter-widgets/controls",
       "_model_module_version": "1.5.0",
       "_model_name": "ProgressStyleModel",
       "_view_count": null,
       "_view_module": "@jupyter-widgets/base",
       "_view_module_version": "1.2.0",
       "_view_name": "StyleView",
       "bar_color": null,
       "description_width": ""
      }
     },
     "adee5e2a7aa64d4e967a74b00d45b3bd": {
      "model_module": "@jupyter-widgets/controls",
      "model_module_version": "1.5.0",
      "model_name": "HTMLModel",
      "state": {
       "_dom_classes": [],
       "_model_module": "@jupyter-widgets/controls",
       "_model_module_version": "1.5.0",
       "_model_name": "HTMLModel",
       "_view_count": null,
       "_view_module": "@jupyter-widgets/controls",
       "_view_module_version": "1.5.0",
       "_view_name": "HTMLView",
       "description": "",
       "description_tooltip": null,
       "layout": "IPY_MODEL_3775f193a5ec4064a7a6950fd252a8cf",
       "placeholder": "​",
       "style": "IPY_MODEL_a93f6c77d4514da1bd529a1430e5d35e",
       "value": "README.md: 100%"
      }
     },
     "b11cc71ab374471f982ba1d3798da8c9": {
      "model_module": "@jupyter-widgets/controls",
      "model_module_version": "1.5.0",
      "model_name": "HTMLModel",
      "state": {
       "_dom_classes": [],
       "_model_module": "@jupyter-widgets/controls",
       "_model_module_version": "1.5.0",
       "_model_name": "HTMLModel",
       "_view_count": null,
       "_view_module": "@jupyter-widgets/controls",
       "_view_module_version": "1.5.0",
       "_view_name": "HTMLView",
       "description": "",
       "description_tooltip": null,
       "layout": "IPY_MODEL_2fc9ed5f22cd4559b90dd4daf38428ea",
       "placeholder": "​",
       "style": "IPY_MODEL_7488574e63d549ab83864e7e05b74547",
       "value": "tokenizer.json: 100%"
      }
     },
     "b43b3ec87fb64f92be27d883ecaf1491": {
      "model_module": "@jupyter-widgets/controls",
      "model_module_version": "1.5.0",
      "model_name": "DescriptionStyleModel",
      "state": {
       "_model_module": "@jupyter-widgets/controls",
       "_model_module_version": "1.5.0",
       "_model_name": "DescriptionStyleModel",
       "_view_count": null,
       "_view_module": "@jupyter-widgets/base",
       "_view_module_version": "1.2.0",
       "_view_name": "StyleView",
       "description_width": ""
      }
     },
     "b5fdb899794342d88371249be5630862": {
      "model_module": "@jupyter-widgets/controls",
      "model_module_version": "1.5.0",
      "model_name": "DescriptionStyleModel",
      "state": {
       "_model_module": "@jupyter-widgets/controls",
       "_model_module_version": "1.5.0",
       "_model_name": "DescriptionStyleModel",
       "_view_count": null,
       "_view_module": "@jupyter-widgets/base",
       "_view_module_version": "1.2.0",
       "_view_name": "StyleView",
       "description_width": ""
      }
     },
     "b613a3e383344e60b4f8fce92bce30fe": {
      "model_module": "@jupyter-widgets/controls",
      "model_module_version": "1.5.0",
      "model_name": "DescriptionStyleModel",
      "state": {
       "_model_module": "@jupyter-widgets/controls",
       "_model_module_version": "1.5.0",
       "_model_name": "DescriptionStyleModel",
       "_view_count": null,
       "_view_module": "@jupyter-widgets/base",
       "_view_module_version": "1.2.0",
       "_view_name": "StyleView",
       "description_width": ""
      }
     },
     "b799336d11e0475ca41b00bd10ef76e9": {
      "model_module": "@jupyter-widgets/base",
      "model_module_version": "1.2.0",
      "model_name": "LayoutModel",
      "state": {
       "_model_module": "@jupyter-widgets/base",
       "_model_module_version": "1.2.0",
       "_model_name": "LayoutModel",
       "_view_count": null,
       "_view_module": "@jupyter-widgets/base",
       "_view_module_version": "1.2.0",
       "_view_name": "LayoutView",
       "align_content": null,
       "align_items": null,
       "align_self": null,
       "border": null,
       "bottom": null,
       "display": null,
       "flex": null,
       "flex_flow": null,
       "grid_area": null,
       "grid_auto_columns": null,
       "grid_auto_flow": null,
       "grid_auto_rows": null,
       "grid_column": null,
       "grid_gap": null,
       "grid_row": null,
       "grid_template_areas": null,
       "grid_template_columns": null,
       "grid_template_rows": null,
       "height": null,
       "justify_content": null,
       "justify_items": null,
       "left": null,
       "margin": null,
       "max_height": null,
       "max_width": null,
       "min_height": null,
       "min_width": null,
       "object_fit": null,
       "object_position": null,
       "order": null,
       "overflow": null,
       "overflow_x": null,
       "overflow_y": null,
       "padding": null,
       "right": null,
       "top": null,
       "visibility": null,
       "width": null
      }
     },
     "bf9bd04b434842c9b4839bb4deab0370": {
      "model_module": "@jupyter-widgets/base",
      "model_module_version": "1.2.0",
      "model_name": "LayoutModel",
      "state": {
       "_model_module": "@jupyter-widgets/base",
       "_model_module_version": "1.2.0",
       "_model_name": "LayoutModel",
       "_view_count": null,
       "_view_module": "@jupyter-widgets/base",
       "_view_module_version": "1.2.0",
       "_view_name": "LayoutView",
       "align_content": null,
       "align_items": null,
       "align_self": null,
       "border": null,
       "bottom": null,
       "display": null,
       "flex": null,
       "flex_flow": null,
       "grid_area": null,
       "grid_auto_columns": null,
       "grid_auto_flow": null,
       "grid_auto_rows": null,
       "grid_column": null,
       "grid_gap": null,
       "grid_row": null,
       "grid_template_areas": null,
       "grid_template_columns": null,
       "grid_template_rows": null,
       "height": null,
       "justify_content": null,
       "justify_items": null,
       "left": null,
       "margin": null,
       "max_height": null,
       "max_width": null,
       "min_height": null,
       "min_width": null,
       "object_fit": null,
       "object_position": null,
       "order": null,
       "overflow": null,
       "overflow_x": null,
       "overflow_y": null,
       "padding": null,
       "right": null,
       "top": null,
       "visibility": null,
       "width": null
      }
     },
     "c12d09cd55914ad98bb22bcfab51fcb5": {
      "model_module": "@jupyter-widgets/controls",
      "model_module_version": "1.5.0",
      "model_name": "HTMLModel",
      "state": {
       "_dom_classes": [],
       "_model_module": "@jupyter-widgets/controls",
       "_model_module_version": "1.5.0",
       "_model_name": "HTMLModel",
       "_view_count": null,
       "_view_module": "@jupyter-widgets/controls",
       "_view_module_version": "1.5.0",
       "_view_name": "HTMLView",
       "description": "",
       "description_tooltip": null,
       "layout": "IPY_MODEL_18d963b5cd9b4b56b15c11fd634105fb",
       "placeholder": "​",
       "style": "IPY_MODEL_215f368209f748e0991518609e9bef85",
       "value": " 438M/438M [00:02&lt;00:00, 199MB/s]"
      }
     },
     "c239002e7224459585e5687daac5c405": {
      "model_module": "@jupyter-widgets/base",
      "model_module_version": "1.2.0",
      "model_name": "LayoutModel",
      "state": {
       "_model_module": "@jupyter-widgets/base",
       "_model_module_version": "1.2.0",
       "_model_name": "LayoutModel",
       "_view_count": null,
       "_view_module": "@jupyter-widgets/base",
       "_view_module_version": "1.2.0",
       "_view_name": "LayoutView",
       "align_content": null,
       "align_items": null,
       "align_self": null,
       "border": null,
       "bottom": null,
       "display": null,
       "flex": null,
       "flex_flow": null,
       "grid_area": null,
       "grid_auto_columns": null,
       "grid_auto_flow": null,
       "grid_auto_rows": null,
       "grid_column": null,
       "grid_gap": null,
       "grid_row": null,
       "grid_template_areas": null,
       "grid_template_columns": null,
       "grid_template_rows": null,
       "height": null,
       "justify_content": null,
       "justify_items": null,
       "left": null,
       "margin": null,
       "max_height": null,
       "max_width": null,
       "min_height": null,
       "min_width": null,
       "object_fit": null,
       "object_position": null,
       "order": null,
       "overflow": null,
       "overflow_x": null,
       "overflow_y": null,
       "padding": null,
       "right": null,
       "top": null,
       "visibility": null,
       "width": null
      }
     },
     "c2462198da8c47ac96fc88f75e03e68f": {
      "model_module": "@jupyter-widgets/controls",
      "model_module_version": "1.5.0",
      "model_name": "HTMLModel",
      "state": {
       "_dom_classes": [],
       "_model_module": "@jupyter-widgets/controls",
       "_model_module_version": "1.5.0",
       "_model_name": "HTMLModel",
       "_view_count": null,
       "_view_module": "@jupyter-widgets/controls",
       "_view_module_version": "1.5.0",
       "_view_name": "HTMLView",
       "description": "",
       "description_tooltip": null,
       "layout": "IPY_MODEL_67731a494c67434e899d2aed15f4afbb",
       "placeholder": "​",
       "style": "IPY_MODEL_2a73fef883bd4b63878f1cb3370c0352",
       "value": "special_tokens_map.json: 100%"
      }
     },
     "c4ac01e4b15641929ef38061da14001c": {
      "model_module": "@jupyter-widgets/base",
      "model_module_version": "1.2.0",
      "model_name": "LayoutModel",
      "state": {
       "_model_module": "@jupyter-widgets/base",
       "_model_module_version": "1.2.0",
       "_model_name": "LayoutModel",
       "_view_count": null,
       "_view_module": "@jupyter-widgets/base",
       "_view_module_version": "1.2.0",
       "_view_name": "LayoutView",
       "align_content": null,
       "align_items": null,
       "align_self": null,
       "border": null,
       "bottom": null,
       "display": null,
       "flex": null,
       "flex_flow": null,
       "grid_area": null,
       "grid_auto_columns": null,
       "grid_auto_flow": null,
       "grid_auto_rows": null,
       "grid_column": null,
       "grid_gap": null,
       "grid_row": null,
       "grid_template_areas": null,
       "grid_template_columns": null,
       "grid_template_rows": null,
       "height": null,
       "justify_content": null,
       "justify_items": null,
       "left": null,
       "margin": null,
       "max_height": null,
       "max_width": null,
       "min_height": null,
       "min_width": null,
       "object_fit": null,
       "object_position": null,
       "order": null,
       "overflow": null,
       "overflow_x": null,
       "overflow_y": null,
       "padding": null,
       "right": null,
       "top": null,
       "visibility": null,
       "width": null
      }
     },
     "c5caa65500d5402ead4b2ec9f895b0bd": {
      "model_module": "@jupyter-widgets/base",
      "model_module_version": "1.2.0",
      "model_name": "LayoutModel",
      "state": {
       "_model_module": "@jupyter-widgets/base",
       "_model_module_version": "1.2.0",
       "_model_name": "LayoutModel",
       "_view_count": null,
       "_view_module": "@jupyter-widgets/base",
       "_view_module_version": "1.2.0",
       "_view_name": "LayoutView",
       "align_content": null,
       "align_items": null,
       "align_self": null,
       "border": null,
       "bottom": null,
       "display": null,
       "flex": null,
       "flex_flow": null,
       "grid_area": null,
       "grid_auto_columns": null,
       "grid_auto_flow": null,
       "grid_auto_rows": null,
       "grid_column": null,
       "grid_gap": null,
       "grid_row": null,
       "grid_template_areas": null,
       "grid_template_columns": null,
       "grid_template_rows": null,
       "height": null,
       "justify_content": null,
       "justify_items": null,
       "left": null,
       "margin": null,
       "max_height": null,
       "max_width": null,
       "min_height": null,
       "min_width": null,
       "object_fit": null,
       "object_position": null,
       "order": null,
       "overflow": null,
       "overflow_x": null,
       "overflow_y": null,
       "padding": null,
       "right": null,
       "top": null,
       "visibility": null,
       "width": null
      }
     },
     "c7c2dc987d1142ab8a74a06b86bb8488": {
      "model_module": "@jupyter-widgets/controls",
      "model_module_version": "1.5.0",
      "model_name": "DescriptionStyleModel",
      "state": {
       "_model_module": "@jupyter-widgets/controls",
       "_model_module_version": "1.5.0",
       "_model_name": "DescriptionStyleModel",
       "_view_count": null,
       "_view_module": "@jupyter-widgets/base",
       "_view_module_version": "1.2.0",
       "_view_name": "StyleView",
       "description_width": ""
      }
     },
     "cf7c2cbeb8f84ba4a947908c0ee24bab": {
      "model_module": "@jupyter-widgets/base",
      "model_module_version": "1.2.0",
      "model_name": "LayoutModel",
      "state": {
       "_model_module": "@jupyter-widgets/base",
       "_model_module_version": "1.2.0",
       "_model_name": "LayoutModel",
       "_view_count": null,
       "_view_module": "@jupyter-widgets/base",
       "_view_module_version": "1.2.0",
       "_view_name": "LayoutView",
       "align_content": null,
       "align_items": null,
       "align_self": null,
       "border": null,
       "bottom": null,
       "display": null,
       "flex": null,
       "flex_flow": null,
       "grid_area": null,
       "grid_auto_columns": null,
       "grid_auto_flow": null,
       "grid_auto_rows": null,
       "grid_column": null,
       "grid_gap": null,
       "grid_row": null,
       "grid_template_areas": null,
       "grid_template_columns": null,
       "grid_template_rows": null,
       "height": null,
       "justify_content": null,
       "justify_items": null,
       "left": null,
       "margin": null,
       "max_height": null,
       "max_width": null,
       "min_height": null,
       "min_width": null,
       "object_fit": null,
       "object_position": null,
       "order": null,
       "overflow": null,
       "overflow_x": null,
       "overflow_y": null,
       "padding": null,
       "right": null,
       "top": null,
       "visibility": null,
       "width": null
      }
     },
     "d323db30ec924715a3ec2c6a6f343abb": {
      "model_module": "@jupyter-widgets/controls",
      "model_module_version": "1.5.0",
      "model_name": "FloatProgressModel",
      "state": {
       "_dom_classes": [],
       "_model_module": "@jupyter-widgets/controls",
       "_model_module_version": "1.5.0",
       "_model_name": "FloatProgressModel",
       "_view_count": null,
       "_view_module": "@jupyter-widgets/controls",
       "_view_module_version": "1.5.0",
       "_view_name": "ProgressView",
       "bar_style": "success",
       "description": "",
       "description_tooltip": null,
       "layout": "IPY_MODEL_cf7c2cbeb8f84ba4a947908c0ee24bab",
       "max": 239.0,
       "min": 0.0,
       "orientation": "horizontal",
       "style": "IPY_MODEL_3f8ad1315baa464baedf9dfaf6b05675",
       "value": 239.0
      }
     },
     "d4304d9ec1954014be16026b7ce9523c": {
      "model_module": "@jupyter-widgets/controls",
      "model_module_version": "1.5.0",
      "model_name": "FloatProgressModel",
      "state": {
       "_dom_classes": [],
       "_model_module": "@jupyter-widgets/controls",
       "_model_module_version": "1.5.0",
       "_model_name": "FloatProgressModel",
       "_view_count": null,
       "_view_module": "@jupyter-widgets/controls",
       "_view_module_version": "1.5.0",
       "_view_name": "ProgressView",
       "bar_style": "success",
       "description": "",
       "description_tooltip": null,
       "layout": "IPY_MODEL_1d7a713bae1947a997b84597f63ac0da",
       "max": 363.0,
       "min": 0.0,
       "orientation": "horizontal",
       "style": "IPY_MODEL_3f1fbc76106446bea935c371c62c98e9",
       "value": 363.0
      }
     },
     "d5bccab8e5eb4101a88f959bb6d6e115": {
      "model_module": "@jupyter-widgets/controls",
      "model_module_version": "1.5.0",
      "model_name": "DescriptionStyleModel",
      "state": {
       "_model_module": "@jupyter-widgets/controls",
       "_model_module_version": "1.5.0",
       "_model_name": "DescriptionStyleModel",
       "_view_count": null,
       "_view_module": "@jupyter-widgets/base",
       "_view_module_version": "1.2.0",
       "_view_name": "StyleView",
       "description_width": ""
      }
     },
     "d62fe589ac524c108d73fa93f9f02b3e": {
      "model_module": "@jupyter-widgets/base",
      "model_module_version": "1.2.0",
      "model_name": "LayoutModel",
      "state": {
       "_model_module": "@jupyter-widgets/base",
       "_model_module_version": "1.2.0",
       "_model_name": "LayoutModel",
       "_view_count": null,
       "_view_module": "@jupyter-widgets/base",
       "_view_module_version": "1.2.0",
       "_view_name": "LayoutView",
       "align_content": null,
       "align_items": null,
       "align_self": null,
       "border": null,
       "bottom": null,
       "display": null,
       "flex": null,
       "flex_flow": null,
       "grid_area": null,
       "grid_auto_columns": null,
       "grid_auto_flow": null,
       "grid_auto_rows": null,
       "grid_column": null,
       "grid_gap": null,
       "grid_row": null,
       "grid_template_areas": null,
       "grid_template_columns": null,
       "grid_template_rows": null,
       "height": null,
       "justify_content": null,
       "justify_items": null,
       "left": null,
       "margin": null,
       "max_height": null,
       "max_width": null,
       "min_height": null,
       "min_width": null,
       "object_fit": null,
       "object_position": null,
       "order": null,
       "overflow": null,
       "overflow_x": null,
       "overflow_y": null,
       "padding": null,
       "right": null,
       "top": null,
       "visibility": null,
       "width": null
      }
     },
     "d76f8a1aa0a041ac99eefba354b928ab": {
      "model_module": "@jupyter-widgets/base",
      "model_module_version": "1.2.0",
      "model_name": "LayoutModel",
      "state": {
       "_model_module": "@jupyter-widgets/base",
       "_model_module_version": "1.2.0",
       "_model_name": "LayoutModel",
       "_view_count": null,
       "_view_module": "@jupyter-widgets/base",
       "_view_module_version": "1.2.0",
       "_view_name": "LayoutView",
       "align_content": null,
       "align_items": null,
       "align_self": null,
       "border": null,
       "bottom": null,
       "display": null,
       "flex": null,
       "flex_flow": null,
       "grid_area": null,
       "grid_auto_columns": null,
       "grid_auto_flow": null,
       "grid_auto_rows": null,
       "grid_column": null,
       "grid_gap": null,
       "grid_row": null,
       "grid_template_areas": null,
       "grid_template_columns": null,
       "grid_template_rows": null,
       "height": null,
       "justify_content": null,
       "justify_items": null,
       "left": null,
       "margin": null,
       "max_height": null,
       "max_width": null,
       "min_height": null,
       "min_width": null,
       "object_fit": null,
       "object_position": null,
       "order": null,
       "overflow": null,
       "overflow_x": null,
       "overflow_y": null,
       "padding": null,
       "right": null,
       "top": null,
       "visibility": null,
       "width": null
      }
     },
     "d7ad469d9f8e409d9cb5b43cb8e96062": {
      "model_module": "@jupyter-widgets/base",
      "model_module_version": "1.2.0",
      "model_name": "LayoutModel",
      "state": {
       "_model_module": "@jupyter-widgets/base",
       "_model_module_version": "1.2.0",
       "_model_name": "LayoutModel",
       "_view_count": null,
       "_view_module": "@jupyter-widgets/base",
       "_view_module_version": "1.2.0",
       "_view_name": "LayoutView",
       "align_content": null,
       "align_items": null,
       "align_self": null,
       "border": null,
       "bottom": null,
       "display": null,
       "flex": null,
       "flex_flow": null,
       "grid_area": null,
       "grid_auto_columns": null,
       "grid_auto_flow": null,
       "grid_auto_rows": null,
       "grid_column": null,
       "grid_gap": null,
       "grid_row": null,
       "grid_template_areas": null,
       "grid_template_columns": null,
       "grid_template_rows": null,
       "height": null,
       "justify_content": null,
       "justify_items": null,
       "left": null,
       "margin": null,
       "max_height": null,
       "max_width": null,
       "min_height": null,
       "min_width": null,
       "object_fit": null,
       "object_position": null,
       "order": null,
       "overflow": null,
       "overflow_x": null,
       "overflow_y": null,
       "padding": null,
       "right": null,
       "top": null,
       "visibility": null,
       "width": null
      }
     },
     "da8fb186b2574b968a145a1725fedaf4": {
      "model_module": "@jupyter-widgets/controls",
      "model_module_version": "1.5.0",
      "model_name": "DescriptionStyleModel",
      "state": {
       "_model_module": "@jupyter-widgets/controls",
       "_model_module_version": "1.5.0",
       "_model_name": "DescriptionStyleModel",
       "_view_count": null,
       "_view_module": "@jupyter-widgets/base",
       "_view_module_version": "1.2.0",
       "_view_name": "StyleView",
       "description_width": ""
      }
     },
     "db984978ce3c41108184a597612ef54b": {
      "model_module": "@jupyter-widgets/controls",
      "model_module_version": "1.5.0",
      "model_name": "FloatProgressModel",
      "state": {
       "_dom_classes": [],
       "_model_module": "@jupyter-widgets/controls",
       "_model_module_version": "1.5.0",
       "_model_name": "FloatProgressModel",
       "_view_count": null,
       "_view_module": "@jupyter-widgets/controls",
       "_view_module_version": "1.5.0",
       "_view_name": "ProgressView",
       "bar_style": "success",
       "description": "",
       "description_tooltip": null,
       "layout": "IPY_MODEL_d7ad469d9f8e409d9cb5b43cb8e96062",
       "max": 10621.0,
       "min": 0.0,
       "orientation": "horizontal",
       "style": "IPY_MODEL_f1523bf5e0d1466d815f0bed3527e004",
       "value": 10621.0
      }
     },
     "dc54ffd29c2b48b6b5ecb92b87381dc7": {
      "model_module": "@jupyter-widgets/controls",
      "model_module_version": "1.5.0",
      "model_name": "ProgressStyleModel",
      "state": {
       "_model_module": "@jupyter-widgets/controls",
       "_model_module_version": "1.5.0",
       "_model_name": "ProgressStyleModel",
       "_view_count": null,
       "_view_module": "@jupyter-widgets/base",
       "_view_module_version": "1.2.0",
       "_view_name": "StyleView",
       "bar_color": null,
       "description_width": ""
      }
     },
     "de2a84713f5a4fed94dd4f6332d79c60": {
      "model_module": "@jupyter-widgets/controls",
      "model_module_version": "1.5.0",
      "model_name": "HTMLModel",
      "state": {
       "_dom_classes": [],
       "_model_module": "@jupyter-widgets/controls",
       "_model_module_version": "1.5.0",
       "_model_name": "HTMLModel",
       "_view_count": null,
       "_view_module": "@jupyter-widgets/controls",
       "_view_module_version": "1.5.0",
       "_view_name": "HTMLView",
       "description": "",
       "description_tooltip": null,
       "layout": "IPY_MODEL_0edc1197324f4635afae3494aa40a993",
       "placeholder": "​",
       "style": "IPY_MODEL_a766890822a2421cbef6884549b74161",
       "value": " 53.0/53.0 [00:00&lt;00:00, 4.24kB/s]"
      }
     },
     "df62a1b80b1f4064abe546a8dc1688e1": {
      "model_module": "@jupyter-widgets/base",
      "model_module_version": "1.2.0",
      "model_name": "LayoutModel",
      "state": {
       "_model_module": "@jupyter-widgets/base",
       "_model_module_version": "1.2.0",
       "_model_name": "LayoutModel",
       "_view_count": null,
       "_view_module": "@jupyter-widgets/base",
       "_view_module_version": "1.2.0",
       "_view_name": "LayoutView",
       "align_content": null,
       "align_items": null,
       "align_self": null,
       "border": null,
       "bottom": null,
       "display": null,
       "flex": null,
       "flex_flow": null,
       "grid_area": null,
       "grid_auto_columns": null,
       "grid_auto_flow": null,
       "grid_auto_rows": null,
       "grid_column": null,
       "grid_gap": null,
       "grid_row": null,
       "grid_template_areas": null,
       "grid_template_columns": null,
       "grid_template_rows": null,
       "height": null,
       "justify_content": null,
       "justify_items": null,
       "left": null,
       "margin": null,
       "max_height": null,
       "max_width": null,
       "min_height": null,
       "min_width": null,
       "object_fit": null,
       "object_position": null,
       "order": null,
       "overflow": null,
       "overflow_x": null,
       "overflow_y": null,
       "padding": null,
       "right": null,
       "top": null,
       "visibility": null,
       "width": null
      }
     },
     "e52ad44684be499d930ff2363b5aa63d": {
      "model_module": "@jupyter-widgets/controls",
      "model_module_version": "1.5.0",
      "model_name": "DescriptionStyleModel",
      "state": {
       "_model_module": "@jupyter-widgets/controls",
       "_model_module_version": "1.5.0",
       "_model_name": "DescriptionStyleModel",
       "_view_count": null,
       "_view_module": "@jupyter-widgets/base",
       "_view_module_version": "1.2.0",
       "_view_name": "StyleView",
       "description_width": ""
      }
     },
     "e57248eda11241da9aabdeb379d40498": {
      "model_module": "@jupyter-widgets/controls",
      "model_module_version": "1.5.0",
      "model_name": "HBoxModel",
      "state": {
       "_dom_classes": [],
       "_model_module": "@jupyter-widgets/controls",
       "_model_module_version": "1.5.0",
       "_model_name": "HBoxModel",
       "_view_count": null,
       "_view_module": "@jupyter-widgets/controls",
       "_view_module_version": "1.5.0",
       "_view_name": "HBoxView",
       "box_style": "",
       "children": [
        "IPY_MODEL_c2462198da8c47ac96fc88f75e03e68f",
        "IPY_MODEL_d323db30ec924715a3ec2c6a6f343abb",
        "IPY_MODEL_a5575709389f4a8a88703961cdc77842"
       ],
       "layout": "IPY_MODEL_2e80087bae3645938c43f122aefb9356"
      }
     },
     "ea14fc186d1847b2812d98ee0764730b": {
      "model_module": "@jupyter-widgets/controls",
      "model_module_version": "1.5.0",
      "model_name": "DescriptionStyleModel",
      "state": {
       "_model_module": "@jupyter-widgets/controls",
       "_model_module_version": "1.5.0",
       "_model_name": "DescriptionStyleModel",
       "_view_count": null,
       "_view_module": "@jupyter-widgets/base",
       "_view_module_version": "1.2.0",
       "_view_name": "StyleView",
       "description_width": ""
      }
     },
     "f1523bf5e0d1466d815f0bed3527e004": {
      "model_module": "@jupyter-widgets/controls",
      "model_module_version": "1.5.0",
      "model_name": "ProgressStyleModel",
      "state": {
       "_model_module": "@jupyter-widgets/controls",
       "_model_module_version": "1.5.0",
       "_model_name": "ProgressStyleModel",
       "_view_count": null,
       "_view_module": "@jupyter-widgets/base",
       "_view_module_version": "1.2.0",
       "_view_name": "StyleView",
       "bar_color": null,
       "description_width": ""
      }
     },
     "f1e0ae384bab45168e315f72e206fcf9": {
      "model_module": "@jupyter-widgets/controls",
      "model_module_version": "1.5.0",
      "model_name": "HTMLModel",
      "state": {
       "_dom_classes": [],
       "_model_module": "@jupyter-widgets/controls",
       "_model_module_version": "1.5.0",
       "_model_name": "HTMLModel",
       "_view_count": null,
       "_view_module": "@jupyter-widgets/controls",
       "_view_module_version": "1.5.0",
       "_view_name": "HTMLView",
       "description": "",
       "description_tooltip": null,
       "layout": "IPY_MODEL_1be5864fa1b44404bf26042c6d73b2ed",
       "placeholder": "​",
       "style": "IPY_MODEL_d5bccab8e5eb4101a88f959bb6d6e115",
       "value": " 466k/466k [00:00&lt;00:00, 26.7MB/s]"
      }
     },
     "f6245299001f49debc8e4c6f69fbaf8c": {
      "model_module": "@jupyter-widgets/base",
      "model_module_version": "1.2.0",
      "model_name": "LayoutModel",
      "state": {
       "_model_module": "@jupyter-widgets/base",
       "_model_module_version": "1.2.0",
       "_model_name": "LayoutModel",
       "_view_count": null,
       "_view_module": "@jupyter-widgets/base",
       "_view_module_version": "1.2.0",
       "_view_name": "LayoutView",
       "align_content": null,
       "align_items": null,
       "align_self": null,
       "border": null,
       "bottom": null,
       "display": null,
       "flex": null,
       "flex_flow": null,
       "grid_area": null,
       "grid_auto_columns": null,
       "grid_auto_flow": null,
       "grid_auto_rows": null,
       "grid_column": null,
       "grid_gap": null,
       "grid_row": null,
       "grid_template_areas": null,
       "grid_template_columns": null,
       "grid_template_rows": null,
       "height": null,
       "justify_content": null,
       "justify_items": null,
       "left": null,
       "margin": null,
       "max_height": null,
       "max_width": null,
       "min_height": null,
       "min_width": null,
       "object_fit": null,
       "object_position": null,
       "order": null,
       "overflow": null,
       "overflow_x": null,
       "overflow_y": null,
       "padding": null,
       "right": null,
       "top": null,
       "visibility": null,
       "width": null
      }
     },
     "f8332214c14a4a8ca01f2a789ef6e665": {
      "model_module": "@jupyter-widgets/controls",
      "model_module_version": "1.5.0",
      "model_name": "HTMLModel",
      "state": {
       "_dom_classes": [],
       "_model_module": "@jupyter-widgets/controls",
       "_model_module_version": "1.5.0",
       "_model_name": "HTMLModel",
       "_view_count": null,
       "_view_module": "@jupyter-widgets/controls",
       "_view_module_version": "1.5.0",
       "_view_name": "HTMLView",
       "description": "",
       "description_tooltip": null,
       "layout": "IPY_MODEL_9294513981a546dea585759a2419135d",
       "placeholder": "​",
       "style": "IPY_MODEL_a822d26c352d4d6aa12b7b44df9f79c4",
       "value": " 190/190 [00:00&lt;00:00, 15.7kB/s]"
      }
     },
     "f887410bcf87493f995dfc9efe5b938a": {
      "model_module": "@jupyter-widgets/base",
      "model_module_version": "1.2.0",
      "model_name": "LayoutModel",
      "state": {
       "_model_module": "@jupyter-widgets/base",
       "_model_module_version": "1.2.0",
       "_model_name": "LayoutModel",
       "_view_count": null,
       "_view_module": "@jupyter-widgets/base",
       "_view_module_version": "1.2.0",
       "_view_name": "LayoutView",
       "align_content": null,
       "align_items": null,
       "align_self": null,
       "border": null,
       "bottom": null,
       "display": null,
       "flex": null,
       "flex_flow": null,
       "grid_area": null,
       "grid_auto_columns": null,
       "grid_auto_flow": null,
       "grid_auto_rows": null,
       "grid_column": null,
       "grid_gap": null,
       "grid_row": null,
       "grid_template_areas": null,
       "grid_template_columns": null,
       "grid_template_rows": null,
       "height": null,
       "justify_content": null,
       "justify_items": null,
       "left": null,
       "margin": null,
       "max_height": null,
       "max_width": null,
       "min_height": null,
       "min_width": null,
       "object_fit": null,
       "object_position": null,
       "order": null,
       "overflow": null,
       "overflow_x": null,
       "overflow_y": null,
       "padding": null,
       "right": null,
       "top": null,
       "visibility": null,
       "width": null
      }
     },
     "f8b6617ef54643febecb17a8d98efca3": {
      "model_module": "@jupyter-widgets/controls",
      "model_module_version": "1.5.0",
      "model_name": "DescriptionStyleModel",
      "state": {
       "_model_module": "@jupyter-widgets/controls",
       "_model_module_version": "1.5.0",
       "_model_name": "DescriptionStyleModel",
       "_view_count": null,
       "_view_module": "@jupyter-widgets/base",
       "_view_module_version": "1.2.0",
       "_view_name": "StyleView",
       "description_width": ""
      }
     },
     "f9536ef5191243c6985a3952e749cf49": {
      "model_module": "@jupyter-widgets/controls",
      "model_module_version": "1.5.0",
      "model_name": "DescriptionStyleModel",
      "state": {
       "_model_module": "@jupyter-widgets/controls",
       "_model_module_version": "1.5.0",
       "_model_name": "DescriptionStyleModel",
       "_view_count": null,
       "_view_module": "@jupyter-widgets/base",
       "_view_module_version": "1.2.0",
       "_view_name": "StyleView",
       "description_width": ""
      }
     },
     "fa6184fd6c434a0aa005da717fb2499f": {
      "model_module": "@jupyter-widgets/base",
      "model_module_version": "1.2.0",
      "model_name": "LayoutModel",
      "state": {
       "_model_module": "@jupyter-widgets/base",
       "_model_module_version": "1.2.0",
       "_model_name": "LayoutModel",
       "_view_count": null,
       "_view_module": "@jupyter-widgets/base",
       "_view_module_version": "1.2.0",
       "_view_name": "LayoutView",
       "align_content": null,
       "align_items": null,
       "align_self": null,
       "border": null,
       "bottom": null,
       "display": null,
       "flex": null,
       "flex_flow": null,
       "grid_area": null,
       "grid_auto_columns": null,
       "grid_auto_flow": null,
       "grid_auto_rows": null,
       "grid_column": null,
       "grid_gap": null,
       "grid_row": null,
       "grid_template_areas": null,
       "grid_template_columns": null,
       "grid_template_rows": null,
       "height": null,
       "justify_content": null,
       "justify_items": null,
       "left": null,
       "margin": null,
       "max_height": null,
       "max_width": null,
       "min_height": null,
       "min_width": null,
       "object_fit": null,
       "object_position": null,
       "order": null,
       "overflow": null,
       "overflow_x": null,
       "overflow_y": null,
       "padding": null,
       "right": null,
       "top": null,
       "visibility": null,
       "width": null
      }
     },
     "fc6beda7d1564dd9b157a61ccb16a6ec": {
      "model_module": "@jupyter-widgets/controls",
      "model_module_version": "1.5.0",
      "model_name": "HBoxModel",
      "state": {
       "_dom_classes": [],
       "_model_module": "@jupyter-widgets/controls",
       "_model_module_version": "1.5.0",
       "_model_name": "HBoxModel",
       "_view_count": null,
       "_view_module": "@jupyter-widgets/controls",
       "_view_module_version": "1.5.0",
       "_view_name": "HBoxView",
       "box_style": "",
       "children": [
        "IPY_MODEL_adee5e2a7aa64d4e967a74b00d45b3bd",
        "IPY_MODEL_db984978ce3c41108184a597612ef54b",
        "IPY_MODEL_82d809fd832d43edb1411a78b56454c2"
       ],
       "layout": "IPY_MODEL_15dc9f6898244739bee074d11f2624a5"
      }
     },
     "fdd9ad1be7014413830eb972ad9e71a9": {
      "model_module": "@jupyter-widgets/controls",
      "model_module_version": "1.5.0",
      "model_name": "ProgressStyleModel",
      "state": {
       "_model_module": "@jupyter-widgets/controls",
       "_model_module_version": "1.5.0",
       "_model_name": "ProgressStyleModel",
       "_view_count": null,
       "_view_module": "@jupyter-widgets/base",
       "_view_module_version": "1.2.0",
       "_view_name": "StyleView",
       "bar_color": null,
       "description_width": ""
      }
     }
    },
    "version_major": 2,
    "version_minor": 0
   }
  }
 },
 "nbformat": 4,
 "nbformat_minor": 5
}
